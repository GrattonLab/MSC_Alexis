{
 "cells": [
  {
   "cell_type": "code",
   "execution_count": 1,
   "metadata": {},
   "outputs": [],
   "source": [
    "import pandas as pd\n",
    "df = pd.DataFrame([])\n",
    "subs=['MSC01','MSC02','MSC03', 'MSC04','MSC05','MSC06','MSC07', 'MSC10']\n",
    "for i in subs:\n",
    "    tmp_df=pd.read_csv('/Users/Alexis/Desktop/MSC_Alexis/analysis/output/mLminQuality/results/time/'+i+'.csv')\n",
    "    tmp_df['sub']=i\n",
    "    df=df.append(tmp_df, ignore_index=False)\n",
    "df.index.name='sess'"
   ]
  },
  {
   "cell_type": "code",
   "execution_count": 15,
   "metadata": {},
   "outputs": [],
   "source": [
    "time5 = pd.DataFrame([])\n",
    "time4 = pd.DataFrame([])\n",
    "\n",
    "m5=len(df[df.motor > 136]) \n",
    "m4=len(df[df.motor > 109])\n",
    "\n",
    "me5=len(df[df.mem > 136]) \n",
    "me4=len(df[df.mem > 109]) \n",
    "\n",
    "g5=len(df[df.AllGlass > 136]) \n",
    "g4=len(df[df.AllGlass > 109]) \n",
    "\n",
    "s5=len(df[df.AllSemantic > 136]) \n",
    "s4=len(df[df.AllSemantic > 109]) \n",
    "\n",
    "r5=len(df[df.rest > 136]) \n",
    "r4=len(df[df.rest > 109]) \n",
    "      \n",
    "time5=time5.append({'motor': m5,'mem': me5, 'glass':g5, 'semantic':s5, 'rest':r5,'time':136}, ignore_index=True)\n",
    "time5=time5.append({'motor': m4,'mem': me4, 'glass':g4, 'semantic':s4, 'rest':r4, 'time':109}, ignore_index=True)\n",
    "\n",
    "time5.to_csv('/Users/Alexis/Desktop/MSC_Alexis/analysis/output/mLminQuality/results/time/counts.csv')"
   ]
  },
  {
   "cell_type": "code",
   "execution_count": 2,
   "metadata": {},
   "outputs": [],
   "source": [
    "motor_df=df[['motor', 'sub']]\n",
    "mem_df=df[['mem', 'sub']]\n",
    "glass_df=df[['AllGlass', 'sub']]\n",
    "sem_df=df[['AllSemantic', 'sub']]"
   ]
  },
  {
   "cell_type": "code",
   "execution_count": 43,
   "metadata": {},
   "outputs": [],
   "source": [
    "m_df=motor_df.loc[motor_df['motor']>135]\n",
    "me_df=mem_df.loc[mem_df['mem']>135]\n",
    "\n",
    "g_df=glass_df.loc[glass_df['AllGlass']>135]\n",
    "s_df=sem_df.loc[sem_df['AllSemantic']>135]"
   ]
  },
  {
   "cell_type": "code",
   "execution_count": 44,
   "metadata": {},
   "outputs": [],
   "source": [
    "m_df.to_csv('/Users/Alexis/Desktop/MSC_Alexis/analysis/output/mLminQuality/results/time/motor.csv')\n",
    "me_df.to_csv('/Users/Alexis/Desktop/MSC_Alexis/analysis/output/mLminQuality/results/time/mem.csv')\n",
    "\n",
    "\n",
    "\n",
    "g_df.to_csv('/Users/Alexis/Desktop/MSC_Alexis/analysis/output/mLminQuality/results/time/glass.csv')\n",
    "s_df.to_csv('/Users/Alexis/Desktop/MSC_Alexis/analysis/output/mLminQuality/results/time/semantic.csv')\n",
    "\n",
    "\n"
   ]
  },
  {
   "cell_type": "code",
   "execution_count": 40,
   "metadata": {},
   "outputs": [
    {
     "data": {
      "text/html": [
       "<div>\n",
       "<style scoped>\n",
       "    .dataframe tbody tr th:only-of-type {\n",
       "        vertical-align: middle;\n",
       "    }\n",
       "\n",
       "    .dataframe tbody tr th {\n",
       "        vertical-align: top;\n",
       "    }\n",
       "\n",
       "    .dataframe thead th {\n",
       "        text-align: right;\n",
       "    }\n",
       "</style>\n",
       "<table border=\"1\" class=\"dataframe\">\n",
       "  <thead>\n",
       "    <tr style=\"text-align: right;\">\n",
       "      <th></th>\n",
       "      <th>AllSemantic</th>\n",
       "      <th>sub</th>\n",
       "    </tr>\n",
       "    <tr>\n",
       "      <th>sess</th>\n",
       "      <th></th>\n",
       "      <th></th>\n",
       "    </tr>\n",
       "  </thead>\n",
       "  <tbody>\n",
       "    <tr>\n",
       "      <th>0</th>\n",
       "      <td>138</td>\n",
       "      <td>MSC01</td>\n",
       "    </tr>\n",
       "    <tr>\n",
       "      <th>7</th>\n",
       "      <td>141</td>\n",
       "      <td>MSC02</td>\n",
       "    </tr>\n",
       "    <tr>\n",
       "      <th>0</th>\n",
       "      <td>141</td>\n",
       "      <td>MSC03</td>\n",
       "    </tr>\n",
       "    <tr>\n",
       "      <th>6</th>\n",
       "      <td>136</td>\n",
       "      <td>MSC04</td>\n",
       "    </tr>\n",
       "    <tr>\n",
       "      <th>1</th>\n",
       "      <td>137</td>\n",
       "      <td>MSC05</td>\n",
       "    </tr>\n",
       "    <tr>\n",
       "      <th>2</th>\n",
       "      <td>137</td>\n",
       "      <td>MSC05</td>\n",
       "    </tr>\n",
       "    <tr>\n",
       "      <th>6</th>\n",
       "      <td>136</td>\n",
       "      <td>MSC05</td>\n",
       "    </tr>\n",
       "    <tr>\n",
       "      <th>2</th>\n",
       "      <td>140</td>\n",
       "      <td>MSC06</td>\n",
       "    </tr>\n",
       "    <tr>\n",
       "      <th>3</th>\n",
       "      <td>140</td>\n",
       "      <td>MSC06</td>\n",
       "    </tr>\n",
       "    <tr>\n",
       "      <th>5</th>\n",
       "      <td>138</td>\n",
       "      <td>MSC06</td>\n",
       "    </tr>\n",
       "    <tr>\n",
       "      <th>8</th>\n",
       "      <td>141</td>\n",
       "      <td>MSC06</td>\n",
       "    </tr>\n",
       "    <tr>\n",
       "      <th>0</th>\n",
       "      <td>141</td>\n",
       "      <td>MSC07</td>\n",
       "    </tr>\n",
       "    <tr>\n",
       "      <th>2</th>\n",
       "      <td>141</td>\n",
       "      <td>MSC07</td>\n",
       "    </tr>\n",
       "    <tr>\n",
       "      <th>3</th>\n",
       "      <td>140</td>\n",
       "      <td>MSC07</td>\n",
       "    </tr>\n",
       "    <tr>\n",
       "      <th>8</th>\n",
       "      <td>140</td>\n",
       "      <td>MSC07</td>\n",
       "    </tr>\n",
       "    <tr>\n",
       "      <th>8</th>\n",
       "      <td>136</td>\n",
       "      <td>MSC10</td>\n",
       "    </tr>\n",
       "  </tbody>\n",
       "</table>\n",
       "</div>"
      ],
      "text/plain": [
       "      AllSemantic    sub\n",
       "sess                    \n",
       "0             138  MSC01\n",
       "7             141  MSC02\n",
       "0             141  MSC03\n",
       "6             136  MSC04\n",
       "1             137  MSC05\n",
       "2             137  MSC05\n",
       "6             136  MSC05\n",
       "2             140  MSC06\n",
       "3             140  MSC06\n",
       "5             138  MSC06\n",
       "8             141  MSC06\n",
       "0             141  MSC07\n",
       "2             141  MSC07\n",
       "3             140  MSC07\n",
       "8             140  MSC07\n",
       "8             136  MSC10"
      ]
     },
     "execution_count": 40,
     "metadata": {},
     "output_type": "execute_result"
    }
   ],
   "source": [
    "s_df"
   ]
  },
  {
   "cell_type": "code",
   "execution_count": 3,
   "metadata": {},
   "outputs": [],
   "source": [
    "mem_shape=mem_df.pivot(columns='sub', values='mem')\n",
    "motor_shape=motor_df.pivot(columns='sub', values='motor')\n",
    "glass_shape=glass_df.pivot(columns='sub', values='AllGlass')\n",
    "sem_shape=sem_df.pivot(columns='sub', values='AllSemantic')\n"
   ]
  },
  {
   "cell_type": "code",
   "execution_count": 55,
   "metadata": {},
   "outputs": [],
   "source": [
    "mem_shape.to_csv('/Users/Alexis/Desktop/MSC_Alexis/analysis/output/mLminQuality/results/time/mem_reshaped.csv')\n",
    "\n",
    "motor_shape.to_csv('/Users/Alexis/Desktop/MSC_Alexis/analysis/output/mLminQuality/results/time/motor_reshaped.csv')\n",
    "glass_shape.to_csv('/Users/Alexis/Desktop/MSC_Alexis/analysis/output/mLminQuality/results/time/glass_reshaped.csv')\n",
    "sem_shape.to_csv('/Users/Alexis/Desktop/MSC_Alexis/analysis/output/mLminQuality/results/time/semantic_reshaped.csv')\n",
    "\n"
   ]
  },
  {
   "cell_type": "code",
   "execution_count": 4,
   "metadata": {},
   "outputs": [
    {
     "data": {
      "text/html": [
       "<div>\n",
       "<style scoped>\n",
       "    .dataframe tbody tr th:only-of-type {\n",
       "        vertical-align: middle;\n",
       "    }\n",
       "\n",
       "    .dataframe tbody tr th {\n",
       "        vertical-align: top;\n",
       "    }\n",
       "\n",
       "    .dataframe thead th {\n",
       "        text-align: right;\n",
       "    }\n",
       "</style>\n",
       "<table border=\"1\" class=\"dataframe\">\n",
       "  <thead>\n",
       "    <tr style=\"text-align: right;\">\n",
       "      <th>sub</th>\n",
       "      <th>MSC01</th>\n",
       "      <th>MSC02</th>\n",
       "      <th>MSC03</th>\n",
       "      <th>MSC04</th>\n",
       "      <th>MSC05</th>\n",
       "      <th>MSC06</th>\n",
       "      <th>MSC07</th>\n",
       "      <th>MSC10</th>\n",
       "    </tr>\n",
       "    <tr>\n",
       "      <th>sess</th>\n",
       "      <th></th>\n",
       "      <th></th>\n",
       "      <th></th>\n",
       "      <th></th>\n",
       "      <th></th>\n",
       "      <th></th>\n",
       "      <th></th>\n",
       "      <th></th>\n",
       "    </tr>\n",
       "  </thead>\n",
       "  <tbody>\n",
       "    <tr>\n",
       "      <th>0</th>\n",
       "      <td>313</td>\n",
       "      <td>319</td>\n",
       "      <td>340</td>\n",
       "      <td>288</td>\n",
       "      <td>331</td>\n",
       "      <td>315</td>\n",
       "      <td>334</td>\n",
       "      <td>269</td>\n",
       "    </tr>\n",
       "    <tr>\n",
       "      <th>1</th>\n",
       "      <td>284</td>\n",
       "      <td>331</td>\n",
       "      <td>327</td>\n",
       "      <td>341</td>\n",
       "      <td>326</td>\n",
       "      <td>336</td>\n",
       "      <td>332</td>\n",
       "      <td>168</td>\n",
       "    </tr>\n",
       "    <tr>\n",
       "      <th>2</th>\n",
       "      <td>316</td>\n",
       "      <td>314</td>\n",
       "      <td>329</td>\n",
       "      <td>164</td>\n",
       "      <td>336</td>\n",
       "      <td>342</td>\n",
       "      <td>335</td>\n",
       "      <td>283</td>\n",
       "    </tr>\n",
       "    <tr>\n",
       "      <th>3</th>\n",
       "      <td>316</td>\n",
       "      <td>321</td>\n",
       "      <td>233</td>\n",
       "      <td>280</td>\n",
       "      <td>340</td>\n",
       "      <td>344</td>\n",
       "      <td>336</td>\n",
       "      <td>282</td>\n",
       "    </tr>\n",
       "    <tr>\n",
       "      <th>4</th>\n",
       "      <td>266</td>\n",
       "      <td>340</td>\n",
       "      <td>124</td>\n",
       "      <td>338</td>\n",
       "      <td>336</td>\n",
       "      <td>340</td>\n",
       "      <td>299</td>\n",
       "      <td>267</td>\n",
       "    </tr>\n",
       "    <tr>\n",
       "      <th>5</th>\n",
       "      <td>196</td>\n",
       "      <td>297</td>\n",
       "      <td>0</td>\n",
       "      <td>312</td>\n",
       "      <td>314</td>\n",
       "      <td>342</td>\n",
       "      <td>328</td>\n",
       "      <td>90</td>\n",
       "    </tr>\n",
       "    <tr>\n",
       "      <th>6</th>\n",
       "      <td>301</td>\n",
       "      <td>333</td>\n",
       "      <td>120</td>\n",
       "      <td>332</td>\n",
       "      <td>333</td>\n",
       "      <td>344</td>\n",
       "      <td>338</td>\n",
       "      <td>134</td>\n",
       "    </tr>\n",
       "    <tr>\n",
       "      <th>7</th>\n",
       "      <td>281</td>\n",
       "      <td>321</td>\n",
       "      <td>0</td>\n",
       "      <td>328</td>\n",
       "      <td>332</td>\n",
       "      <td>230</td>\n",
       "      <td>339</td>\n",
       "      <td>285</td>\n",
       "    </tr>\n",
       "    <tr>\n",
       "      <th>8</th>\n",
       "      <td>201</td>\n",
       "      <td>339</td>\n",
       "      <td>143</td>\n",
       "      <td>331</td>\n",
       "      <td>339</td>\n",
       "      <td>330</td>\n",
       "      <td>323</td>\n",
       "      <td>303</td>\n",
       "    </tr>\n",
       "    <tr>\n",
       "      <th>9</th>\n",
       "      <td>303</td>\n",
       "      <td>308</td>\n",
       "      <td>107</td>\n",
       "      <td>332</td>\n",
       "      <td>338</td>\n",
       "      <td>342</td>\n",
       "      <td>302</td>\n",
       "      <td>322</td>\n",
       "    </tr>\n",
       "  </tbody>\n",
       "</table>\n",
       "</div>"
      ],
      "text/plain": [
       "sub   MSC01  MSC02  MSC03  MSC04  MSC05  MSC06  MSC07  MSC10\n",
       "sess                                                        \n",
       "0       313    319    340    288    331    315    334    269\n",
       "1       284    331    327    341    326    336    332    168\n",
       "2       316    314    329    164    336    342    335    283\n",
       "3       316    321    233    280    340    344    336    282\n",
       "4       266    340    124    338    336    340    299    267\n",
       "5       196    297      0    312    314    342    328     90\n",
       "6       301    333    120    332    333    344    338    134\n",
       "7       281    321      0    328    332    230    339    285\n",
       "8       201    339    143    331    339    330    323    303\n",
       "9       303    308    107    332    338    342    302    322"
      ]
     },
     "execution_count": 4,
     "metadata": {},
     "output_type": "execute_result"
    }
   ],
   "source": [
    "mem_shape"
   ]
  },
  {
   "cell_type": "code",
   "execution_count": 5,
   "metadata": {},
   "outputs": [],
   "source": [
    "import seaborn as sns"
   ]
  },
  {
   "cell_type": "code",
   "execution_count": 6,
   "metadata": {
    "scrolled": true
   },
   "outputs": [
    {
     "data": {
      "text/plain": [
       "<matplotlib.axes._subplots.AxesSubplot at 0x1a1fd73b90>"
      ]
     },
     "execution_count": 6,
     "metadata": {},
     "output_type": "execute_result"
    },
    {
     "data": {
      "image/png": "[encoded data removed]",
      "text/plain": [
       "<Figure size 432x288 with 2 Axes>"
      ]
     },
     "metadata": {
      "needs_background": "light"
     },
     "output_type": "display_data"
    }
   ],
   "source": [
    "sns.heatmap(mem_shape, vmin=136)"
   ]
  },
  {
   "cell_type": "code",
   "execution_count": 7,
   "metadata": {},
   "outputs": [
    {
     "data": {
      "text/plain": [
       "<matplotlib.axes._subplots.AxesSubplot at 0x1a20d0bd10>"
      ]
     },
     "execution_count": 7,
     "metadata": {},
     "output_type": "execute_result"
    },
    {
     "data": {
      "image/png": "[encoded data removed]",
      "text/plain": [
       "<Figure size 432x288 with 2 Axes>"
      ]
     },
     "metadata": {
      "needs_background": "light"
     },
     "output_type": "display_data"
    }
   ],
   "source": [
    "sns.heatmap(glass_shape, vmin=136)"
   ]
  },
  {
   "cell_type": "code",
   "execution_count": 8,
   "metadata": {},
   "outputs": [
    {
     "data": {
      "text/plain": [
       "<matplotlib.axes._subplots.AxesSubplot at 0x1a20e85d50>"
      ]
     },
     "execution_count": 8,
     "metadata": {},
     "output_type": "execute_result"
    },
    {
     "data": {
      "image/png": "[encoded data removed]",
      "text/plain": [
       "<Figure size 432x288 with 2 Axes>"
      ]
     },
     "metadata": {
      "needs_background": "light"
     },
     "output_type": "display_data"
    }
   ],
   "source": [
    "sns.heatmap(sem_shape, vmin=136)"
   ]
  },
  {
   "cell_type": "code",
   "execution_count": 9,
   "metadata": {},
   "outputs": [
    {
     "data": {
      "text/plain": [
       "<matplotlib.axes._subplots.AxesSubplot at 0x1a20e491d0>"
      ]
     },
     "execution_count": 9,
     "metadata": {},
     "output_type": "execute_result"
    },
    {
     "data": {
      "image/png": "[encoded data removed]",
      "text/plain": [
       "<Figure size 432x288 with 2 Axes>"
      ]
     },
     "metadata": {
      "needs_background": "light"
     },
     "output_type": "display_data"
    }
   ],
   "source": [
    "sns.heatmap(motor_shape, vmin=136)"
   ]
  },
  {
   "cell_type": "code",
   "execution_count": null,
   "metadata": {},
   "outputs": [],
   "source": []
  }
 ],
 "metadata": {
  "kernelspec": {
   "display_name": "Python 3",
   "language": "python",
   "name": "python3"
  },
  "language_info": {
   "codemirror_mode": {
    "name": "ipython",
    "version": 3
   },
   "file_extension": ".py",
   "mimetype": "text/x-python",
   "name": "python",
   "nbconvert_exporter": "python",
   "pygments_lexer": "ipython3",
   "version": "3.7.6"
  }
 },
 "nbformat": 4,
 "nbformat_minor": 4
}
