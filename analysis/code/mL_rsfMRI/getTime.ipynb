{
 "cells": [
  {
   "cell_type": "code",
   "execution_count": 12,
   "metadata": {},
   "outputs": [],
   "source": [
    "import pandas as pd\n",
    "df = pd.DataFrame([])\n",
    "subs=['MSC01','MSC02','MSC03', 'MSC04','MSC05','MSC06','MSC07', 'MSC10']\n",
    "for i in subs:\n",
    "    tmp_df=pd.read_csv('/Users/Alexis/Desktop/MSC_Alexis/analysis/output/mLminQuality/results/time/'+i+'.csv')\n",
    "    tmp_df['sub']=i\n",
    "    df=df.append(tmp_df)"
   ]
  },
  {
   "cell_type": "code",
   "execution_count": 13,
   "metadata": {},
   "outputs": [],
   "source": [
    "time5 = pd.DataFrame([])\n",
    "time4 = pd.DataFrame([])\n",
    "\n",
    "m5=len(df[df.motor > 136]) \n",
    "m4=len(df[df.motor > 109])\n",
    "\n",
    "me5=len(df[df.mem > 136]) \n",
    "me4=len(df[df.mem > 109]) \n",
    "\n",
    "g5=len(df[df.AllGlass > 136]) \n",
    "g4=len(df[df.AllGlass > 109]) \n",
    "\n",
    "s5=len(df[df.AllSemantic > 136]) \n",
    "s4=len(df[df.AllSemantic > 109]) \n",
    "\n",
    "r5=len(df[df.rest > 136]) \n",
    "r4=len(df[df.rest > 109]) \n",
    "      \n",
    "time5=time5.append({'motor': m5,'mem': me5, 'glass':g5, 'semantic':s5, 'rest':r5,'time':136}, ignore_index=True)\n",
    "time5=time5.append({'motor': m4,'mem': me4, 'glass':g4, 'semantic':s4, 'rest':r4, 'time':109}, ignore_index=True)"
   ]
  },
  {
   "cell_type": "code",
   "execution_count": 15,
   "metadata": {},
   "outputs": [],
   "source": [
    "time5.to_csv('/Users/Alexis/Desktop/MSC_Alexis/analysis/output/mLminQuality/results/time/counts.csv')"
   ]
  },
  {
   "cell_type": "code",
   "execution_count": 16,
   "metadata": {},
   "outputs": [
    {
     "data": {
      "text/html": [
       "<div>\n",
       "<style scoped>\n",
       "    .dataframe tbody tr th:only-of-type {\n",
       "        vertical-align: middle;\n",
       "    }\n",
       "\n",
       "    .dataframe tbody tr th {\n",
       "        vertical-align: top;\n",
       "    }\n",
       "\n",
       "    .dataframe thead th {\n",
       "        text-align: right;\n",
       "    }\n",
       "</style>\n",
       "<table border=\"1\" class=\"dataframe\">\n",
       "  <thead>\n",
       "    <tr style=\"text-align: right;\">\n",
       "      <th></th>\n",
       "      <th>glass</th>\n",
       "      <th>mem</th>\n",
       "      <th>motor</th>\n",
       "      <th>rest</th>\n",
       "      <th>semantic</th>\n",
       "      <th>time</th>\n",
       "    </tr>\n",
       "  </thead>\n",
       "  <tbody>\n",
       "    <tr>\n",
       "      <th>0</th>\n",
       "      <td>16.0</td>\n",
       "      <td>73.0</td>\n",
       "      <td>4.0</td>\n",
       "      <td>80.0</td>\n",
       "      <td>13.0</td>\n",
       "      <td>136.0</td>\n",
       "    </tr>\n",
       "    <tr>\n",
       "      <th>1</th>\n",
       "      <td>50.0</td>\n",
       "      <td>76.0</td>\n",
       "      <td>39.0</td>\n",
       "      <td>80.0</td>\n",
       "      <td>56.0</td>\n",
       "      <td>109.0</td>\n",
       "    </tr>\n",
       "  </tbody>\n",
       "</table>\n",
       "</div>"
      ],
      "text/plain": [
       "   glass   mem  motor  rest  semantic   time\n",
       "0   16.0  73.0    4.0  80.0      13.0  136.0\n",
       "1   50.0  76.0   39.0  80.0      56.0  109.0"
      ]
     },
     "execution_count": 16,
     "metadata": {},
     "output_type": "execute_result"
    }
   ],
   "source": [
    "time5"
   ]
  },
  {
   "cell_type": "code",
   "execution_count": 44,
   "metadata": {},
   "outputs": [
    {
     "data": {
      "text/plain": [
       "13"
      ]
     },
     "execution_count": 44,
     "metadata": {},
     "output_type": "execute_result"
    }
   ],
   "source": [
    "foo"
   ]
  },
  {
   "cell_type": "code",
   "execution_count": null,
   "metadata": {},
   "outputs": [],
   "source": []
  }
 ],
 "metadata": {
  "kernelspec": {
   "display_name": "Python 3",
   "language": "python",
   "name": "python3"
  },
  "language_info": {
   "codemirror_mode": {
    "name": "ipython",
    "version": 3
   },
   "file_extension": ".py",
   "mimetype": "text/x-python",
   "name": "python",
   "nbconvert_exporter": "python",
   "pygments_lexer": "ipython3",
   "version": "3.7.6"
  }
 },
 "nbformat": 4,
 "nbformat_minor": 4
}
