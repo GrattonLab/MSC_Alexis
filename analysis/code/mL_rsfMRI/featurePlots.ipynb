{
 "cells": [
  {
   "cell_type": "code",
   "execution_count": 2,
   "metadata": {},
   "outputs": [],
   "source": [
    "library(ggplot2)\n",
    "data_CV<-'~/Desktop/MSC_Alexis/analysis/output/randomIdx/results/ridge/acc/CV/all.csv'\n",
    "CV<-read.csv(data_CV)"
   ]
  },
  {
   "cell_type": "code",
   "execution_count": 4,
   "metadata": {},
   "outputs": [
    {
     "data": {
      "text/html": [
       "<table>\n",
       "<caption>A data.frame: 6 × 4</caption>\n",
       "<thead>\n",
       "\t<tr><th></th><th scope=col>X</th><th scope=col>Task</th><th scope=col>Accuracy</th><th scope=col>Features</th></tr>\n",
       "\t<tr><th></th><th scope=col>&lt;int&gt;</th><th scope=col>&lt;fct&gt;</th><th scope=col>&lt;dbl&gt;</th><th scope=col>&lt;int&gt;</th></tr>\n",
       "</thead>\n",
       "<tbody>\n",
       "\t<tr><th scope=row>1</th><td>0</td><td>mixed</td><td>0.65</td><td>10</td></tr>\n",
       "\t<tr><th scope=row>2</th><td>1</td><td>mixed</td><td>0.70</td><td>10</td></tr>\n",
       "\t<tr><th scope=row>3</th><td>2</td><td>mixed</td><td>0.55</td><td>10</td></tr>\n",
       "\t<tr><th scope=row>4</th><td>3</td><td>mixed</td><td>0.70</td><td>10</td></tr>\n",
       "\t<tr><th scope=row>5</th><td>4</td><td>mixed</td><td>0.40</td><td>10</td></tr>\n",
       "\t<tr><th scope=row>6</th><td>5</td><td>mixed</td><td>0.40</td><td>10</td></tr>\n",
       "</tbody>\n",
       "</table>\n"
      ],
      "text/latex": [
       "A data.frame: 6 × 4\n",
       "\\begin{tabular}{r|llll}\n",
       "  & X & Task & Accuracy & Features\\\\\n",
       "  & <int> & <fct> & <dbl> & <int>\\\\\n",
       "\\hline\n",
       "\t1 & 0 & mixed & 0.65 & 10\\\\\n",
       "\t2 & 1 & mixed & 0.70 & 10\\\\\n",
       "\t3 & 2 & mixed & 0.55 & 10\\\\\n",
       "\t4 & 3 & mixed & 0.70 & 10\\\\\n",
       "\t5 & 4 & mixed & 0.40 & 10\\\\\n",
       "\t6 & 5 & mixed & 0.40 & 10\\\\\n",
       "\\end{tabular}\n"
      ],
      "text/markdown": [
       "\n",
       "A data.frame: 6 × 4\n",
       "\n",
       "| <!--/--> | X &lt;int&gt; | Task &lt;fct&gt; | Accuracy &lt;dbl&gt; | Features &lt;int&gt; |\n",
       "|---|---|---|---|---|\n",
       "| 1 | 0 | mixed | 0.65 | 10 |\n",
       "| 2 | 1 | mixed | 0.70 | 10 |\n",
       "| 3 | 2 | mixed | 0.55 | 10 |\n",
       "| 4 | 3 | mixed | 0.70 | 10 |\n",
       "| 5 | 4 | mixed | 0.40 | 10 |\n",
       "| 6 | 5 | mixed | 0.40 | 10 |\n",
       "\n"
      ],
      "text/plain": [
       "  X Task  Accuracy Features\n",
       "1 0 mixed 0.65     10      \n",
       "2 1 mixed 0.70     10      \n",
       "3 2 mixed 0.55     10      \n",
       "4 3 mixed 0.70     10      \n",
       "5 4 mixed 0.40     10      \n",
       "6 5 mixed 0.40     10      "
      ]
     },
     "metadata": {},
     "output_type": "display_data"
    }
   ],
   "source": [
    "head(CV)"
   ]
  },
  {
   "cell_type": "code",
   "execution_count": null,
   "metadata": {},
   "outputs": [],
   "source": [
    "p <- ggplot(CV, aes(x = Feature, y = Accuracy)) + \n",
    "  geom_point()\n",
    "p + scale_x_continuous(trans = 'log2') "
   ]
  }
 ],
 "metadata": {
  "kernelspec": {
   "display_name": "R 3.3",
   "language": "R",
   "name": "ir33"
  },
  "language_info": {
   "codemirror_mode": "r",
   "file_extension": ".r",
   "mimetype": "text/x-r-source",
   "name": "R",
   "pygments_lexer": "r",
   "version": "3.5.2"
  }
 },
 "nbformat": 4,
 "nbformat_minor": 4
}
