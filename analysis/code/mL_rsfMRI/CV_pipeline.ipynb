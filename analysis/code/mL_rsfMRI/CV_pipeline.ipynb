{
 "cells": [
  {
   "cell_type": "code",
   "execution_count": 1,
   "metadata": {},
   "outputs": [
    {
     "data": {
      "text/plain": [
       "\"     \\n    clf.fit(x_train,y_train)\\n    folds=taskFC.shape[0]\\n    CVscores=cross_val_score(clf,x_train,y_train, cv=folds)\\n    if FW is True:\\n        coef=clf.coef_\\n        plotFW.feature_plots(coef, classifier, analysis, train_task, train_sub)\\n    else:\\n        print('skipping feature weights')\\n    predict=clf.predict(x_test)\\n    #Get accuracy of model\\n    ACCscores=clf.score(x_test,y_test)\\n    return ACCscores\\n    \\n    \""
      ]
     },
     "execution_count": 1,
     "metadata": {},
     "output_type": "execute_result"
    }
   ],
   "source": [
    "#Just going to do an example to see what this would looks like\n",
    "\n",
    "#does including more rest improve model performance \n",
    "#since all the othertasks have such a small amount of \n",
    "#time compared to rest\n",
    "from sklearn.model_selection import KFold\n",
    "from sklearn.model_selection import train_test_split\n",
    "from sklearn.svm import LinearSVC\n",
    "from sklearn.linear_model import LogisticRegression\n",
    "from sklearn.linear_model import RidgeClassifier\n",
    "import numpy as np\n",
    "import os\n",
    "import sys\n",
    "import pandas as pd\n",
    "from sklearn.model_selection import cross_val_score\n",
    "from sklearn.model_selection import cross_validate\n",
    "from sklearn import metrics\n",
    "import itertools\n",
    "#import other python scripts for further anlaysis\n",
    "import reshape\n",
    "import plotFW\n",
    "import results\n",
    "# Initialization of directory information:\n",
    "thisDir = os.path.expanduser('~/Desktop/MSC_Alexis/analysis/')\n",
    "dataDir = thisDir + 'data/mvpa_data/'\n",
    "outDir = thisDir + 'output/mLdoubleRest/'\n",
    "# Subjects and tasks\n",
    "taskList=['mixed', 'motor','mem']\n",
    "subList=['MSC01','MSC02','MSC03','MSC04','MSC05','MSC06','MSC07','MSC10']\n",
    "#all possible combinations of subs and tasks\n",
    "subsComb=(list(itertools.permutations(subList, 2)))\n",
    "tasksComb=(list(itertools.permutations(taskList, 2)))\n",
    "#DS combination\n",
    "DSvars=list(itertools.product(list(subsComb),list(taskList)))\n",
    "##SS combination\n",
    "SSvars=list(itertools.product(list(subList),list(tasksComb)))\n",
    "#BS combination\n",
    "BSvars=list(itertools.product(list(subsComb),list(tasksComb)))\n",
    "\n",
    "\n",
    "def classifySS(classifier,analysis, FW, stats):\n",
    "    acc_scores_per_task=[]\n",
    "    tmp_df=pd.DataFrame(SSvars, columns=['sub','task'])\n",
    "    dfSS=pd.DataFrame()\n",
    "    dfSS[['train_task','test_task']]=pd.DataFrame(tmp_df['task'].tolist())\n",
    "    dfSS['sub']=tmp_df['sub']\n",
    "    for index, row in dfSS.iterrows():\n",
    "        score=model(classifier, analysis,FW, train_sub=row['sub'], test_sub=row['sub'], train_task=row['train_task'], test_task=row['test_task'])\n",
    "    \"\"\" acc_scores_per_task.append(score)\n",
    "    dfSS['acc']=acc_scores_per_task\n",
    "    if stats is True:\n",
    "        results.plotACC(dfSS, classifier, analysis)\n",
    "        results.statsACC(dfSS, classifier, analysis)\n",
    "        results.boxACC(dfSS, classifier, analysis)\n",
    "    else:\n",
    "        print('skipping stats')\n",
    "    #save accuracy\n",
    "    dfSS.to_csv(outDir+'results/'+classifier+'/acc/'+analysis+'/acc.csv', index=False)\n",
    "    \"\"\"\n",
    "def model(classifier, analysis,FW, train_sub, test_sub, train_task, test_task):\n",
    "    if classifier=='SVC':\n",
    "        clf=LinearSVC()\n",
    "    elif classifier=='logReg':\n",
    "        clf=LogisticRegression(solver = 'lbfgs')\n",
    "    elif classifier=='ridge':\n",
    "        clf=RidgeClassifier()\n",
    "    else:\n",
    "        print('Error: You didnt specify what classifier')\n",
    "    taskFC=reshape.matFiles(dataDir+train_task+'/'+train_sub+'_parcel_corrmat.mat')\n",
    "    restFC=reshape.matFiles(dataDir+'rest/corrmats_timesplit/half/'+train_sub+'_parcel_corrmat.mat')\n",
    "    #20 rest sessions split into 10 for train 10 for test\n",
    "    train_restFC, test_restFC = train_test_split(restFC, test_size=.5)\n",
    "    x_train, y_train=reshape.concateFC(taskFC, train_restFC)\n",
    "    #if your subs are the same dont include rest...avoid overfitting!!\n",
    "    if train_sub==test_sub:\n",
    "        test_taskFC=reshape.matFiles(dataDir+test_task+'/'+test_sub+'_parcel_corrmat.mat')\n",
    "        x_test, y_test=reshape.concateFC(test_taskFC, test_restFC)\n",
    "    else:\n",
    "        test_taskFC=reshape.matFiles(dataDir+test_task+'/'+test_sub+'_parcel_corrmat.mat')\n",
    "        test_restFC=reshape.matFiles(dataDir+'rest/'+test_sub+'_parcel_corrmat.mat')\n",
    "        x_test, y_test=reshape.concateFC(test_taskFC, test_restFC)\n",
    "        \n",
    "        \n",
    "        \n",
    "\n",
    "        \n",
    "\"\"\"     \n",
    "    clf.fit(x_train,y_train)\n",
    "    folds=taskFC.shape[0]\n",
    "    CVscores=cross_val_score(clf,x_train,y_train, cv=folds)\n",
    "    if FW is True:\n",
    "        coef=clf.coef_\n",
    "        plotFW.feature_plots(coef, classifier, analysis, train_task, train_sub)\n",
    "    else:\n",
    "        print('skipping feature weights')\n",
    "    predict=clf.predict(x_test)\n",
    "    #Get accuracy of model\n",
    "    ACCscores=clf.score(x_test,y_test)\n",
    "    return ACCscores\n",
    "    \n",
    "    \"\"\"   "
   ]
  },
  {
   "cell_type": "code",
   "execution_count": 24,
   "metadata": {},
   "outputs": [],
   "source": [
    "from sklearn.model_selection import KFold\n",
    "from sklearn.model_selection import train_test_split\n",
    "from sklearn.svm import LinearSVC\n",
    "from sklearn.linear_model import LogisticRegression\n",
    "from sklearn.linear_model import RidgeClassifier\n",
    "import numpy as np\n",
    "import os\n",
    "import sys\n",
    "import pandas as pd\n",
    "from sklearn.model_selection import cross_val_score\n",
    "from sklearn.model_selection import cross_validate\n",
    "from sklearn import metrics\n",
    "import itertools\n",
    "#import other python scripts for further anlaysis\n",
    "import reshape\n",
    "import plotFW\n",
    "import results\n",
    "# Initialization of directory information:\n",
    "thisDir = os.path.expanduser('~/Desktop/MSC_Alexis/analysis/')\n",
    "dataDir = thisDir + 'data/mvpa_data/'\n",
    "taskFC=reshape.matFiles(dataDir+'motor/MSC03_parcel_corrmat.mat')\n",
    "restFC=reshape.matFiles(dataDir+'rest/MSC03_parcel_corrmat.mat')\n",
    "x_train, y_train=reshape.concateFC(taskFC, restFC)\n",
    "\n",
    "clf=LinearSVC()\n",
    "df=pd.DataFrame()\n",
    "test_taskFC=reshape.matFiles(dataDir+'motor/MSC04_parcel_corrmat.mat')\n",
    "test_restFC=reshape.matFiles(dataDir+'rest/MSC04_parcel_corrmat.mat')\n",
    "x_test, y_test=reshape.concateFC(test_taskFC, test_restFC)\n",
    "folds=taskFC.shape[0]\n",
    "#okay so if I wanted to do LOOCV   \n",
    "kf=KFold(folds)\n",
    "acc_scores_per_fold=[]\n",
    "for train_index, test_index in kf.split(x_train):\n",
    "    #initializing split of training set for CV\n",
    "    #print(\"TRAIN:\", train_index, \"TEST:\", test_index)\n",
    "    X_tr, X_te = x_train[train_index], x_train[test_index]\n",
    "    y_tr, y_te = y_train[train_index], y_train[test_index]\n",
    "    #split up the test set\n",
    "    X_Test=x_test[test_index]\n",
    "    y_Test=y_test[test_index]\n",
    "    clf.fit(X_tr,y_tr)\n",
    "    predict=clf.predict(X_Test)\n",
    "    #Get accuracy of model\n",
    "    ACCscores=clf.score(X_Test,y_Test)\n",
    "    acc_scores_per_fold.append(ACCscores)\n",
    "df['ten_folds']=acc_scores_per_fold"
   ]
  },
  {
   "cell_type": "code",
   "execution_count": 29,
   "metadata": {},
   "outputs": [
    {
     "data": {
      "text/plain": [
       "<bound method DataFrame.mean of    ten_folds\n",
       "0        0.5\n",
       "1        1.0\n",
       "2        1.0\n",
       "3        1.0\n",
       "4        0.5\n",
       "5        1.0\n",
       "6        1.0\n",
       "7        1.0\n",
       "8        1.0\n",
       "9        1.0>"
      ]
     },
     "execution_count": 29,
     "metadata": {},
     "output_type": "execute_result"
    }
   ],
   "source": [
    "df.mean"
   ]
  },
  {
   "cell_type": "code",
   "execution_count": 9,
   "metadata": {},
   "outputs": [
    {
     "data": {
      "text/plain": [
       "array([[-0.31879913, -0.07692655,  0.08123187, ...,  0.45736573,\n",
       "         0.30105417,  0.22709199],\n",
       "       [-0.1017831 , -0.12502503,  0.21763306, ...,  0.54533124,\n",
       "         0.34130333,  0.44127741]])"
      ]
     },
     "execution_count": 9,
     "metadata": {},
     "output_type": "execute_result"
    }
   ],
   "source": [
    "X_te"
   ]
  },
  {
   "cell_type": "code",
   "execution_count": null,
   "metadata": {},
   "outputs": [],
   "source": []
  }
 ],
 "metadata": {
  "kernelspec": {
   "display_name": "Python 3",
   "language": "python",
   "name": "python3"
  },
  "language_info": {
   "codemirror_mode": {
    "name": "ipython",
    "version": 3
   },
   "file_extension": ".py",
   "mimetype": "text/x-python",
   "name": "python",
   "nbconvert_exporter": "python",
   "pygments_lexer": "ipython3",
   "version": "3.7.1"
  }
 },
 "nbformat": 4,
 "nbformat_minor": 2
}
