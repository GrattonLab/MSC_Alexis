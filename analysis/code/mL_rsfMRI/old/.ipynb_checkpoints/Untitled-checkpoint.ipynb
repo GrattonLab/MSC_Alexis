{
 "cells": [
  {
   "cell_type": "code",
   "execution_count": 47,
   "metadata": {},
   "outputs": [],
   "source": [
    "\n",
    "from sklearn.metrics import confusion_matrix\n",
    "from sklearn.model_selection import LeaveOneOut\n",
    "from sklearn.model_selection import KFold\n",
    "from sklearn.linear_model import RidgeClassifier\n",
    "import numpy as np\n",
    "import os\n",
    "import sys\n",
    "import pandas as pd\n",
    "from sklearn.model_selection import cross_val_score\n",
    "import itertools\n",
    "#import other python scripts for further anlaysis\n",
    "import classification\n",
    "#import results\n",
    "import warnings\n",
    "warnings.filterwarnings(\"ignore\")\n",
    "# Initialization of directory information:\n",
    "thisDir = os.path.expanduser('~/Desktop/MSC_Alexis/analysis/')\n",
    "dataDir = thisDir + 'data/mvpa_data/'\n",
    "outDir = thisDir + 'output/results/'\n",
    "# Subjects and tasks\n",
    "taskList=['glass','semantic', 'motor','mem']\n",
    "subList=['MSC01','MSC02','MSC03','MSC04','MSC05','MSC06','MSC07','MSC10']\n",
    "#all possible combinations of subs and tasks\n",
    "subsComb=(list(itertools.permutations(subList, 2)))\n",
    "tasksComb=(list(itertools.permutations(taskList, 2)))\n",
    "#DS combination\n",
    "DSvars=list(itertools.product(list(subsComb),list(taskList)))\n",
    "##SS combination\n",
    "SSvars=list(itertools.product(list(subList),list(tasksComb)))\n",
    "#BS combination\n",
    "BSvars=list(itertools.product(list(subsComb),list(tasksComb)))\n",
    "def classifyAll():\n",
    "    \"\"\"\n",
    "    Classifying different subjects along available data rest split into 40 samples to match with task\n",
    "\n",
    "    Parameters\n",
    "    -------------\n",
    "\n",
    "    Returns\n",
    "    -------------\n",
    "    df : DataFrame\n",
    "        Dataframe consisting of average accuracy across all subjects\n",
    "\n",
    "    \"\"\"\n",
    "    acc_scores_per_sub=[]\n",
    "    sen_scores_per_sub=[]\n",
    "    spec_scores_per_sub=[]\n",
    "    acc_scores_cv=[]\n",
    "    sen_scores_cv=[]\n",
    "    spec_scores_cv=[]\n",
    "    df=pd.DataFrame(subsComb, columns=['train_sub','test_sub'])\n",
    "    for index, row in df.iterrows():\n",
    "        diff_score, same_score, CV_sens_score, CV_spec_score, DS_sens_score, DS_spec_score=modelAll(train_sub=row['train_sub'], test_sub=row['test_sub'])\n",
    "        acc_scores_per_sub.append(diff_score)\n",
    "        acc_scores_cv.append(same_score)\n",
    "    df['cv_acc']=acc_scores_cv\n",
    "    df['cv_sen']=CV_sens_score\n",
    "    df['cv_spec']=CV_spec_score\n",
    "    df['acc']=acc_scores_per_sub\n",
    "    df['ds_sen']=DS_sens_score\n",
    "    df['ds_spec']=DS_spec_score\n",
    "    return df\n",
    "    #df.to_csv(outDir+'acc/ALL/precision_acc.csv',index=False)\n",
    "    \n",
    "def modelAll(train_sub, test_sub):\n",
    "    \"\"\"\n",
    "    Preparing machine learning model with appropriate data\n",
    "\n",
    "    Parameters\n",
    "    -------------\n",
    "    train_sub : str\n",
    "            Subject name for training\n",
    "    test_sub : str\n",
    "            Subject name for testing\n",
    "\n",
    "    Returns\n",
    "    -------------\n",
    "    total_score : float\n",
    "            Average accuracy of all folds\n",
    "\n",
    "    \"\"\"\n",
    "\n",
    "    clf=RidgeClassifier() \n",
    "    df=pd.DataFrame()\n",
    "    #train sub\n",
    "    memFC=classification.reshape.matFiles(dataDir+'mem/'+train_sub+'_parcel_corrmat.mat')\n",
    "    semFC=classification.reshape.matFiles(dataDir+'semantic/'+train_sub+'_parcel_corrmat.mat')\n",
    "    glassFC=classification.reshape.matFiles(dataDir+'glass/'+train_sub+'_parcel_corrmat.mat')\n",
    "    motFC=classification.reshape.matFiles(dataDir+'motor/'+train_sub+'_parcel_corrmat.mat')\n",
    "    restFC=classification.reshape.matFiles(dataDir+'rest/corrmats_timesplit/fourths/'+train_sub+'_parcel_corrmat.mat')   \n",
    "    taskFC=np.concatenate((memFC,semFC,glassFC,motFC))\n",
    "    #test sub\n",
    "    test_memFC=classification.reshape.matFiles(dataDir+'mem/'+test_sub+'_parcel_corrmat.mat')\n",
    "    test_semFC=classification.reshape.matFiles(dataDir+'semantic/'+test_sub+'_parcel_corrmat.mat')\n",
    "    test_glassFC=classification.reshape.matFiles(dataDir+'glass/'+test_sub+'_parcel_corrmat.mat')\n",
    "    test_motFC=classification.reshape.matFiles(dataDir+'motor/'+test_sub+'_parcel_corrmat.mat')\n",
    "    test_restFC=classification.reshape.matFiles(dataDir+'rest/corrmats_timesplit/fourths/'+test_sub+'_parcel_corrmat.mat')\n",
    "    test_taskFC=np.concatenate((test_memFC,test_semFC,test_glassFC,test_motFC))  \n",
    "    #CVsen, CVspec, DSspec, DSsen=K_folds(train_sub, clf, taskFC, restFC, test_taskFC, test_restFC)\n",
    "    #return CVsen, CVspec, DSspec, DSsen\n",
    "    diff_score, same_score,CV_sens_score, CV_spec_score, DS_sens_score, DS_spec_score=K_folds(train_sub, clf, taskFC, restFC, test_taskFC, test_restFC)\n",
    "    return diff_score, same_score, CV_sens_score, CV_spec_score, DS_sens_score, DS_spec_score\n",
    "\n",
    "def K_folds(train_sub, clf, taskFC, restFC, test_taskFC, test_restFC):\n",
    "    \"\"\"\n",
    "    Cross validation to train and test using nested loops\n",
    "\n",
    "    Parameters\n",
    "    -----------\n",
    "    clf : obj\n",
    "        Machine learning algorithm\n",
    "    taskFC, restFC, test_taskFC, test_restFC : array_like\n",
    "        Input arrays, training and testing set of task and rest FC\n",
    "    Returns\n",
    "    -----------\n",
    "    total_score : float\n",
    "        Average accuracy across folds\n",
    "    acc_score : list\n",
    "        List of accuracy for each outer fold\n",
    "    \"\"\"\n",
    "\n",
    "    kf = KFold(n_splits=5)\n",
    "    taskSize=taskFC.shape[0]\n",
    "    restSize=restFC.shape[0]\n",
    "    t = np.ones(taskSize, dtype = int)\n",
    "    r=np.zeros(restSize, dtype=int) \n",
    "    test_taskSize=test_taskFC.shape[0]\n",
    "    test_restSize=test_restFC.shape[0]\n",
    "    testT= np.ones(test_taskSize, dtype = int)\n",
    "    testR= np.zeros(test_restSize, dtype = int)\n",
    "    CVacc=[]\n",
    "    CVspec=[]\n",
    "    CVsen=[]\n",
    "    df=pd.DataFrame()\n",
    "    acc_score=[]\n",
    "    DSspec=[]\n",
    "    DSsen=[]\n",
    "    #fold each training set\n",
    "    for train_index, test_index in kf.split(taskFC):\n",
    "        Xtrain_rest, Xval_rest=restFC[train_index], restFC[test_index]\n",
    "        Xtrain_task, Xval_task=taskFC[train_index], taskFC[test_index]\n",
    "        ytrain_rest, yval_rest=r[train_index], r[test_index] \n",
    "        ytrain_task, yval_task=t[train_index], t[test_index]\n",
    "        X_tr=np.concatenate((Xtrain_task, Xtrain_rest))\n",
    "        X_val=np.concatenate((Xval_task, Xval_rest))\n",
    "        y_tr = np.concatenate((ytrain_task,ytrain_rest))\n",
    "        y_val=np.concatenate((yval_task, yval_rest))\n",
    "        clf.fit(X_tr,y_tr)\n",
    "        #cross validation\n",
    "        y_pred=clf.predict(X_val)\n",
    "        #Test labels and predicted labels to calculate sensitivity specificity\n",
    "        tn, fp, fn, tp=confusion_matrix(y_val, y_pred).ravel()\n",
    "        CV_specificity= tn/(tn+fp)\n",
    "        CV_sensitivity= tp/(tp+fn)\n",
    "        #get accuracy\n",
    "        CV_score=clf.score(X_val, y_val)\n",
    "        CVacc.append(CV_score)\n",
    "        CVspec.append(CV_specificity)\n",
    "        CVsen.append(CV_sensitivity)\n",
    "        tmpdf=pd.DataFrame()\n",
    "        acc_scores_per_fold=[]\n",
    "        sen_scores_per_fold=[]\n",
    "        spec_scores_per_fold=[]\n",
    "        #fold each testing set\n",
    "        for t_index, te_index in kf.split(test_taskFC):\n",
    "            Xtest_rest=test_restFC[te_index]\n",
    "            Xtest_task=test_taskFC[te_index]\n",
    "            X_te=np.concatenate((Xtest_task, Xtest_rest))\n",
    "            ytest_task=testT[te_index]\n",
    "            ytest_rest=testR[te_index]\n",
    "            y_te=np.concatenate((ytest_task, ytest_rest))\n",
    "            #test set\n",
    "            y_pred_testset=clf.predict(X_te)\n",
    "            #Test labels and predicted labels to calculate sensitivity specificity\n",
    "            DStn, DSfp, DSfn, DStp=confusion_matrix(y_te, y_pred_testset).ravel()\n",
    "            DS_specificity= DStn/(DStn+DSfp)\n",
    "            DS_sensitivity= DStp/(DStp+DSfn)\n",
    "            #Get accuracy of model\n",
    "            ACCscores=clf.score(X_te,y_te)\n",
    "            acc_scores_per_fold.append(ACCscores)\n",
    "            sen_scores_per_fold.append(DS_sensitivity)\n",
    "            spec_scores_per_fold.append(DS_specificity)\n",
    "        tmpdf['inner_fold']=acc_scores_per_fold\n",
    "        tmpdf['DS_sen']=sen_scores_per_fold\n",
    "        tmpdf['DS_spec']=spec_scores_per_fold\n",
    "        score=tmpdf['inner_fold'].mean()\n",
    "        sen=tmpdf['DS_sen'].mean()\n",
    "        spec=tmpdf['DS_spec'].mean()\n",
    "        acc_score.append(score)\n",
    "        DSspec.append(spec)\n",
    "        DSsen.append(sen)\n",
    "    df['cv']=CVacc\n",
    "    df['CV_sen']=CVsen\n",
    "    df['CV_spec']=CVspec\n",
    "    #Different sub outer acc\n",
    "    df['outer_fold']=acc_score\n",
    "    df['DS_sen']=DSsen\n",
    "    df['DS_spec']=DSspec\n",
    "    same_sub_score=df['cv'].mean()\n",
    "    diff_sub_score=df['outer_fold'].mean()\n",
    "    CV_sens_score=df['CV_sen'].mean()\n",
    "    CV_spec_score=df['CV_spec'].mean()\n",
    "    DS_sens_score=df['DS_sen'].mean()\n",
    "    DS_spec_score=df['DS_spec'].mean()\n",
    "    return diff_sub_score, same_sub_score, CV_sens_score, CV_spec_score, DS_sens_score, DS_spec_score\n"
   ]
  },
  {
   "cell_type": "code",
   "execution_count": 30,
   "metadata": {},
   "outputs": [],
   "source": [
    "CVsen, CVspec, DSspec, DSsen=modelAll('MSC01', 'MSC02')"
   ]
  },
  {
   "cell_type": "code",
   "execution_count": 45,
   "metadata": {},
   "outputs": [
    {
     "data": {
      "text/plain": [
       "[1.0, 1.0, 1.0, 1.0, 1.0]"
      ]
     },
     "execution_count": 45,
     "metadata": {},
     "output_type": "execute_result"
    }
   ],
   "source": [
    "DSsen\n",
    "\n"
   ]
  },
  {
   "cell_type": "code",
   "execution_count": 44,
   "metadata": {},
   "outputs": [
    {
     "data": {
      "text/plain": [
       "0.034999999999999996"
      ]
     },
     "execution_count": 44,
     "metadata": {},
     "output_type": "execute_result"
    }
   ],
   "source": [
    "(0.025+ 0.05+ 0.025+ 0.025+ 0.05)/5\n"
   ]
  },
  {
   "cell_type": "code",
   "execution_count": 48,
   "metadata": {},
   "outputs": [],
   "source": [
    "diff_score, same_score, CV_sens_score, CV_spec_score, DS_sens_score, DS_spec_score=modelAll('MSC01','MSC02')"
   ]
  },
  {
   "cell_type": "code",
   "execution_count": 49,
   "metadata": {},
   "outputs": [
    {
     "data": {
      "text/plain": [
       "0.5175"
      ]
     },
     "execution_count": 49,
     "metadata": {},
     "output_type": "execute_result"
    }
   ],
   "source": [
    "diff_score"
   ]
  },
  {
   "cell_type": "code",
   "execution_count": 50,
   "metadata": {},
   "outputs": [
    {
     "data": {
      "text/plain": [
       "0.975"
      ]
     },
     "execution_count": 50,
     "metadata": {},
     "output_type": "execute_result"
    }
   ],
   "source": [
    "same_score"
   ]
  },
  {
   "cell_type": "code",
   "execution_count": 51,
   "metadata": {},
   "outputs": [
    {
     "data": {
      "text/plain": [
       "1.0"
      ]
     },
     "execution_count": 51,
     "metadata": {},
     "output_type": "execute_result"
    }
   ],
   "source": [
    "CV_sens_score"
   ]
  },
  {
   "cell_type": "code",
   "execution_count": 53,
   "metadata": {},
   "outputs": [
    {
     "data": {
      "text/plain": [
       "0.95"
      ]
     },
     "execution_count": 53,
     "metadata": {},
     "output_type": "execute_result"
    }
   ],
   "source": [
    "CV_spec_score"
   ]
  },
  {
   "cell_type": "code",
   "execution_count": null,
   "metadata": {},
   "outputs": [],
   "source": []
  }
 ],
 "metadata": {
  "kernelspec": {
   "display_name": "Python 3",
   "language": "python",
   "name": "python3"
  },
  "language_info": {
   "codemirror_mode": {
    "name": "ipython",
    "version": 3
   },
   "file_extension": ".py",
   "mimetype": "text/x-python",
   "name": "python",
   "nbconvert_exporter": "python",
   "pygments_lexer": "ipython3",
   "version": "3.7.6"
  }
 },
 "nbformat": 4,
 "nbformat_minor": 4
}
