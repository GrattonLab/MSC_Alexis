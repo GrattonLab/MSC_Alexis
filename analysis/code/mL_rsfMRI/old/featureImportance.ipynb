{
 "cells": [
  {
   "cell_type": "code",
   "execution_count": 2,
   "metadata": {},
   "outputs": [],
   "source": [
    "#feature coef bear in mind this is not within each fold. \n",
    "#This is the coefficients if I fit the entire model using all the data\n",
    "from sklearn.model_selection import LeaveOneOut\n",
    "from sklearn.model_selection import KFold\n",
    "from sklearn.svm import LinearSVC\n",
    "from sklearn.linear_model import LogisticRegression\n",
    "from sklearn.linear_model import RidgeClassifier\n",
    "import numpy as np\n",
    "import os\n",
    "import sys\n",
    "import pandas as pd\n",
    "from sklearn.model_selection import cross_val_score\n",
    "from sklearn.model_selection import cross_validate\n",
    "from sklearn import metrics\n",
    "import itertools\n",
    "#import other python scripts for further anlaysis\n",
    "import reshape\n",
    "import plotFW\n",
    "\n",
    "# Initialization of directory information:\n",
    "thisDir = os.path.expanduser('~/Desktop/MSC_Alexis/analysis/')\n",
    "dataDir = thisDir + 'data/mvpa_data/'\n",
    "outDir = thisDir + 'output/mL/'\n",
    "# Subjects and tasks\n",
    "taskList=['mixed', 'motor','mem']\n",
    "subList=['MSC01','MSC02','MSC03','MSC04','MSC05','MSC06','MSC07','MSC10']\n",
    "\n",
    "def model(classifier,train_sub, train_task):\n",
    "    if classifier=='SVC':\n",
    "        clf=LinearSVC()\n",
    "    elif classifier=='logReg':\n",
    "        clf=LogisticRegression(solver = 'lbfgs')\n",
    "    elif classifier=='ridge':\n",
    "        clf=RidgeClassifier()\n",
    "    else:\n",
    "        print('Error: You didnt specify what classifier')\n",
    "    taskFC=reshape.matFiles(dataDir+train_task+'/'+train_sub+'_parcel_corrmat.mat')\n",
    "    restFC=reshape.matFiles(dataDir+'rest/'+train_sub+'_parcel_corrmat.mat')\n",
    "    x_train, y_train=reshape.concateFC(taskFC, restFC)\n",
    "    clf.fit(x_train,y_train)\n",
    "    #absolute value of feature weights\n",
    "    importance = np.abs(clf.coef_)\n",
    "    #convert to useable form\n",
    "    df=plotFW.saveFW(importance)\n",
    "    df.columns = df.columns.droplevel(1)\n",
    "    df.index=df.index.droplevel(1)\n",
    "    df = df.where(np.triu(np.ones(df.shape),1).astype(np.bool))\n",
    "    df = df.stack().reset_index()\n",
    "    df.columns = ['Row','Column','Coef']\n",
    "\n",
    "    group=df.groupby(['Row','Column']).sum()\n",
    "    group.reset_index(level=[1], inplace=True)\n",
    "    #get top feature combinations\n",
    "    top=group.nlargest(1,'Coef')\n",
    "    top['sub']=train_sub\n",
    "    top['task']=train_task\n",
    "    return top\n"
   ]
  },
  {
   "cell_type": "code",
   "execution_count": 3,
   "metadata": {},
   "outputs": [],
   "source": [
    "result=pd.DataFrame()\n",
    "for sub in subList:\n",
    "    for task in taskList:\n",
    "        tmp_df=model('ridge', sub, task)\n",
    "        result = result.append(tmp_df)\n",
    "result.reset_index(inplace=True)\n",
    "result['Row.Column']=result['Row']+'.'+result['Column']"
   ]
  },
  {
   "cell_type": "code",
   "execution_count": 114,
   "metadata": {},
   "outputs": [],
   "source": [
    "k=result['task']=='mixed'\n",
    "\n",
    "mix=result[k]"
   ]
  },
  {
   "cell_type": "code",
   "execution_count": 129,
   "metadata": {},
   "outputs": [
    {
     "data": {
      "text/html": [
       "<div>\n",
       "<style scoped>\n",
       "    .dataframe tbody tr th:only-of-type {\n",
       "        vertical-align: middle;\n",
       "    }\n",
       "\n",
       "    .dataframe tbody tr th {\n",
       "        vertical-align: top;\n",
       "    }\n",
       "\n",
       "    .dataframe thead th {\n",
       "        text-align: right;\n",
       "    }\n",
       "</style>\n",
       "<table border=\"1\" class=\"dataframe\">\n",
       "  <thead>\n",
       "    <tr style=\"text-align: right;\">\n",
       "      <th></th>\n",
       "      <th>Row</th>\n",
       "      <th>Column</th>\n",
       "      <th>Coef</th>\n",
       "      <th>sub</th>\n",
       "      <th>task</th>\n",
       "      <th>Row.Column</th>\n",
       "    </tr>\n",
       "  </thead>\n",
       "  <tbody>\n",
       "    <tr>\n",
       "      <th>0</th>\n",
       "      <td>unassign</td>\n",
       "      <td>default</td>\n",
       "      <td>0.560412</td>\n",
       "      <td>MSC01</td>\n",
       "      <td>mixed</td>\n",
       "      <td>unassign.default</td>\n",
       "    </tr>\n",
       "    <tr>\n",
       "      <th>3</th>\n",
       "      <td>unassign</td>\n",
       "      <td>default</td>\n",
       "      <td>0.705588</td>\n",
       "      <td>MSC02</td>\n",
       "      <td>mixed</td>\n",
       "      <td>unassign.default</td>\n",
       "    </tr>\n",
       "    <tr>\n",
       "      <th>6</th>\n",
       "      <td>co</td>\n",
       "      <td>sm</td>\n",
       "      <td>0.610262</td>\n",
       "      <td>MSC03</td>\n",
       "      <td>mixed</td>\n",
       "      <td>co.sm</td>\n",
       "    </tr>\n",
       "    <tr>\n",
       "      <th>9</th>\n",
       "      <td>unassign</td>\n",
       "      <td>default</td>\n",
       "      <td>0.661187</td>\n",
       "      <td>MSC04</td>\n",
       "      <td>mixed</td>\n",
       "      <td>unassign.default</td>\n",
       "    </tr>\n",
       "    <tr>\n",
       "      <th>12</th>\n",
       "      <td>default</td>\n",
       "      <td>co</td>\n",
       "      <td>0.638585</td>\n",
       "      <td>MSC05</td>\n",
       "      <td>mixed</td>\n",
       "      <td>default.co</td>\n",
       "    </tr>\n",
       "  </tbody>\n",
       "</table>\n",
       "</div>"
      ],
      "text/plain": [
       "         Row   Column      Coef    sub   task        Row.Column\n",
       "0   unassign  default  0.560412  MSC01  mixed  unassign.default\n",
       "3   unassign  default  0.705588  MSC02  mixed  unassign.default\n",
       "6         co       sm  0.610262  MSC03  mixed             co.sm\n",
       "9   unassign  default  0.661187  MSC04  mixed  unassign.default\n",
       "12   default       co  0.638585  MSC05  mixed        default.co"
      ]
     },
     "execution_count": 129,
     "metadata": {},
     "output_type": "execute_result"
    }
   ],
   "source": [
    "mix.head()"
   ]
  },
  {
   "cell_type": "code",
   "execution_count": 130,
   "metadata": {},
   "outputs": [
    {
     "data": {
      "text/plain": [
       "<matplotlib.axes._subplots.AxesSubplot at 0x7fb62bef7b90>"
      ]
     },
     "execution_count": 130,
     "metadata": {},
     "output_type": "execute_result"
    },
    {
     "data": {
      "image/png": "[encoded data removed]",
      "text/plain": [
       "<Figure size 1080x720 with 1 Axes>"
      ]
     },
     "metadata": {
      "needs_background": "light"
     },
     "output_type": "display_data"
    }
   ],
   "source": [
    "import matplotlib.pyplot as plt\n",
    "plt.figure(figsize=(15,10))\n",
    "sns.barplot(x=\"sub\",y='Coef', data=mix)\n"
   ]
  },
  {
   "cell_type": "code",
   "execution_count": 133,
   "metadata": {},
   "outputs": [
    {
     "data": {
      "text/plain": [
       "<matplotlib.axes._subplots.AxesSubplot at 0x7fb60cd79810>"
      ]
     },
     "execution_count": 133,
     "metadata": {},
     "output_type": "execute_result"
    },
    {
     "data": {
      "image/png": "[encoded data removed]",
      "text/plain": [
       "<Figure size 432x288 with 1 Axes>"
      ]
     },
     "metadata": {
      "needs_background": "light"
     },
     "output_type": "display_data"
    }
   ],
   "source": [
    "sns.countplot(x='Column', hue='Row', data=mix)"
   ]
  },
  {
   "cell_type": "code",
   "execution_count": 5,
   "metadata": {},
   "outputs": [],
   "source": [
    "def genSankey(df,cat_cols=[],value_cols='',title='Sankey Diagram'):\n",
    "    # maximum of 6 value cols -> 6 colors\n",
    "    colorPalette = ['#4B8BBE','#306998','#FFE873','#FFD43B','#646464']\n",
    "    labelList = []\n",
    "    colorNumList = []\n",
    "    for catCol in cat_cols:\n",
    "        labelListTemp =  list(set(df[catCol].values))\n",
    "        colorNumList.append(len(labelListTemp))\n",
    "        labelList = labelList + labelListTemp\n",
    "        \n",
    "    # remove duplicates from labelList\n",
    "    labelList = list(dict.fromkeys(labelList))\n",
    "    \n",
    "    # define colors based on number of levels\n",
    "    colorList = []\n",
    "    for idx, colorNum in enumerate(colorNumList):\n",
    "        colorList = colorList + [colorPalette[idx]]*colorNum\n",
    "        \n",
    "    # transform df into a source-target pair\n",
    "    for i in range(len(cat_cols)-1):\n",
    "        if i==0:\n",
    "            sourceTargetDf = df[[cat_cols[i],cat_cols[i+1],value_cols]]\n",
    "            sourceTargetDf.columns = ['source','target','count']\n",
    "        else:\n",
    "            tempDf = df[[cat_cols[i],cat_cols[i+1],value_cols]]\n",
    "            tempDf.columns = ['source','target','count']\n",
    "            sourceTargetDf = pd.concat([sourceTargetDf,tempDf])\n",
    "        sourceTargetDf = sourceTargetDf.groupby(['source','target']).agg({'count':'sum'}).reset_index()\n",
    "        \n",
    "    # add index for source-target pair\n",
    "    sourceTargetDf['sourceID'] = sourceTargetDf['source'].apply(lambda x: labelList.index(x))\n",
    "    sourceTargetDf['targetID'] = sourceTargetDf['target'].apply(lambda x: labelList.index(x))\n",
    "    \n",
    "    # creating the sankey diagram\n",
    "    data = dict(\n",
    "        type='sankey',\n",
    "        node = dict(\n",
    "          pad = 15,\n",
    "          thickness = 20,\n",
    "          line = dict(\n",
    "            color = \"black\",\n",
    "            width = 0.5\n",
    "          ),\n",
    "          label = labelList,\n",
    "          color = colorList\n",
    "        ),\n",
    "        link = dict(\n",
    "          source = sourceTargetDf['sourceID'],\n",
    "          target = sourceTargetDf['targetID'],\n",
    "          value = sourceTargetDf['count']\n",
    "        )\n",
    "      )\n",
    "    \n",
    "    layout =  dict(\n",
    "        title = title,\n",
    "        font = dict(\n",
    "          size = 10\n",
    "        )\n",
    "    )\n",
    "       \n",
    "    fig = dict(data=[data], layout=layout)\n",
    "    return fig"
   ]
  },
  {
   "cell_type": "code",
   "execution_count": 7,
   "metadata": {},
   "outputs": [
    {
     "data": {
      "text/plain": [
       "'temp-plot.html'"
      ]
     },
     "execution_count": 7,
     "metadata": {},
     "output_type": "execute_result"
    }
   ],
   "source": [
    "import plotly\n",
    "#import plotly.plotly as py\n",
    "fig = genSankey(result,cat_cols=['task','sub','Column','Row'],value_cols='Coef',title='Feature Importance')\n",
    "plotly.offline.plot(fig, validate=False)\n"
   ]
  },
  {
   "cell_type": "code",
   "execution_count": 136,
   "metadata": {},
   "outputs": [
    {
     "data": {
      "text/html": [
       "<div>\n",
       "<style scoped>\n",
       "    .dataframe tbody tr th:only-of-type {\n",
       "        vertical-align: middle;\n",
       "    }\n",
       "\n",
       "    .dataframe tbody tr th {\n",
       "        vertical-align: top;\n",
       "    }\n",
       "\n",
       "    .dataframe thead th {\n",
       "        text-align: right;\n",
       "    }\n",
       "</style>\n",
       "<table border=\"1\" class=\"dataframe\">\n",
       "  <thead>\n",
       "    <tr style=\"text-align: right;\">\n",
       "      <th></th>\n",
       "      <th>Row</th>\n",
       "      <th>Column</th>\n",
       "      <th>Coef</th>\n",
       "      <th>sub</th>\n",
       "      <th>task</th>\n",
       "      <th>Row.Column</th>\n",
       "    </tr>\n",
       "  </thead>\n",
       "  <tbody>\n",
       "    <tr>\n",
       "      <th>0</th>\n",
       "      <td>unassign</td>\n",
       "      <td>default</td>\n",
       "      <td>0.560412</td>\n",
       "      <td>MSC01</td>\n",
       "      <td>mixed</td>\n",
       "      <td>unassign.default</td>\n",
       "    </tr>\n",
       "    <tr>\n",
       "      <th>1</th>\n",
       "      <td>visual</td>\n",
       "      <td>co</td>\n",
       "      <td>0.476595</td>\n",
       "      <td>MSC01</td>\n",
       "      <td>motor</td>\n",
       "      <td>visual.co</td>\n",
       "    </tr>\n",
       "    <tr>\n",
       "      <th>2</th>\n",
       "      <td>default</td>\n",
       "      <td>co</td>\n",
       "      <td>0.622467</td>\n",
       "      <td>MSC01</td>\n",
       "      <td>mem</td>\n",
       "      <td>default.co</td>\n",
       "    </tr>\n",
       "    <tr>\n",
       "      <th>3</th>\n",
       "      <td>unassign</td>\n",
       "      <td>default</td>\n",
       "      <td>0.705588</td>\n",
       "      <td>MSC02</td>\n",
       "      <td>mixed</td>\n",
       "      <td>unassign.default</td>\n",
       "    </tr>\n",
       "    <tr>\n",
       "      <th>4</th>\n",
       "      <td>default</td>\n",
       "      <td>dan</td>\n",
       "      <td>0.491990</td>\n",
       "      <td>MSC02</td>\n",
       "      <td>motor</td>\n",
       "      <td>default.dan</td>\n",
       "    </tr>\n",
       "  </tbody>\n",
       "</table>\n",
       "</div>"
      ],
      "text/plain": [
       "        Row   Column      Coef    sub   task        Row.Column\n",
       "0  unassign  default  0.560412  MSC01  mixed  unassign.default\n",
       "1    visual       co  0.476595  MSC01  motor         visual.co\n",
       "2   default       co  0.622467  MSC01    mem        default.co\n",
       "3  unassign  default  0.705588  MSC02  mixed  unassign.default\n",
       "4   default      dan  0.491990  MSC02  motor       default.dan"
      ]
     },
     "execution_count": 136,
     "metadata": {},
     "output_type": "execute_result"
    }
   ],
   "source": [
    "result.head()"
   ]
  },
  {
   "cell_type": "code",
   "execution_count": null,
   "metadata": {},
   "outputs": [],
   "source": []
  }
 ],
 "metadata": {
  "kernelspec": {
   "display_name": "Python 3",
   "language": "python",
   "name": "python3"
  },
  "language_info": {
   "codemirror_mode": {
    "name": "ipython",
    "version": 3
   },
   "file_extension": ".py",
   "mimetype": "text/x-python",
   "name": "python",
   "nbconvert_exporter": "python",
   "pygments_lexer": "ipython3",
   "version": "3.7.1"
  }
 },
 "nbformat": 4,
 "nbformat_minor": 4
}
