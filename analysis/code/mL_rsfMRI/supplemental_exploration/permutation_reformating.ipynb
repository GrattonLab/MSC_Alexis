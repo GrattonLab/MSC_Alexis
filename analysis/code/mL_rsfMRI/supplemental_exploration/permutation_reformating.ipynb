{
 "cells": [
  {
   "cell_type": "code",
   "execution_count": 1,
   "metadata": {},
   "outputs": [],
   "source": [
    "import sys\n",
    "import os\n",
    "from scipy import stats\n",
    "import pandas as pd\n",
    "import numpy as np\n",
    "import seaborn as sns\n",
    "import random\n",
    "thisDir = os.path.expanduser('~/Desktop/MSC_Alexis/analysis/')\n",
    "dataDir = thisDir + 'data/mvpa_data/'\n",
    "outDir = thisDir + 'output/mL/results/ridge/acc/'\n",
    "import classification\n",
    "subDir=thisDir+'output/subNetwork/'\n",
    "randDir=thisDir+'output/randomIdx/results/ridge/acc/'\n",
    "netList=['unassign','default', 'visual','fp','dan','van','salience','co','sm','sm-lat', 'auditory','pmn','pon']\n",
    "feature=[14808,10824,8736, 4620,5264,3151, 484, 4060, 2375,316, 564,45,21]\n",
    "netRoi=dict([('unassign',14808),('default', 10824),('visual',8736),('fp', 4620),('dan',5264),('van',3151),('salience', 484),('co', 4060),('sm', 2375),('sm-lat', 316),('auditory', 564),('pmn',45),('pon',21)])\n",
    "taskList=['mixed','mem','motor']\n",
    "subList=['MSC01','MSC02','MSC03','MSC04','MSC05','MSC06','MSC07','MSC10']\n",
    "\n",
    "\n",
    "permSS=pd.read_csv(thisDir+'output/mL/results/ridge/permutation/SS/acc.csv')\n",
    "pairCV=pd.read_csv(thisDir+'output/mL/results/ridge/permutation/CV/acc.csv')\n",
    "permDS=pd.read_csv(thisDir+'output/mL/results/ridge/permutation/DS/acc.csv')\n",
    "permBS=pd.read_csv(thisDir+'output/mL/results/ridge/permutation/BS/acc.csv')\n",
    "\n",
    "\n",
    "\n",
    "#adding thinner lines to different task analysis figure\n",
    "BS_startIndex=0\n",
    "BS_endIndex=336\n",
    "iterations=0\n",
    "pairBS=pd.DataFrame()\n",
    "while BS_startIndex<336001:\n",
    "    BS_iterat=permBS[BS_startIndex:BS_endIndex]\n",
    "    for task in taskList:\n",
    "        for test_task in taskList:\n",
    "            if task==test_task:\n",
    "                continue\n",
    "            else:\n",
    "                tmp=BS_iterat[(BS_iterat.train_task==task)&(BS_iterat.test_task==test_task)]\n",
    "                #iterating through each permutationt to recreate the previous plots\n",
    "                tmp_mu=tmp.groupby(['train_sub']).mean()\n",
    "                tmp_mu['train_task']=task\n",
    "                tmp_mu['test_task']=test_task\n",
    "                tmp_mu['iteration']=iterations\n",
    "                pairBS=pd.concat([pairBS,tmp_mu])\n",
    "    BS_startIndex=BS_startIndex+336\n",
    "    BS_endIndex=BS_endIndex+336\n",
    "    iterations=iterations+1\n",
    "pairBS.reset_index(inplace=True)\n",
    "pairBS.rename(columns={'train_sub':'sub'},inplace=True)\n",
    "#pairBS['Analysis']='Between'"
   ]
  },
  {
   "cell_type": "code",
   "execution_count": 2,
   "metadata": {},
   "outputs": [],
   "source": [
    "pairDS=pd.DataFrame()\n",
    "DS_startIndex=0\n",
    "DS_endIndex=168\n",
    "iterations=0\n",
    "while DS_endIndex<168001:\n",
    "    DS_iterat=permDS[DS_startIndex:DS_endIndex]\n",
    "    for task in taskList:\n",
    "        tmp=DS_iterat[(DS_iterat['task']==task)]\n",
    "        tmp_mu=tmp.groupby(['train_sub']).mean()\n",
    "        tmp_mu['task']=task\n",
    "        tmp_mu['iteration']=iterations\n",
    "        pairDS=pd.concat([pairDS,tmp_mu])\n",
    "    DS_startIndex=DS_startIndex+168\n",
    "    DS_endIndex=DS_endIndex+168\n",
    "    iterations=iterations+1\n",
    "pairDS.reset_index(inplace=True)\n",
    "pairDS.rename(columns={'train_sub':'sub'},inplace=True)\n",
    "#pairDS['Analysis']='Between'"
   ]
  },
  {
   "cell_type": "code",
   "execution_count": 3,
   "metadata": {},
   "outputs": [],
   "source": [
    "pairCV[\"iteration\"] = pairCV.groupby(['sub','task']).cumcount()"
   ]
  },
  {
   "cell_type": "code",
   "execution_count": 4,
   "metadata": {},
   "outputs": [],
   "source": [
    "iterations=0\n",
    "startIndex=0\n",
    "endIndex=48\n",
    "pairSS=pd.DataFrame()\n",
    "while endIndex<48001:\n",
    "    #iterating through each permutationt to recreate the previous plots\n",
    "    iterat_tmp=permSS[startIndex:endIndex]\n",
    "    iterat_tmp['iteration']=iterations\n",
    "    startIndex=startIndex+48\n",
    "    endIndex=endIndex+48\n",
    "    iterations=iterations+1\n",
    "    pairSS=pd.concat([pairSS, iterat_tmp])\n",
    "pairSS.reset_index(inplace=True)"
   ]
  },
  {
   "cell_type": "code",
   "execution_count": 6,
   "metadata": {},
   "outputs": [],
   "source": [
    "pairBS.to_csv(thisDir+'output/mL/results/ridge/permutation/BS/reformat_acc.csv',index=False)\n",
    "pairSS.to_csv(thisDir+'output/mL/results/ridge/permutation/SS/reformat_acc.csv',index=False)\n",
    "pairDS.to_csv(thisDir+'output/mL/results/ridge/permutation/DS/reformat_acc.csv',index=False)\n",
    "pairCV.to_csv(thisDir+'output/mL/results/ridge/permutation/CV/reformat_acc.csv',index=False)\n"
   ]
  },
  {
   "cell_type": "code",
   "execution_count": 13,
   "metadata": {},
   "outputs": [],
   "source": [
    "#fix CV file names\n",
    "\"\"\"\n",
    "motor=permCV[['task.1','acc.1','sub.1']]\n",
    "mem=permCV[['task.2','acc.2','sub.2']]\n",
    "mix=permCV[['task','acc','sub']]\n",
    "\n",
    "motor.rename(columns={'task.1':'task', 'acc.1':'acc','sub.1':'sub'},inplace=True)\n",
    "mem.rename(columns={'task.2':'task', 'acc.2':'acc','sub.2':'sub'},inplace=True)\n",
    "\n",
    "p_CV=pd.concat([mix,mem,motor])\n",
    "p_CV.to_csv(thisDir+'output/mL/results/ridge/permutation/CV/acc.csv', index=False)\n",
    "\"\"\""
   ]
  },
  {
   "cell_type": "code",
   "execution_count": 48,
   "metadata": {},
   "outputs": [],
   "source": [
    "same_task= pairCV.merge(pairDS,how='left',on=['iteration','sub','task'],suffixes=('','R'))\n",
    "same_task['acc_diff'] = same_task.acc - same_task.accR.fillna(0)"
   ]
  },
  {
   "cell_type": "code",
   "execution_count": 49,
   "metadata": {},
   "outputs": [],
   "source": [
    "diff_task= pairSS.merge(pairBS,how='left',on=['iteration', 'train_task','test_task','sub'],suffixes=('','R'))\n",
    "diff_task['acc_diff'] = diff_task.acc - diff_task.accR.fillna(0)"
   ]
  },
  {
   "cell_type": "code",
   "execution_count": 51,
   "metadata": {},
   "outputs": [],
   "source": [
    "same_task.to_csv(thisDir+'output/mL/results/ridge/permutation/same_task.csv',index=False)\n",
    "diff_task.to_csv(thisDir+'output/mL/results/ridge/permutation/diff_task.csv',index=False)"
   ]
  },
  {
   "cell_type": "code",
   "execution_count": 7,
   "metadata": {},
   "outputs": [],
   "source": [
    "#no generate difference from your results\n",
    "\n",
    "#all packages and dataframes\n",
    "import numpy as np\n",
    "import classification\n",
    "import os\n",
    "import sys\n",
    "import pandas as pd\n",
    "import seaborn as sns\n",
    "import matplotlib.pyplot as plt\n",
    "import matplotlib.gridspec as gridspec\n",
    "import ptitprince as pt\n",
    "from matplotlib import colors as mcolors\n",
    "%matplotlib inline\n",
    "# Initialization of directory information:\n",
    "thisDir = os.path.expanduser('~/Desktop/MSC_Alexis/analysis/')\n",
    "restDir=thisDir+'data/mvpa_data/rest/'\n",
    "outDir = thisDir + 'output/mL/results/ridge/acc/'\n",
    "subDir=thisDir+'output/subNetwork/'\n",
    "randDir=thisDir+'output/randomIdx/'\n",
    "Parcel_params = classification.loadParcelParams('Gordon333',thisDir+'data/Parcel_info/')\n",
    "subList=['MSC01','MSC02','MSC03','MSC04','MSC05','MSC06','MSC07','MSC10']\n",
    "taskList=['mem','mixed','motor']\n",
    "netList=['unassign','default', 'visual','fp','dan','van','salience','co','sm','sm-lat', 'auditory','pmn','pon']\n",
    "feature=[14808,10824,8736, 4620,5264,3151, 484, 4060, 2375,316, 564,45,21]\n",
    "netRoi=dict([('unassign',14808),('default', 10824),('visual',8736),('fp', 4620),('dan',5264),('van',3151),('salience', 484),('co', 4060),('sm', 2375),('sm-lat', 316),('auditory', 564),('pmn',45),('pon',21)])\n",
    "sns.set_style(\"white\")\n",
    "sns.set_context(\"talk\")\n",
    "# Gordan Palette\n",
    "enmax_palette = Parcel_params['net_colors']\n",
    "color_codes_wanted = Parcel_params['networks']\n",
    "cdict = dict(zip(color_codes_wanted, [mcolors.to_rgba(c) for c in enmax_palette]))\n",
    "mcolors.get_named_colors_mapping().update(cdict)\n",
    "\n",
    "\n",
    "\n",
    "#Visualizing change scores from within to between\n",
    "t_CV=pd.read_csv(outDir+'CV/acc.csv')\n",
    "t_DS=pd.read_csv(outDir+'DS/acc.csv', usecols=[1,2,3,4])\n",
    "pairCV=pd.melt(t_CV,id_vars=['sub'],value_vars=['mixed','motor','mem'], var_name='task', value_name='acc')\n",
    "pairDS=pd.DataFrame()\n",
    "for task in taskList:\n",
    "    tmp=t_DS[(t_DS['task']==task)]\n",
    "    tmp_mu=tmp.groupby(['train_sub']).mean()\n",
    "    tmp_mu['task']=task\n",
    "    pairDS=pd.concat([pairDS,tmp_mu])\n",
    "pairDS.reset_index(inplace=True)\n",
    "pairDS.rename(columns={'train_sub':'sub'},inplace=True)\n",
    "\n",
    "\n",
    "\n",
    "\n",
    "#adding thinner lines to different task analysis figure\n",
    "pairSS=pd.read_csv(outDir+'SS/acc.csv',usecols=[1,2,3,4])\n",
    "t_BS=pd.read_csv(outDir+'BS/acc.csv',usecols=[1,2,3,4,5])\n",
    "\n",
    "pairBS=pd.DataFrame()\n",
    "for task in taskList:\n",
    "    for test_task in taskList:\n",
    "        if task==test_task:\n",
    "            continue\n",
    "        else:\n",
    "            tmp=t_BS[(t_BS.train_task==task)&(t_BS.test_task==test_task)]\n",
    "            tmp_mu=tmp.groupby(['train_sub']).mean()\n",
    "            tmp_mu['train_task']=task\n",
    "            tmp_mu['test_task']=test_task\n",
    "            pairBS=pd.concat([pairBS,tmp_mu])\n",
    "pairBS.reset_index(inplace=True)\n",
    "pairBS.rename(columns={'train_sub':'sub'},inplace=True)\n",
    "\n",
    "pairCV.to_csv(thisDir+'output/mL/results/ridge/permutation/CV/real_reformat_acc.csv',index=False)\n",
    "pairSS.to_csv(thisDir+'output/mL/results/ridge/permutation/SS/real_reformat_acc.csv',index=False)\n",
    "pairDS.to_csv(thisDir+'output/mL/results/ridge/permutation/DS/real_reformat_acc.csv',index=False)\n",
    "pairBS.to_csv(thisDir+'output/mL/results/ridge/permutation/BS/real_reformat_acc.csv',index=False)"
   ]
  },
  {
   "cell_type": "code",
   "execution_count": 2,
   "metadata": {},
   "outputs": [],
   "source": [
    "same_task= pairCV.merge(pairDS,how='left',on=['sub','task'],suffixes=('','R'))\n",
    "same_task['acc_diff'] = same_task.acc - same_task.accR.fillna(0)\n",
    "\n",
    "diff_task= pairSS.merge(pairBS,how='left',on=['train_task','test_task','sub'],suffixes=('','R'))\n",
    "diff_task['acc_diff'] = diff_task.acc - diff_task.accR.fillna(0)\n",
    "\n",
    "same_task.to_csv(thisDir+'output/mL/results/ridge/permutation/real_same_task.csv',index=False)\n",
    "diff_task.to_csv(thisDir+'output/mL/results/ridge/permutation/real_diff_task.csv',index=False)"
   ]
  },
  {
   "cell_type": "code",
   "execution_count": null,
   "metadata": {},
   "outputs": [],
   "source": []
  },
  {
   "cell_type": "code",
   "execution_count": 1,
   "metadata": {},
   "outputs": [],
   "source": [
    "import pandas as pd \n",
    "import numpy as np\n",
    "import sys\n",
    "import os\n",
    "thisDir = os.path.expanduser('~/Desktop/MSC_Alexis/analysis/')\n",
    "\n",
    "SS=pd.read_csv(thisDir+'output/mL/results/ridge/acc/SS/acc.csv')\n",
    "BS=pd.read_csv(thisDir+'output/mL/results/ridge/acc/BS/acc.csv')\n",
    "\n",
    "BS.rename(columns={'train_sub':'sub'},inplace=True)"
   ]
  },
  {
   "cell_type": "code",
   "execution_count": 3,
   "metadata": {},
   "outputs": [],
   "source": [
    "diff_task= BS.merge(SS,how='left',on=['train_task','test_task','sub'],suffixes=('','_SS'))\n",
    "diff_task['diff'] =diff_task.acc_SS-diff_task.acc \n",
    "DT=diff_task[['train_task','test_task','diff']]"
   ]
  },
  {
   "cell_type": "code",
   "execution_count": 4,
   "metadata": {},
   "outputs": [],
   "source": [
    "diff=DT.groupby(['train_task','test_task']).mean()\n",
    "diff.reset_index(inplace=True)"
   ]
  },
  {
   "cell_type": "code",
   "execution_count": 6,
   "metadata": {},
   "outputs": [
    {
     "ename": "NameError",
     "evalue": "name 'outDir' is not defined",
     "output_type": "error",
     "traceback": [
      "\u001b[0;31m---------------------------------------------------------------------------\u001b[0m",
      "\u001b[0;31mNameError\u001b[0m                                 Traceback (most recent call last)",
      "\u001b[0;32m<ipython-input-6-baa6a02641a2>\u001b[0m in \u001b[0;36m<module>\u001b[0;34m\u001b[0m\n\u001b[1;32m      1\u001b[0m \u001b[0;32mimport\u001b[0m \u001b[0mpandas\u001b[0m \u001b[0;32mas\u001b[0m \u001b[0mpd\u001b[0m\u001b[0;34m\u001b[0m\u001b[0;34m\u001b[0m\u001b[0m\n\u001b[1;32m      2\u001b[0m \u001b[0;32mimport\u001b[0m \u001b[0mnumpy\u001b[0m \u001b[0;32mas\u001b[0m \u001b[0mnp\u001b[0m\u001b[0;34m\u001b[0m\u001b[0;34m\u001b[0m\u001b[0m\n\u001b[0;32m----> 3\u001b[0;31m \u001b[0mSS\u001b[0m\u001b[0;34m=\u001b[0m\u001b[0mpd\u001b[0m\u001b[0;34m.\u001b[0m\u001b[0mread_csv\u001b[0m\u001b[0;34m(\u001b[0m\u001b[0moutDir\u001b[0m\u001b[0;34m+\u001b[0m\u001b[0;34m'SS/acc.csv'\u001b[0m\u001b[0;34m)\u001b[0m\u001b[0;34m\u001b[0m\u001b[0;34m\u001b[0m\u001b[0m\n\u001b[0m\u001b[1;32m      4\u001b[0m \u001b[0mBS\u001b[0m\u001b[0;34m=\u001b[0m\u001b[0mpd\u001b[0m\u001b[0;34m.\u001b[0m\u001b[0mread_csv\u001b[0m\u001b[0;34m(\u001b[0m\u001b[0moutDir\u001b[0m\u001b[0;34m+\u001b[0m\u001b[0;34m'BS/acc.csv'\u001b[0m\u001b[0;34m)\u001b[0m\u001b[0;34m\u001b[0m\u001b[0;34m\u001b[0m\u001b[0m\n\u001b[1;32m      5\u001b[0m \u001b[0;31m#prepping BS and SS\u001b[0m\u001b[0;34m\u001b[0m\u001b[0;34m\u001b[0m\u001b[0;34m\u001b[0m\u001b[0m\n",
      "\u001b[0;31mNameError\u001b[0m: name 'outDir' is not defined"
     ]
    }
   ],
   "source": [
    "import pandas as pd\n",
    "import numpy as np\n",
    "SS=pd.read_csv(outDir+'SS/acc.csv')\n",
    "BS=pd.read_csv(outDir+'BS/acc.csv')\n",
    "#prepping BS and SS\n",
    "BS.rename(columns={'train_sub':'sub'},inplace=True)"
   ]
  },
  {
   "cell_type": "code",
   "execution_count": 34,
   "metadata": {},
   "outputs": [
    {
     "data": {
      "text/html": [
       "<div>\n",
       "<style scoped>\n",
       "    .dataframe tbody tr th:only-of-type {\n",
       "        vertical-align: middle;\n",
       "    }\n",
       "\n",
       "    .dataframe tbody tr th {\n",
       "        vertical-align: top;\n",
       "    }\n",
       "\n",
       "    .dataframe thead th {\n",
       "        text-align: right;\n",
       "    }\n",
       "</style>\n",
       "<table border=\"1\" class=\"dataframe\">\n",
       "  <thead>\n",
       "    <tr style=\"text-align: right;\">\n",
       "      <th></th>\n",
       "      <th>train_task</th>\n",
       "      <th>test_task</th>\n",
       "      <th>diff</th>\n",
       "    </tr>\n",
       "  </thead>\n",
       "  <tbody>\n",
       "    <tr>\n",
       "      <th>0</th>\n",
       "      <td>mem</td>\n",
       "      <td>mixed</td>\n",
       "      <td>0.031964</td>\n",
       "    </tr>\n",
       "    <tr>\n",
       "      <th>1</th>\n",
       "      <td>mem</td>\n",
       "      <td>motor</td>\n",
       "      <td>0.055179</td>\n",
       "    </tr>\n",
       "    <tr>\n",
       "      <th>2</th>\n",
       "      <td>mixed</td>\n",
       "      <td>mem</td>\n",
       "      <td>0.213036</td>\n",
       "    </tr>\n",
       "    <tr>\n",
       "      <th>3</th>\n",
       "      <td>mixed</td>\n",
       "      <td>motor</td>\n",
       "      <td>0.209375</td>\n",
       "    </tr>\n",
       "    <tr>\n",
       "      <th>4</th>\n",
       "      <td>motor</td>\n",
       "      <td>mem</td>\n",
       "      <td>0.012321</td>\n",
       "    </tr>\n",
       "    <tr>\n",
       "      <th>5</th>\n",
       "      <td>motor</td>\n",
       "      <td>mixed</td>\n",
       "      <td>-0.004107</td>\n",
       "    </tr>\n",
       "  </tbody>\n",
       "</table>\n",
       "</div>"
      ],
      "text/plain": [
       "  train_task test_task      diff\n",
       "0        mem     mixed  0.031964\n",
       "1        mem     motor  0.055179\n",
       "2      mixed       mem  0.213036\n",
       "3      mixed     motor  0.209375\n",
       "4      motor       mem  0.012321\n",
       "5      motor     mixed -0.004107"
      ]
     },
     "execution_count": 34,
     "metadata": {},
     "output_type": "execute_result"
    }
   ],
   "source": [
    "diff_task=SS.merge(BS,how='left',on=['train_task','test_task','sub'],suffixes=('','_BS'))"
   ]
  },
  {
   "cell_type": "code",
   "execution_count": null,
   "metadata": {},
   "outputs": [],
   "source": []
  }
 ],
 "metadata": {
  "kernelspec": {
   "display_name": "Python 3",
   "language": "python",
   "name": "python3"
  },
  "language_info": {
   "codemirror_mode": {
    "name": "ipython",
    "version": 3
   },
   "file_extension": ".py",
   "mimetype": "text/x-python",
   "name": "python",
   "nbconvert_exporter": "python",
   "pygments_lexer": "ipython3",
   "version": "3.7.6"
  }
 },
 "nbformat": 4,
 "nbformat_minor": 2
}
