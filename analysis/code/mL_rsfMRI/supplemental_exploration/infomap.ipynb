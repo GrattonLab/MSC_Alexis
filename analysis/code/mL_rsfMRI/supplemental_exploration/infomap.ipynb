{
 "cells": [
  {
   "cell_type": "code",
   "execution_count": 1,
   "metadata": {},
   "outputs": [
    {
     "name": "stdout",
     "output_type": "stream",
     "text": [
      "Building Infomap network from a NetworkX graph...\n",
      "Find communities with Infomap...\n",
      "Found 3 modules with codelength: 4.311792645801829\n",
      "Writing network figure to output/karate.png\n"
     ]
    },
    {
     "name": "stderr",
     "output_type": "stream",
     "text": [
      "/Applications/anaconda3/lib/python3.7/site-packages/networkx/drawing/nx_pylab.py:611: MatplotlibDeprecationWarning: isinstance(..., numbers.Number)\n",
      "  if cb.is_numlike(alpha):\n"
     ]
    }
   ],
   "source": [
    "\n",
    "import networkx as nx\n",
    "import matplotlib.pyplot as plt\n",
    "import matplotlib.colors as colors\n",
    "import pathlib\n",
    "\n",
    "import infomap\n",
    "\n",
    "\"\"\"\n",
    "Generate and draw a network with NetworkX, colored\n",
    "according to the community structure found by Infomap.\n",
    "\"\"\"\n",
    "\n",
    "\n",
    "def find_communities(G):\n",
    "    \"\"\"\n",
    "    Partition network with the Infomap algorithm.\n",
    "    Annotates nodes with 'community' id.\n",
    "    \"\"\"\n",
    "\n",
    "    im = infomap.Infomap(\"--two-level\")\n",
    "\n",
    "    print(\"Building Infomap network from a NetworkX graph...\")\n",
    "    for source, target in G.edges:\n",
    "        im.add_link(source, target)\n",
    "\n",
    "    print(\"Find communities with Infomap...\")\n",
    "    im.run()\n",
    "\n",
    "    print(f\"Found {im.num_top_modules} modules with codelength: {im.codelength}\")\n",
    "\n",
    "    communities = im.get_modules()\n",
    "    nx.set_node_attributes(G, communities, 'community')\n",
    "\n",
    "\n",
    "def draw_network(G):\n",
    "    # position map\n",
    "    pos = nx.spring_layout(G)\n",
    "    # community index\n",
    "    communities = [c - 1 for c in nx.get_node_attributes(G, 'community').values()]\n",
    "    num_communities = max(communities) + 1\n",
    "\n",
    "    # color map from http://colorbrewer2.org/\n",
    "    cmap_light = colors.ListedColormap(\n",
    "        ['#a6cee3', '#b2df8a', '#fb9a99', '#fdbf6f', '#cab2d6'], 'indexed', num_communities)\n",
    "    cmap_dark = colors.ListedColormap(\n",
    "        ['#1f78b4', '#33a02c', '#e31a1c', '#ff7f00', '#6a3d9a'], 'indexed', num_communities)\n",
    "\n",
    "    # edges\n",
    "    nx.draw_networkx_edges(G, pos)\n",
    "\n",
    "    # nodes\n",
    "    node_collection = nx.draw_networkx_nodes(\n",
    "        G, pos=pos, node_color=communities, cmap=cmap_light)\n",
    "\n",
    "    # set node border color to the darker shade\n",
    "    dark_colors = [cmap_dark(v) for v in communities]\n",
    "    node_collection.set_edgecolor(dark_colors)\n",
    "\n",
    "    # Print node labels separately instead\n",
    "    for n in G.nodes:\n",
    "        plt.annotate(n,\n",
    "                     xy=pos[n],\n",
    "                     textcoords='offset points',\n",
    "                     horizontalalignment='center',\n",
    "                     verticalalignment='center',\n",
    "                     xytext=[0, 2],\n",
    "                     color=cmap_dark(communities[n]))\n",
    "\n",
    "    plt.axis('off')\n",
    "    pathlib.Path(\"output\").mkdir(exist_ok=True)\n",
    "    print(\"Writing network figure to output/karate.png\")\n",
    "    plt.savefig(\"/Users/aporter1350/Desktop/karate.png\")\n",
    "    # plt.show()\n",
    "\n",
    "\n",
    "G = nx.karate_club_graph()\n",
    "\n",
    "find_communities(G)\n",
    "draw_network(G)\n",
    "\n"
   ]
  },
  {
   "cell_type": "code",
   "execution_count": 2,
   "metadata": {},
   "outputs": [
    {
     "data": {
      "text/plain": [
       "<networkx.classes.graph.Graph at 0x7ffde9306dd8>"
      ]
     },
     "execution_count": 2,
     "metadata": {},
     "output_type": "execute_result"
    }
   ],
   "source": [
    "G"
   ]
  },
  {
   "cell_type": "code",
   "execution_count": null,
   "metadata": {},
   "outputs": [],
   "source": []
  }
 ],
 "metadata": {
  "kernelspec": {
   "display_name": "Python 3",
   "language": "python",
   "name": "python3"
  },
  "language_info": {
   "codemirror_mode": {
    "name": "ipython",
    "version": 3
   },
   "file_extension": ".py",
   "mimetype": "text/x-python",
   "name": "python",
   "nbconvert_exporter": "python",
   "pygments_lexer": "ipython3",
   "version": "3.7.1"
  }
 },
 "nbformat": 4,
 "nbformat_minor": 2
}
