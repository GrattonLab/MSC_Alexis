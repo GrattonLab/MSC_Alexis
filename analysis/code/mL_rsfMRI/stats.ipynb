{
 "cells": [
  {
   "cell_type": "code",
   "execution_count": 41,
   "metadata": {},
   "outputs": [],
   "source": [
    "import sys\n",
    "import os\n",
    "from scipy import stats\n",
    "import pandas as pd\n",
    "import numpy as np\n",
    "import seaborn as sns\n",
    "thisDir = os.path.expanduser('~/Desktop/MSC_Alexis/analysis/')\n",
    "dataDir = thisDir + 'data/mvpa_data/'\n",
    "outDir = thisDir + 'output/mL/results/ridge/acc/'\n",
    "import results\n",
    "\n",
    "#SS\n",
    "SS=pd.read_csv(outDir+'SS/folds/allFolds.csv')\n",
    "BS=pd.read_csv(outDir+'BS/folds/allFolds.csv')\n",
    "\n",
    "\n",
    "#BS=pd.read_csv(outDir+'results/ridge/acc/BS/acc.csv', usecols=[1,2,3,4,5])\n",
    "\n",
    "#SS=pd.read_csv(outDir+'results/ridge/acc/SS/acc.csv', usecols=[1,2,3,4])\n",
    "\n",
    "#motor\n",
    "SS_motor=SS[SS.train=='motor'].acc.values\n",
    "BS_motor=BS[BS.train_task=='motor'].acc.values\n",
    "\n",
    "#mixed\n",
    "SS_mixed=SS[SS.train=='mixed'].acc.values\n",
    "BS_mixed=BS[BS.train_task=='mixed'].acc.values\n",
    "\n",
    "#memory\n",
    "SS_mem=SS[SS.train=='mem'].acc.values\n",
    "BS_mem=BS[BS.train_task=='mem'].acc.values\n"
   ]
  },
  {
   "cell_type": "code",
   "execution_count": 49,
   "metadata": {},
   "outputs": [
    {
     "data": {
      "text/plain": [
       "Ttest_indResult(statistic=0.4580957623050814, pvalue=0.6473239862027558)"
      ]
     },
     "execution_count": 49,
     "metadata": {},
     "output_type": "execute_result"
    }
   ],
   "source": [
    "stats.ttest_ind(SS_motor, BS_motor, equal_var = False)"
   ]
  },
  {
   "cell_type": "code",
   "execution_count": 50,
   "metadata": {},
   "outputs": [
    {
     "data": {
      "text/plain": [
       "Ttest_indResult(statistic=26.525862574829606, pvalue=4.157442036651116e-85)"
      ]
     },
     "execution_count": 50,
     "metadata": {},
     "output_type": "execute_result"
    }
   ],
   "source": [
    "stats.ttest_ind(SS_mixed, BS_mixed, equal_var = False)"
   ]
  },
  {
   "cell_type": "code",
   "execution_count": 51,
   "metadata": {},
   "outputs": [
    {
     "data": {
      "text/plain": [
       "Ttest_indResult(statistic=4.378975855773864, pvalue=1.8125319013851326e-05)"
      ]
     },
     "execution_count": 51,
     "metadata": {},
     "output_type": "execute_result"
    }
   ],
   "source": [
    "stats.ttest_ind(SS_mem, BS_mem, equal_var = False)"
   ]
  },
  {
   "cell_type": "code",
   "execution_count": 69,
   "metadata": {},
   "outputs": [],
   "source": [
    "#motor train, mem test\n",
    "SS_motorMem=SS[(SS['train']=='motor') & (SS['test']=='mem')].acc.values\n",
    "BS_motorMem=BS[(BS['train_task']=='motor') & (BS['test_task']=='mem')].acc.values\n",
    "#motor train mix test\n",
    "SS_motorMix=SS[(SS['train']=='motor') & (SS['test']=='mixed')].acc.values\n",
    "BS_motorMix=BS[(BS['train_task']=='motor') & (BS['test_task']=='mixed')].acc.values\n",
    "\n",
    "#mixed train, mem test\n",
    "SS_mixMem=SS[(SS['train']=='mixed') & (SS['test']=='mem')].acc.values\n",
    "BS_mixMem=BS[(BS['train_task']=='mixed') & (BS['test_task']=='mem')].acc.values\n",
    "#mixed train motor test\n",
    "SS_mixMotor=SS[(SS['train']=='mixed') & (SS['test']=='motor')].acc.values\n",
    "BS_mixMotor=BS[(BS['train_task']=='mixed') & (BS['test_task']=='motor')].acc.values\n",
    "\n",
    "#memory train, mix test\n",
    "SS_memMix=SS[(SS['train']=='mem') & (SS['test']=='mixed')].acc.values\n",
    "BS_memMix=BS[(BS['train_task']=='mem') & (BS['test_task']=='mixed')].acc.values\n",
    "#memory train motor test\n",
    "SS_memMotor=SS[(SS['train']=='mem') & (SS['test']=='motor')].acc.values\n",
    "BS_memMotor=BS[(BS['train_task']=='mem') & (BS['test_task']=='motor')].acc.values\n"
   ]
  },
  {
   "cell_type": "code",
   "execution_count": 75,
   "metadata": {},
   "outputs": [
    {
     "data": {
      "text/plain": [
       "Ttest_indResult(statistic=0.9487127757648736, pvalue=0.34477658986204773)"
      ]
     },
     "execution_count": 75,
     "metadata": {},
     "output_type": "execute_result"
    }
   ],
   "source": [
    "stats.ttest_ind(SS_motorMem, BS_motorMem, equal_var = False)\n"
   ]
  },
  {
   "cell_type": "code",
   "execution_count": 74,
   "metadata": {},
   "outputs": [
    {
     "data": {
      "text/plain": [
       "Ttest_indResult(statistic=-0.34990584198770214, pvalue=0.7270597682875242)"
      ]
     },
     "execution_count": 74,
     "metadata": {},
     "output_type": "execute_result"
    }
   ],
   "source": [
    "stats.ttest_ind(SS_motorMix, BS_motorMix, equal_var = False)"
   ]
  },
  {
   "cell_type": "code",
   "execution_count": 76,
   "metadata": {},
   "outputs": [
    {
     "data": {
      "text/plain": [
       "Ttest_indResult(statistic=19.82408262471779, pvalue=1.851419802044856e-48)"
      ]
     },
     "execution_count": 76,
     "metadata": {},
     "output_type": "execute_result"
    }
   ],
   "source": [
    "stats.ttest_ind(SS_mixMem, BS_mixMem, equal_var = False)"
   ]
  },
  {
   "cell_type": "code",
   "execution_count": 77,
   "metadata": {},
   "outputs": [
    {
     "data": {
      "text/plain": [
       "Ttest_indResult(statistic=17.791152999069528, pvalue=3.623471345430174e-39)"
      ]
     },
     "execution_count": 77,
     "metadata": {},
     "output_type": "execute_result"
    }
   ],
   "source": [
    "stats.ttest_ind(SS_mixMotor, BS_mixMotor, equal_var = False)"
   ]
  },
  {
   "cell_type": "code",
   "execution_count": 78,
   "metadata": {},
   "outputs": [
    {
     "data": {
      "text/plain": [
       "Ttest_indResult(statistic=2.4830770282481436, pvalue=0.014380103556397805)"
      ]
     },
     "execution_count": 78,
     "metadata": {},
     "output_type": "execute_result"
    }
   ],
   "source": [
    "stats.ttest_ind(SS_memMix, BS_memMix, equal_var = False)"
   ]
  },
  {
   "cell_type": "code",
   "execution_count": 79,
   "metadata": {},
   "outputs": [
    {
     "data": {
      "text/plain": [
       "Ttest_indResult(statistic=3.826524046275118, pvalue=0.00021511136616734808)"
      ]
     },
     "execution_count": 79,
     "metadata": {},
     "output_type": "execute_result"
    }
   ],
   "source": [
    "stats.ttest_ind(SS_memMotor, BS_memMotor, equal_var = False)"
   ]
  },
  {
   "cell_type": "code",
   "execution_count": 84,
   "metadata": {},
   "outputs": [
    {
     "data": {
      "text/plain": [
       "0.6201785714285714"
      ]
     },
     "execution_count": 84,
     "metadata": {},
     "output_type": "execute_result"
    }
   ],
   "source": [
    "SS_motorMem.mean()\n",
    "SS_motorMem.std()\n",
    "\n",
    "BS_motorMem.mean()\n",
    "#BS_motorMem.std()"
   ]
  },
  {
   "cell_type": "code",
   "execution_count": 94,
   "metadata": {},
   "outputs": [
    {
     "data": {
      "text/plain": [
       "0.11334644719547557"
      ]
     },
     "execution_count": 94,
     "metadata": {},
     "output_type": "execute_result"
    }
   ],
   "source": [
    "#SS_motorMix.mean()\n",
    "#SS_motorMix.std()\n",
    "\n",
    "#BS_motorMix.mean()\n",
    "BS_motorMix.std()"
   ]
  },
  {
   "cell_type": "code",
   "execution_count": 96,
   "metadata": {},
   "outputs": [
    {
     "data": {
      "text/plain": [
       "0.13605642961953812"
      ]
     },
     "execution_count": 96,
     "metadata": {},
     "output_type": "execute_result"
    }
   ],
   "source": [
    "#SS_memMotor.mean()\n",
    "#SS_memMotor.std()\n",
    "\n",
    "#BS_memMotor.mean()\n",
    "BS_memMotor.std()"
   ]
  },
  {
   "cell_type": "code",
   "execution_count": 100,
   "metadata": {},
   "outputs": [
    {
     "data": {
      "text/plain": [
       "0.13606718098919718"
      ]
     },
     "execution_count": 100,
     "metadata": {},
     "output_type": "execute_result"
    }
   ],
   "source": [
    "#SS_memMix.mean()\n",
    "#SS_memMix.std()\n",
    "\n",
    "#BS_memMix.mean()\n",
    "BS_memMix.std()"
   ]
  },
  {
   "cell_type": "code",
   "execution_count": 104,
   "metadata": {},
   "outputs": [
    {
     "data": {
      "text/plain": [
       "0.1559274988101973"
      ]
     },
     "execution_count": 104,
     "metadata": {},
     "output_type": "execute_result"
    }
   ],
   "source": [
    "#SS_mixMem.mean()\n",
    "#SS_mixMem.std()\n",
    "\n",
    "#BS_mixMem.mean()\n",
    "BS_mixMem.std()"
   ]
  },
  {
   "cell_type": "code",
   "execution_count": 108,
   "metadata": {},
   "outputs": [
    {
     "data": {
      "text/plain": [
       "0.1503079057064436"
      ]
     },
     "execution_count": 108,
     "metadata": {},
     "output_type": "execute_result"
    }
   ],
   "source": [
    "#SS_mixMotor.mean()\n",
    "#SS_mixMotor.std()\n",
    "\n",
    "#BS_mixMotor.mean()\n",
    "BS_mixMotor.std()"
   ]
  },
  {
   "cell_type": "code",
   "execution_count": null,
   "metadata": {},
   "outputs": [],
   "source": []
  }
 ],
 "metadata": {
  "kernelspec": {
   "display_name": "Python 3",
   "language": "python",
   "name": "python3"
  },
  "language_info": {
   "codemirror_mode": {
    "name": "ipython",
    "version": 3
   },
   "file_extension": ".py",
   "mimetype": "text/x-python",
   "name": "python",
   "nbconvert_exporter": "python",
   "pygments_lexer": "ipython3",
   "version": "3.7.1"
  }
 },
 "nbformat": 4,
 "nbformat_minor": 2
}
