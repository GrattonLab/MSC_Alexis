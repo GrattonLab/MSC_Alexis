{
 "cells": [
  {
   "cell_type": "code",
   "execution_count": 1,
   "metadata": {},
   "outputs": [],
   "source": [
    "import sys\n",
    "import os\n",
    "from scipy import stats\n",
    "import pandas as pd\n",
    "import numpy as np\n",
    "import seaborn as sns\n",
    "thisDir = os.path.expanduser('~/Desktop/MSC_Alexis/analysis/')\n",
    "dataDir = thisDir + 'data/mvpa_data/'\n",
    "outDir = thisDir + 'output/mL/results/ridge/acc/'\n",
    "\n",
    "#SS\n",
    "SS=pd.read_csv(outDir+'SS/folds/allFolds.csv')\n",
    "BS=pd.read_csv(outDir+'BS/folds/allFolds.csv')\n",
    "#motor\n",
    "SS_motor=SS[SS.train=='motor'].acc.values\n",
    "BS_motor=BS[BS.train_task=='motor'].acc.values\n",
    "\n",
    "#mixed\n",
    "SS_mixed=SS[SS.train=='mixed'].acc.values\n",
    "BS_mixed=BS[BS.train_task=='mixed'].acc.values\n",
    "\n",
    "#memory\n",
    "SS_mem=SS[SS.train=='mem'].acc.values\n",
    "BS_mem=BS[BS.train_task=='mem'].acc.values\n",
    "\n",
    "\n",
    "#DS\n",
    "DS=pd.read_csv(outDir+'DS/folds/allFolds.csv')\n",
    "#CV\n",
    "CV=pd.read_csv(outDir+'CV/reformedFolds.csv')\n",
    "#motor\n",
    "DS_motor=DS[DS.task=='Motor'].acc.values\n",
    "CV_motor=CV[CV.task=='Motor'].acc.values\n",
    "\n",
    "#mixed\n",
    "DS_mixed=DS[DS.task=='Mixed'].acc.values\n",
    "CV_mixed=CV[CV.task=='Mixed'].acc.values\n",
    "\n",
    "#memory\n",
    "DS_mem=DS[DS.task=='Memory'].acc.values\n",
    "CV_mem=CV[CV.task=='Memory'].acc.values\n",
    "\n",
    "\n"
   ]
  },
  {
   "cell_type": "code",
   "execution_count": 51,
   "metadata": {},
   "outputs": [
    {
     "data": {
      "text/plain": [
       "Ttest_indResult(statistic=4.378975855773864, pvalue=1.8125319013851326e-05)"
      ]
     },
     "execution_count": 51,
     "metadata": {},
     "output_type": "execute_result"
    }
   ],
   "source": [
    "stats.ttest_ind(SS_motor, BS_motor, equal_var = False)\n",
    "stats.ttest_ind(SS_mixed, BS_mixed, equal_var = False)\n",
    "stats.ttest_ind(SS_mem, BS_mem, equal_var = False)"
   ]
  },
  {
   "cell_type": "code",
   "execution_count": 32,
   "metadata": {},
   "outputs": [],
   "source": [
    "#motor train, mem test\n",
    "SS_motorMem=SS[(SS['train']=='motor') & (SS['test']=='mem')].acc.values\n",
    "BS_motorMem=BS[(BS['train_task']=='motor') & (BS['test_task']=='mem')].acc.values\n",
    "#motor train mix test\n",
    "SS_motorMix=SS[(SS['train']=='motor') & (SS['test']=='mixed')].acc.values\n",
    "BS_motorMix=BS[(BS['train_task']=='motor') & (BS['test_task']=='mixed')].acc.values\n",
    "\n",
    "#mixed train, mem test\n",
    "SS_mixMem=SS[(SS['train']=='mixed') & (SS['test']=='mem')].acc.values\n",
    "BS_mixMem=BS[(BS['train_task']=='mixed') & (BS['test_task']=='mem')].acc.values\n",
    "#mixed train motor test\n",
    "SS_mixMotor=SS[(SS['train']=='mixed') & (SS['test']=='motor')].acc.values\n",
    "BS_mixMotor=BS[(BS['train_task']=='mixed') & (BS['test_task']=='motor')].acc.values\n",
    "\n",
    "#memory train, mix test\n",
    "SS_memMix=SS[(SS['train']=='mem') & (SS['test']=='mixed')].acc.values\n",
    "BS_memMix=BS[(BS['train_task']=='mem') & (BS['test_task']=='mixed')].acc.values\n",
    "#memory train motor test\n",
    "SS_memMotor=SS[(SS['train']=='mem') & (SS['test']=='motor')].acc.values\n",
    "BS_memMotor=BS[(BS['train_task']=='mem') & (BS['test_task']=='motor')].acc.values\n"
   ]
  },
  {
   "cell_type": "code",
   "execution_count": 79,
   "metadata": {},
   "outputs": [
    {
     "data": {
      "text/plain": [
       "Ttest_indResult(statistic=3.826524046275118, pvalue=0.00021511136616734808)"
      ]
     },
     "execution_count": 79,
     "metadata": {},
     "output_type": "execute_result"
    }
   ],
   "source": [
    "stats.ttest_ind(SS_motorMem, BS_motorMem, equal_var = False)\n",
    "stats.ttest_ind(SS_motorMix, BS_motorMix, equal_var = False)\n",
    "stats.ttest_ind(SS_mixMem, BS_mixMem, equal_var = False)\n",
    "stats.ttest_ind(SS_mixMotor, BS_mixMotor, equal_var = False)\n",
    "stats.ttest_ind(SS_memMix, BS_memMix, equal_var = False)\n",
    "stats.ttest_ind(SS_memMotor, BS_memMotor, equal_var = False)"
   ]
  },
  {
   "cell_type": "code",
   "execution_count": 17,
   "metadata": {},
   "outputs": [
    {
     "data": {
      "text/plain": [
       "Ttest_indResult(statistic=-15.852835751851044, pvalue=2.1359668634679154e-26)"
      ]
     },
     "execution_count": 17,
     "metadata": {},
     "output_type": "execute_result"
    }
   ],
   "source": [
    "stats.ttest_ind(DS_motor, CV_motor, equal_var = False)\n",
    "\n",
    "stats.ttest_ind(DS_mixed, CV_mixed, equal_var = False)\n",
    "\n",
    "stats.ttest_ind(DS_mem, CV_mem, equal_var = False)"
   ]
  }
 ],
 "metadata": {
  "kernelspec": {
   "display_name": "Python 3",
   "language": "python",
   "name": "python3"
  },
  "language_info": {
   "codemirror_mode": {
    "name": "ipython",
    "version": 3
   },
   "file_extension": ".py",
   "mimetype": "text/x-python",
   "name": "python",
   "nbconvert_exporter": "python",
   "pygments_lexer": "ipython3",
   "version": "3.7.6"
  }
 },
 "nbformat": 4,
 "nbformat_minor": 2
}
