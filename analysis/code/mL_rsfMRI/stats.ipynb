{
 "cells": [
  {
   "cell_type": "code",
   "execution_count": 22,
   "metadata": {},
   "outputs": [],
   "source": [
    "import sys\n",
    "import os\n",
    "from scipy import stats\n",
    "import pandas as pd\n",
    "import numpy as np\n",
    "import seaborn as sns\n",
    "thisDir = os.path.expanduser('~/Desktop/MSC_Alexis/analysis/')\n",
    "dataDir = thisDir + 'data/mvpa_data/'\n",
    "outDir = thisDir + 'output/mL/results/ridge/acc/'\n",
    "import classification\n",
    "subDir=thisDir+'output/subNetwork/'\n",
    "randDir=thisDir+'output/randomIdx/results/ridge/acc/'\n",
    "netList=['unassign','default', 'visual','fp','dan','van','salience','co','sm','sm-lat', 'auditory','pmn','pon']\n",
    "feature=[14808,10824,8736, 4620,5264,3151, 484, 4060, 2375,316, 564,45,21]\n",
    "netRoi=dict([('unassign',14808),('default', 10824),('visual',8736),('fp', 4620),('dan',5264),('van',3151),('salience', 484),('co', 4060),('sm', 2375),('sm-lat', 316),('auditory', 564),('pmn',45),('pon',21)])\n",
    "\n",
    "#SS\n",
    "SS=pd.read_csv(outDir+'SS/folds/allFolds.csv')\n",
    "BS=pd.read_csv(outDir+'BS/folds/allFolds.csv')\n",
    "#motor\n",
    "SS_motor=SS[SS.train=='motor'].acc.values\n",
    "BS_motor=BS[BS.train_task=='motor'].acc.values\n",
    "\n",
    "#mixed\n",
    "SS_mixed=SS[SS.train=='mixed'].acc.values\n",
    "BS_mixed=BS[BS.train_task=='mixed'].acc.values\n",
    "\n",
    "#memory\n",
    "SS_mem=SS[SS.train=='mem'].acc.values\n",
    "BS_mem=BS[BS.train_task=='mem'].acc.values\n",
    "\n",
    "\n",
    "#DS\n",
    "DS=pd.read_csv(outDir+'DS/folds/allFolds.csv')\n",
    "#CV\n",
    "CV=pd.read_csv(outDir+'CV/reformedFolds.csv')\n",
    "#motor\n",
    "DS_motor=DS[DS.task=='Motor'].acc.values\n",
    "CV_motor=CV[CV.task=='Motor'].acc.values\n",
    "\n",
    "#mixed\n",
    "DS_mixed=DS[DS.task=='Mixed'].acc.values\n",
    "CV_mixed=CV[CV.task=='Mixed'].acc.values\n",
    "\n",
    "#memory\n",
    "DS_mem=DS[DS.task=='Memory'].acc.values\n",
    "CV_mem=CV[CV.task=='Memory'].acc.values\n",
    "\n",
    "\n",
    "\n",
    "\n",
    "\n",
    "\n",
    "#Random sampling and feature selection calculate z scores\n",
    "#subnetworks overlapped with random network sampling\n",
    "SS_nets=pd.DataFrame()\n",
    "DS_nets=pd.DataFrame()\n",
    "CV_nets=pd.DataFrame()\n",
    "BS_nets=pd.DataFrame()\n",
    "for i in netList:\n",
    "    tmpSS=pd.read_csv(subDir+i+'/results/ridge/acc/SS/acc.csv')\n",
    "    #tmpSS['Analysis']='ridge'\n",
    "    tmpSS['Network']=i\n",
    "    tmpSS['Features']=netRoi[i]\n",
    "    SS_nets=pd.concat([SS_nets,tmpSS])\n",
    "    \n",
    "    tmpDS=pd.read_csv(subDir+i+'/results/ridge/acc/DS/acc.csv')\n",
    "    tmpDS['Network']=i\n",
    "    tmpDS['Features']=netRoi[i]\n",
    "    DS_nets=pd.concat([DS_nets,tmpDS])\n",
    "    \n",
    "    tmpBS=pd.read_csv(subDir+i+'/results/ridge/acc/BS/acc.csv')\n",
    "    tmpBS['Network']=i\n",
    "    tmpBS['Features']=netRoi[i]\n",
    "    BS_nets=pd.concat([BS_nets,tmpBS])\n",
    "    \n",
    "    tmpCV=pd.read_csv(subDir+i+'/results/ridge/acc/CV/acc.csv')\n",
    "    tmpCV=tmpCV.melt(id_vars='sub', value_vars=['mixed', 'motor','mem'], var_name='Task', value_name='Accuracy')\n",
    "    tmpCV['Network']=i\n",
    "    tmpCV['Features']=netRoi[i]\n",
    "    CV_nets=pd.concat([CV_nets,tmpCV])\n",
    "    \n",
    "    \n",
    "SS_nets.drop(columns='Unnamed: 0', inplace=True)\n",
    "DS_nets.drop(columns='Unnamed: 0', inplace=True)\n",
    "BS_nets.drop(columns='Unnamed: 0', inplace=True)\n",
    "CV_nets.rename(columns={'Accuracy':'acc'},inplace=True)\n",
    "\n",
    "\n",
    "#netRoi\n",
    "SStotal=[]\n",
    "DStotal=[]\n",
    "CVtotal=[]\n",
    "BStotal=[]\n",
    "for i in netList:\n",
    "    #CV\n",
    "    CVtmp=CV_nets[(CV_nets['Network']==i)].acc.values\n",
    "    CVacc=CVtmp.mean()\n",
    "    CVtotal.append(CVacc)\n",
    "    #SS\n",
    "    SStmp=SS_nets[(SS_nets['Network']==i)].acc.values\n",
    "    SSacc=SStmp.mean()\n",
    "    SStotal.append(SSacc)\n",
    "    #DS\n",
    "    DStmp=DS_nets[(DS_nets['Network']==i)].acc.values\n",
    "    DSacc=DStmp.mean()\n",
    "    DStotal.append(DSacc)\n",
    "    #BS\n",
    "    BStmp=BS_nets[(BS_nets['Network']==i)].acc.values\n",
    "    BSacc=BStmp.mean()\n",
    "    BStotal.append(BSacc)\n",
    "\n",
    "CV_mu=pd.DataFrame({'Network':netList, 'Acc':CVtotal,'Features':feature})\n",
    "SS_mu=pd.DataFrame({'Network':netList, 'Acc':SStotal,'Features':feature})\n",
    "DS_mu=pd.DataFrame({'Network':netList, 'Acc':DStotal,'Features':feature})\n",
    "BS_mu=pd.DataFrame({'Network':netList, 'Acc':BStotal,'Features':feature})\n",
    "\n",
    "#random samples\n",
    "rand_CV=pd.read_csv(randDir+'CV/all.csv', usecols=[1,2,3])\n",
    "rand_SS=pd.read_csv(randDir+'SS/all.csv',usecols=[1,2,3,4,5])\n",
    "rand_DS=pd.read_csv(randDir+'DS/all.csv',usecols=[1,2,3,4,5])\n",
    "rand_BS=pd.read_csv(randDir+'BS/all.csv',usecols=[1,2,3,4,5,6])\n",
    "\n",
    "\n",
    "#zscore from the null model\n",
    "rand_CV_mu=rand_CV['Accuracy'].mean()\n",
    "rand_CV_sd=rand_CV['Accuracy'].std()\n",
    "\n",
    "rand_SS_mu=rand_SS['acc'].mean()\n",
    "rand_SS_sd=rand_SS['acc'].std()\n",
    "\n",
    "rand_DS_mu=rand_DS['acc'].mean()\n",
    "rand_DS_sd=rand_DS['acc'].std()\n",
    "\n",
    "rand_BS_mu=rand_BS['acc'].mean()\n",
    "rand_BS_sd=rand_BS['acc'].std()\n",
    "\n",
    "CV_mu['z_score']=CV_mu['Acc']-rand_CV_mu/(rand_CV_sd)\n",
    "SS_mu['z_score']=SS_mu['Acc']-rand_SS_mu/(rand_SS_sd)\n",
    "DS_mu['z_score']=DS_mu['Acc']-rand_DS_mu/(rand_DS_sd)\n",
    "BS_mu['z_score']=BS_mu['Acc']-rand_BS_mu/(rand_BS_sd)\n"
   ]
  },
  {
   "cell_type": "code",
   "execution_count": 51,
   "metadata": {},
   "outputs": [
    {
     "data": {
      "text/plain": [
       "Ttest_indResult(statistic=4.378975855773864, pvalue=1.8125319013851326e-05)"
      ]
     },
     "execution_count": 51,
     "metadata": {},
     "output_type": "execute_result"
    }
   ],
   "source": [
    "stats.ttest_ind(SS_motor, BS_motor, equal_var = False)\n",
    "\n",
    "stats.ttest_ind(SS_mixed, BS_mixed, equal_var = False)\n",
    "\n",
    "stats.ttest_ind(SS_mem, BS_mem, equal_var = False)"
   ]
  },
  {
   "cell_type": "code",
   "execution_count": 69,
   "metadata": {},
   "outputs": [],
   "source": [
    "#motor train, mem test\n",
    "SS_motorMem=SS[(SS['train']=='motor') & (SS['test']=='mem')].acc.values\n",
    "BS_motorMem=BS[(BS['train_task']=='motor') & (BS['test_task']=='mem')].acc.values\n",
    "#motor train mix test\n",
    "SS_motorMix=SS[(SS['train']=='motor') & (SS['test']=='mixed')].acc.values\n",
    "BS_motorMix=BS[(BS['train_task']=='motor') & (BS['test_task']=='mixed')].acc.values\n",
    "\n",
    "#mixed train, mem test\n",
    "SS_mixMem=SS[(SS['train']=='mixed') & (SS['test']=='mem')].acc.values\n",
    "BS_mixMem=BS[(BS['train_task']=='mixed') & (BS['test_task']=='mem')].acc.values\n",
    "#mixed train motor test\n",
    "SS_mixMotor=SS[(SS['train']=='mixed') & (SS['test']=='motor')].acc.values\n",
    "BS_mixMotor=BS[(BS['train_task']=='mixed') & (BS['test_task']=='motor')].acc.values\n",
    "\n",
    "#memory train, mix test\n",
    "SS_memMix=SS[(SS['train']=='mem') & (SS['test']=='mixed')].acc.values\n",
    "BS_memMix=BS[(BS['train_task']=='mem') & (BS['test_task']=='mixed')].acc.values\n",
    "#memory train motor test\n",
    "SS_memMotor=SS[(SS['train']=='mem') & (SS['test']=='motor')].acc.values\n",
    "BS_memMotor=BS[(BS['train_task']=='mem') & (BS['test_task']=='motor')].acc.values\n"
   ]
  },
  {
   "cell_type": "code",
   "execution_count": 75,
   "metadata": {},
   "outputs": [
    {
     "data": {
      "text/plain": [
       "Ttest_indResult(statistic=0.9487127757648736, pvalue=0.34477658986204773)"
      ]
     },
     "execution_count": 75,
     "metadata": {},
     "output_type": "execute_result"
    }
   ],
   "source": [
    "stats.ttest_ind(SS_motorMem, BS_motorMem, equal_var = False)\n"
   ]
  },
  {
   "cell_type": "code",
   "execution_count": 74,
   "metadata": {},
   "outputs": [
    {
     "data": {
      "text/plain": [
       "Ttest_indResult(statistic=-0.34990584198770214, pvalue=0.7270597682875242)"
      ]
     },
     "execution_count": 74,
     "metadata": {},
     "output_type": "execute_result"
    }
   ],
   "source": [
    "stats.ttest_ind(SS_motorMix, BS_motorMix, equal_var = False)"
   ]
  },
  {
   "cell_type": "code",
   "execution_count": 76,
   "metadata": {},
   "outputs": [
    {
     "data": {
      "text/plain": [
       "Ttest_indResult(statistic=19.82408262471779, pvalue=1.851419802044856e-48)"
      ]
     },
     "execution_count": 76,
     "metadata": {},
     "output_type": "execute_result"
    }
   ],
   "source": [
    "stats.ttest_ind(SS_mixMem, BS_mixMem, equal_var = False)"
   ]
  },
  {
   "cell_type": "code",
   "execution_count": 77,
   "metadata": {},
   "outputs": [
    {
     "data": {
      "text/plain": [
       "Ttest_indResult(statistic=17.791152999069528, pvalue=3.623471345430174e-39)"
      ]
     },
     "execution_count": 77,
     "metadata": {},
     "output_type": "execute_result"
    }
   ],
   "source": [
    "stats.ttest_ind(SS_mixMotor, BS_mixMotor, equal_var = False)"
   ]
  },
  {
   "cell_type": "code",
   "execution_count": 78,
   "metadata": {},
   "outputs": [
    {
     "data": {
      "text/plain": [
       "Ttest_indResult(statistic=2.4830770282481436, pvalue=0.014380103556397805)"
      ]
     },
     "execution_count": 78,
     "metadata": {},
     "output_type": "execute_result"
    }
   ],
   "source": [
    "stats.ttest_ind(SS_memMix, BS_memMix, equal_var = False)"
   ]
  },
  {
   "cell_type": "code",
   "execution_count": 79,
   "metadata": {},
   "outputs": [
    {
     "data": {
      "text/plain": [
       "Ttest_indResult(statistic=3.826524046275118, pvalue=0.00021511136616734808)"
      ]
     },
     "execution_count": 79,
     "metadata": {},
     "output_type": "execute_result"
    }
   ],
   "source": [
    "stats.ttest_ind(SS_memMotor, BS_memMotor, equal_var = False)"
   ]
  },
  {
   "cell_type": "code",
   "execution_count": 13,
   "metadata": {},
   "outputs": [],
   "source": [
    "motor=DS.loc[DS['task'] == 'Motor']\n",
    "mem=DS.loc[DS['task'] == 'Memory']\n",
    "mix=DS.loc[DS['task'] == 'Mixed']"
   ]
  },
  {
   "cell_type": "code",
   "execution_count": 20,
   "metadata": {},
   "outputs": [
    {
     "name": "stderr",
     "output_type": "stream",
     "text": [
      "/Applications/anaconda3/lib/python3.7/site-packages/pandas/core/frame.py:3697: SettingWithCopyWarning: \n",
      "A value is trying to be set on a copy of a slice from a DataFrame\n",
      "\n",
      "See the caveats in the documentation: http://pandas.pydata.org/pandas-docs/stable/indexing.html#indexing-view-versus-copy\n",
      "  errors=errors)\n"
     ]
    }
   ],
   "source": [
    "mix.set_index('test',inplace=True)\n",
    "mix.drop(columns='task',inplace=True)"
   ]
  },
  {
   "cell_type": "code",
   "execution_count": 25,
   "metadata": {},
   "outputs": [],
   "source": [
    "#mix.pivot_table(index='test',columns='train',values='acc')"
   ]
  },
  {
   "cell_type": "code",
   "execution_count": 15,
   "metadata": {},
   "outputs": [
    {
     "data": {
      "text/plain": [
       "Ttest_indResult(statistic=-18.00649888143028, pvalue=8.148435237572736e-30)"
      ]
     },
     "execution_count": 15,
     "metadata": {},
     "output_type": "execute_result"
    }
   ],
   "source": [
    "stats.ttest_ind(DS_motor, CV_motor, equal_var = False)"
   ]
  },
  {
   "cell_type": "code",
   "execution_count": 16,
   "metadata": {},
   "outputs": [
    {
     "data": {
      "text/plain": [
       "Ttest_indResult(statistic=-22.12612853158213, pvalue=1.0745318166522145e-35)"
      ]
     },
     "execution_count": 16,
     "metadata": {},
     "output_type": "execute_result"
    }
   ],
   "source": [
    "stats.ttest_ind(DS_mixed, CV_mixed, equal_var = False)"
   ]
  },
  {
   "cell_type": "code",
   "execution_count": 17,
   "metadata": {},
   "outputs": [
    {
     "data": {
      "text/plain": [
       "Ttest_indResult(statistic=-15.852835751851044, pvalue=2.1359668634679154e-26)"
      ]
     },
     "execution_count": 17,
     "metadata": {},
     "output_type": "execute_result"
    }
   ],
   "source": [
    "stats.ttest_ind(DS_mem, CV_mem, equal_var = False)"
   ]
  },
  {
   "cell_type": "code",
   "execution_count": 23,
   "metadata": {},
   "outputs": [],
   "source": [
    "CV_stats=pd.read_csv(outDir+'CV/stats.csv')\n",
    "DS_stats=pd.read_csv(outDir+'DS/stats.csv')"
   ]
  },
  {
   "cell_type": "code",
   "execution_count": null,
   "metadata": {},
   "outputs": [],
   "source": []
  }
 ],
 "metadata": {
  "kernelspec": {
   "display_name": "Python 3",
   "language": "python",
   "name": "python3"
  },
  "language_info": {
   "codemirror_mode": {
    "name": "ipython",
    "version": 3
   },
   "file_extension": ".py",
   "mimetype": "text/x-python",
   "name": "python",
   "nbconvert_exporter": "python",
   "pygments_lexer": "ipython3",
   "version": "3.7.1"
  }
 },
 "nbformat": 4,
 "nbformat_minor": 2
}
