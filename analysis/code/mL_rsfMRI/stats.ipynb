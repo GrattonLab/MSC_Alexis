{
 "cells": [
  {
   "cell_type": "code",
   "execution_count": 17,
   "metadata": {},
   "outputs": [],
   "source": [
    "import sys\n",
    "import os\n",
    "from scipy import stats\n",
    "import pandas as pd\n",
    "import numpy as np\n",
    "import seaborn as sns\n",
    "import random\n",
    "thisDir = os.path.expanduser('~/Desktop/MSC_Alexis/analysis/')\n",
    "dataDir = thisDir + 'data/mvpa_data/'\n",
    "outDir = thisDir + 'output/mL/results/ridge/acc/'\n",
    "import classification\n",
    "subDir=thisDir+'output/subNetwork/'\n",
    "randDir=thisDir+'output/randomIdx/results/ridge/acc/'\n",
    "netList=['unassign','default', 'visual','fp','dan','van','salience','co','sm','sm-lat', 'auditory','pmn','pon']\n",
    "feature=[14808,10824,8736, 4620,5264,3151, 484, 4060, 2375,316, 564,45,21]\n",
    "netRoi=dict([('unassign',14808),('default', 10824),('visual',8736),('fp', 4620),('dan',5264),('van',3151),('salience', 484),('co', 4060),('sm', 2375),('sm-lat', 316),('auditory', 564),('pmn',45),('pon',21)])\n",
    "\n",
    "#SS\n",
    "SS=pd.read_csv(outDir+'SS/folds/allFolds.csv')\n",
    "BS=pd.read_csv(outDir+'BS/folds/allFolds.csv')\n",
    "#motor\n",
    "SS_motor=SS[SS.train=='motor'].acc.values\n",
    "BS_motor=BS[BS.train_task=='motor'].acc.values\n",
    "\n",
    "#mixed\n",
    "SS_mixed=SS[SS.train=='mixed'].acc.values\n",
    "BS_mixed=BS[BS.train_task=='mixed'].acc.values\n",
    "\n",
    "#memory\n",
    "SS_mem=SS[SS.train=='mem'].acc.values\n",
    "BS_mem=BS[BS.train_task=='mem'].acc.values\n",
    "\n",
    "\n",
    "#DS\n",
    "DS=pd.read_csv(outDir+'DS/folds/allFolds.csv')\n",
    "#CV\n",
    "CV=pd.read_csv(outDir+'CV/reformedFolds.csv')\n",
    "#motor\n",
    "DS_motor=DS[DS.task=='Motor'].acc.values\n",
    "CV_motor=CV[CV.task=='Motor'].acc.values\n",
    "\n",
    "#mixed\n",
    "DS_mixed=DS[DS.task=='Mixed'].acc.values\n",
    "CV_mixed=CV[CV.task=='Mixed'].acc.values\n",
    "\n",
    "#memory\n",
    "DS_mem=DS[DS.task=='Memory'].acc.values\n",
    "CV_mem=CV[CV.task=='Memory'].acc.values\n",
    "\n",
    "\n",
    "\n",
    "\n",
    "\n",
    "\n",
    "#Random sampling and feature selection calculate z scores\n",
    "#subnetworks overlapped with random network sampling\n",
    "SS_nets=pd.DataFrame()\n",
    "DS_nets=pd.DataFrame()\n",
    "CV_nets=pd.DataFrame()\n",
    "BS_nets=pd.DataFrame()\n",
    "for i in netList:\n",
    "    tmpSS=pd.read_csv(subDir+i+'/results/ridge/acc/SS/acc.csv')\n",
    "    #tmpSS['Analysis']='ridge'\n",
    "    tmpSS['Network']=i\n",
    "    tmpSS['Features']=netRoi[i]\n",
    "    SS_nets=pd.concat([SS_nets,tmpSS])\n",
    "    \n",
    "    tmpDS=pd.read_csv(subDir+i+'/results/ridge/acc/DS/acc.csv')\n",
    "    tmpDS['Network']=i\n",
    "    tmpDS['Features']=netRoi[i]\n",
    "    DS_nets=pd.concat([DS_nets,tmpDS])\n",
    "    \n",
    "    tmpBS=pd.read_csv(subDir+i+'/results/ridge/acc/BS/acc.csv')\n",
    "    tmpBS['Network']=i\n",
    "    tmpBS['Features']=netRoi[i]\n",
    "    BS_nets=pd.concat([BS_nets,tmpBS])\n",
    "    \n",
    "    tmpCV=pd.read_csv(subDir+i+'/results/ridge/acc/CV/acc.csv')\n",
    "    tmpCV=tmpCV.melt(id_vars='sub', value_vars=['mixed', 'motor','mem'], var_name='Task', value_name='Accuracy')\n",
    "    tmpCV['Network']=i\n",
    "    tmpCV['Features']=netRoi[i]\n",
    "    CV_nets=pd.concat([CV_nets,tmpCV])\n",
    "    \n",
    "    \n",
    "SS_nets.drop(columns='Unnamed: 0', inplace=True)\n",
    "DS_nets.drop(columns='Unnamed: 0', inplace=True)\n",
    "BS_nets.drop(columns='Unnamed: 0', inplace=True)\n",
    "CV_nets.rename(columns={'Accuracy':'acc'},inplace=True)\n",
    "\n",
    "\n",
    "#netRoi\n",
    "SStotal=[]\n",
    "DStotal=[]\n",
    "CVtotal=[]\n",
    "BStotal=[]\n",
    "for i in netList:\n",
    "    #CV\n",
    "    CVtmp=CV_nets[(CV_nets['Network']==i)].acc.values\n",
    "    CVacc=CVtmp.mean()\n",
    "    CVtotal.append(CVacc)\n",
    "    #SS\n",
    "    SStmp=SS_nets[(SS_nets['Network']==i)].acc.values\n",
    "    SSacc=SStmp.mean()\n",
    "    SStotal.append(SSacc)\n",
    "    #DS\n",
    "    DStmp=DS_nets[(DS_nets['Network']==i)].acc.values\n",
    "    DSacc=DStmp.mean()\n",
    "    DStotal.append(DSacc)\n",
    "    #BS\n",
    "    BStmp=BS_nets[(BS_nets['Network']==i)].acc.values\n",
    "    BSacc=BStmp.mean()\n",
    "    BStotal.append(BSacc)\n",
    "\n",
    "CV_mu=pd.DataFrame({'Network':netList, 'Acc':CVtotal,'Features':feature})\n",
    "SS_mu=pd.DataFrame({'Network':netList, 'Acc':SStotal,'Features':feature})\n",
    "DS_mu=pd.DataFrame({'Network':netList, 'Acc':DStotal,'Features':feature})\n",
    "BS_mu=pd.DataFrame({'Network':netList, 'Acc':BStotal,'Features':feature})\n",
    "\n",
    "#random samples\n",
    "rand_CV=pd.read_csv(randDir+'CV/all.csv', usecols=[1,2,3])\n",
    "rand_SS=pd.read_csv(randDir+'SS/all.csv',usecols=[1,2,3,4,5])\n",
    "rand_DS=pd.read_csv(randDir+'DS/all.csv',usecols=[1,2,3,4,5])\n",
    "rand_BS=pd.read_csv(randDir+'BS/all.csv',usecols=[1,2,3,4,5,6])\n",
    "\n",
    "\n",
    "#zscore from the null model\n",
    "rand_CV_mu=rand_CV['Accuracy'].mean()\n",
    "rand_CV_sd=rand_CV['Accuracy'].std()\n",
    "\n",
    "rand_SS_mu=rand_SS['acc'].mean()\n",
    "rand_SS_sd=rand_SS['acc'].std()\n",
    "\n",
    "rand_DS_mu=rand_DS['acc'].mean()\n",
    "rand_DS_sd=rand_DS['acc'].std()\n",
    "\n",
    "rand_BS_mu=rand_BS['acc'].mean()\n",
    "rand_BS_sd=rand_BS['acc'].std()\n",
    "\n",
    "CV_mu['z_score']=CV_mu['Acc']-rand_CV_mu/(rand_CV_sd)\n",
    "SS_mu['z_score']=SS_mu['Acc']-rand_SS_mu/(rand_SS_sd)\n",
    "DS_mu['z_score']=DS_mu['Acc']-rand_DS_mu/(rand_DS_sd)\n",
    "BS_mu['z_score']=BS_mu['Acc']-rand_BS_mu/(rand_BS_sd)\n",
    "\n",
    "\n",
    "\n",
    "\n",
    "permSS=pd.read_csv(thisDir+'output/mL/results/ridge/permutation/SS/acc.csv')\n",
    "permCV=pd.read_csv(thisDir+'output/mL/results/ridge/permutation/CV/acc.csv')\n",
    "permDS=pd.read_csv(thisDir+'output/mL/results/ridge/permutation/DS/acc.csv')\n",
    "permBS=pd.read_csv(thisDir+'output/mL/results/ridge/permutation/BS/acc.csv')\n",
    "\n",
    "\n",
    "#motor\n",
    "perm_DS_motor=permDS[permDS.task=='motor'].acc.values\n",
    "perm_CV_motor=permCV.motor.values\n",
    "ps_DS_motor=np.random.choice(perm_DS_motor,8000)\n",
    "#mixed\n",
    "perm_DS_mixed=permDS[permDS.task=='mixed'].acc.values\n",
    "perm_CV_mixed=permCV.mixed.values\n",
    "ps_DS_mixed=np.random.choice(perm_DS_mixed,8000)\n",
    "#memory\n",
    "perm_DS_mem=permDS[permDS.task=='mem'].acc.values\n",
    "perm_CV_mem=permCV.mem.values\n",
    "ps_DS_mem=np.random.choice(perm_DS_mem,8000)\n",
    "\n",
    "\n",
    "#motor train, mem test\n",
    "permSS_motorMem=permSS[(permSS['train_task']=='motor') & (permSS['test_task']=='mem')].acc.values\n",
    "permBS_motorMem=permBS[(permBS['train_task']=='motor') & (permBS['test_task']=='mem')].acc.values\n",
    "#motor train mix test\n",
    "permSS_motorMix=permSS[(permSS['train_task']=='motor') & (permSS['test_task']=='mixed')].acc.values\n",
    "permBS_motorMix=permBS[(permBS['train_task']=='motor') & (permBS['test_task']=='mixed')].acc.values\n",
    "\n",
    "#mixed train, mem test\n",
    "permSS_mixMem=permSS[(permSS['train_task']=='mixed') & (permSS['test_task']=='mem')].acc.values\n",
    "permBS_mixMem=permBS[(permBS['train_task']=='mixed') & (permBS['test_task']=='mem')].acc.values\n",
    "#mixed train motor test\n",
    "permSS_mixMotor=permSS[(permSS['train_task']=='mixed') & (permSS['test_task']=='motor')].acc.values\n",
    "permBS_mixMotor=permBS[(permBS['train_task']=='mixed') & (permBS['test_task']=='motor')].acc.values\n",
    "\n",
    "#memory train, mix test\n",
    "permSS_memMix=permSS[(permSS['train_task']=='mem') & (permSS['test_task']=='mixed')].acc.values\n",
    "permBS_memMix=permBS[(permBS['train_task']=='mem') & (permBS['test_task']=='mixed')].acc.values\n",
    "#memory train motor test\n",
    "permSS_memMotor=permSS[(permSS['train_task']=='mem') & (permSS['test_task']=='motor')].acc.values\n",
    "permBS_memMotor=permBS[(permBS['train_task']=='mem') & (permBS['test_task']=='motor')].acc.values\n",
    "\n",
    "\n",
    "\n",
    "import random\n",
    "permBS_memMotor=np.random.choice(permBS_memMotor,8000)\n",
    "permBS_memMix=np.random.choice(permBS_memMix,8000)\n",
    "\n",
    "permBS_mixMotor=np.random.choice(permBS_mixMotor,8000)\n",
    "permBS_mixMem=np.random.choice(permBS_mixMem,8000)\n",
    "\n",
    "permBS_motorMem=np.random.choice(permBS_motorMem,8000)\n",
    "permBS_motorMix=np.random.choice(permBS_motorMix,8000)\n",
    "\n",
    "\n",
    "\n",
    "\n",
    "perm_DS_motor=np.random.choice(perm_DS_motor,8000)\n",
    "perm_DS_mem=np.random.choice(perm_DS_mem,8000)\n",
    "perm_DS_mixed=np.random.choice(perm_DS_mixed,8000)\n",
    "\n",
    "CV_stats=pd.read_csv(outDir+'CV/stats.csv')\n",
    "DS_stats=pd.read_csv(outDir+'DS/stats.csv')"
   ]
  },
  {
   "cell_type": "code",
   "execution_count": 51,
   "metadata": {},
   "outputs": [
    {
     "data": {
      "text/plain": [
       "Ttest_indResult(statistic=4.378975855773864, pvalue=1.8125319013851326e-05)"
      ]
     },
     "execution_count": 51,
     "metadata": {},
     "output_type": "execute_result"
    }
   ],
   "source": [
    "stats.ttest_ind(SS_motor, BS_motor, equal_var = False)\n",
    "\n",
    "stats.ttest_ind(SS_mixed, BS_mixed, equal_var = False)\n",
    "\n",
    "stats.ttest_ind(SS_mem, BS_mem, equal_var = False)"
   ]
  },
  {
   "cell_type": "code",
   "execution_count": 69,
   "metadata": {},
   "outputs": [],
   "source": [
    "#motor train, mem test\n",
    "SS_motorMem=SS[(SS['train']=='motor') & (SS['test']=='mem')].acc.values\n",
    "BS_motorMem=BS[(BS['train_task']=='motor') & (BS['test_task']=='mem')].acc.values\n",
    "#motor train mix test\n",
    "SS_motorMix=SS[(SS['train']=='motor') & (SS['test']=='mixed')].acc.values\n",
    "BS_motorMix=BS[(BS['train_task']=='motor') & (BS['test_task']=='mixed')].acc.values\n",
    "\n",
    "#mixed train, mem test\n",
    "SS_mixMem=SS[(SS['train']=='mixed') & (SS['test']=='mem')].acc.values\n",
    "BS_mixMem=BS[(BS['train_task']=='mixed') & (BS['test_task']=='mem')].acc.values\n",
    "#mixed train motor test\n",
    "SS_mixMotor=SS[(SS['train']=='mixed') & (SS['test']=='motor')].acc.values\n",
    "BS_mixMotor=BS[(BS['train_task']=='mixed') & (BS['test_task']=='motor')].acc.values\n",
    "\n",
    "#memory train, mix test\n",
    "SS_memMix=SS[(SS['train']=='mem') & (SS['test']=='mixed')].acc.values\n",
    "BS_memMix=BS[(BS['train_task']=='mem') & (BS['test_task']=='mixed')].acc.values\n",
    "#memory train motor test\n",
    "SS_memMotor=SS[(SS['train']=='mem') & (SS['test']=='motor')].acc.values\n",
    "BS_memMotor=BS[(BS['train_task']=='mem') & (BS['test_task']=='motor')].acc.values\n"
   ]
  },
  {
   "cell_type": "code",
   "execution_count": 79,
   "metadata": {},
   "outputs": [
    {
     "data": {
      "text/plain": [
       "Ttest_indResult(statistic=3.826524046275118, pvalue=0.00021511136616734808)"
      ]
     },
     "execution_count": 79,
     "metadata": {},
     "output_type": "execute_result"
    }
   ],
   "source": [
    "stats.ttest_ind(SS_motorMem, BS_motorMem, equal_var = False)\n",
    "\n",
    "stats.ttest_ind(SS_motorMix, BS_motorMix, equal_var = False)\n",
    "\n",
    "stats.ttest_ind(SS_mixMem, BS_mixMem, equal_var = False)\n",
    "\n",
    "stats.ttest_ind(SS_mixMotor, BS_mixMotor, equal_var = False)\n",
    "\n",
    "stats.ttest_ind(SS_memMix, BS_memMix, equal_var = False)\n",
    "\n",
    "stats.ttest_ind(SS_memMotor, BS_memMotor, equal_var = False)"
   ]
  },
  {
   "cell_type": "code",
   "execution_count": 17,
   "metadata": {},
   "outputs": [
    {
     "data": {
      "text/plain": [
       "Ttest_indResult(statistic=-15.852835751851044, pvalue=2.1359668634679154e-26)"
      ]
     },
     "execution_count": 17,
     "metadata": {},
     "output_type": "execute_result"
    }
   ],
   "source": [
    "stats.ttest_ind(DS_motor, CV_motor, equal_var = False)\n",
    "\n",
    "stats.ttest_ind(DS_mixed, CV_mixed, equal_var = False)\n",
    "\n",
    "stats.ttest_ind(DS_mem, CV_mem, equal_var = False)"
   ]
  },
  {
   "cell_type": "code",
   "execution_count": null,
   "metadata": {},
   "outputs": [],
   "source": [
    "#permutations"
   ]
  },
  {
   "cell_type": "code",
   "execution_count": 34,
   "metadata": {},
   "outputs": [
    {
     "data": {
      "text/plain": [
       "Ttest_indResult(statistic=-23.409450833212784, pvalue=5.11626062187751e-118)"
      ]
     },
     "execution_count": 34,
     "metadata": {},
     "output_type": "execute_result"
    }
   ],
   "source": [
    "stats.ttest_ind(perm_DS_motor, perm_CV_motor,equal_var=False)\n",
    "\n",
    "#stats.ttest_ind(perm_DS_mixed, perm_CV_mixed)\n",
    "\n",
    "#stats.ttest_ind(perm_DS_mem, perm_CV_mem)"
   ]
  },
  {
   "cell_type": "code",
   "execution_count": 33,
   "metadata": {},
   "outputs": [
    {
     "data": {
      "text/plain": [
       "0.12813060719437805"
      ]
     },
     "execution_count": 33,
     "metadata": {},
     "output_type": "execute_result"
    }
   ],
   "source": [
    "#perm_DS_mem.mean()\n",
    "#perm_DS_mem.std()\n",
    "\n",
    "#perm_DS_motor.mean()\n",
    "#perm_DS_motor.std()\n",
    "\n",
    "#perm_DS_mixed.mean()\n",
    "#perm_DS_mixed.std()\n",
    "\n",
    "#perm_CV_mem.mean()\n",
    "#perm_CV_mem.std()\n",
    "\n",
    "#perm_CV_motor.mean()\n",
    "#perm_CV_motor.std()\n",
    "\n",
    "#perm_CV_mixed.mean()\n",
    "#perm_CV_mixed.std()"
   ]
  },
  {
   "cell_type": "code",
   "execution_count": 41,
   "metadata": {},
   "outputs": [
    {
     "data": {
      "text/plain": [
       "Ttest_indResult(statistic=-0.004505608163070661, pvalue=0.9964051131511842)"
      ]
     },
     "execution_count": 41,
     "metadata": {},
     "output_type": "execute_result"
    }
   ],
   "source": [
    "#stats.ttest_ind(permSS_motorMem, permBS_motorMem)\n",
    "\n",
    "#stats.ttest_ind(permSS_motorMix, permBS_motorMix)\n",
    "\n",
    "#stats.ttest_ind(permSS_mixMem, permBS_mixMem)\n",
    "\n",
    "#stats.ttest_ind(permSS_mixMotor, permBS_mixMotor)\n",
    "\n",
    "#stats.ttest_ind(permSS_memMix, permBS_memMix)\n",
    "\n",
    "#stats.ttest_ind(permSS_memMotor, permBS_memMotor)\n"
   ]
  },
  {
   "cell_type": "code",
   "execution_count": 53,
   "metadata": {},
   "outputs": [
    {
     "data": {
      "text/plain": [
       "0.4990675"
      ]
     },
     "execution_count": 53,
     "metadata": {},
     "output_type": "execute_result"
    }
   ],
   "source": [
    "#permSS_motorMem.mean()\n",
    "#permBS_motorMem.mean()\n",
    "\n",
    "#permSS_motorMix.mean()\n",
    "#permBS_motorMix.mean()\n",
    "\n",
    "#permSS_memMix.mean()\n",
    "#permBS_memMix.mean()\n",
    "\n",
    "#permSS_memMotor.mean()\n",
    "#permBS_memMotor.mean()\n",
    "\n",
    "#permSS_mixMem.mean()\n",
    "#permBS_mixMem.mean()\n",
    "\n",
    "#permSS_mixMotor.mean()\n",
    "permBS_mixMotor.mean()\n",
    "\n",
    "\n"
   ]
  },
  {
   "cell_type": "code",
   "execution_count": 65,
   "metadata": {},
   "outputs": [
    {
     "data": {
      "text/plain": [
       "0.03906521438569101"
      ]
     },
     "execution_count": 65,
     "metadata": {},
     "output_type": "execute_result"
    }
   ],
   "source": [
    "#permSS_motorMem.std()\n",
    "#permBS_motorMem.std()\n",
    "\n",
    "#permSS_motorMix.std()\n",
    "#permBS_motorMix.std()\n",
    "\n",
    "#permSS_memMix.std()\n",
    "#permBS_memMix.std()\n",
    "\n",
    "#permSS_memMotor.std()\n",
    "#permBS_memMotor.std()\n",
    "\n",
    "#permSS_mixMotor.std()\n",
    "#permBS_mixMotor.std()\n",
    "\n",
    "#permSS_mixMem.std()\n",
    "permBS_mixMem.std()\n",
    "\n",
    "\n",
    "\n"
   ]
  },
  {
   "cell_type": "code",
   "execution_count": null,
   "metadata": {},
   "outputs": [],
   "source": []
  }
 ],
 "metadata": {
  "kernelspec": {
   "display_name": "Python 3",
   "language": "python",
   "name": "python3"
  },
  "language_info": {
   "codemirror_mode": {
    "name": "ipython",
    "version": 3
   },
   "file_extension": ".py",
   "mimetype": "text/x-python",
   "name": "python",
   "nbconvert_exporter": "python",
   "pygments_lexer": "ipython3",
   "version": "3.7.1"
  }
 },
 "nbformat": 4,
 "nbformat_minor": 2
}
