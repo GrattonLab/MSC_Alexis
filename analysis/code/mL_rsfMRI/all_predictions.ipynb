{
 "cells": [
  {
   "cell_type": "code",
   "execution_count": 1,
   "metadata": {},
   "outputs": [
    {
     "name": "stdout",
     "output_type": "stream",
     "text": [
      "Execution time:  247.58541893959045\n"
     ]
    }
   ],
   "source": [
    "import time\n",
    "import classify\n",
    "analysisList=['DS', 'SS', 'BS']#,'CV']\n",
    "classifierList=['SVC', 'logReg','ridge']\n",
    "start=time.time()\n",
    "#for classifier in classifierList:\n",
    "for analysis in analysisList:\n",
    "    #print('Now running analysis '+classifier+' with analysis type '+analysis)\n",
    "    classify.run_prediction('ridge', analysis)\n",
    "        \n",
    "end=time.time()\n",
    "print(\"Execution time: \",end-start)"
   ]
  },
  {
   "cell_type": "code",
   "execution_count": 1,
   "metadata": {},
   "outputs": [],
   "source": [
    "import results\n",
    "import classify\n",
    "classify.run_prediction('ridge', 'BS')\n",
    "#results.ds_boxplot()\n",
    "#results.bs_boxplot()\n",
    "#results.ss_boxplot()\n",
    "#results.cv_modelComp()"
   ]
  },
  {
   "cell_type": "code",
   "execution_count": null,
   "metadata": {},
   "outputs": [],
   "source": []
  }
 ],
 "metadata": {
  "kernelspec": {
   "display_name": "Python 3",
   "language": "python",
   "name": "python3"
  },
  "language_info": {
   "codemirror_mode": {
    "name": "ipython",
    "version": 3
   },
   "file_extension": ".py",
   "mimetype": "text/x-python",
   "name": "python",
   "nbconvert_exporter": "python",
   "pygments_lexer": "ipython3",
   "version": "3.7.6"
  }
 },
 "nbformat": 4,
 "nbformat_minor": 4
}
