{
 "cells": [
  {
   "cell_type": "code",
   "execution_count": 1,
   "metadata": {},
   "outputs": [
    {
     "name": "stdout",
     "output_type": "stream",
     "text": [
      "Execution time:  247.58541893959045\n"
     ]
    }
   ],
   "source": [
    "import time\n",
    "import classification\n",
    "analysisList=['DS', 'SS', 'BS','CV']\n",
    "classifierList=['SVC', 'logReg','ridge']\n",
    "start=time.time()\n",
    "for classifier in classifierList:\n",
    "    print('Now running analysis '+classifier)\n",
    "    classification.classifyCV(classifier, 'CV')\n",
    "    classification.classifyDS(classifier, 'DS')\n",
    "    classification.classifySS(classifier, 'SS')\n",
    "    classification.classifyBS(classifier, 'BS')\n",
    "end=time.time()\n",
    "print(\"Execution time: \",end-start)"
   ]
  },
  {
   "cell_type": "code",
   "execution_count": 2,
   "metadata": {},
   "outputs": [
    {
     "name": "stdout",
     "output_type": "stream",
     "text": [
      "cross validation stats\n",
      "Finished CV\n",
      "diff sub stats\n",
      "Finished DS\n",
      "same sub stats\n",
      "Finished SS\n",
      "diff sub diff task stats\n",
      "Finished BS\n"
     ]
    },
    {
     "data": {
      "text/html": [
       "<div>\n",
       "<style scoped>\n",
       "    .dataframe tbody tr th:only-of-type {\n",
       "        vertical-align: middle;\n",
       "    }\n",
       "\n",
       "    .dataframe tbody tr th {\n",
       "        vertical-align: top;\n",
       "    }\n",
       "\n",
       "    .dataframe thead th {\n",
       "        text-align: right;\n",
       "    }\n",
       "</style>\n",
       "<table border=\"1\" class=\"dataframe\">\n",
       "  <thead>\n",
       "    <tr style=\"text-align: right;\">\n",
       "      <th></th>\n",
       "      <th>task</th>\n",
       "      <th>sub</th>\n",
       "      <th>acc</th>\n",
       "    </tr>\n",
       "  </thead>\n",
       "  <tbody>\n",
       "    <tr>\n",
       "      <th>0</th>\n",
       "      <td>Mixed</td>\n",
       "      <td>MSC01</td>\n",
       "      <td>0.5</td>\n",
       "    </tr>\n",
       "    <tr>\n",
       "      <th>1</th>\n",
       "      <td>Mixed</td>\n",
       "      <td>MSC01</td>\n",
       "      <td>1.0</td>\n",
       "    </tr>\n",
       "    <tr>\n",
       "      <th>2</th>\n",
       "      <td>Mixed</td>\n",
       "      <td>MSC01</td>\n",
       "      <td>1.0</td>\n",
       "    </tr>\n",
       "    <tr>\n",
       "      <th>3</th>\n",
       "      <td>Mixed</td>\n",
       "      <td>MSC01</td>\n",
       "      <td>1.0</td>\n",
       "    </tr>\n",
       "    <tr>\n",
       "      <th>4</th>\n",
       "      <td>Mixed</td>\n",
       "      <td>MSC01</td>\n",
       "      <td>1.0</td>\n",
       "    </tr>\n",
       "    <tr>\n",
       "      <th>...</th>\n",
       "      <td>...</td>\n",
       "      <td>...</td>\n",
       "      <td>...</td>\n",
       "    </tr>\n",
       "    <tr>\n",
       "      <th>235</th>\n",
       "      <td>Memory</td>\n",
       "      <td>MSC10</td>\n",
       "      <td>1.0</td>\n",
       "    </tr>\n",
       "    <tr>\n",
       "      <th>236</th>\n",
       "      <td>Memory</td>\n",
       "      <td>MSC10</td>\n",
       "      <td>1.0</td>\n",
       "    </tr>\n",
       "    <tr>\n",
       "      <th>237</th>\n",
       "      <td>Memory</td>\n",
       "      <td>MSC10</td>\n",
       "      <td>1.0</td>\n",
       "    </tr>\n",
       "    <tr>\n",
       "      <th>238</th>\n",
       "      <td>Memory</td>\n",
       "      <td>MSC10</td>\n",
       "      <td>1.0</td>\n",
       "    </tr>\n",
       "    <tr>\n",
       "      <th>239</th>\n",
       "      <td>Memory</td>\n",
       "      <td>MSC10</td>\n",
       "      <td>1.0</td>\n",
       "    </tr>\n",
       "  </tbody>\n",
       "</table>\n",
       "<p>240 rows × 3 columns</p>\n",
       "</div>"
      ],
      "text/plain": [
       "       task    sub  acc\n",
       "0     Mixed  MSC01  0.5\n",
       "1     Mixed  MSC01  1.0\n",
       "2     Mixed  MSC01  1.0\n",
       "3     Mixed  MSC01  1.0\n",
       "4     Mixed  MSC01  1.0\n",
       "..      ...    ...  ...\n",
       "235  Memory  MSC10  1.0\n",
       "236  Memory  MSC10  1.0\n",
       "237  Memory  MSC10  1.0\n",
       "238  Memory  MSC10  1.0\n",
       "239  Memory  MSC10  1.0\n",
       "\n",
       "[240 rows x 3 columns]"
      ]
     },
     "execution_count": 2,
     "metadata": {},
     "output_type": "execute_result"
    }
   ],
   "source": [
    "import classification\n",
    "classification.classifyCV('ridge', 'CV')\n",
    "print(\"Finished CV\")\n",
    "classification.classifyDS('ridge', 'DS')\n",
    "print(\"Finished DS\")\n",
    "classification.classifySS('ridge', 'SS')\n",
    "print(\"Finished SS\")\n",
    "classification.classifyBS('ridge', 'BS')\n",
    "print(\"Finished BS\")\n",
    "classification.cv_reshapeFolds('ridge')\n",
    "#classification.ds_boxplot()\n",
    "#classification.bs_boxplot()\n",
    "#classification.ss_boxplot()\n",
    "#classification.cv_modelComp()"
   ]
  },
  {
   "cell_type": "code",
   "execution_count": null,
   "metadata": {},
   "outputs": [],
   "source": []
  }
 ],
 "metadata": {
  "kernelspec": {
   "display_name": "Python 3",
   "language": "python",
   "name": "python3"
  },
  "language_info": {
   "codemirror_mode": {
    "name": "ipython",
    "version": 3
   },
   "file_extension": ".py",
   "mimetype": "text/x-python",
   "name": "python",
   "nbconvert_exporter": "python",
   "pygments_lexer": "ipython3",
   "version": "3.7.6"
  }
 },
 "nbformat": 4,
 "nbformat_minor": 4
}
