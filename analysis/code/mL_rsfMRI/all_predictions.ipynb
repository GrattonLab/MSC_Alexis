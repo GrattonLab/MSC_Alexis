{
 "cells": [
  {
   "cell_type": "code",
   "execution_count": 1,
   "metadata": {},
   "outputs": [
    {
     "name": "stdout",
     "output_type": "stream",
     "text": [
      "Execution time:  247.58541893959045\n"
     ]
    }
   ],
   "source": [
    "import time\n",
    "import classification\n",
    "analysisList=['DS', 'SS', 'BS','CV']\n",
    "classifierList=['SVC', 'logReg','ridge']\n",
    "start=time.time()\n",
    "for classifier in classifierList:\n",
    "    print('Now running analysis '+classifier)\n",
    "    classification.classifyCV(classifier, 'CV')\n",
    "    classification.classifyDS(classifier, 'DS')\n",
    "    classification.classifySS(classifier, 'SS')\n",
    "    classification.classifyBS(classifier, 'BS')\n",
    "end=time.time()\n",
    "print(\"Execution time: \",end-start)"
   ]
  },
  {
   "cell_type": "code",
   "execution_count": 1,
   "metadata": {},
   "outputs": [
    {
     "name": "stdout",
     "output_type": "stream",
     "text": [
      "Finished DS\n"
     ]
    }
   ],
   "source": [
    "import classification\n",
    "#classification.classifyCV('ridge', 'CV')\n",
    "#print(\"Finished CV\")\n",
    "classification.classifyDS('ridge', 'DS')\n",
    "print(\"Finished DS\")\n",
    "#classification.classifySS('ridge', 'SS')\n",
    "#print(\"Finished SS\")\n",
    "#classification.classifyBS('ridge', 'BS')\n",
    "#print(\"Finished BS\")\n",
    "#classification.cv_reshapeFolds('ridge')\n",
    "#classification.ds_boxplot()\n",
    "#classification.bs_boxplot()\n",
    "#classification.ss_boxplot()\n",
    "#classification.cv_modelComp()"
   ]
  },
  {
   "cell_type": "code",
   "execution_count": 13,
   "metadata": {},
   "outputs": [],
   "source": [
    "import pandas as pd\n",
    "import numpy as np\n",
    "import seaborn as sns\n",
    "import matplotlib.pyplot as plt\n",
    "import sys\n",
    "import os\n",
    "import classification\n",
    "thisDir = os.path.expanduser('~/Desktop/MSC_Alexis/analysis/')\n",
    "outDir = thisDir + 'output/mL_allTask/'\n",
    "DS=pd.read_csv(outDir+'results/ridge/acc/DS/acc.csv',usecols=[1,2,3,4])\n",
    "BS=pd.read_csv(outDir+'results/ridge/acc/BS/acc.csv',usecols=[1,2,3,4,5])\n",
    "SS=pd.read_csv(outDir+'results/ridge/acc/SS/acc.csv',usecols=[1,2,3,4])\n",
    "CV=pd.read_csv(outDir+'results/ridge/acc/CV/acc.csv')"
   ]
  },
  {
   "cell_type": "code",
   "execution_count": 16,
   "metadata": {},
   "outputs": [
    {
     "name": "stdout",
     "output_type": "stream",
     "text": [
      "diff sub stats\n"
     ]
    }
   ],
   "source": [
    "classification.statsACC(DS, 'ridge','DS')"
   ]
  },
  {
   "cell_type": "code",
   "execution_count": 17,
   "metadata": {},
   "outputs": [
    {
     "name": "stdout",
     "output_type": "stream",
     "text": [
      "diff sub diff task stats\n"
     ]
    }
   ],
   "source": [
    "classification.statsACC(BS, 'ridge','BS')"
   ]
  },
  {
   "cell_type": "code",
   "execution_count": 18,
   "metadata": {},
   "outputs": [
    {
     "name": "stdout",
     "output_type": "stream",
     "text": [
      "same sub stats\n"
     ]
    }
   ],
   "source": [
    "classification.statsACC(SS, 'ridge','SS')"
   ]
  },
  {
   "cell_type": "code",
   "execution_count": 19,
   "metadata": {},
   "outputs": [
    {
     "name": "stdout",
     "output_type": "stream",
     "text": [
      "cross validation stats\n"
     ]
    }
   ],
   "source": [
    "classification.statsACC(CV, 'ridge','CV')"
   ]
  },
  {
   "cell_type": "code",
   "execution_count": null,
   "metadata": {},
   "outputs": [],
   "source": []
  }
 ],
 "metadata": {
  "kernelspec": {
   "display_name": "Python 3",
   "language": "python",
   "name": "python3"
  },
  "language_info": {
   "codemirror_mode": {
    "name": "ipython",
    "version": 3
   },
   "file_extension": ".py",
   "mimetype": "text/x-python",
   "name": "python",
   "nbconvert_exporter": "python",
   "pygments_lexer": "ipython3",
   "version": "3.7.1"
  }
 },
 "nbformat": 4,
 "nbformat_minor": 4
}
