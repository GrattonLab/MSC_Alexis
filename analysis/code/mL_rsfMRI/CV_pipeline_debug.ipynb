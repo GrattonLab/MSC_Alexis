{
 "cells": [
  {
   "cell_type": "code",
   "execution_count": 10,
   "metadata": {},
   "outputs": [],
   "source": [
    "from sklearn.model_selection import LeaveOneOut\n",
    "from sklearn.model_selection import train_test_split\n",
    "from sklearn.svm import LinearSVC\n",
    "from sklearn.linear_model import LogisticRegression\n",
    "from sklearn.linear_model import RidgeClassifier\n",
    "from sklearn.linear_model import RidgeCV\n",
    "import numpy as np\n",
    "import os\n",
    "import sys\n",
    "import pandas as pd\n",
    "from sklearn.model_selection import cross_val_score\n",
    "from sklearn.model_selection import cross_validate\n",
    "from sklearn import metrics\n",
    "import itertools\n",
    "#import other python scripts for further anlaysis\n",
    "import reshape\n",
    "import plotFW\n",
    "import results\n",
    "# Initialization of directory information:\n",
    "thisDir = os.path.expanduser('~/Desktop/MSC_Alexis/analysis/')\n",
    "dataDir = thisDir + 'data/mvpa_data/'\n",
    "taskFC=reshape.matFiles(dataDir+'motor/MSC03_parcel_corrmat.mat')\n",
    "restFC=reshape.matFiles(dataDir+'rest/MSC03_parcel_corrmat.mat')\n",
    "\n",
    "taskSize=taskFC.shape[0]\n",
    "restSize=restFC.shape[0]\n",
    "t = np.ones(taskSize, dtype = int)\n",
    "r=np.zeros(restSize, dtype=int)\n",
    "#x_train, y_train=reshape.concateFC(taskFC, restFC)\n",
    "#clf=RidgeClassifier()\n",
    "clf=LinearSVC()\n",
    "\n",
    "test_taskFC=reshape.matFiles(dataDir+'motor/MSC04_parcel_corrmat.mat')\n",
    "test_restFC=reshape.matFiles(dataDir+'rest/MSC04_parcel_corrmat.mat')"
   ]
  },
  {
   "cell_type": "code",
   "execution_count": 19,
   "metadata": {},
   "outputs": [],
   "source": [
    "def CV_folds(clf, analysis, taskFC, restFC, test_taskFC, test_restFC):\n",
    "    loo = LeaveOneOut()\n",
    "    taskSize=taskFC.shape[0]\n",
    "    restSize=restFC.shape[0]\n",
    "    t = np.ones(taskSize, dtype = int)\n",
    "    r=np.zeros(restSize, dtype=int)\n",
    "    if analysis=='SS':\n",
    "        df=pd.DataFrame()\n",
    "        acc_score=[]\n",
    "        for train_index, test_index in loo.split(taskFC):\n",
    "            Xtrain_rest, Xtest_rest=restFC[train_index], restFC[test_index]\n",
    "            Xtrain_task=taskFC[train_index]\n",
    "            ytrain_rest=r[train_index]\n",
    "            ytrain_task=t[train_index]\n",
    "            X_tr=np.concatenate((Xtrain_task, Xtrain_rest))\n",
    "            y_tr = np.concatenate((ytrain_task,ytrain_rest))\n",
    "            clf.fit(X_tr,y_tr)\n",
    "            tmpdf=pd.DataFrame()\n",
    "            acc_scores_per_fold=[]\n",
    "            for t_index, te_index in loo.split(test_taskFC):\n",
    "                Xtest_task=test_taskFC[te_index]\n",
    "                X_Test = np.concatenate((Xtest_task, Xtest_rest))\n",
    "                y_Test = np.array([1, 0])\n",
    "                #test set\n",
    "                clf.predict(X_Test)\n",
    "                #Get accuracy of model\n",
    "                ACCscores=clf.score(X_Test,y_Test)\n",
    "                acc_scores_per_fold.append(ACCscores)\n",
    "            tmpdf['inner_fold']=acc_scores_per_fold\n",
    "            score=tmpdf['inner_fold'].mean()\n",
    "            acc_score.append(score)\n",
    "        df['outer_fold']=acc_score\n",
    "        total_score=df['outer_fold'].mean()\n",
    "    else:\n",
    "        df=pd.DataFrame()\n",
    "        acc_score=[]\n",
    "        #fold each training set\n",
    "        for train_index, test_index in loo.split(taskFC):\n",
    "            Xtrain_rest=restFC[train_index]\n",
    "            Xtrain_task=taskFC[train_index]\n",
    "            ytrain_rest=r[train_index]\n",
    "            ytrain_task=t[train_index]\n",
    "            X_tr=np.concatenate((Xtrain_task, Xtrain_rest))\n",
    "            y_tr = np.concatenate((ytrain_task,ytrain_rest))\n",
    "            clf.fit(X_tr,y_tr)\n",
    "            tmpdf=pd.DataFrame()\n",
    "            acc_scores_per_fold=[]\n",
    "            #fold each testing set\n",
    "            for t_index, te_index in loo.split(test_taskFC):\n",
    "                Xtest_rest=test_restFC[te_index]\n",
    "                Xtest_task=test_taskFC[te_index]\n",
    "                X_te=np.concatenate((Xtest_task, Xtest_rest))\n",
    "                y_te=np.array([1, 0])\n",
    "                #test set\n",
    "                clf.predict(X_te)\n",
    "                #Get accuracy of model\n",
    "                ACCscores=clf.score(X_te,y_te)\n",
    "                acc_scores_per_fold.append(ACCscores)\n",
    "            tmpdf['inner_fold']=acc_scores_per_fold\n",
    "            score=tmpdf['inner_fold'].mean()\n",
    "            acc_score.append(score)\n",
    "        df['outer_fold']=acc_score\n",
    "        total_score=df['outer_fold'].mean()\n",
    "\n",
    "    #return total_score\n",
    "    return acc_score"
   ]
  },
  {
   "cell_type": "code",
   "execution_count": 20,
   "metadata": {},
   "outputs": [],
   "source": [
    "df=CV_folds(clf,'DS', taskFC, restFC, test_taskFC, restFC)"
   ]
  },
  {
   "cell_type": "code",
   "execution_count": 11,
   "metadata": {},
   "outputs": [
    {
     "data": {
      "text/plain": [
       "(10, 55278)"
      ]
     },
     "execution_count": 11,
     "metadata": {},
     "output_type": "execute_result"
    }
   ],
   "source": [
    "test_taskFC.shape"
   ]
  },
  {
   "cell_type": "code",
   "execution_count": 12,
   "metadata": {},
   "outputs": [
    {
     "ename": "ValueError",
     "evalue": "a must be 1-dimensional",
     "output_type": "error",
     "traceback": [
      "\u001b[0;31m---------------------------------------------------------------------------\u001b[0m",
      "\u001b[0;31mValueError\u001b[0m                                Traceback (most recent call last)",
      "\u001b[0;32m<ipython-input-12-2e16b39025a9>\u001b[0m in \u001b[0;36m<module>\u001b[0;34m\u001b[0m\n\u001b[0;32m----> 1\u001b[0;31m \u001b[0mnp\u001b[0m\u001b[0;34m.\u001b[0m\u001b[0mrandom\u001b[0m\u001b[0;34m.\u001b[0m\u001b[0mchoice\u001b[0m\u001b[0;34m(\u001b[0m\u001b[0mtest_taskFC\u001b[0m\u001b[0;34m,\u001b[0m \u001b[0;36m3\u001b[0m\u001b[0;34m,\u001b[0m \u001b[0mreplace\u001b[0m\u001b[0;34m=\u001b[0m\u001b[0;32mFalse\u001b[0m\u001b[0;34m)\u001b[0m\u001b[0;34m\u001b[0m\u001b[0;34m\u001b[0m\u001b[0m\n\u001b[0m",
      "\u001b[0;32mmtrand.pyx\u001b[0m in \u001b[0;36mnumpy.random.mtrand.RandomState.choice\u001b[0;34m()\u001b[0m\n",
      "\u001b[0;31mValueError\u001b[0m: a must be 1-dimensional"
     ]
    }
   ],
   "source": [
    "np.random.choice(test_taskFC, 3, replace=False)"
   ]
  },
  {
   "cell_type": "code",
   "execution_count": 15,
   "metadata": {},
   "outputs": [],
   "source": []
  },
  {
   "cell_type": "code",
   "execution_count": 18,
   "metadata": {},
   "outputs": [
    {
     "data": {
      "text/plain": [
       "array([ 1.09763036, -0.01899441,  0.01650812, -0.25375739,  0.07873763,\n",
       "        0.09911291, -0.05544783, -0.41041462, -0.17094646,  0.01864297,\n",
       "        0.11709865,  0.14827267, -0.1182336 ,  0.42108816, -0.19530186,\n",
       "        0.13808115,  0.41946645,  0.17813812, -0.08705092, -0.04696185,\n",
       "        0.14127051, -0.31013964, -0.38706382, -0.27757083,  0.18355256,\n",
       "       -0.07263059,  0.02838136, -0.25368466,  0.28478869, -0.06630116,\n",
       "       -0.26838603,  0.29837717,  0.42838237,  0.30933027, -0.39342159,\n",
       "        0.32971424,  0.32961862, -0.04720519,  0.38405336, -0.05307149,\n",
       "       -0.38174899,  0.19352586, -0.21244758,  0.03245149,  0.04668725,\n",
       "        0.05758754, -0.14526185, -0.01285864,  0.21475169, -0.03652233,\n",
       "       -0.29098356, -0.03300232,  0.09595936,  0.05097642, -0.05901089,\n",
       "        0.09569546, -0.43641805,  0.11827181, -0.24769562,  0.08081717,\n",
       "        0.00196297,  0.16288282, -0.08205677,  0.0100271 ,  0.00338862,\n",
       "        0.09799865, -0.00223716,  0.08169544, -0.32873312, -0.00560433,\n",
       "       -0.00231759, -0.18550381, -0.19398244, -0.24582925,  0.1428077 ,\n",
       "        0.16006491,  0.06977584,  0.07033355,  0.19533249,  0.14256376,\n",
       "       -0.05326589,  0.20824527,  0.21978173,  0.14832311, -0.46962051,\n",
       "       -0.05266728,  0.9462844 ,  0.13831039, -0.15999514, -0.25221053,\n",
       "       -0.20493266, -0.04489529,  0.07064947,  0.1969983 , -0.02363636,\n",
       "       -0.30880037,  0.21219505,  0.32147332,  0.33412887, -0.02677196])"
      ]
     },
     "execution_count": 18,
     "metadata": {},
     "output_type": "execute_result"
    }
   ],
   "source": [
    "np.random.choice(k, 100, replace=False)"
   ]
  },
  {
   "cell_type": "code",
   "execution_count": 20,
   "metadata": {},
   "outputs": [],
   "source": [
    "foo=np.random.choice(test_taskFC[1], 100, replace=False)\n",
    "bar=np.random.choice(test_taskFC[2], 100, replace=False)"
   ]
  },
  {
   "cell_type": "code",
   "execution_count": 24,
   "metadata": {},
   "outputs": [],
   "source": [
    "dsNet=np.empty((10, 100))\n",
    "dsNet[0]=bar\n",
    "dsNet[1]=foo"
   ]
  },
  {
   "cell_type": "code",
   "execution_count": 28,
   "metadata": {},
   "outputs": [
    {
     "data": {
      "text/plain": [
       "(10, 100)"
      ]
     },
     "execution_count": 28,
     "metadata": {},
     "output_type": "execute_result"
    }
   ],
   "source": [
    "dsNet.shape"
   ]
  },
  {
   "cell_type": "code",
   "execution_count": 27,
   "metadata": {},
   "outputs": [
    {
     "data": {
      "text/plain": [
       "(100,)"
      ]
     },
     "execution_count": 27,
     "metadata": {},
     "output_type": "execute_result"
    }
   ],
   "source": [
    "foo.shape"
   ]
  },
  {
   "cell_type": "code",
   "execution_count": 46,
   "metadata": {},
   "outputs": [],
   "source": [
    "df=pd.DataFrame()\n",
    "nsess=10\n",
    "features=[100,500,1000,1500,2000,2500,3000,4000,5000,10000,15000,20000,30000,40000,50000]\n",
    "for feat in features:\n",
    "    featList=np.empty((10,feat))\n",
    "    for i in range(nsess):\n",
    "        f=np.random.choice(test_taskFC[i], feat, replace=False)\n",
    "        featList[i]=f\n",
    "    "
   ]
  },
  {
   "cell_type": "code",
   "execution_count": 38,
   "metadata": {},
   "outputs": [],
   "source": [
    "a=[1,2,3]\n",
    "b=[4,5,6]\n",
    "c=[7,8,9]\n",
    "d={100 :a}\n",
    "hello=pd.DataFrame(d)"
   ]
  },
  {
   "cell_type": "code",
   "execution_count": 47,
   "metadata": {},
   "outputs": [
    {
     "data": {
      "text/plain": [
       "(10, 50000)"
      ]
     },
     "execution_count": 47,
     "metadata": {},
     "output_type": "execute_result"
    }
   ],
   "source": [
    "featList.shape"
   ]
  },
  {
   "cell_type": "code",
   "execution_count": null,
   "metadata": {},
   "outputs": [],
   "source": []
  }
 ],
 "metadata": {
  "kernelspec": {
   "display_name": "Python 3",
   "language": "python",
   "name": "python3"
  },
  "language_info": {
   "codemirror_mode": {
    "name": "ipython",
    "version": 3
   },
   "file_extension": ".py",
   "mimetype": "text/x-python",
   "name": "python",
   "nbconvert_exporter": "python",
   "pygments_lexer": "ipython3",
   "version": "3.7.6"
  }
 },
 "nbformat": 4,
 "nbformat_minor": 2
}
