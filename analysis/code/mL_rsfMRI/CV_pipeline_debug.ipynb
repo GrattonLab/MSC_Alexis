{
 "cells": [
  {
   "cell_type": "code",
   "execution_count": 1,
   "metadata": {},
   "outputs": [],
   "source": [
    "from sklearn.model_selection import LeaveOneOut\n",
    "from sklearn.model_selection import train_test_split\n",
    "from sklearn.svm import LinearSVC\n",
    "from sklearn.linear_model import LogisticRegression\n",
    "from sklearn.linear_model import RidgeClassifier\n",
    "from sklearn.linear_model import RidgeCV\n",
    "import numpy as np\n",
    "import os\n",
    "import sys\n",
    "import pandas as pd\n",
    "from sklearn.model_selection import cross_val_score\n",
    "from sklearn.model_selection import cross_validate\n",
    "from sklearn import metrics\n",
    "import itertools\n",
    "#import other python scripts for further anlaysis\n",
    "import reshape\n",
    "import plotFW\n",
    "import results\n",
    "# Initialization of directory information:\n",
    "thisDir = os.path.expanduser('~/Desktop/MSC_Alexis/analysis/')\n",
    "dataDir = thisDir + 'data/mvpa_data/'\n",
    "taskFC=reshape.matFiles(dataDir+'motor/MSC03_parcel_corrmat.mat')\n",
    "restFC=reshape.matFiles(dataDir+'rest/MSC03_parcel_corrmat.mat')\n",
    "\n",
    "taskSize=taskFC.shape[0]\n",
    "restSize=restFC.shape[0]\n",
    "t = np.ones(taskSize, dtype = int)\n",
    "r=np.zeros(restSize, dtype=int)\n",
    "#x_train, y_train=reshape.concateFC(taskFC, restFC)\n",
    "#clf=RidgeClassifier()\n",
    "clf=LinearSVC()\n",
    "\n",
    "test_taskFC=reshape.matFiles(dataDir+'motor/MSC04_parcel_corrmat.mat')\n",
    "test_restFC=reshape.matFiles(dataDir+'rest/MSC04_parcel_corrmat.mat')"
   ]
  },
  {
   "cell_type": "code",
   "execution_count": 19,
   "metadata": {},
   "outputs": [],
   "source": [
    "def CV_folds(clf, analysis, taskFC, restFC, test_taskFC, test_restFC):\n",
    "    loo = LeaveOneOut()\n",
    "    taskSize=taskFC.shape[0]\n",
    "    restSize=restFC.shape[0]\n",
    "    t = np.ones(taskSize, dtype = int)\n",
    "    r=np.zeros(restSize, dtype=int)\n",
    "    if analysis=='SS':\n",
    "        df=pd.DataFrame()\n",
    "        acc_score=[]\n",
    "        for train_index, test_index in loo.split(taskFC):\n",
    "            Xtrain_rest, Xtest_rest=restFC[train_index], restFC[test_index]\n",
    "            Xtrain_task=taskFC[train_index]\n",
    "            ytrain_rest=r[train_index]\n",
    "            ytrain_task=t[train_index]\n",
    "            X_tr=np.concatenate((Xtrain_task, Xtrain_rest))\n",
    "            y_tr = np.concatenate((ytrain_task,ytrain_rest))\n",
    "            clf.fit(X_tr,y_tr)\n",
    "            tmpdf=pd.DataFrame()\n",
    "            acc_scores_per_fold=[]\n",
    "            for t_index, te_index in loo.split(test_taskFC):\n",
    "                Xtest_task=test_taskFC[te_index]\n",
    "                X_Test = np.concatenate((Xtest_task, Xtest_rest))\n",
    "                y_Test = np.array([1, 0])\n",
    "                #test set\n",
    "                clf.predict(X_Test)\n",
    "                #Get accuracy of model\n",
    "                ACCscores=clf.score(X_Test,y_Test)\n",
    "                acc_scores_per_fold.append(ACCscores)\n",
    "            tmpdf['inner_fold']=acc_scores_per_fold\n",
    "            score=tmpdf['inner_fold'].mean()\n",
    "            acc_score.append(score)\n",
    "        df['outer_fold']=acc_score\n",
    "        total_score=df['outer_fold'].mean()\n",
    "    else:\n",
    "        df=pd.DataFrame()\n",
    "        acc_score=[]\n",
    "        #fold each training set\n",
    "        for train_index, test_index in loo.split(taskFC):\n",
    "            Xtrain_rest=restFC[train_index]\n",
    "            Xtrain_task=taskFC[train_index]\n",
    "            ytrain_rest=r[train_index]\n",
    "            ytrain_task=t[train_index]\n",
    "            X_tr=np.concatenate((Xtrain_task, Xtrain_rest))\n",
    "            y_tr = np.concatenate((ytrain_task,ytrain_rest))\n",
    "            clf.fit(X_tr,y_tr)\n",
    "            tmpdf=pd.DataFrame()\n",
    "            acc_scores_per_fold=[]\n",
    "            #fold each testing set\n",
    "            for t_index, te_index in loo.split(test_taskFC):\n",
    "                Xtest_rest=test_restFC[te_index]\n",
    "                Xtest_task=test_taskFC[te_index]\n",
    "                X_te=np.concatenate((Xtest_task, Xtest_rest))\n",
    "                y_te=np.array([1, 0])\n",
    "                #test set\n",
    "                clf.predict(X_te)\n",
    "                #Get accuracy of model\n",
    "                ACCscores=clf.score(X_te,y_te)\n",
    "                acc_scores_per_fold.append(ACCscores)\n",
    "            tmpdf['inner_fold']=acc_scores_per_fold\n",
    "            score=tmpdf['inner_fold'].mean()\n",
    "            acc_score.append(score)\n",
    "        df['outer_fold']=acc_score\n",
    "        total_score=df['outer_fold'].mean()\n",
    "\n",
    "    #return total_score\n",
    "    return acc_score"
   ]
  },
  {
   "cell_type": "code",
   "execution_count": 20,
   "metadata": {},
   "outputs": [],
   "source": [
    "df=CV_folds(clf,'DS', taskFC, restFC, test_taskFC, restFC)"
   ]
  },
  {
   "cell_type": "code",
   "execution_count": 21,
   "metadata": {},
   "outputs": [
    {
     "data": {
      "text/plain": [
       "[0.95, 0.95, 0.95, 0.95, 0.95, 1.0, 0.95, 0.95, 0.95, 0.95]"
      ]
     },
     "execution_count": 21,
     "metadata": {},
     "output_type": "execute_result"
    }
   ],
   "source": [
    "df"
   ]
  },
  {
   "cell_type": "code",
   "execution_count": null,
   "metadata": {},
   "outputs": [],
   "source": []
  }
 ],
 "metadata": {
  "kernelspec": {
   "display_name": "Python 3",
   "language": "python",
   "name": "python3"
  },
  "language_info": {
   "codemirror_mode": {
    "name": "ipython",
    "version": 3
   },
   "file_extension": ".py",
   "mimetype": "text/x-python",
   "name": "python",
   "nbconvert_exporter": "python",
   "pygments_lexer": "ipython3",
   "version": "3.7.6"
  }
 },
 "nbformat": 4,
 "nbformat_minor": 2
}
