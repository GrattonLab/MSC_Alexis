{
 "cells": [
  {
   "cell_type": "code",
   "execution_count": 3,
   "metadata": {},
   "outputs": [],
   "source": [
    "#PCA test\n",
    "import masterClass\n",
    "import numpy as np\n",
    "taskFC, restFC,test_taskFC,test_restFC=masterClass.modelAll('MSC01','MSC02')\n",
    "\n",
    "\n",
    "taskSize=taskFC.shape[0]\n",
    "restSize=restFC.shape[0]\n",
    "t = np.ones(taskSize, dtype = int)\n",
    "r=np.zeros(restSize, dtype=int)\n",
    "\n",
    "\n",
    "test_taskSize=test_taskFC.shape[0]\n",
    "test_restSize=test_restFC.shape[0]\n",
    "test_t = np.ones(test_taskSize, dtype = int)\n",
    "test_r=np.zeros(test_restSize, dtype=int)\n"
   ]
  },
  {
   "cell_type": "code",
   "execution_count": 4,
   "metadata": {},
   "outputs": [],
   "source": [
    "X=np.concatenate((taskFC,restFC))\n",
    "y=np.concatenate((t,r))\n",
    "\n",
    "X_test=np.concatenate((test_taskFC,test_restFC))\n",
    "y_test=np.concatenate((test_t,test_r))"
   ]
  },
  {
   "cell_type": "code",
   "execution_count": 5,
   "metadata": {},
   "outputs": [
    {
     "data": {
      "text/plain": [
       "0.5375"
      ]
     },
     "execution_count": 5,
     "metadata": {},
     "output_type": "execute_result"
    }
   ],
   "source": [
    "from sklearn.preprocessing import StandardScaler #data scaling\n",
    "from sklearn import decomposition #PCA\n",
    "import pandas as pd\n",
    "scaler=StandardScaler()\n",
    "scaler.fit(X) #try out without scaling?\n",
    "X=scaler.transform(X)\n",
    "#based on marek paper used #components 50% variance explained\n",
    "#according to marek paper and standard ml paper you always fit to training\n",
    "#and transform on testing set for pca\n",
    "pca=decomposition.PCA(n_components=.5) #define number of components to use\n",
    "pca.fit(X)\n",
    "#transform to both training and test set\n",
    "X=pca.transform(X)\n",
    "X_test=pca.transform(X_test)\n",
    "from sklearn.linear_model import RidgeClassifier\n",
    "clf=RidgeClassifier()\n",
    "clf.fit(X,y)\n",
    "clf.predict(X_test)\n",
    "clf.score(X_test,y_test)"
   ]
  },
  {
   "cell_type": "code",
   "execution_count": 80,
   "metadata": {},
   "outputs": [],
   "source": [
    "scores=pca.transform(X) #compute and retrive score values"
   ]
  },
  {
   "cell_type": "code",
   "execution_count": 81,
   "metadata": {},
   "outputs": [],
   "source": [
    "scores_df=pd.DataFrame(scores)"
   ]
  },
  {
   "cell_type": "code",
   "execution_count": 62,
   "metadata": {},
   "outputs": [],
   "source": [
    "df_scores=pd.concat([scores_df,state],axis=1)"
   ]
  },
  {
   "cell_type": "code",
   "execution_count": 63,
   "metadata": {},
   "outputs": [],
   "source": [
    "loadings=pca.components_.T\n",
    "df_loadings=pd.DataFrame(loadings, columns=['PC1','PC2','PC3','PC4','PC5','PC6','PC7','PC8','PC9','PC10']) #information on all features ie ever region \n",
    "#to region connection\n"
   ]
  },
  {
   "cell_type": "code",
   "execution_count": 64,
   "metadata": {},
   "outputs": [
    {
     "data": {
      "text/plain": [
       "array([0.09485579, 0.05923002, 0.04649431, 0.03649158, 0.03296699,\n",
       "       0.02688707, 0.02314569, 0.02157544, 0.02021407, 0.01979714])"
      ]
     },
     "execution_count": 64,
     "metadata": {},
     "output_type": "execute_result"
    }
   ],
   "source": [
    "explained_variance=pca.explained_variance_ratio_\n",
    "explained_variance"
   ]
  },
  {
   "cell_type": "code",
   "execution_count": 82,
   "metadata": {},
   "outputs": [
    {
     "data": {
      "text/plain": [
       "array([0.081423  , 0.0565789 , 0.04509606, 0.0356427 , 0.0326186 ,\n",
       "       0.02622691, 0.02274979, 0.02146987, 0.02060004, 0.01981769,\n",
       "       0.01883996, 0.01777364, 0.01714704, 0.01662473, 0.01617737,\n",
       "       0.0158706 , 0.01558326, 0.01484515, 0.01416835, 0.01395501,\n",
       "       0.01361471, 0.01329246, 0.01282548, 0.01242045, 0.01218102,\n",
       "       0.01209849, 0.01177094, 0.01160129, 0.0112347 , 0.01109134,\n",
       "       0.01086471, 0.01066973, 0.01053579, 0.01032467, 0.01019142,\n",
       "       0.01007818, 0.00980009, 0.0096916 , 0.00955288, 0.00916416,\n",
       "       0.00899607, 0.00892084, 0.00878786, 0.00859045, 0.00853269,\n",
       "       0.00820755, 0.0081645 , 0.00814611, 0.00801314, 0.00782888,\n",
       "       0.00776785, 0.00762052, 0.00729145, 0.00727469, 0.007147  ,\n",
       "       0.0070975 , 0.00695979, 0.0066695 , 0.00656863, 0.00648695,\n",
       "       0.00643102, 0.0062665 , 0.00591206, 0.00583263, 0.00565486,\n",
       "       0.00560915, 0.00549405, 0.00538139, 0.00528408])"
      ]
     },
     "execution_count": 82,
     "metadata": {},
     "output_type": "execute_result"
    }
   ],
   "source": [
    "\n",
    "pca.explained_variance_ratio_"
   ]
  },
  {
   "cell_type": "code",
   "execution_count": 75,
   "metadata": {},
   "outputs": [
    {
     "data": {
      "text/plain": [
       "69"
      ]
     },
     "execution_count": 75,
     "metadata": {},
     "output_type": "execute_result"
    }
   ],
   "source": [
    "pca.n_components_"
   ]
  },
  {
   "cell_type": "code",
   "execution_count": 1,
   "metadata": {},
   "outputs": [],
   "source": [
    "import reshape\n",
    "df='/Users/Alexis/Desktop/MSC_Alexis/analysis/data/mvpa_data/mem/MSC01_parcel_corrmat.mat'\n",
    "df=reshape.permute_importance(df,'co')"
   ]
  },
  {
   "cell_type": "code",
   "execution_count": null,
   "metadata": {},
   "outputs": [],
   "source": []
  }
 ],
 "metadata": {
  "kernelspec": {
   "display_name": "Python 3",
   "language": "python",
   "name": "python3"
  },
  "language_info": {
   "codemirror_mode": {
    "name": "ipython",
    "version": 3
   },
   "file_extension": ".py",
   "mimetype": "text/x-python",
   "name": "python",
   "nbconvert_exporter": "python",
   "pygments_lexer": "ipython3",
   "version": "3.7.6"
  }
 },
 "nbformat": 4,
 "nbformat_minor": 4
}
