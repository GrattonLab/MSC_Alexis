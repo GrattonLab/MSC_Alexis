{
 "cells": [
  {
   "cell_type": "code",
   "execution_count": 1,
   "metadata": {},
   "outputs": [],
   "source": [
    "from sklearn.model_selection import train_test_split\n",
    "from sklearn.metrics import confusion_matrix\n",
    "from sklearn.model_selection import LeaveOneOut\n",
    "from sklearn.model_selection import KFold\n",
    "from sklearn.linear_model import RidgeClassifier\n",
    "from sklearn.svm import LinearSVC\n",
    "from sklearn.linear_model import LogisticRegression\n",
    "import numpy as np\n",
    "import os\n",
    "import sys\n",
    "import pandas as pd\n",
    "from sklearn.model_selection import cross_val_score\n",
    "from sklearn.model_selection import cross_val_predict\n",
    "import itertools\n",
    "from sklearn.preprocessing import StandardScaler #data scaling\n",
    "from sklearn import decomposition #PCA\n",
    "#import other python scripts for further anlaysis\n",
    "import reshape\n",
    "#import results\n",
    "import warnings\n",
    "warnings.filterwarnings(\"ignore\")\n",
    "\n",
    "\n",
    "import permuteROI\n",
    "train_sub, clf, memFC,semFC,glassFC,motFC, restFC=permuteROI.modelAll_byRow('MSC05')"
   ]
  },
  {
   "cell_type": "code",
   "execution_count": 2,
   "metadata": {},
   "outputs": [],
   "source": [
    "thisDir = os.path.expanduser('~/Desktop/MSC_Alexis/analysis/')\n",
    "refROI=pd.read_csv(thisDir+'output/results/permutation/ALL/ref_acc.csv') #for taking differece\n",
    "refROI.drop(columns=['diff_sub'],inplace=True)\n",
    "ref=refROI[refROI['train']==train_sub].same_sub.values\n",
    "ref_sub=ref[0] #use this to calculate difference\n",
    "results=np.empty((333))#store results to use for plotting take diff from ref_sub per row and store here\n",
    "kf = KFold(n_splits=5,shuffle=True)"
   ]
  },
  {
   "cell_type": "code",
   "execution_count": 3,
   "metadata": {},
   "outputs": [
    {
     "data": {
      "text/plain": [
       "0.9875"
      ]
     },
     "execution_count": 3,
     "metadata": {},
     "output_type": "execute_result"
    }
   ],
   "source": [
    "ref_sub"
   ]
  },
  {
   "cell_type": "code",
   "execution_count": 7,
   "metadata": {},
   "outputs": [],
   "source": [
    "def permuteIndices_byRow(Xtrain_task,Xtrain_rest,rowID):\n",
    "    \"\"\"\n",
    "    Permute rows of networks and switch tast and rest\n",
    "    Parameters\n",
    "    -----------\n",
    "    taskFC: numpy array\n",
    "        nsess x ROI\n",
    "    restFC: numpy array\n",
    "        nsess x ROI\n",
    "    network: str\n",
    "        particular network of interest\n",
    "    Returns\n",
    "    ------------\n",
    "    taskFC, restFC : Array of task and rest FC permuting specific rows\n",
    "    \"\"\"\n",
    "    XtrainNew_task=Xtrain_task.copy()\n",
    "    XtrainNew_rest=Xtrain_rest.copy()\n",
    "    indices=reshape.getIndices()\n",
    "    index=indices.index\n",
    "    condition=indices['level_1']==rowID\n",
    "    ROI=index[condition]\n",
    "    ROI_list=ROI.tolist()\n",
    "    tmpTask=XtrainNew_task[:,ROI_list]\n",
    "    tmpRest=XtrainNew_rest[:,ROI_list]\n",
    "    #permute values\n",
    "    tmpTask_permute=np.random.permutation(tmpTask)\n",
    "    tmpRest_permute=np.random.permutation(tmpRest)\n",
    "    #Now switch\n",
    "    XtrainNew_task[:,ROI_list]=tmpRest_permute #now we purposefully swap the permuted labels to the other task/rest FC\n",
    "    XtrainNew_rest[:,ROI_list]=tmpTask_permute\n",
    "    return XtrainNew_task, XtrainNew_rest"
   ]
  },
  {
   "cell_type": "code",
   "execution_count": 8,
   "metadata": {},
   "outputs": [],
   "source": [
    "#for rowID, null in enumerate(results):\n",
    "CVacc=[]\n",
    "df=pd.DataFrame()\n",
    "#fold each training set\n",
    "for train_index, test_index in kf.split(memFC):\n",
    "    memtrain, memval=memFC[train_index], memFC[test_index]\n",
    "    semtrain, semval=semFC[train_index], semFC[test_index]\n",
    "    mottrain, motval=motFC[train_index], motFC[test_index]\n",
    "    glatrain, glaval=glassFC[train_index], glassFC[test_index]\n",
    "    Xtrain_task=np.concatenate((memtrain,semtrain,mottrain,glatrain))\n",
    "    Xtrain_rest, Xval_rest=restFC[train_index,:,:], restFC[test_index,:,:]\n",
    "    Xval_task=np.concatenate((memval,semval,motval,glaval))\n",
    "    Xtrain_rest=np.reshape(Xtrain_rest,(-1,55278))\n",
    "    Xval_rest=np.reshape(Xval_rest,(-1,55278))\n",
    "    ytrain_task = np.ones(Xtrain_task.shape[0], dtype = int)\n",
    "    ytrain_rest=np.zeros(Xtrain_rest.shape[0], dtype=int)\n",
    "    yval_task = np.ones(Xval_task.shape[0], dtype = int)\n",
    "    yval_rest=np.zeros(Xval_rest.shape[0], dtype=int)\n",
    "    XtrainNew_task, XtrainNew_rest=permuteIndices_byRow(Xtrain_task,Xtrain_rest,0)#permute specific indices\n",
    "    X_tr=np.concatenate((XtrainNew_task, XtrainNew_rest))\n",
    "    X_val=np.concatenate((Xval_task, Xval_rest))\n",
    "    y_tr = np.concatenate((ytrain_task,ytrain_rest))\n",
    "    y_val=np.concatenate((yval_task, yval_rest))\n",
    "    clf.fit(X_tr,y_tr)\n",
    "    #cross validation\n",
    "    CV_score=clf.predict(X_val) \n",
    "    CVacc.append(CV_score)\n",
    "df['cv']=CVacc\n",
    "#Different sub outer acc\n",
    "same_sub_score=df['cv'].mean()\n",
    "#print(same_sub_score)\n",
    "diff=same_sub_score-ref_sub\n",
    "    #results[rowID]=diff"
   ]
  },
  {
   "cell_type": "code",
   "execution_count": 6,
   "metadata": {},
   "outputs": [
    {
     "data": {
      "text/plain": [
       "array([ 0.0125,  0.0125,  0.0125,  0.0125,  0.0125,  0.0125,  0.0125,\n",
       "        0.0125, -0.9875, -0.9875, -0.9875, -0.9875, -0.7875, -0.9875,\n",
       "       -0.9875, -0.9875])"
      ]
     },
     "execution_count": 6,
     "metadata": {},
     "output_type": "execute_result"
    }
   ],
   "source": [
    "diff"
   ]
  },
  {
   "cell_type": "code",
   "execution_count": 139,
   "metadata": {},
   "outputs": [],
   "source": [
    "taskFC=Xtrain_task.copy()\n",
    "restFC=Xtrain_rest.copy()\n",
    "indices=reshape.getIndices()\n",
    "index=indices.index\n",
    "condition=indices['level_1']==331\n",
    "ROI=index[condition]\n",
    "ROI_list=ROI.tolist()\n",
    "tmpTask=taskFC[:,ROI_list]\n",
    "tmpRest=restFC[:,ROI_list]\n",
    "#permute values\n",
    "tmpTask_permute=np.random.permutation(tmpTask)\n",
    "tmpRest_permute=np.random.permutation(tmpRest)\n",
    "#Now switch\n",
    "taskFC[:,ROI_list]=tmpRest_permute #now we purposefully swap the permuted labels to the other task/rest FC\n",
    "restFC[:,ROI_list]=tmpTask_permute"
   ]
  },
  {
   "cell_type": "code",
   "execution_count": 86,
   "metadata": {},
   "outputs": [],
   "source": [
    "import matlab.engine\n",
    "import scipy.io\n",
    "import pandas as pd\n",
    "import numpy as np\n",
    "import sys\n",
    "import os\n",
    "import matplotlib.pyplot as plt\n",
    "df='/Users/Alexis/Desktop/MSC_Alexis/analysis/data/mvpa_data/mem/MSC05_parcel_corrmat.mat' #temp file for getting indices\n",
    "fileFC=scipy.io.loadmat(df)\n",
    "fileFC=np.array(fileFC['parcel_corrmat'])\n",
    "fileFC=np.nan_to_num(fileFC)\n",
    "ds=fileFC[:,:,0]\n",
    "Parcel_params = reshape.loadParcelParams('Gordon333',thisDir+'data/Parcel_info/')\n",
    "roi_sort = np.squeeze(Parcel_params['roi_sort'])\n",
    "corrmat=ds[roi_sort,:][:,roi_sort]\n",
    "nrois=list(range(333))\n",
    "nets=[]\n",
    "position=0\n",
    "count=0\n",
    "networks=Parcel_params['networks']\n",
    "t=Parcel_params['transitions']\n",
    "#have to add extra value otherwise error\n",
    "transitions=np.append(t,333)\n",
    "while count<333:\n",
    "    if count<=transitions[position]:\n",
    "        nets.append(networks[position])\n",
    "        count=count+1\n",
    "    else:\n",
    "        position=position+1\n",
    "#transform data to locate network\n",
    "df=pd.DataFrame(corrmat, index=[nets, nrois], columns=[nets, nrois])\n",
    "df_ut = df.where(np.triu(np.ones(df.shape),1).astype(np.bool))"
   ]
  },
  {
   "cell_type": "code",
   "execution_count": 124,
   "metadata": {},
   "outputs": [
    {
     "data": {
      "text/plain": [
       "array([0., 0., 0., 0., 0., 0., 0., 0., 0., 0., 0., 0., 0., 0., 0., 0., 0.,\n",
       "       0., 0., 0., 0., 0., 0., 0., 0., 0., 0., 0., 0., 0., 0., 0., 0., 0.,\n",
       "       0., 0., 0., 0., 0., 0., 0., 0., 0., 0., 0., 0., 0., 0., 0., 0., 0.,\n",
       "       0., 0., 0., 0., 0., 0., 0., 0., 0., 0., 0., 0., 0., 0., 0., 0., 0.,\n",
       "       0., 0., 0., 0., 0., 0., 0., 0., 0., 0., 0., 0., 0., 0., 0., 0., 0.,\n",
       "       0., 0., 0., 0., 0., 0., 0., 0., 0., 0., 0., 0., 0., 0., 0., 0., 0.,\n",
       "       0., 0., 0., 0., 0., 0., 0., 0., 0., 0., 0., 0., 0., 0., 0., 0., 0.,\n",
       "       0., 0., 0., 0., 0., 0., 0., 0., 0., 0., 0., 0., 0., 0., 0., 0., 0.,\n",
       "       0., 0., 0., 0., 0., 0., 0., 0., 0., 0., 0., 0., 0., 0., 0., 0., 0.,\n",
       "       0., 0., 0., 0., 0., 0., 0., 0., 0., 0., 0., 0., 0., 0., 0., 0., 0.,\n",
       "       0., 0., 0., 0., 0., 0., 0., 0., 0., 0., 0., 0., 0., 0., 0., 0., 0.,\n",
       "       0., 0., 0., 0., 0., 0., 0., 0., 0., 0., 0., 0., 0., 0., 0., 0., 0.,\n",
       "       0., 0., 0., 0., 0., 0., 0., 0., 0., 0., 0., 0., 0., 0., 0., 0., 0.,\n",
       "       0., 0., 0., 0., 0., 0., 0., 0., 0., 0., 0., 0., 0., 0., 0., 0., 0.,\n",
       "       0., 0., 0., 0., 0., 0., 0., 0., 0., 0., 0., 0., 0., 0., 0., 0., 0.,\n",
       "       0., 0., 0., 0., 0., 0., 0., 0., 0., 0., 0., 0., 0., 0., 0., 0., 0.,\n",
       "       0., 0., 0., 0., 0., 0., 0., 0., 0., 0., 0., 0., 0., 0., 0., 0., 0.,\n",
       "       0., 0., 0., 0., 0., 0., 0., 0., 0., 0., 0., 0., 0., 0., 0., 0., 0.,\n",
       "       0., 0., 0., 0., 0., 0., 0., 0., 0., 0., 0., 0., 0., 0., 0., 0., 0.,\n",
       "       0., 0., 0., 0., 0., 0., 0., 0., 0., 0.])"
      ]
     },
     "execution_count": 124,
     "metadata": {},
     "output_type": "execute_result"
    }
   ],
   "source": [
    "results"
   ]
  },
  {
   "cell_type": "code",
   "execution_count": 100,
   "metadata": {},
   "outputs": [],
   "source": [
    "MSC05=reshape.permROI('/Users/Alexis/Desktop/MSC_Alexis/analysis/data/mvpa_data/mem/MSC05_parcel_corrmat.mat')"
   ]
  },
  {
   "cell_type": "code",
   "execution_count": 101,
   "metadata": {},
   "outputs": [
    {
     "data": {
      "text/plain": [
       "(10, 55278)"
      ]
     },
     "execution_count": 101,
     "metadata": {},
     "output_type": "execute_result"
    }
   ],
   "source": [
    "MSC05.shape\n"
   ]
  },
  {
   "cell_type": "code",
   "execution_count": 120,
   "metadata": {},
   "outputs": [],
   "source": [
    "indices=reshape.getIndices()\n",
    "index=indices.index\n",
    "taskFC=MSC05.copy()\n",
    "condition=indices['level_1']==331\n",
    "ROI=index[condition]\n",
    "ROI_list=ROI.tolist()\n",
    "tmpTask=taskFC[:,ROI_list]\n",
    "#permute values\n",
    "tmpTask_permute=np.random.permutation(tmpTask)\n",
    "#Now switch\n",
    "taskFC[:,ROI_list]=tmpTask_permute #now we purposefully swap the permuted labels to the other task/rest FC\n"
   ]
  },
  {
   "cell_type": "code",
   "execution_count": 106,
   "metadata": {},
   "outputs": [
    {
     "data": {
      "text/plain": [
       "0.2070389939728905"
      ]
     },
     "execution_count": 106,
     "metadata": {},
     "output_type": "execute_result"
    }
   ],
   "source": [
    "MSC05[0,0]"
   ]
  },
  {
   "cell_type": "code",
   "execution_count": 107,
   "metadata": {},
   "outputs": [
    {
     "data": {
      "text/plain": [
       "0.4787413083151937"
      ]
     },
     "execution_count": 107,
     "metadata": {},
     "output_type": "execute_result"
    }
   ],
   "source": [
    "taskFC[0,0]"
   ]
  },
  {
   "cell_type": "code",
   "execution_count": 121,
   "metadata": {},
   "outputs": [],
   "source": [
    "t=MSC05-taskFC"
   ]
  },
  {
   "cell_type": "code",
   "execution_count": 122,
   "metadata": {},
   "outputs": [
    {
     "data": {
      "text/plain": [
       "array([ 0.07870691,  0.30915936,  0.06240042, -0.0430309 , -0.01129618,\n",
       "        0.        ,  0.29084581, -0.25528493, -0.16954375, -0.26195674])"
      ]
     },
     "execution_count": 122,
     "metadata": {},
     "output_type": "execute_result"
    }
   ],
   "source": [
    "t[:,55277]"
   ]
  },
  {
   "cell_type": "code",
   "execution_count": 9,
   "metadata": {},
   "outputs": [
    {
     "data": {
      "text/plain": [
       "0.022630871015933782"
      ]
     },
     "execution_count": 9,
     "metadata": {},
     "output_type": "execute_result"
    }
   ],
   "source": [
    "tmpTask[0][0]"
   ]
  },
  {
   "cell_type": "code",
   "execution_count": 10,
   "metadata": {},
   "outputs": [
    {
     "data": {
      "text/plain": [
       "0.022630871015933782"
      ]
     },
     "execution_count": 10,
     "metadata": {},
     "output_type": "execute_result"
    }
   ],
   "source": [
    "taskFC[0][0]"
   ]
  },
  {
   "cell_type": "code",
   "execution_count": 11,
   "metadata": {},
   "outputs": [],
   "source": [
    "import numpy as np\n",
    "mask = (ttaskFC == 0).all(1)\n",
    "column_indices = np.where(mask)[0]\n",
    "df = ttaskFC[~mask,:]\n",
    "\n"
   ]
  },
  {
   "cell_type": "code",
   "execution_count": 12,
   "metadata": {},
   "outputs": [
    {
     "data": {
      "text/plain": [
       "(8, 55278)"
      ]
     },
     "execution_count": 12,
     "metadata": {},
     "output_type": "execute_result"
    }
   ],
   "source": [
    "df.shape"
   ]
  },
  {
   "cell_type": "code",
   "execution_count": 11,
   "metadata": {},
   "outputs": [
    {
     "data": {
      "text/html": [
       "<div>\n",
       "<style scoped>\n",
       "    .dataframe tbody tr th:only-of-type {\n",
       "        vertical-align: middle;\n",
       "    }\n",
       "\n",
       "    .dataframe tbody tr th {\n",
       "        vertical-align: top;\n",
       "    }\n",
       "\n",
       "    .dataframe thead th {\n",
       "        text-align: right;\n",
       "    }\n",
       "</style>\n",
       "<table border=\"1\" class=\"dataframe\">\n",
       "  <thead>\n",
       "    <tr style=\"text-align: right;\">\n",
       "      <th></th>\n",
       "      <th>level_0</th>\n",
       "      <th>level_1</th>\n",
       "      <th>variable_0</th>\n",
       "      <th>variable_1</th>\n",
       "      <th>value</th>\n",
       "    </tr>\n",
       "  </thead>\n",
       "  <tbody>\n",
       "    <tr>\n",
       "      <th>55273</th>\n",
       "      <td>pon</td>\n",
       "      <td>327</td>\n",
       "      <td>pon</td>\n",
       "      <td>332</td>\n",
       "      <td>0.524179</td>\n",
       "    </tr>\n",
       "    <tr>\n",
       "      <th>55274</th>\n",
       "      <td>pon</td>\n",
       "      <td>328</td>\n",
       "      <td>pon</td>\n",
       "      <td>332</td>\n",
       "      <td>0.443304</td>\n",
       "    </tr>\n",
       "    <tr>\n",
       "      <th>55275</th>\n",
       "      <td>pon</td>\n",
       "      <td>329</td>\n",
       "      <td>pon</td>\n",
       "      <td>332</td>\n",
       "      <td>0.119601</td>\n",
       "    </tr>\n",
       "    <tr>\n",
       "      <th>55276</th>\n",
       "      <td>pon</td>\n",
       "      <td>330</td>\n",
       "      <td>pon</td>\n",
       "      <td>332</td>\n",
       "      <td>0.574670</td>\n",
       "    </tr>\n",
       "    <tr>\n",
       "      <th>55277</th>\n",
       "      <td>pon</td>\n",
       "      <td>331</td>\n",
       "      <td>pon</td>\n",
       "      <td>332</td>\n",
       "      <td>0.004735</td>\n",
       "    </tr>\n",
       "  </tbody>\n",
       "</table>\n",
       "</div>"
      ],
      "text/plain": [
       "      level_0  level_1 variable_0  variable_1     value\n",
       "55273     pon      327        pon         332  0.524179\n",
       "55274     pon      328        pon         332  0.443304\n",
       "55275     pon      329        pon         332  0.119601\n",
       "55276     pon      330        pon         332  0.574670\n",
       "55277     pon      331        pon         332  0.004735"
      ]
     },
     "execution_count": 11,
     "metadata": {},
     "output_type": "execute_result"
    }
   ],
   "source": [
    "indices.tail()"
   ]
  },
  {
   "cell_type": "code",
   "execution_count": 10,
   "metadata": {},
   "outputs": [
    {
     "data": {
      "text/plain": [
       "(10, 55278)"
      ]
     },
     "execution_count": 10,
     "metadata": {},
     "output_type": "execute_result"
    }
   ],
   "source": [
    "ttaskFC.shape"
   ]
  },
  {
   "cell_type": "code",
   "execution_count": 3,
   "metadata": {},
   "outputs": [],
   "source": [
    "import numpy as np\n",
    "split=np.empty((333))"
   ]
  },
  {
   "cell_type": "code",
   "execution_count": 4,
   "metadata": {},
   "outputs": [],
   "source": [
    "value=111\n",
    "for idx, nullVal in enumerate(split):\n",
    "    split[idx]=value\n",
    "    "
   ]
  },
  {
   "cell_type": "code",
   "execution_count": 6,
   "metadata": {},
   "outputs": [
    {
     "data": {
      "text/plain": [
       "array([111., 111., 111., 111., 111., 111., 111., 111., 111., 111., 111.,\n",
       "       111., 111., 111., 111., 111., 111., 111., 111., 111., 111., 111.,\n",
       "       111., 111., 111., 111., 111., 111., 111., 111., 111., 111., 111.,\n",
       "       111., 111., 111., 111., 111., 111., 111., 111., 111., 111., 111.,\n",
       "       111., 111., 111., 111., 111., 111., 111., 111., 111., 111., 111.,\n",
       "       111., 111., 111., 111., 111., 111., 111., 111., 111., 111., 111.,\n",
       "       111., 111., 111., 111., 111., 111., 111., 111., 111., 111., 111.,\n",
       "       111., 111., 111., 111., 111., 111., 111., 111., 111., 111., 111.,\n",
       "       111., 111., 111., 111., 111., 111., 111., 111., 111., 111., 111.,\n",
       "       111., 111., 111., 111., 111., 111., 111., 111., 111., 111., 111.,\n",
       "       111., 111., 111., 111., 111., 111., 111., 111., 111., 111., 111.,\n",
       "       111., 111., 111., 111., 111., 111., 111., 111., 111., 111., 111.,\n",
       "       111., 111., 111., 111., 111., 111., 111., 111., 111., 111., 111.,\n",
       "       111., 111., 111., 111., 111., 111., 111., 111., 111., 111., 111.,\n",
       "       111., 111., 111., 111., 111., 111., 111., 111., 111., 111., 111.,\n",
       "       111., 111., 111., 111., 111., 111., 111., 111., 111., 111., 111.,\n",
       "       111., 111., 111., 111., 111., 111., 111., 111., 111., 111., 111.,\n",
       "       111., 111., 111., 111., 111., 111., 111., 111., 111., 111., 111.,\n",
       "       111., 111., 111., 111., 111., 111., 111., 111., 111., 111., 111.,\n",
       "       111., 111., 111., 111., 111., 111., 111., 111., 111., 111., 111.,\n",
       "       111., 111., 111., 111., 111., 111., 111., 111., 111., 111., 111.,\n",
       "       111., 111., 111., 111., 111., 111., 111., 111., 111., 111., 111.,\n",
       "       111., 111., 111., 111., 111., 111., 111., 111., 111., 111., 111.,\n",
       "       111., 111., 111., 111., 111., 111., 111., 111., 111., 111., 111.,\n",
       "       111., 111., 111., 111., 111., 111., 111., 111., 111., 111., 111.,\n",
       "       111., 111., 111., 111., 111., 111., 111., 111., 111., 111., 111.,\n",
       "       111., 111., 111., 111., 111., 111., 111., 111., 111., 111., 111.,\n",
       "       111., 111., 111., 111., 111., 111., 111., 111., 111., 111., 111.,\n",
       "       111., 111., 111., 111., 111., 111., 111., 111., 111., 111., 111.,\n",
       "       111., 111., 111., 111., 111., 111., 111., 111., 111., 111., 111.,\n",
       "       111., 111., 111.])"
      ]
     },
     "execution_count": 6,
     "metadata": {},
     "output_type": "execute_result"
    }
   ],
   "source": [
    "split"
   ]
  },
  {
   "cell_type": "code",
   "execution_count": 1,
   "metadata": {},
   "outputs": [],
   "source": [
    "import permuteROI\n",
    "res=permuteROI.modelAll_byRow('MSC05')\n",
    "\n",
    "res.tofile('/Users/Alexis/Desktop/MSC_Alexis/analysis/output/results/permutation/ALL/MSC05_Row.csv', sep = ',')"
   ]
  },
  {
   "cell_type": "code",
   "execution_count": 6,
   "metadata": {},
   "outputs": [
    {
     "data": {
      "text/html": [
       "<div>\n",
       "<style scoped>\n",
       "    .dataframe tbody tr th:only-of-type {\n",
       "        vertical-align: middle;\n",
       "    }\n",
       "\n",
       "    .dataframe tbody tr th {\n",
       "        vertical-align: top;\n",
       "    }\n",
       "\n",
       "    .dataframe thead th {\n",
       "        text-align: right;\n",
       "    }\n",
       "</style>\n",
       "<table border=\"1\" class=\"dataframe\">\n",
       "  <thead>\n",
       "    <tr style=\"text-align: right;\">\n",
       "      <th></th>\n",
       "      <th>level_0</th>\n",
       "      <th>level_1</th>\n",
       "      <th>variable_0</th>\n",
       "      <th>variable_1</th>\n",
       "      <th>value</th>\n",
       "    </tr>\n",
       "  </thead>\n",
       "  <tbody>\n",
       "    <tr>\n",
       "      <th>0</th>\n",
       "      <td>unassign</td>\n",
       "      <td>0</td>\n",
       "      <td>unassign</td>\n",
       "      <td>1</td>\n",
       "      <td>0.022631</td>\n",
       "    </tr>\n",
       "    <tr>\n",
       "      <th>1</th>\n",
       "      <td>unassign</td>\n",
       "      <td>0</td>\n",
       "      <td>unassign</td>\n",
       "      <td>2</td>\n",
       "      <td>0.117758</td>\n",
       "    </tr>\n",
       "    <tr>\n",
       "      <th>2</th>\n",
       "      <td>unassign</td>\n",
       "      <td>1</td>\n",
       "      <td>unassign</td>\n",
       "      <td>2</td>\n",
       "      <td>0.298062</td>\n",
       "    </tr>\n",
       "    <tr>\n",
       "      <th>3</th>\n",
       "      <td>unassign</td>\n",
       "      <td>0</td>\n",
       "      <td>unassign</td>\n",
       "      <td>3</td>\n",
       "      <td>0.442273</td>\n",
       "    </tr>\n",
       "    <tr>\n",
       "      <th>4</th>\n",
       "      <td>unassign</td>\n",
       "      <td>1</td>\n",
       "      <td>unassign</td>\n",
       "      <td>3</td>\n",
       "      <td>0.118008</td>\n",
       "    </tr>\n",
       "    <tr>\n",
       "      <th>...</th>\n",
       "      <td>...</td>\n",
       "      <td>...</td>\n",
       "      <td>...</td>\n",
       "      <td>...</td>\n",
       "      <td>...</td>\n",
       "    </tr>\n",
       "    <tr>\n",
       "      <th>55273</th>\n",
       "      <td>pon</td>\n",
       "      <td>327</td>\n",
       "      <td>pon</td>\n",
       "      <td>332</td>\n",
       "      <td>0.524179</td>\n",
       "    </tr>\n",
       "    <tr>\n",
       "      <th>55274</th>\n",
       "      <td>pon</td>\n",
       "      <td>328</td>\n",
       "      <td>pon</td>\n",
       "      <td>332</td>\n",
       "      <td>0.443304</td>\n",
       "    </tr>\n",
       "    <tr>\n",
       "      <th>55275</th>\n",
       "      <td>pon</td>\n",
       "      <td>329</td>\n",
       "      <td>pon</td>\n",
       "      <td>332</td>\n",
       "      <td>0.119601</td>\n",
       "    </tr>\n",
       "    <tr>\n",
       "      <th>55276</th>\n",
       "      <td>pon</td>\n",
       "      <td>330</td>\n",
       "      <td>pon</td>\n",
       "      <td>332</td>\n",
       "      <td>0.574670</td>\n",
       "    </tr>\n",
       "    <tr>\n",
       "      <th>55277</th>\n",
       "      <td>pon</td>\n",
       "      <td>331</td>\n",
       "      <td>pon</td>\n",
       "      <td>332</td>\n",
       "      <td>0.004735</td>\n",
       "    </tr>\n",
       "  </tbody>\n",
       "</table>\n",
       "<p>55278 rows × 5 columns</p>\n",
       "</div>"
      ],
      "text/plain": [
       "        level_0  level_1 variable_0  variable_1     value\n",
       "0      unassign        0   unassign           1  0.022631\n",
       "1      unassign        0   unassign           2  0.117758\n",
       "2      unassign        1   unassign           2  0.298062\n",
       "3      unassign        0   unassign           3  0.442273\n",
       "4      unassign        1   unassign           3  0.118008\n",
       "...         ...      ...        ...         ...       ...\n",
       "55273       pon      327        pon         332  0.524179\n",
       "55274       pon      328        pon         332  0.443304\n",
       "55275       pon      329        pon         332  0.119601\n",
       "55276       pon      330        pon         332  0.574670\n",
       "55277       pon      331        pon         332  0.004735\n",
       "\n",
       "[55278 rows x 5 columns]"
      ]
     },
     "execution_count": 6,
     "metadata": {},
     "output_type": "execute_result"
    }
   ],
   "source": [
    "\n"
   ]
  },
  {
   "cell_type": "code",
   "execution_count": 40,
   "metadata": {},
   "outputs": [],
   "source": [
    "import pandas as pd\n",
    "tmp=pd.DataFrame(res,columns=['result'])\n",
    "tmp.reset_index(inplace=True)\n",
    "tmp.rename(columns={'index':'level_1'},inplace=True)\n",
    "final=indices.merge(tmp,on='level_1')\n",
    "final.drop(columns='value',inplace=True)\n",
    "tmp2=final.pivot(values='result',index=['level_0','level_1'],columns=['variable_0','variable_1'])\n",
    "tmp2.sort_values(by='level_1',inplace=True)\n"
   ]
  },
  {
   "cell_type": "code",
   "execution_count": 44,
   "metadata": {},
   "outputs": [
    {
     "data": {
      "text/html": [
       "<div>\n",
       "<style scoped>\n",
       "    .dataframe tbody tr th:only-of-type {\n",
       "        vertical-align: middle;\n",
       "    }\n",
       "\n",
       "    .dataframe tbody tr th {\n",
       "        vertical-align: top;\n",
       "    }\n",
       "\n",
       "    .dataframe thead tr th {\n",
       "        text-align: left;\n",
       "    }\n",
       "\n",
       "    .dataframe thead tr:last-of-type th {\n",
       "        text-align: right;\n",
       "    }\n",
       "</style>\n",
       "<table border=\"1\" class=\"dataframe\">\n",
       "  <thead>\n",
       "    <tr>\n",
       "      <th></th>\n",
       "      <th>variable_0</th>\n",
       "      <th colspan=\"10\" halign=\"left\">unassign</th>\n",
       "      <th>...</th>\n",
       "      <th colspan=\"3\" halign=\"left\">pmn</th>\n",
       "      <th colspan=\"7\" halign=\"left\">pon</th>\n",
       "    </tr>\n",
       "    <tr>\n",
       "      <th></th>\n",
       "      <th>variable_1</th>\n",
       "      <th>1</th>\n",
       "      <th>2</th>\n",
       "      <th>3</th>\n",
       "      <th>4</th>\n",
       "      <th>5</th>\n",
       "      <th>6</th>\n",
       "      <th>7</th>\n",
       "      <th>8</th>\n",
       "      <th>9</th>\n",
       "      <th>10</th>\n",
       "      <th>...</th>\n",
       "      <th>323</th>\n",
       "      <th>324</th>\n",
       "      <th>325</th>\n",
       "      <th>326</th>\n",
       "      <th>327</th>\n",
       "      <th>328</th>\n",
       "      <th>329</th>\n",
       "      <th>330</th>\n",
       "      <th>331</th>\n",
       "      <th>332</th>\n",
       "    </tr>\n",
       "    <tr>\n",
       "      <th>level_0</th>\n",
       "      <th>level_1</th>\n",
       "      <th></th>\n",
       "      <th></th>\n",
       "      <th></th>\n",
       "      <th></th>\n",
       "      <th></th>\n",
       "      <th></th>\n",
       "      <th></th>\n",
       "      <th></th>\n",
       "      <th></th>\n",
       "      <th></th>\n",
       "      <th></th>\n",
       "      <th></th>\n",
       "      <th></th>\n",
       "      <th></th>\n",
       "      <th></th>\n",
       "      <th></th>\n",
       "      <th></th>\n",
       "      <th></th>\n",
       "      <th></th>\n",
       "      <th></th>\n",
       "      <th></th>\n",
       "    </tr>\n",
       "  </thead>\n",
       "  <tbody>\n",
       "    <tr>\n",
       "      <th rowspan=\"5\" valign=\"top\">unassign</th>\n",
       "      <th>0</th>\n",
       "      <td>0.0</td>\n",
       "      <td>0.000</td>\n",
       "      <td>0.000</td>\n",
       "      <td>0.000</td>\n",
       "      <td>0.0000</td>\n",
       "      <td>0.0000</td>\n",
       "      <td>0.0000</td>\n",
       "      <td>0.0000</td>\n",
       "      <td>0.0000</td>\n",
       "      <td>0.0000</td>\n",
       "      <td>...</td>\n",
       "      <td>0.0000</td>\n",
       "      <td>0.0000</td>\n",
       "      <td>0.0000</td>\n",
       "      <td>0.0000</td>\n",
       "      <td>0.0000</td>\n",
       "      <td>0.0000</td>\n",
       "      <td>0.0000</td>\n",
       "      <td>0.0000</td>\n",
       "      <td>0.0000</td>\n",
       "      <td>0.0000</td>\n",
       "    </tr>\n",
       "    <tr>\n",
       "      <th>1</th>\n",
       "      <td>NaN</td>\n",
       "      <td>0.025</td>\n",
       "      <td>0.025</td>\n",
       "      <td>0.025</td>\n",
       "      <td>0.0250</td>\n",
       "      <td>0.0250</td>\n",
       "      <td>0.0250</td>\n",
       "      <td>0.0250</td>\n",
       "      <td>0.0250</td>\n",
       "      <td>0.0250</td>\n",
       "      <td>...</td>\n",
       "      <td>0.0250</td>\n",
       "      <td>0.0250</td>\n",
       "      <td>0.0250</td>\n",
       "      <td>0.0250</td>\n",
       "      <td>0.0250</td>\n",
       "      <td>0.0250</td>\n",
       "      <td>0.0250</td>\n",
       "      <td>0.0250</td>\n",
       "      <td>0.0250</td>\n",
       "      <td>0.0250</td>\n",
       "    </tr>\n",
       "    <tr>\n",
       "      <th>2</th>\n",
       "      <td>NaN</td>\n",
       "      <td>NaN</td>\n",
       "      <td>0.025</td>\n",
       "      <td>0.025</td>\n",
       "      <td>0.0250</td>\n",
       "      <td>0.0250</td>\n",
       "      <td>0.0250</td>\n",
       "      <td>0.0250</td>\n",
       "      <td>0.0250</td>\n",
       "      <td>0.0250</td>\n",
       "      <td>...</td>\n",
       "      <td>0.0250</td>\n",
       "      <td>0.0250</td>\n",
       "      <td>0.0250</td>\n",
       "      <td>0.0250</td>\n",
       "      <td>0.0250</td>\n",
       "      <td>0.0250</td>\n",
       "      <td>0.0250</td>\n",
       "      <td>0.0250</td>\n",
       "      <td>0.0250</td>\n",
       "      <td>0.0250</td>\n",
       "    </tr>\n",
       "    <tr>\n",
       "      <th>3</th>\n",
       "      <td>NaN</td>\n",
       "      <td>NaN</td>\n",
       "      <td>NaN</td>\n",
       "      <td>0.000</td>\n",
       "      <td>0.0000</td>\n",
       "      <td>0.0000</td>\n",
       "      <td>0.0000</td>\n",
       "      <td>0.0000</td>\n",
       "      <td>0.0000</td>\n",
       "      <td>0.0000</td>\n",
       "      <td>...</td>\n",
       "      <td>0.0000</td>\n",
       "      <td>0.0000</td>\n",
       "      <td>0.0000</td>\n",
       "      <td>0.0000</td>\n",
       "      <td>0.0000</td>\n",
       "      <td>0.0000</td>\n",
       "      <td>0.0000</td>\n",
       "      <td>0.0000</td>\n",
       "      <td>0.0000</td>\n",
       "      <td>0.0000</td>\n",
       "    </tr>\n",
       "    <tr>\n",
       "      <th>4</th>\n",
       "      <td>NaN</td>\n",
       "      <td>NaN</td>\n",
       "      <td>NaN</td>\n",
       "      <td>NaN</td>\n",
       "      <td>-0.0125</td>\n",
       "      <td>-0.0125</td>\n",
       "      <td>-0.0125</td>\n",
       "      <td>-0.0125</td>\n",
       "      <td>-0.0125</td>\n",
       "      <td>-0.0125</td>\n",
       "      <td>...</td>\n",
       "      <td>-0.0125</td>\n",
       "      <td>-0.0125</td>\n",
       "      <td>-0.0125</td>\n",
       "      <td>-0.0125</td>\n",
       "      <td>-0.0125</td>\n",
       "      <td>-0.0125</td>\n",
       "      <td>-0.0125</td>\n",
       "      <td>-0.0125</td>\n",
       "      <td>-0.0125</td>\n",
       "      <td>-0.0125</td>\n",
       "    </tr>\n",
       "    <tr>\n",
       "      <th>...</th>\n",
       "      <th>...</th>\n",
       "      <td>...</td>\n",
       "      <td>...</td>\n",
       "      <td>...</td>\n",
       "      <td>...</td>\n",
       "      <td>...</td>\n",
       "      <td>...</td>\n",
       "      <td>...</td>\n",
       "      <td>...</td>\n",
       "      <td>...</td>\n",
       "      <td>...</td>\n",
       "      <td>...</td>\n",
       "      <td>...</td>\n",
       "      <td>...</td>\n",
       "      <td>...</td>\n",
       "      <td>...</td>\n",
       "      <td>...</td>\n",
       "      <td>...</td>\n",
       "      <td>...</td>\n",
       "      <td>...</td>\n",
       "      <td>...</td>\n",
       "      <td>...</td>\n",
       "    </tr>\n",
       "    <tr>\n",
       "      <th rowspan=\"5\" valign=\"top\">pon</th>\n",
       "      <th>327</th>\n",
       "      <td>NaN</td>\n",
       "      <td>NaN</td>\n",
       "      <td>NaN</td>\n",
       "      <td>NaN</td>\n",
       "      <td>NaN</td>\n",
       "      <td>NaN</td>\n",
       "      <td>NaN</td>\n",
       "      <td>NaN</td>\n",
       "      <td>NaN</td>\n",
       "      <td>NaN</td>\n",
       "      <td>...</td>\n",
       "      <td>NaN</td>\n",
       "      <td>NaN</td>\n",
       "      <td>NaN</td>\n",
       "      <td>NaN</td>\n",
       "      <td>NaN</td>\n",
       "      <td>0.0000</td>\n",
       "      <td>0.0000</td>\n",
       "      <td>0.0000</td>\n",
       "      <td>0.0000</td>\n",
       "      <td>0.0000</td>\n",
       "    </tr>\n",
       "    <tr>\n",
       "      <th>328</th>\n",
       "      <td>NaN</td>\n",
       "      <td>NaN</td>\n",
       "      <td>NaN</td>\n",
       "      <td>NaN</td>\n",
       "      <td>NaN</td>\n",
       "      <td>NaN</td>\n",
       "      <td>NaN</td>\n",
       "      <td>NaN</td>\n",
       "      <td>NaN</td>\n",
       "      <td>NaN</td>\n",
       "      <td>...</td>\n",
       "      <td>NaN</td>\n",
       "      <td>NaN</td>\n",
       "      <td>NaN</td>\n",
       "      <td>NaN</td>\n",
       "      <td>NaN</td>\n",
       "      <td>NaN</td>\n",
       "      <td>0.0000</td>\n",
       "      <td>0.0000</td>\n",
       "      <td>0.0000</td>\n",
       "      <td>0.0000</td>\n",
       "    </tr>\n",
       "    <tr>\n",
       "      <th>329</th>\n",
       "      <td>NaN</td>\n",
       "      <td>NaN</td>\n",
       "      <td>NaN</td>\n",
       "      <td>NaN</td>\n",
       "      <td>NaN</td>\n",
       "      <td>NaN</td>\n",
       "      <td>NaN</td>\n",
       "      <td>NaN</td>\n",
       "      <td>NaN</td>\n",
       "      <td>NaN</td>\n",
       "      <td>...</td>\n",
       "      <td>NaN</td>\n",
       "      <td>NaN</td>\n",
       "      <td>NaN</td>\n",
       "      <td>NaN</td>\n",
       "      <td>NaN</td>\n",
       "      <td>NaN</td>\n",
       "      <td>NaN</td>\n",
       "      <td>-0.0125</td>\n",
       "      <td>-0.0125</td>\n",
       "      <td>-0.0125</td>\n",
       "    </tr>\n",
       "    <tr>\n",
       "      <th>330</th>\n",
       "      <td>NaN</td>\n",
       "      <td>NaN</td>\n",
       "      <td>NaN</td>\n",
       "      <td>NaN</td>\n",
       "      <td>NaN</td>\n",
       "      <td>NaN</td>\n",
       "      <td>NaN</td>\n",
       "      <td>NaN</td>\n",
       "      <td>NaN</td>\n",
       "      <td>NaN</td>\n",
       "      <td>...</td>\n",
       "      <td>NaN</td>\n",
       "      <td>NaN</td>\n",
       "      <td>NaN</td>\n",
       "      <td>NaN</td>\n",
       "      <td>NaN</td>\n",
       "      <td>NaN</td>\n",
       "      <td>NaN</td>\n",
       "      <td>NaN</td>\n",
       "      <td>-0.0125</td>\n",
       "      <td>-0.0125</td>\n",
       "    </tr>\n",
       "    <tr>\n",
       "      <th>331</th>\n",
       "      <td>NaN</td>\n",
       "      <td>NaN</td>\n",
       "      <td>NaN</td>\n",
       "      <td>NaN</td>\n",
       "      <td>NaN</td>\n",
       "      <td>NaN</td>\n",
       "      <td>NaN</td>\n",
       "      <td>NaN</td>\n",
       "      <td>NaN</td>\n",
       "      <td>NaN</td>\n",
       "      <td>...</td>\n",
       "      <td>NaN</td>\n",
       "      <td>NaN</td>\n",
       "      <td>NaN</td>\n",
       "      <td>NaN</td>\n",
       "      <td>NaN</td>\n",
       "      <td>NaN</td>\n",
       "      <td>NaN</td>\n",
       "      <td>NaN</td>\n",
       "      <td>NaN</td>\n",
       "      <td>0.0000</td>\n",
       "    </tr>\n",
       "  </tbody>\n",
       "</table>\n",
       "<p>332 rows × 332 columns</p>\n",
       "</div>"
      ],
      "text/plain": [
       "variable_0       unassign                                               \\\n",
       "variable_1            1      2      3      4       5       6       7     \n",
       "level_0  level_1                                                         \n",
       "unassign 0            0.0  0.000  0.000  0.000  0.0000  0.0000  0.0000   \n",
       "         1            NaN  0.025  0.025  0.025  0.0250  0.0250  0.0250   \n",
       "         2            NaN    NaN  0.025  0.025  0.0250  0.0250  0.0250   \n",
       "         3            NaN    NaN    NaN  0.000  0.0000  0.0000  0.0000   \n",
       "         4            NaN    NaN    NaN    NaN -0.0125 -0.0125 -0.0125   \n",
       "...                   ...    ...    ...    ...     ...     ...     ...   \n",
       "pon      327          NaN    NaN    NaN    NaN     NaN     NaN     NaN   \n",
       "         328          NaN    NaN    NaN    NaN     NaN     NaN     NaN   \n",
       "         329          NaN    NaN    NaN    NaN     NaN     NaN     NaN   \n",
       "         330          NaN    NaN    NaN    NaN     NaN     NaN     NaN   \n",
       "         331          NaN    NaN    NaN    NaN     NaN     NaN     NaN   \n",
       "\n",
       "variable_0                                ...     pmn                     pon  \\\n",
       "variable_1           8       9       10   ...     323     324     325     326   \n",
       "level_0  level_1                          ...                                   \n",
       "unassign 0        0.0000  0.0000  0.0000  ...  0.0000  0.0000  0.0000  0.0000   \n",
       "         1        0.0250  0.0250  0.0250  ...  0.0250  0.0250  0.0250  0.0250   \n",
       "         2        0.0250  0.0250  0.0250  ...  0.0250  0.0250  0.0250  0.0250   \n",
       "         3        0.0000  0.0000  0.0000  ...  0.0000  0.0000  0.0000  0.0000   \n",
       "         4       -0.0125 -0.0125 -0.0125  ... -0.0125 -0.0125 -0.0125 -0.0125   \n",
       "...                  ...     ...     ...  ...     ...     ...     ...     ...   \n",
       "pon      327         NaN     NaN     NaN  ...     NaN     NaN     NaN     NaN   \n",
       "         328         NaN     NaN     NaN  ...     NaN     NaN     NaN     NaN   \n",
       "         329         NaN     NaN     NaN  ...     NaN     NaN     NaN     NaN   \n",
       "         330         NaN     NaN     NaN  ...     NaN     NaN     NaN     NaN   \n",
       "         331         NaN     NaN     NaN  ...     NaN     NaN     NaN     NaN   \n",
       "\n",
       "variable_0                                                        \n",
       "variable_1           327     328     329     330     331     332  \n",
       "level_0  level_1                                                  \n",
       "unassign 0        0.0000  0.0000  0.0000  0.0000  0.0000  0.0000  \n",
       "         1        0.0250  0.0250  0.0250  0.0250  0.0250  0.0250  \n",
       "         2        0.0250  0.0250  0.0250  0.0250  0.0250  0.0250  \n",
       "         3        0.0000  0.0000  0.0000  0.0000  0.0000  0.0000  \n",
       "         4       -0.0125 -0.0125 -0.0125 -0.0125 -0.0125 -0.0125  \n",
       "...                  ...     ...     ...     ...     ...     ...  \n",
       "pon      327         NaN  0.0000  0.0000  0.0000  0.0000  0.0000  \n",
       "         328         NaN     NaN  0.0000  0.0000  0.0000  0.0000  \n",
       "         329         NaN     NaN     NaN -0.0125 -0.0125 -0.0125  \n",
       "         330         NaN     NaN     NaN     NaN -0.0125 -0.0125  \n",
       "         331         NaN     NaN     NaN     NaN     NaN  0.0000  \n",
       "\n",
       "[332 rows x 332 columns]"
      ]
     },
     "execution_count": 44,
     "metadata": {},
     "output_type": "execute_result"
    }
   ],
   "source": [
    "tmp2"
   ]
  },
  {
   "cell_type": "code",
   "execution_count": 2,
   "metadata": {},
   "outputs": [],
   "source": [
    "import permuteROI\n",
    "import numpy as np\n",
    "res=permuteROI.modelAll_byRow('MSC07')\n",
    "\n",
    "res.tofile('/Users/Alexis/Desktop/MSC_Alexis/analysis/output/results/permutation/ALL/MSC07_Row.csv', sep = ',')"
   ]
  },
  {
   "cell_type": "code",
   "execution_count": null,
   "metadata": {},
   "outputs": [],
   "source": []
  }
 ],
 "metadata": {
  "kernelspec": {
   "display_name": "Python 3",
   "language": "python",
   "name": "python3"
  },
  "language_info": {
   "codemirror_mode": {
    "name": "ipython",
    "version": 3
   },
   "file_extension": ".py",
   "mimetype": "text/x-python",
   "name": "python",
   "nbconvert_exporter": "python",
   "pygments_lexer": "ipython3",
   "version": "3.7.6"
  }
 },
 "nbformat": 4,
 "nbformat_minor": 4
}
