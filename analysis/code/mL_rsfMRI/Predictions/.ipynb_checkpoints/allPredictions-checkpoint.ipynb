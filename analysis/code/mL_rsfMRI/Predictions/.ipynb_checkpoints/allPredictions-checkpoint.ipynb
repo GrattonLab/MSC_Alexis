{
 "cells": [
  {
   "cell_type": "code",
   "execution_count": null,
   "metadata": {},
   "outputs": [],
   "source": [
    "#Aim 1 and Aim 2 results\n",
    "#authentication\n",
    "import masterClass\n",
    "#masterClass.classifyCV()\n",
    "#masterClass.classifyDS()\n",
    "#masterClass.classifySS()\n",
    "#masterClass.classifyBS()\n",
    "#Classify All tasks with rest split \n",
    "masterClass.classifyAll()\n",
    "\n"
   ]
  },
  {
   "cell_type": "code",
   "execution_count": null,
   "metadata": {},
   "outputs": [],
   "source": [
    "#Classify All using a PCA approach\n",
    "#Need to vet this process to ensure it is correct\n",
    "import masterClass\n",
    "import pandas as pd\n",
    "import numpy as np\n",
    "pca50=pd.DataFrame()\n",
    "#50% variance explained\n",
    "#numComponents=[.05,.1,.15,.2,.25,.3,.35,.4,.45,.5,.55,.6,.65,.7,.75,.8,.85,.9]\n",
    "num=1\n",
    "while num<40:\n",
    "#for num in numComponents:\n",
    "    tmp=masterClass.classifyAll_wPCA(num,.5)\n",
    "    tmp['numComponent']=num\n",
    "    pca50=pd.concat([pca50,tmp])\n",
    "    num=num+1\n",
    "    print('now at ', num)\n",
    "pca50.to_csv('/Users/Alexis/Desktop/MSC_Alexis/analysis/output/results/acc/ALL/pca50_acc.csv',index=False)"
   ]
  },
  {
   "cell_type": "code",
   "execution_count": null,
   "metadata": {},
   "outputs": [],
   "source": [
    "#Feature Selection of networks\n",
    "import featSelection\n",
    "import sys\n",
    "import os\n",
    "import pandas as pd\n",
    "import numpy as np\n",
    "thisDir = os.path.expanduser('~/Desktop/MSC_Alexis/analysis/')\n",
    "outDir = thisDir + 'output/results/'\n",
    "subDir=outDir+'subNetwork/'\n",
    "allDF=pd.DataFrame()\n",
    "CVDF=pd.DataFrame()\n",
    "SSDF=pd.DataFrame()\n",
    "DSDF=pd.DataFrame()\n",
    "BSDF=pd.DataFrame()\n",
    "netRoi=dict([('unassign',14808),('default', 10824),('visual',8736),('fp', 4620),('dan',5264),('van',3151),('salience', 494),('co', 4060),('sm', 2375),('sm-lat', 316),('auditory', 564),('pmn',45),('pon',21)])\n",
    "for network in netRoi:\n",
    "    print('Now running for network '+network)\n",
    "    #tmpCV=featSelection.classifyCV(network)\n",
    "    #tmpCV['network']=network\n",
    "    #tmpCV['feature']=netRoi[network]\n",
    "    #CVDF=pd.concat([CVDF,tmpCV])\n",
    "    #tmpDS=featSelection.classifyDS(network)\n",
    "    #tmpDS['network']=network\n",
    "    #tmpDS['feature']=netRoi[network]\n",
    "    #DSDF=pd.concat([DSDF,tmpDS])\n",
    "    #tmpSS=featSelection.classifySS(network)\n",
    "    #tmpSS['network']=network\n",
    "    #tmpSS['feature']=netRoi[network]\n",
    "    #SSDF=pd.concat([SSDF,tmpSS])\n",
    "    #tmpBS=featSelection.classifyBS(network)\n",
    "    #tmpBS['network']=network\n",
    "    #tmpBS['feature']=netRoi[network]\n",
    "    #BSDF=pd.concat([BSDF,tmpBS])\n",
    "    tmp=featSelection.classifyAll(network)\n",
    "    tmp['network']=network\n",
    "    tmp['feature']=netRoi[network]\n",
    "    allDF=pd.concat([allDF,tmp])\n",
    "#DSDF.to_csv(subDir+'DS/acc.csv',index=False)\n",
    "#SSDF.to_csv(subDir+'SS/acc.csv',index=False)\n",
    "#BSDF.to_csv(subDir+'BS/acc.csv',index=False)\n",
    "#CVDF.to_csv(subDir+'CV/acc.csv',index=False)\n",
    "allDF.to_csv(subDir+'ALL/acc.csv',index=False)"
   ]
  },
  {
   "cell_type": "code",
   "execution_count": null,
   "metadata": {},
   "outputs": [],
   "source": [
    "#Permutation\n",
    "#SSmOS_CVmDS\n",
    "import SSmOS\n",
    "import pandas as pd\n",
    "CVmDS_df=pd.DataFrame()\n",
    "for i in range(1000):\n",
    "    DS=SSmOS.CVmDS()\n",
    "    CVmDS_df=pd.concat([CVmDS_df,DS])\n",
    "CVmDS_df.to_csv('~/Desktop/MSC_Alexis/analysis/output/results/permutation/CVmDS_acc.csv',index=False)\n"
   ]
  },
  {
   "cell_type": "code",
   "execution_count": null,
   "metadata": {},
   "outputs": [],
   "source": [
    "#Permutation\n",
    "#SSmOS_SSmBS\n",
    "import SSmOS\n",
    "import pandas as pd\n",
    "SSmBS_df=pd.DataFrame()\n",
    "for i in range(1000):\n",
    "    SS=SSmOS.SSmBS()\n",
    "    SSmBS_df=pd.concat([SSmBS_df, SS])\n",
    "SSmBS_df.to_csv('~/Desktop/MSC_Alexis/analysis/output/results/permutation/SSmBS_acc.csv',index=False)\n"
   ]
  },
  {
   "cell_type": "code",
   "execution_count": null,
   "metadata": {},
   "outputs": [],
   "source": [
    "#Permutation different task compared to same task\n",
    "#STmDT_CVmSS\n",
    "import DTmST\n",
    "#DTmST.DSmBS()\n",
    "DTmST.CVmSS()"
   ]
  },
  {
   "cell_type": "code",
   "execution_count": null,
   "metadata": {},
   "outputs": [],
   "source": [
    "#Permutation different sub compared to same sub using all data for training\n",
    "import SSmOS\n",
    "#All tasks\n",
    "SSmOS.classifyScores()"
   ]
  },
  {
   "cell_type": "code",
   "execution_count": null,
   "metadata": {},
   "outputs": [],
   "source": [
    "#permutation testing on each analysis CV SS DS BS and ALL separately 1000 times\n",
    "import permutation\n",
    "permutation.permuteProcess()"
   ]
  },
  {
   "cell_type": "code",
   "execution_count": null,
   "metadata": {},
   "outputs": [],
   "source": [
    "#Manipulating Frames\n",
    "import manFrames\n",
    "manFrames.storeResults()"
   ]
  },
  {
   "cell_type": "code",
   "execution_count": null,
   "metadata": {},
   "outputs": [],
   "source": [
    "#Manipulating Days \n",
    "import manDays\n",
    "manDays.runDays()"
   ]
  },
  {
   "cell_type": "code",
   "execution_count": null,
   "metadata": {},
   "outputs": [],
   "source": [
    "#Group avg classification Train 7 subs test 1 sub same task v new task\n",
    "import groupAvg\n",
    "#splits up training tasks and testing tasks. Bins all sessions together\n",
    "groupAvg.groupApp()\n",
    "#seperates training and testing via sessions. Leave one sub out cv per session\n",
    "groupAvg.allTask()\n"
   ]
  },
  {
   "cell_type": "code",
   "execution_count": null,
   "metadata": {},
   "outputs": [],
   "source": [
    "import reshape\n",
    "import os\n",
    "import sys\n",
    "taskList=['glass','semantic', 'motor','mem','rest']\n",
    "\n",
    "thisDir = os.path.expanduser('~/Desktop/MSC_Alexis/analysis/')\n",
    "dataDir = thisDir + 'data/mvpa_data/'\n",
    "#Only using subs with full 10 sessions\n",
    "subList=['MSC01','MSC02','MSC03','MSC04','MSC05','MSC06','MSC07','MSC10']\n",
    "for sub in subList:\n",
    "    for task in taskList:\n",
    "        tmp=reshape.matFiles(dataDir+task+'/'+sub+'_parcel_corrmat.mat')\n",
    "        print(tmp.shape, ' number of sessions for ', sub, ' in task ', task)"
   ]
  },
  {
   "cell_type": "code",
   "execution_count": null,
   "metadata": {},
   "outputs": [],
   "source": [
    "#Some Block analysis\n",
    "#CO-CO, CO-FP, CO-DMN\n",
    "network=['co','fp','default']\n",
    "import block_featSelection\n",
    "block_featSelection.Net2Net()\n",
    "block_featSelection.subNetAll()\n",
    "\"\"\"\n",
    "for i in network:\n",
    "\n",
    "    block_featSelection.classifyCV(i,'co')\n",
    "    block_featSelection.classifyDS(i,'co')\n",
    "    block_featSelection.classifySS(i,'co')\n",
    "    block_featSelection.classifyBS(i,'co')\n",
    "\"\"\"\n",
    "    "
   ]
  },
  {
   "cell_type": "code",
   "execution_count": null,
   "metadata": {},
   "outputs": [],
   "source": [
    "import wtn_btw_netSelection\n",
    "\n",
    "wtn_btw_netSelection.classifyWTN()\n",
    "\n",
    "wtn_btw_netSelection.classifyBTW()"
   ]
  },
  {
   "cell_type": "code",
   "execution_count": null,
   "metadata": {},
   "outputs": [],
   "source": [
    "import permuteROI\n",
    "permuteROI.classifyAll()\n",
    "    \n"
   ]
  },
  {
   "cell_type": "code",
   "execution_count": null,
   "metadata": {},
   "outputs": [],
   "source": [
    "#Random feature selection \n",
    "import numpy as np\n",
    "import featSelect_speed\n",
    "featSelect_speed.runScript()\n"
   ]
  },
  {
   "cell_type": "code",
   "execution_count": null,
   "metadata": {},
   "outputs": [],
   "source": [
    "subList=['MSC01','MSC02','MSC03','MSC04','MSC05','MSC06','MSC07','MSC10']\n",
    "import permuteROI\n",
    "for sub in subList:\n",
    "    res=permuteROI.NULLmodelAll_byRow(sub)\n",
    "    res.tofile('/Users/Alexis/Desktop/MSC_Alexis/analysis/output/results/permutation/ALL/subs/'+sub+'_NULLRow.csv', sep = ',')"
   ]
  },
  {
   "cell_type": "code",
   "execution_count": null,
   "metadata": {},
   "outputs": [],
   "source": [
    "import quest_all_rdmNetNull as q\n",
    "q.runAll()\n"
   ]
  },
  {
   "cell_type": "code",
   "execution_count": null,
   "metadata": {},
   "outputs": [],
   "source": [
    "import pandas as pd\n",
    "import numpy as np\n",
    "import featSelect_speed as fs\n",
    "DS_df=pd.DataFrame()\n",
    "import os\n",
    "import sys\n",
    "import reshape\n",
    "from statistics import mean\n",
    "#import other python scripts for further anlaysis\n",
    "# Initialization of directory information:\n",
    "#thisDir = os.path.expanduser('~/Desktop/MSC_Alexis/analysis/')\n",
    "thisDir = os.path.expanduser('~/Desktop/MSC_Alexis/analysis/')\n",
    "dataDir = thisDir + 'data/mvpa_data/'\n",
    "outDir = thisDir + 'output/results/rdmNetwork/'\n",
    "#generate log sample\n",
    "#1000 points for log selection\n",
    "#loop through 125 times to generate 8*125=1000 samples per log point\n",
    "featureSize=np.logspace(1, 4.7, num=39,dtype=int)\n",
    "for i in range(100):\n",
    "    for number in featureSize:\n",
    "        #generate a new index\n",
    "        idx=np.random.randint(55278, size=(number))\n",
    "        DS=fs.DSmodel(idx)\n",
    "        DS['feature']=number\n",
    "        DS_df=pd.concat([DS_df,DS])\n",
    "    print('Finished with '+str(i)+' in iteration 100')\n",
    "DS_df.to_csv(outDir+'DS/acc.csv', index=False)"
   ]
  },
  {
   "cell_type": "code",
   "execution_count": null,
   "metadata": {},
   "outputs": [],
   "source": [
    "import DTmST\n",
    "DTmST.multiclass_perm()"
   ]
  },
  {
   "cell_type": "code",
   "execution_count": null,
   "metadata": {},
   "outputs": [],
   "source": [
    "import DTmST\n",
    "dfSS=DTmST.classifySS()\n",
    "dfSS.to_csv('/Users/Alexis/Desktop/MSC_Alexis/analysis/output/results/permutation/TrueDiff_TaskOnly_STmDT_CVmSS_acc.csv',index=False)"
   ]
  },
  {
   "cell_type": "code",
   "execution_count": 1,
   "metadata": {},
   "outputs": [
    {
     "name": "stdout",
     "output_type": "stream",
     "text": [
      "Finished with subject\n",
      "Finished with subject\n",
      "Finished with subject\n",
      "Finished with subject\n",
      "Finished with subject\n",
      "Finished with subject\n",
      "Finished with subject\n",
      "Finished with subject\n",
      "Finished with subject\n",
      "Finished with subject\n",
      "Finished with subject\n",
      "Finished with subject\n",
      "Finished with subject\n",
      "Finished with subject\n",
      "Finished with subject\n",
      "Finished with subject\n",
      "Finished with subject\n",
      "Finished with subject\n",
      "Finished with subject\n",
      "Finished with subject\n",
      "Finished with subject\n",
      "Finished with subject\n",
      "Finished with subject\n",
      "Finished with subject\n",
      "Finished with subject\n",
      "Finished with subject\n",
      "Finished with subject\n",
      "Finished with subject\n",
      "Finished with subject\n",
      "Finished with subject\n",
      "Finished with subject\n",
      "Finished with subject\n",
      "Finished with subject\n",
      "Finished with subject\n",
      "Finished with subject\n",
      "Finished with subject\n",
      "Finished with subject\n",
      "Finished with subject\n",
      "Finished with subject\n",
      "Finished with subject\n",
      "Finished with subject\n",
      "Finished with subject\n",
      "Finished with subject\n",
      "Finished with subject\n",
      "Finished with subject\n",
      "Finished with subject\n",
      "Finished with subject\n",
      "Finished with subject\n",
      "Finished with subject\n",
      "Finished with subject\n",
      "Finished with subject\n",
      "Finished with subject\n",
      "Finished with subject\n",
      "Finished with subject\n",
      "Finished with subject\n",
      "Finished with subject\n",
      "Finished with subject\n",
      "Finished with subject\n",
      "Finished with subject\n",
      "Finished with subject\n",
      "Finished with subject\n",
      "Finished with subject\n",
      "Finished with subject\n",
      "Finished with subject\n"
     ]
    }
   ],
   "source": [
    "import manDays\n",
    "manDays.classifyAll()\n"
   ]
  },
  {
   "cell_type": "code",
   "execution_count": null,
   "metadata": {},
   "outputs": [],
   "source": [
    "import DTmST\n",
    "DTmST.multiclass_perm()"
   ]
  },
  {
   "cell_type": "code",
   "execution_count": null,
   "metadata": {},
   "outputs": [],
   "source": []
  }
 ],
 "metadata": {
  "kernelspec": {
   "display_name": "Python 3",
   "language": "python",
   "name": "python3"
  },
  "language_info": {
   "codemirror_mode": {
    "name": "ipython",
    "version": 3
   },
   "file_extension": ".py",
   "mimetype": "text/x-python",
   "name": "python",
   "nbconvert_exporter": "python",
   "pygments_lexer": "ipython3",
   "version": "3.7.6"
  }
 },
 "nbformat": 4,
 "nbformat_minor": 4
}
