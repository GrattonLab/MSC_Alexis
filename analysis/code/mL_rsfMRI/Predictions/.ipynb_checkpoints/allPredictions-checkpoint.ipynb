{
 "cells": [
  {
   "cell_type": "code",
   "execution_count": null,
   "metadata": {},
   "outputs": [],
   "source": [
    "#Aim 1 and Aim 2 results\n",
    "import masterClass\n",
    "masterClass.classifyCV()\n",
    "masterClass.classifyDS()\n",
    "masterClass.classifySS()\n",
    "masterClass.classifyBS()\n"
   ]
  },
  {
   "cell_type": "code",
   "execution_count": null,
   "metadata": {},
   "outputs": [],
   "source": [
    "#Classify All tasks with rest split \n",
    "masterClass.classifyAll()"
   ]
  },
  {
   "cell_type": "code",
   "execution_count": null,
   "metadata": {},
   "outputs": [],
   "source": [
    "#Random Feature selection\n",
    "numbers=[10,20,30,40,50,60,70,80,90,100,200,300,400,500,1000,1500,2000,2500,3000,4000,5000,10000,15000,20000,30000,40000,50000,14808,10824,8736, 4620,5264,3151, 484, 4060, 2375,316, 564,45,21]\n",
    "import numpy as np\n",
    "import randSelection\n",
    "for number in numbers:\n",
    "    idx=np.random.randint(55278, size=(number))\n",
    "    randSelection.classifyDS(idx, number)\n",
    "    randSelection.classifySS(idx, number)\n",
    "    randSelection.classifyBS(idx, number)\n",
    "    randSelection.classifyCV(idx, number)\n",
    "    print('Finished with '+str(number))"
   ]
  },
  {
   "cell_type": "code",
   "execution_count": null,
   "metadata": {},
   "outputs": [],
   "source": [
    "#Feature Selection of networks\n",
    "import featSelection\n",
    "networkList=['unassign',\n",
    "    'default',\n",
    "    'visual',\n",
    "    'fp',\n",
    "    'dan',\n",
    "    'van',\n",
    "    'salience',\n",
    "    'co',\n",
    "    'sm',\n",
    "    'sm-lat',\n",
    "    'auditory',\n",
    "    'pmn',\n",
    "    'pon']\n",
    "\n",
    "for network in networkList:\n",
    "    print('Now running for network '+network)\n",
    "    featSelection.classifyCV(network)\n",
    "    print(\"Finished CV\")\n",
    "    featSelection.classifyDS(network)\n",
    "    print(\"Finished DS\")\n",
    "    featSelection.classifySS(network)\n",
    "    print(\"Finished SS\")\n",
    "    featSelection.classifyBS(network)\n",
    "    print(\"Finished BS\")"
   ]
  },
  {
   "cell_type": "code",
   "execution_count": null,
   "metadata": {},
   "outputs": [],
   "source": [
    "#Permutation\n",
    "#SSmOS_CVmDS\n",
    "import SSmOS\n",
    "CVmDS_df=pd.DataFrame()\n",
    "for i in range(1000):\n",
    "    DS=SSmOS.CVmDS()\n",
    "    CVmDS_df=pd.concat([DSmCV_df,DS])\n",
    "CVmDS_df.to_csv('~/Desktop/MSC_Alexis/analysis/output/results/permutation/CVmDS_acc.csv',index=False)\n"
   ]
  },
  {
   "cell_type": "code",
   "execution_count": null,
   "metadata": {},
   "outputs": [],
   "source": [
    "#Permutation\n",
    "#SSmOS_SSmBS\n",
    "SSmBS_df=pd.DataFrame()\n",
    "for i in range(1000):\n",
    "    SS=SSmOS.SSmBS()\n",
    "    SSmBS_df=pd.concat([SSmBS_df, SS])\n",
    "SSmBS_df.to_csv('~/Desktop/MSC_Alexis/analysis/output/results/permutation/SSmBS_acc.csv',index=False)\n"
   ]
  },
  {
   "cell_type": "code",
   "execution_count": 1,
   "metadata": {},
   "outputs": [],
   "source": [
    "#Permutation\n",
    "#STmDT_CVmSS\n",
    "import DTmST\n",
    "DTmST.DSmBS()\n",
    "DTmST.CVmSS()"
   ]
  },
  {
   "cell_type": "code",
   "execution_count": null,
   "metadata": {},
   "outputs": [],
   "source": [
    "#Permutation\n",
    "#All tasks\n",
    "SSmOS.classifyScores()"
   ]
  },
  {
   "cell_type": "code",
   "execution_count": 2,
   "metadata": {},
   "outputs": [],
   "source": [
    "#Manipulating Frames\n",
    "import manFrames\n",
    "manFrames.storeResults()"
   ]
  },
  {
   "cell_type": "code",
   "execution_count": null,
   "metadata": {},
   "outputs": [],
   "source": [
    "#Manipulating Days \n",
    "import manDays\n",
    "manDays.runDays()"
   ]
  }
 ],
 "metadata": {
  "kernelspec": {
   "display_name": "Python 3",
   "language": "python",
   "name": "python3"
  },
  "language_info": {
   "codemirror_mode": {
    "name": "ipython",
    "version": 3
   },
   "file_extension": ".py",
   "mimetype": "text/x-python",
   "name": "python",
   "nbconvert_exporter": "python",
   "pygments_lexer": "ipython3",
   "version": "3.7.6"
  }
 },
 "nbformat": 4,
 "nbformat_minor": 4
}
