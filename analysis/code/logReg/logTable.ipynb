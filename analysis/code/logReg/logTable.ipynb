{
 "cells": [
  {
   "cell_type": "code",
   "execution_count": 1,
   "metadata": {},
   "outputs": [],
   "source": [
    "library(pander)\n",
    "DS=read.csv('/Users/aporter1350/Desktop/MSC_Alexis/analysis/output/results/logReg/acc/DS/stats_DS.csv', header=T)\n",
    "SS=read.csv('/Users/aporter1350/Desktop/MSC_Alexis/analysis/output/results/logReg/acc/SS/stats_SS.csv', header=T)\n",
    "CV=read.csv('/Users/aporter1350/Desktop/MSC_Alexis/analysis/output/results/logReg/acc/SS/stats_cv.csv', header=T)"
   ]
  },
  {
   "cell_type": "code",
   "execution_count": 4,
   "metadata": {},
   "outputs": [
    {
     "name": "stdout",
     "output_type": "stream",
     "text": [
      "\n",
      "\n",
      "| Test_Variable |  Mean  |  Std   |\n",
      "|:-------------:|:------:|:------:|\n",
      "|      mem      | 0.9062 | 0.1067 |\n",
      "|     mixed     | 0.7391 | 0.1677 |\n",
      "|     motor     | 0.8273 | 0.1643 |\n",
      "\n"
     ]
    }
   ],
   "source": [
    "pander(DS)"
   ]
  },
  {
   "cell_type": "code",
   "execution_count": 5,
   "metadata": {},
   "outputs": [
    {
     "name": "stdout",
     "output_type": "stream",
     "text": [
      "\n",
      "\n",
      "| Test_Variable |  Mean  |  Std   |\n",
      "|:-------------:|:------:|:------:|\n",
      "|      mem      | 0.6979 | 0.2787 |\n",
      "|     mixed     | 0.5833 | 0.267  |\n",
      "|     motor     | 0.8854 | 0.125  |\n",
      "\n"
     ]
    }
   ],
   "source": [
    "pander(SS)"
   ]
  },
  {
   "cell_type": "code",
   "execution_count": 2,
   "metadata": {},
   "outputs": [
    {
     "name": "stdout",
     "output_type": "stream",
     "text": [
      "\n",
      "\n",
      "| Test_Variable |  Mean  |   Std   |\n",
      "|:-------------:|:------:|:-------:|\n",
      "|      mem      | 0.9812 | 0.02588 |\n",
      "|     mixed     | 0.9625 | 0.05175 |\n",
      "|     motor     | 0.9625 | 0.04432 |\n",
      "\n"
     ]
    }
   ],
   "source": [
    "pander(CV)"
   ]
  },
  {
   "cell_type": "code",
   "execution_count": null,
   "metadata": {},
   "outputs": [],
   "source": []
  }
 ],
 "metadata": {
  "kernelspec": {
   "display_name": "R 3.3",
   "language": "R",
   "name": "ir33"
  },
  "language_info": {
   "codemirror_mode": "r",
   "file_extension": ".r",
   "mimetype": "text/x-r-source",
   "name": "R",
   "pygments_lexer": "r",
   "version": "3.5.2"
  }
 },
 "nbformat": 4,
 "nbformat_minor": 2
}
