{
 "cells": [
  {
   "cell_type": "code",
   "execution_count": 8,
   "metadata": {},
   "outputs": [],
   "source": [
    "library(pander)\n",
    "#DS=read.csv('/Users/aporter1350/Desktop/MSC_Alexis/analysis/output/results/logReg/acc/DS/stats_DS.csv', header=T)\n",
    "#SS=read.csv('/Users/aporter1350/Desktop/MSC_Alexis/analysis/output/results/logReg/acc/SS/stats_SS.csv', header=T)\n",
    "#CV=read.csv('/Users/aporter1350/Desktop/MSC_Alexis/analysis/output/results/logReg/acc/SS/stats_cv.csv', header=T)\n",
    "#BS=read.csv('/Users/Alexis/Desktop/MSC_Alexis/analysis/output/results/logReg/acc/BS/stats_BS.csv', header=T)\n",
    "separateSS=read.csv('/Users/Alexis/Desktop/MSC_Alexis/analysis/output/results/logReg/acc/SS/separate_stats_SS.csv', header=T)"
   ]
  },
  {
   "cell_type": "code",
   "execution_count": 4,
   "metadata": {},
   "outputs": [
    {
     "name": "stdout",
     "output_type": "stream",
     "text": [
      "\n",
      "\n",
      "| Test_Variable |  Mean  |  Std   |\n",
      "|:-------------:|:------:|:------:|\n",
      "|      mem      | 0.9062 | 0.1067 |\n",
      "|     mixed     | 0.7391 | 0.1677 |\n",
      "|     motor     | 0.8273 | 0.1643 |\n",
      "\n"
     ]
    }
   ],
   "source": [
    "pander(DS)"
   ]
  },
  {
   "cell_type": "code",
   "execution_count": 5,
   "metadata": {},
   "outputs": [
    {
     "name": "stdout",
     "output_type": "stream",
     "text": [
      "\n",
      "\n",
      "| Test_Variable |  Mean  |  Std   |\n",
      "|:-------------:|:------:|:------:|\n",
      "|      mem      | 0.6979 | 0.2787 |\n",
      "|     mixed     | 0.5833 | 0.267  |\n",
      "|     motor     | 0.8854 | 0.125  |\n",
      "\n"
     ]
    }
   ],
   "source": [
    "pander(SS)"
   ]
  },
  {
   "cell_type": "code",
   "execution_count": 2,
   "metadata": {},
   "outputs": [
    {
     "name": "stdout",
     "output_type": "stream",
     "text": [
      "\n",
      "\n",
      "| Test_Variable |  Mean  |   Std   |\n",
      "|:-------------:|:------:|:-------:|\n",
      "|      mem      | 0.9812 | 0.02588 |\n",
      "|     mixed     | 0.9625 | 0.05175 |\n",
      "|     motor     | 0.9625 | 0.04432 |\n",
      "\n"
     ]
    }
   ],
   "source": [
    "pander(CV)"
   ]
  },
  {
   "cell_type": "code",
   "execution_count": 3,
   "metadata": {},
   "outputs": [
    {
     "name": "stdout",
     "output_type": "stream",
     "text": [
      "\n",
      "\n",
      "| Test_Variable | Train_Variable |  Mean  |  Std   |\n",
      "|:-------------:|:--------------:|:------:|:------:|\n",
      "|     mixed     |      mem       | 0.7734 | 0.1522 |\n",
      "|     motor     |      mem       | 0.8063 | 0.1549 |\n",
      "|      mem      |     mixed      | 0.7258 | 0.1626 |\n",
      "|     motor     |     mixed      | 0.7102 | 0.1584 |\n",
      "|      mem      |     motor      | 0.607  | 0.1927 |\n",
      "|     mixed     |     motor      | 0.5539 | 0.1956 |\n",
      "\n"
     ]
    }
   ],
   "source": [
    "pander(BS)"
   ]
  },
  {
   "cell_type": "code",
   "execution_count": 9,
   "metadata": {},
   "outputs": [
    {
     "name": "stdout",
     "output_type": "stream",
     "text": [
      "\n",
      "\n",
      "| Test_Variable | Train_Variable |  Mean  |  Std   |\n",
      "|:-------------:|:--------------:|:------:|:------:|\n",
      "|     mixed     |      mem       | 0.7708 | 0.1711 |\n",
      "|     motor     |      mem       | 0.8854 | 0.1332 |\n",
      "|      mem      |     mixed      | 0.8958 | 0.1068 |\n",
      "|     motor     |     mixed      | 0.8854 | 0.1255 |\n",
      "|      mem      |     motor      |  0.5   | 0.2559 |\n",
      "|     mixed     |     motor      | 0.3958 | 0.2077 |\n",
      "\n"
     ]
    }
   ],
   "source": [
    "pander(separateSS)"
   ]
  },
  {
   "cell_type": "code",
   "execution_count": null,
   "metadata": {},
   "outputs": [],
   "source": []
  }
 ],
 "metadata": {
  "kernelspec": {
   "display_name": "R 3.3",
   "language": "R",
   "name": "ir33"
  },
  "language_info": {
   "codemirror_mode": "r",
   "file_extension": ".r",
   "mimetype": "text/x-r-source",
   "name": "R",
   "pygments_lexer": "r",
   "version": "3.5.2"
  }
 },
 "nbformat": 4,
 "nbformat_minor": 2
}
