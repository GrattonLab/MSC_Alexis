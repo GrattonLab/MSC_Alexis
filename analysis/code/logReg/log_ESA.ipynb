{
 "cells": [
  {
   "cell_type": "code",
   "execution_count": 21,
   "metadata": {},
   "outputs": [
    {
     "data": {
      "text/plain": [
       "MSC01    0.89375\n",
       "MSC02    0.93125\n",
       "MSC03    0.82500\n",
       "MSC04    0.91875\n",
       "MSC05    0.91875\n",
       "MSC06    0.93125\n",
       "MSC07    0.92500\n",
       "MSC10    0.90625\n",
       "dtype: float64"
      ]
     },
     "execution_count": 21,
     "metadata": {},
     "output_type": "execute_result"
    }
   ],
   "source": [
    "df.mean(axis=0)"
   ]
  },
  {
   "cell_type": "code",
   "execution_count": 23,
   "metadata": {},
   "outputs": [
    {
     "data": {
      "text/plain": [
       "MSC01    0.111604\n",
       "MSC02    0.099777\n",
       "MSC03    0.162569\n",
       "MSC04    0.099777\n",
       "MSC05    0.084251\n",
       "MSC06    0.092341\n",
       "MSC07    0.110195\n",
       "MSC10    0.077632\n",
       "dtype: float64"
      ]
     },
     "execution_count": 23,
     "metadata": {},
     "output_type": "execute_result"
    }
   ],
   "source": [
    "df.std(axis=0)"
   ]
  },
  {
   "cell_type": "code",
   "execution_count": 32,
   "metadata": {},
   "outputs": [],
   "source": [
    "def DS_boxplots(task):\n",
    "    import pandas as pd\n",
    "    import numpy as np\n",
    "    import seaborn as sns\n",
    "    import matplotlib as plt\n",
    "    %matplotlib inline\n",
    "    df=pd.read_csv('/Users/aporter1350/Desktop/MSC_Alexis/analysis/output/results/logReg/acc/DS/'+task+'_accTable_diff_sub.csv')\n",
    "    df.drop(columns=['Test_variables'], inplace=True)\n",
    "    meltdf=pd.melt(df, var_name='Training Variables', value_name='Accuracy')\n",
    "    ax=sns.boxplot(x=\"Training Variables\", y=\"Accuracy\", data=meltdf)\n",
    "    ax.set_title(task)\n",
    "    fig=ax.get_figure()\n",
    "    fig.savefig('/Users/aporter1350/Desktop/MSC_Alexis/analysis/output/images/logReg/acc/DS/' +task+ '_acc_boxplots.png', bbox_inches='tight')\n",
    "    "
   ]
  },
  {
   "cell_type": "code",
   "execution_count": 33,
   "metadata": {},
   "outputs": [
    {
     "data": {
      "image/png": "[encoded data removed]",
      "text/plain": [
       "<Figure size 432x288 with 1 Axes>"
      ]
     },
     "metadata": {
      "needs_background": "light"
     },
     "output_type": "display_data"
    }
   ],
   "source": [
    "taskName=['mem','mixed','motor']\n",
    "for t in taskName:\n",
    "    DS_boxplots(t)"
   ]
  },
  {
   "cell_type": "code",
   "execution_count": null,
   "metadata": {},
   "outputs": [],
   "source": []
  }
 ],
 "metadata": {
  "kernelspec": {
   "display_name": "Python 3",
   "language": "python",
   "name": "python3"
  },
  "language_info": {
   "codemirror_mode": {
    "name": "ipython",
    "version": 3
   },
   "file_extension": ".py",
   "mimetype": "text/x-python",
   "name": "python",
   "nbconvert_exporter": "python",
   "pygments_lexer": "ipython3",
   "version": "3.7.1"
  }
 },
 "nbformat": 4,
 "nbformat_minor": 2
}
