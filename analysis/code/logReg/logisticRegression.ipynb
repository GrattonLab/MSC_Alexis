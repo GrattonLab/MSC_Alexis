{
 "cells": [
  {
   "cell_type": "code",
   "execution_count": 96,
   "metadata": {},
   "outputs": [],
   "source": [
    "from sklearn.linear_model import LogisticRegression\n",
    "from sklearn.model_selection import cross_val_score\n",
    "from sklearn.model_selection import StratifiedShuffleSplit\n",
    "import numpy as np\n",
    "import reshape\n",
    "\n",
    "# all parameters not specified are set to their defaults\n",
    "# default solver is incredibly slow thats why we change it\n",
    "logisticRegr = LogisticRegression(solver = 'lbfgs')\n",
    "\n",
    "taskFC=reshape.matFiles('/Users/aporter1350/Desktop/MSC_Alexis/analysis/data/mvpa_data/mem/MSC01_parcel_corrmat.mat')\n",
    "#Load rest\n",
    "restFC=reshape.matFiles('/Users/aporter1350/Desktop/MSC_Alexis/analysis/data/mvpa_data/rest/MSC01_parcel_corrmat.mat')\n",
    "\n",
    "\n",
    "\n",
    "\n",
    "test_taskFC=reshape.matFiles('/Users/aporter1350/Desktop/MSC_Alexis/analysis/data/mvpa_data/mem/MSC02_parcel_corrmat.mat')\n",
    "#Load rest\n",
    "test_restFC=reshape.matFiles('/Users/aporter1350/Desktop/MSC_Alexis/analysis/data/mvpa_data/rest/MSC02_parcel_corrmat.mat')"
   ]
  },
  {
   "cell_type": "code",
   "execution_count": 83,
   "metadata": {},
   "outputs": [],
   "source": [
    "x_train=np.concatenate((taskFC, restFC))\n",
    "taskSize=taskFC.shape[0]\n",
    "restSize=restFC.shape[0]\n",
    "t = np.ones(taskSize, dtype = int)\n",
    "r=np.zeros(restSize, dtype=int)\n",
    "y_train = np.concatenate((t,r))\n",
    "\n",
    "\n",
    "x_test=np.concatenate((test_taskFC, test_restFC))\n",
    "ttaskSize=test_taskFC.shape[0]\n",
    "trestSize=test_restFC.shape[0]\n",
    "tt = np.ones(ttaskSize, dtype = int)\n",
    "tr=np.zeros(trestSize, dtype=int)\n",
    "y_test = np.concatenate((tt,tr))"
   ]
  },
  {
   "cell_type": "code",
   "execution_count": 67,
   "metadata": {},
   "outputs": [],
   "source": [
    "#from sklearn.model_selection import train_test_split\n",
    "#X_train, X_test, y_train, y_test = train_test_split(data, y, test_size = 0.2, random_state = 42)\n",
    "\n",
    "#logregression_l1 = LogisticRegression(penalty='l1', dual=False,\n",
    "#                                     random_state=0)\n",
    "\n",
    "#cv = StratifiedShuffleSplit(n_splits=100, test_size=0.25,\n",
    "#                            random_state=0)\n",
    "\n",
    "#score = cross_val_score(logregression_l1, data,\n",
    "#                                        y, scoring='roc_auc',\n",
    "#                                        cv=[])"
   ]
  },
  {
   "cell_type": "code",
   "execution_count": 68,
   "metadata": {},
   "outputs": [
    {
     "data": {
      "text/plain": [
       "LogisticRegression(C=1.0, class_weight=None, dual=False, fit_intercept=True,\n",
       "          intercept_scaling=1, max_iter=100, multi_class='warn',\n",
       "          n_jobs=None, penalty='l2', random_state=None, solver='lbfgs',\n",
       "          tol=0.0001, verbose=0, warm_start=False)"
      ]
     },
     "execution_count": 68,
     "metadata": {},
     "output_type": "execute_result"
    }
   ],
   "source": [
    "logisticRegr.fit(x_train, y_train)"
   ]
  },
  {
   "cell_type": "code",
   "execution_count": 69,
   "metadata": {},
   "outputs": [],
   "source": [
    "p=logisticRegr.predict(x_test)"
   ]
  },
  {
   "cell_type": "code",
   "execution_count": 70,
   "metadata": {},
   "outputs": [
    {
     "name": "stdout",
     "output_type": "stream",
     "text": [
      "0.9\n"
     ]
    }
   ],
   "source": [
    "# Use score method to get accuracy of model\n",
    "score = logisticRegr.score(x_test, y_test)\n",
    "print(score)"
   ]
  },
  {
   "cell_type": "code",
   "execution_count": 71,
   "metadata": {},
   "outputs": [
    {
     "name": "stdout",
     "output_type": "stream",
     "text": [
      "[[ 8  2]\n",
      " [ 0 10]]\n"
     ]
    }
   ],
   "source": [
    "import matplotlib.pyplot as plt\n",
    "import seaborn as sns\n",
    "from sklearn import metrics\n",
    "cm = metrics.confusion_matrix(y_test, p)\n",
    "print(cm)"
   ]
  },
  {
   "cell_type": "code",
   "execution_count": 89,
   "metadata": {},
   "outputs": [
    {
     "data": {
      "image/png": "[encoded data removed]",
      "text/plain": [
       "<Figure size 648x648 with 2 Axes>"
      ]
     },
     "metadata": {
      "needs_background": "light"
     },
     "output_type": "display_data"
    }
   ],
   "source": [
    "import matplotlib.pyplot as plt\n",
    "plt.figure(figsize=(9,9))\n",
    "sns.heatmap(cm, annot=True, fmt=\".3f\", linewidths=.5, square = True, cmap = 'Blues_r');\n",
    "plt.ylabel('Actual label');\n",
    "plt.xlabel('Predicted label');\n",
    "all_sample_title = 'Accuracy Score: {0}'.format(score)\n",
    "plt.title(all_sample_title, size = 15);\n",
    "plt.savefig(\"/Users/aporter1350/Desktop/output.png\")"
   ]
  },
  {
   "cell_type": "code",
   "execution_count": 94,
   "metadata": {},
   "outputs": [],
   "source": [
    "def logDS(task='taskname', trainList=['MSC01','MSC02','MSC03','MSC04','MSC05','MSC06','MSC07','MSC08','MSC09','MSC10'], predictList=['MSC01','MSC02','MSC03','MSC04','MSC05','MSC06','MSC07','MSC08','MSC09','MSC10']):\n",
    "    from sklearn.linear_model import LogisticRegression\n",
    "    import numpy as np\n",
    "    import reshape\n",
    "    import matplotlib.pyplot as plt\n",
    "    import seaborn as sns\n",
    "    from sklearn import metrics\n",
    "# all parameters not specified are set to their defaults\n",
    "# default solver is incredibly slow thats why we change it\n",
    "    logisticRegr = LogisticRegression(solver = 'lbfgs')\n",
    "    accTable=[]\n",
    "    for i in trainList:\n",
    "        #Load task FC\n",
    "        taskFC=reshape.matFiles('/Users/aporter1350/Desktop/MSC_Alexis/analysis/data/mvpa_data/' +task+ '/' +i+ '_parcel_corrmat.mat')\n",
    "        #Load rest\n",
    "        restFC=reshape.matFiles('/Users/aporter1350/Desktop/MSC_Alexis/analysis/data/mvpa_data/rest/' +i+ '_parcel_corrmat.mat')\n",
    "        #Create a training dataset targets 1/0 ==task/rest, chunk=#days\n",
    "        x_train=np.concatenate((taskFC, restFC))\n",
    "        taskSize=taskFC.shape[0]\n",
    "        restSize=restFC.shape[0]\n",
    "        t = np.ones(taskSize, dtype = int)\n",
    "        r=np.zeros(restSize, dtype=int)\n",
    "        y_train = np.concatenate((t,r))\n",
    "        logisticRegr.fit(x_train, y_train)\n",
    "        acc_scores_per_task=[]\n",
    "        #Lets loop through all scenerios for sub and task of interest\n",
    "        for j in predictList:\n",
    "            #Load testing set\n",
    "            test_taskFC=reshape.matFiles('/Users/aporter1350/Desktop/MSC_Alexis/analysis/data/mvpa_data/'+task+'/'+j+'_parcel_corrmat.mat')\n",
    "            #and all rest files\n",
    "            test_restFC=reshape.matFiles('/Users/aporter1350/Desktop/MSC_Alexis/analysis/data/mvpa_data/rest/'+j+'_parcel_corrmat.mat')\n",
    "            #Create testing dataset\n",
    "            x_test=np.concatenate((test_taskFC, test_restFC))\n",
    "            ttaskSize=test_taskFC.shape[0]\n",
    "            trestSize=test_restFC.shape[0]\n",
    "            tt = np.ones(ttaskSize, dtype = int)\n",
    "            tr=np.zeros(trestSize, dtype=int)\n",
    "            y_test = np.concatenate((tt,tr))\n",
    "            p=logisticRegr.predict(x_test)\n",
    "            # Use score method to get accuracy of model\n",
    "            score = logisticRegr.score(x_test, y_test)\n",
    "            acc_scores_per_task.append(acc)\n",
    "            #construct a confusion matrix\n",
    "            cm = metrics.confusion_matrix(y_test, p)\n",
    "            plt.figure(figsize=(9,9))\n",
    "            sns.heatmap(cm, annot=True, fmt=\".3f\", linewidths=.5, square = True, cmap = 'Blues_r');\n",
    "            plt.ylabel('Actual label');\n",
    "            plt.xlabel('Predicted label');\n",
    "            all_sample_title = 'Accuracy Score: {0}'.format(score)\n",
    "            plt.title(all_sample_title, size = 15);\n",
    "            plt.savefig(\"/Users/aporter1350/Desktop//MSC_Alexis/analysis/output/images/logReg/cm/\" +task+ '_train' +i+ '_test_' +j+ '.png')\n",
    "        tmp_df=pd.DataFrame({'Test_variables':predictList, i:acc_scores_per_task}).set_index('Test_variables')\n",
    "        accTable.append(tmp_df)\n",
    "    accTable=pd.concat(accTable, axis=1)\n",
    "    accTable.to_csv('/Users/Alexis/Desktop/MSC_Alexis/analysis/output/results/logReg/acc/'+task+'_accTable_diff_sub.csv')\n",
    "\n"
   ]
  },
  {
   "cell_type": "code",
   "execution_count": 95,
   "metadata": {},
   "outputs": [
    {
     "ename": "AttributeError",
     "evalue": "module 'reshape' has no attribute 'matfiles'",
     "output_type": "error",
     "traceback": [
      "\u001b[0;31m---------------------------------------------------------------------------\u001b[0m",
      "\u001b[0;31mAttributeError\u001b[0m                            Traceback (most recent call last)",
      "\u001b[0;32m<ipython-input-95-6acbaf8a6702>\u001b[0m in \u001b[0;36m<module>\u001b[0;34m\u001b[0m\n\u001b[1;32m      1\u001b[0m \u001b[0mtaskName\u001b[0m\u001b[0;34m=\u001b[0m\u001b[0;34m[\u001b[0m\u001b[0;34m'mem'\u001b[0m\u001b[0;34m,\u001b[0m\u001b[0;34m'mixed'\u001b[0m\u001b[0;34m,\u001b[0m\u001b[0;34m'motor'\u001b[0m\u001b[0;34m]\u001b[0m\u001b[0;34m\u001b[0m\u001b[0;34m\u001b[0m\u001b[0m\n\u001b[1;32m      2\u001b[0m \u001b[0;32mfor\u001b[0m \u001b[0mt\u001b[0m \u001b[0;32min\u001b[0m \u001b[0mtaskName\u001b[0m\u001b[0;34m:\u001b[0m\u001b[0;34m\u001b[0m\u001b[0;34m\u001b[0m\u001b[0m\n\u001b[0;32m----> 3\u001b[0;31m     \u001b[0mlogDS\u001b[0m\u001b[0;34m(\u001b[0m\u001b[0mt\u001b[0m\u001b[0;34m)\u001b[0m\u001b[0;34m\u001b[0m\u001b[0;34m\u001b[0m\u001b[0m\n\u001b[0m",
      "\u001b[0;32m<ipython-input-94-ab407801dfec>\u001b[0m in \u001b[0;36mlogDS\u001b[0;34m(task, trainList, predictList)\u001b[0m\n\u001b[1;32m     12\u001b[0m     \u001b[0;32mfor\u001b[0m \u001b[0mi\u001b[0m \u001b[0;32min\u001b[0m \u001b[0mtrainList\u001b[0m\u001b[0;34m:\u001b[0m\u001b[0;34m\u001b[0m\u001b[0;34m\u001b[0m\u001b[0m\n\u001b[1;32m     13\u001b[0m         \u001b[0;31m#Load task FC\u001b[0m\u001b[0;34m\u001b[0m\u001b[0;34m\u001b[0m\u001b[0;34m\u001b[0m\u001b[0m\n\u001b[0;32m---> 14\u001b[0;31m         \u001b[0mtaskFC\u001b[0m\u001b[0;34m=\u001b[0m\u001b[0mreshape\u001b[0m\u001b[0;34m.\u001b[0m\u001b[0mmatfiles\u001b[0m\u001b[0;34m(\u001b[0m\u001b[0;34m'/Users/aporter1350/Desktop/MSC_Alexis/analysis/data/mvpa_data/'\u001b[0m \u001b[0;34m+\u001b[0m\u001b[0mtask\u001b[0m\u001b[0;34m+\u001b[0m \u001b[0;34m'/'\u001b[0m \u001b[0;34m+\u001b[0m\u001b[0mi\u001b[0m\u001b[0;34m+\u001b[0m \u001b[0;34m'_parcel_corrmat.mat'\u001b[0m\u001b[0;34m)\u001b[0m\u001b[0;34m\u001b[0m\u001b[0;34m\u001b[0m\u001b[0m\n\u001b[0m\u001b[1;32m     15\u001b[0m         \u001b[0;31m#Load rest\u001b[0m\u001b[0;34m\u001b[0m\u001b[0;34m\u001b[0m\u001b[0;34m\u001b[0m\u001b[0m\n\u001b[1;32m     16\u001b[0m         \u001b[0mrestFC\u001b[0m\u001b[0;34m=\u001b[0m\u001b[0mreshape\u001b[0m\u001b[0;34m.\u001b[0m\u001b[0mmatFiles\u001b[0m\u001b[0;34m(\u001b[0m\u001b[0;34m'/Users/aporter1350/Desktop/MSC_Alexis/analysis/data/mvpa_data/rest/'\u001b[0m \u001b[0;34m+\u001b[0m\u001b[0mi\u001b[0m\u001b[0;34m+\u001b[0m \u001b[0;34m'_parcel_corrmat.mat'\u001b[0m\u001b[0;34m)\u001b[0m\u001b[0;34m\u001b[0m\u001b[0;34m\u001b[0m\u001b[0m\n",
      "\u001b[0;31mAttributeError\u001b[0m: module 'reshape' has no attribute 'matfiles'"
     ]
    }
   ],
   "source": [
    "taskName=['mem','mixed','motor']\n",
    "for t in taskName:\n",
    "    logDS(t)"
   ]
  },
  {
   "cell_type": "code",
   "execution_count": null,
   "metadata": {},
   "outputs": [],
   "source": []
  }
 ],
 "metadata": {
  "kernelspec": {
   "display_name": "Python 3",
   "language": "python",
   "name": "python3"
  },
  "language_info": {
   "codemirror_mode": {
    "name": "ipython",
    "version": 3
   },
   "file_extension": ".py",
   "mimetype": "text/x-python",
   "name": "python",
   "nbconvert_exporter": "python",
   "pygments_lexer": "ipython3",
   "version": "3.7.1"
  }
 },
 "nbformat": 4,
 "nbformat_minor": 2
}
