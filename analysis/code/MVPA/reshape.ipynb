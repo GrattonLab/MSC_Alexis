{
 "cells": [
  {
   "cell_type": "code",
   "execution_count": 2,
   "metadata": {},
   "outputs": [],
   "source": [
    "def matFiles(df='path'):\n",
    "    import scipy.io\n",
    "    import pandas as pd\n",
    "    import numpy as np\n",
    "    #Consistent parameters to use for editing datasets\n",
    "    nrois=333\n",
    "    nsess=10\n",
    "    #Load FC file\n",
    "    fileFC=scipy.io.loadmat(df)\n",
    "    #Convert to numpy array\n",
    "    fileFC=np.array(fileFC['parcel_corrmat'])\n",
    "    #Replace nans and infs with zero\n",
    "    fileFC=np.nan_to_num(fileFC)\n",
    "    #Index upper triangle of matrix\n",
    "    mask=np.triu_indices(nrois,1)\n",
    "    ds=np.empty((nsess, int(nrois*(nrois-1)/2)))\n",
    "    count=0\n",
    "    #Loop through all 10 days to reshape correlations into linear form\n",
    "    for sess in range(nsess):\n",
    "        tmp=fileFC[:,:,sess]\n",
    "        ds[count]=tmp[mask]\n",
    "        count=count+1\n",
    "    return ds"
   ]
  },
  {
   "cell_type": "code",
   "execution_count": null,
   "metadata": {},
   "outputs": [],
   "source": [
    "#in order to call this from other notebooks must download as .py and import file"
   ]
  },
  {
   "cell_type": "code",
   "execution_count": null,
   "metadata": {},
   "outputs": [],
   "source": []
  }
 ],
 "metadata": {
  "kernelspec": {
   "display_name": "Python 2",
   "language": "python",
   "name": "python2"
  },
  "language_info": {
   "codemirror_mode": {
    "name": "ipython",
    "version": 2
   },
   "file_extension": ".py",
   "mimetype": "text/x-python",
   "name": "python",
   "nbconvert_exporter": "python",
   "pygments_lexer": "ipython2",
   "version": "2.7.17"
  }
 },
 "nbformat": 4,
 "nbformat_minor": 2
}
