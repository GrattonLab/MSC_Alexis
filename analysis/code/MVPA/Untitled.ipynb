{
 "cells": [
  {
   "cell_type": "code",
   "execution_count": 1,
   "metadata": {},
   "outputs": [],
   "source": [
    "import pandas as pd\n",
    "import numpy as np\n",
    "from mvpa2.datasets import dataset_wizard, vstack\n",
    "from mvpa2.generators.partition import NFoldPartitioner\n",
    "from mvpa2.measures.base import CrossValidation\n",
    "from mvpa2.clfs.meta import MappedClassifier\n",
    "from mvpa2.clfs.svm import LinearCSVMC\n",
    "    #import mvpa2\n",
    "    #import mvpa2.datasets\n",
    "import scipy.io\n",
    "    #from mvpa2.suite import *\n",
    "    #Consistent parameters to use for editing datasets\n",
    "nrois=333\n",
    "nsess=10\n",
    "nsub=10\n",
    "    #make an empty df to store accuracy scores from each run\n",
    "    #Load task FC\n",
    "taskFile=scipy.io.loadmat('/Users/Alexis/Box/Quest_Backup/MSC/TaskFC/FC_Parcels/mixed/MSC08_parcel_corrmat.mat')\n",
    "#Convert to numpy array\n",
    "task_FC=np.array(taskFile['parcel_corrmat'])\n",
    "#Replace nans and infs with zero\n",
    "task_FC=np.nan_to_num(task_FC)\n",
    "#Index upper triangle of matrix\n",
    "task_mask=np.triu_indices(nrois,1)\n",
    "task_ds=np.empty((nsess, int(nrois*(nrois-1)/2)))\n",
    "task_value=0\n",
    "        #Loop through all 10 days to reshape correlations into linear form\n",
    "for sess in range(nsess):\n",
    "    tmp=task_FC[:,:,sess]\n",
    "    task_ds[task_value]=tmp[task_mask]\n",
    "    task_value=task_value+1\n",
    "        #Load rest\n",
    "restFile=scipy.io.loadmat('/Users/Alexis/Box/Quest_Backup/MSC/TaskFC/FC_Parcels/rest/MSC08_parcel_corrmat.mat')\n",
    "rest_FC=np.array(restFile['parcel_corrmat'])\n",
    "rest_FC=np.nan_to_num(rest_FC)\n",
    "rest_mask=np.triu_indices(nrois,1)\n",
    "rest_ds=np.empty((nsess, int(nrois*(nrois-1)/2)))\n",
    "rest_value=0\n",
    "for sess in range(nsess):\n",
    "    tmp=rest_FC[:,:,sess]\n",
    "    rest_ds[rest_value]=tmp[rest_mask]\n",
    "    rest_value=rest_value+1\n",
    "        #Create a training dataset targets 1/0 ==task/rest, chunk=#days\n",
    "taskdf=dataset_wizard(samples=task_ds, targets=1, chunks=range(10))\n",
    "restdf=dataset_wizard(samples=rest_ds, targets=0, chunks=range(10))\n",
    "training=vstack((taskdf, restdf))\n",
    "        #Linear SVM with cross validation scheme leave one out, output is the accuracy\n",
    "cv=CrossValidation(LinearCSVMC(), NFoldPartitioner(), \n",
    "                      enable_ca=['stats'],\n",
    "                      errorfx=lambda p, t: np.mean(p == t))\n",
    "        #Train the classifier         \n",
    "        #Lets loop through all scenerios for sub and task of interest\n",
    "testFile=scipy.io.loadmat('/Users/Alexis/Box/Quest_Backup/MSC/TaskFC/FC_Parcels/mixed/MSC09_parcel_corrmat.mat')\n",
    "test_FC=np.array(testFile['parcel_corrmat'])\n",
    "test_FC=np.nan_to_num(test_FC)\n",
    "test_mask=np.triu_indices(nrois,1)\n",
    "test_ds=np.empty((nsess, int(nrois*(nrois-1)/2)))\n",
    "test_value=0\n",
    "for sess in range(nsess):\n",
    "    tmp=test_FC[:,:,sess]\n",
    "    test_ds[test_value]=tmp[task_mask]\n",
    "    test_value=test_value+1\n",
    "            #and all rest files\n",
    "test_restFile=scipy.io.loadmat('/Users/Alexis/Box/Quest_Backup/MSC/TaskFC/FC_Parcels/rest/MSC09_parcel_corrmat.mat')\n",
    "test_rest_FC=np.array(test_restFile['parcel_corrmat'])\n",
    "test_rest_FC=np.nan_to_num(test_rest_FC)\n",
    "test_rest_mask=np.triu_indices(nrois,1)\n",
    "test_rest_ds=np.empty((nsess, int(nrois*(nrois-1)/2)))\n",
    "test_rest_value=0\n",
    "for sess in range(nsess):\n",
    "    tmp=test_rest_FC[:,:,sess]\n",
    "    test_rest_ds[test_rest_value]=tmp[task_mask]\n",
    "    test_rest_value=test_rest_value+1\n",
    "            #Create testing dataset\n",
    "testing_task=dataset_wizard(samples=test_ds, targets=1, chunks=range(10))\n",
    "testing_rest=dataset_wizard(samples=test_rest_ds, targets=0, chunks=range(10))\n",
    "testing=vstack((testing_task, testing_rest))\n",
    "            #Time to train"
   ]
  },
  {
   "cell_type": "code",
   "execution_count": 3,
   "metadata": {},
   "outputs": [
    {
     "name": "stderr",
     "output_type": "stream",
     "text": [
      "//anaconda3/envs/ipykernel_py2/lib/python2.7/site-packages/mvpa2/misc/attrmap.py:153: FutureWarning: Conversion of the second argument of issubdtype from `str` to `str` is deprecated. In future, it will be treated as `np.string_ == np.dtype(str).type`.\n",
      "  if not np.issubdtype(attr.dtype, str) and not self.mapnumeric:\n",
      "//anaconda3/envs/ipykernel_py2/lib/python2.7/site-packages/mvpa2/clfs/libsvmc/svm.py:215: FutureWarning: Conversion of the second argument of issubdtype from `'c'` to `str` is deprecated. In future, it will be treated as `np.string_ == np.dtype('c').type`.\n",
      "  if ( np.issubdtype(self.ca.trained_targets.dtype, 'c') or\n",
      "//anaconda3/envs/ipykernel_py2/lib/python2.7/site-packages/mvpa2/clfs/libsvmc/svm.py:216: FutureWarning: Conversion of the second argument of issubdtype from `'U'` to `unicode` is deprecated. In future, it will be treated as `np.unicode_ == np.dtype('U').type`.\n",
      "  np.issubdtype(self.ca.trained_targets.dtype, 'U') ):\n"
     ]
    }
   ],
   "source": [
    "pre=cv(testing)\n",
    "#prediction accuracy\n",
    "acc=np.mean(pre)"
   ]
  },
  {
   "cell_type": "code",
   "execution_count": 8,
   "metadata": {},
   "outputs": [
    {
     "data": {
      "text/plain": [
       "Dataset(array([[0.5],\n",
       "       [0.5],\n",
       "       [0.5],\n",
       "       [0.5],\n",
       "       [1. ],\n",
       "       [0.5],\n",
       "       [0.5],\n",
       "       [0.5],\n",
       "       [0.5],\n",
       "       [0.5]]), sa=SampleAttributesCollection(items=[ArrayCollectable(name='cvfolds', doc=None, value=array([0, 1, 2, 3, 4, 5, 6, 7, 8, 9]), length=10)]), fa=FeatureAttributesCollection(items=[]), a=DatasetAttributesCollection(items=[]))"
      ]
     },
     "execution_count": 8,
     "metadata": {},
     "output_type": "execute_result"
    }
   ],
   "source": [
    "pre"
   ]
  },
  {
   "cell_type": "code",
   "execution_count": 7,
   "metadata": {},
   "outputs": [
    {
     "data": {
      "text/plain": [
       "0.55"
      ]
     },
     "execution_count": 7,
     "metadata": {},
     "output_type": "execute_result"
    }
   ],
   "source": [
    "acc"
   ]
  },
  {
   "cell_type": "code",
   "execution_count": 9,
   "metadata": {},
   "outputs": [],
   "source": [
    "cv.train(testing)"
   ]
  },
  {
   "cell_type": "code",
   "execution_count": 10,
   "metadata": {},
   "outputs": [],
   "source": [
    "msc8=cv(testing)\n"
   ]
  },
  {
   "cell_type": "code",
   "execution_count": 12,
   "metadata": {},
   "outputs": [],
   "source": [
    "foo=cv(training)"
   ]
  },
  {
   "cell_type": "code",
   "execution_count": 13,
   "metadata": {},
   "outputs": [
    {
     "data": {
      "text/plain": [
       "0.95"
      ]
     },
     "execution_count": 13,
     "metadata": {},
     "output_type": "execute_result"
    }
   ],
   "source": [
    "np.mean(msc8)"
   ]
  },
  {
   "cell_type": "code",
   "execution_count": 14,
   "metadata": {},
   "outputs": [
    {
     "data": {
      "text/plain": [
       "0.55"
      ]
     },
     "execution_count": 14,
     "metadata": {},
     "output_type": "execute_result"
    }
   ],
   "source": [
    "np.mean(foo)"
   ]
  },
  {
   "cell_type": "code",
   "execution_count": null,
   "metadata": {},
   "outputs": [],
   "source": []
  }
 ],
 "metadata": {
  "kernelspec": {
   "display_name": "Python 2",
   "language": "python",
   "name": "python2"
  },
  "language_info": {
   "codemirror_mode": {
    "name": "ipython",
    "version": 2
   },
   "file_extension": ".py",
   "mimetype": "text/x-python",
   "name": "python",
   "nbconvert_exporter": "python",
   "pygments_lexer": "ipython2",
   "version": "2.7.15"
  }
 },
 "nbformat": 4,
 "nbformat_minor": 2
}
