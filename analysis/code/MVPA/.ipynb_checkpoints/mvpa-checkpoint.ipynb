{
 "cells": [
  {
   "cell_type": "code",
   "execution_count": 1,
   "metadata": {},
   "outputs": [],
   "source": [
    "import mvpa2\n",
    "import pandas as pd\n",
    "import numpy as np\n",
    "import sklearn\n",
    "#to manipulate data\n",
    "from mvpa2.datasets import *\n",
    "import scipy.io"
   ]
  },
  {
   "cell_type": "code",
   "execution_count": 3,
   "metadata": {},
   "outputs": [],
   "source": [
    "#makes a dict\n",
    "matFile = scipy.io.loadmat('/Users/Alexis/Box/Quest_Backup/MSC/TaskFC/FC_Parcels/mem/MSC02_parcel_corrmat.mat')\n",
    "#convert to numpy array\n",
    "task_FC=np.array(matFile['parcel_corrmat'])"
   ]
  },
  {
   "cell_type": "code",
   "execution_count": 4,
   "metadata": {},
   "outputs": [],
   "source": [
    "ds=Dataset(task_FC)"
   ]
  },
  {
   "cell_type": "code",
   "execution_count": 5,
   "metadata": {},
   "outputs": [
    {
     "data": {
      "text/plain": [
       "(333, 333, 10)"
      ]
     },
     "execution_count": 5,
     "metadata": {},
     "output_type": "execute_result"
    }
   ],
   "source": [
    "ds.shape"
   ]
  },
  {
   "cell_type": "code",
   "execution_count": 53,
   "metadata": {},
   "outputs": [
    {
     "data": {
      "text/plain": [
       "333"
      ]
     },
     "execution_count": 53,
     "metadata": {},
     "output_type": "execute_result"
    }
   ],
   "source": [
    "ds.nfeatures"
   ]
  },
  {
   "cell_type": "code",
   "execution_count": null,
   "metadata": {},
   "outputs": [],
   "source": [
    "#transform 3D sample array into 2D will need mapper\n",
    "#need sample attributes\n"
   ]
  },
  {
   "cell_type": "code",
   "execution_count": 57,
   "metadata": {},
   "outputs": [
    {
     "data": {
      "text/plain": [
       "333"
      ]
     },
     "execution_count": 57,
     "metadata": {},
     "output_type": "execute_result"
    }
   ],
   "source": [
    "ds.nsamples"
   ]
  },
  {
   "cell_type": "code",
   "execution_count": null,
   "metadata": {},
   "outputs": [],
   "source": [
    "http://cosmomvpa.org/cosmomvpa_concepts.html\n",
    "    \n",
    "http://www.pymvpa.org/tutorial_mappers.html#there-and-back-again-a-mapper-s-tale"
   ]
  },
  {
   "cell_type": "code",
   "execution_count": null,
   "metadata": {},
   "outputs": [],
   "source": [
    " #Neurohackademy_Tutorial/master_Neurohack.py   \n",
    "    \n",
    "    \n",
    "    # Make a similarity matrix to more formally compare corrmats\n",
    "    # C1. First make an index of upper triangle of the matrix\n",
    "    maskmat_inds = np.triu_indices(nrois,1)\n",
    "\n",
    "    # C2. Create a linearized version of the upper triangle\n",
    "    corrlin = np.empty((nsubs*nsess,int(nrois*(nrois-1)/2)))\n",
    "    count = 0\n",
    "    for sub in range(nsubs):\n",
    "        for sess in range(nsess):\n",
    "            tmp = corrmat[sub,sess]\n",
    "            corrlin[count] = tmp[maskmat_inds]\n",
    "            count = count + 1\n",
    "\n",
    "    # C3. Calculate similarity and plot\n",
    "    simmat = np.corrcoef(corrlin)\n",
    "    fig = cfns.figure_simmat(simmat,nsubs,nsess)\n",
    "    plt.savefig(outdir + 'Simmat_rest.pdf')"
   ]
  }
 ],
 "metadata": {
  "kernelspec": {
   "display_name": "Python 2",
   "language": "python",
   "name": "python2"
  },
  "language_info": {
   "codemirror_mode": {
    "name": "ipython",
    "version": 2
   },
   "file_extension": ".py",
   "mimetype": "text/x-python",
   "name": "python",
   "nbconvert_exporter": "python",
   "pygments_lexer": "ipython2",
   "version": "2.7.17"
  }
 },
 "nbformat": 4,
 "nbformat_minor": 2
}
