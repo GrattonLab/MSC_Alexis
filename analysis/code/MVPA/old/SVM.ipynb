{
 "cells": [
  {
   "cell_type": "code",
<<<<<<< HEAD
   "execution_count": 25,
=======
<<<<<<< HEAD
   "execution_count": 2,
=======
   "execution_count": 4,
>>>>>>> 4dc1dc7dd2e2b5bc0507e900b01872b9d37fc728
>>>>>>> 415878ed4dbfdc103a44c3803e38baaa1d69ba62
   "metadata": {},
   "outputs": [],
   "source": [
    "import pandas as pd\n",
    "import numpy as np\n",
    "from mvpa2.datasets import dataset_wizard, vstack\n",
    "from mvpa2.generators.partition import NFoldPartitioner\n",
    "from mvpa2.measures.base import CrossValidation\n",
    "from mvpa2.clfs.meta import MappedClassifier\n",
    "from mvpa2.clfs.svm import LinearCSVMC\n",
    "from mvpa2.mappers.fx import BinaryFxNode\n",
    "from mvpa2.misc.errorfx import corr_error, mean_mismatch_error\n",
    "import scipy.io\n",
    "import reshape\n",
    "#Load task FC\n",
    "taskFile=reshape.matFiles('/Users/aporter1350/Box/Quest_Backup/MSC/TaskFC/FC_Parcels/mixed/MSC08_parcel_corrmat.mat')"
   ]
  },
  {
   "cell_type": "code",
   "execution_count": 5,
   "metadata": {},
   "outputs": [],
   "source": [
    "#Load rest\n",
    "restFile=reshape.matFiles('/Users/aporter1350/Box/Quest_Backup/MSC/TaskFC/FC_Parcels/rest/MSC08_parcel_corrmat.mat')\n",
    "#Create a training dataset targets 1/0 ==task/rest, chunk=#days\n",
    "taskdf=dataset_wizard(samples=taskFile, targets=1)#, chunks=range(10))\n",
    "restdf=dataset_wizard(samples=restFile, targets=0)#, chunks=range(10))\n",
    "training=vstack((taskdf, restdf))\n",
    "bar=dataset_wizard(samples=training, targets=([1, 1, 1, 1, 1, 1, 1, 1, 1, 1, 0, 0, 0, 0, 0, 0, 0, 0, 0, 0]), chunks=range(20))\n",
    "#Linear SVM with cross validation scheme leave one out, output is the accuracy\n",
    "cv=CrossValidation(LinearCSVMC(), NFoldPartitioner(), \n",
    "                      enable_ca=['stats'],\n",
    "                      errorfx=lambda p, t: np.mean(p == t))  \n",
    "#computes the mismatch error between the classifier predictions and the \n",
    "#target values stores in dataset. Low values represent error meaning more \n",
    "#accurate classification\n",
    "cv.set_postproc(BinaryFxNode(mean_mismatch_error, 'targets'))\n",
    "#Lets loop through all scenerios for sub and task of interest\n",
    "test_taskFile=reshape.matFiles('/Users/Alexis/Box/Quest_Backup/MSC/TaskFC/FC_Parcels/mixed/MSC08_parcel_corrmat.mat')\n",
    "#Load rest\n",
    "test_restFile=reshape.matFiles('/Users/Alexis/Box/Quest_Backup/MSC/TaskFC/FC_Parcels/rest/MSC08_parcel_corrmat.mat')\n",
    "#Create testing dataset\n",
    "testing_task=dataset_wizard(samples=test_taskFile, targets=1, chunks=range(10))\n",
    "testing_rest=dataset_wizard(samples=test_restFile, targets=0, chunks=range(10))\n",
    "testing=vstack((testing_task, testing_rest))\n",
    "foo=dataset_wizard(samples=testing, targets=([1, 1, 1, 1, 1, 1, 1, 1, 1, 1, 0, 0, 0, 0, 0, 0, 0, 0, 0, 0]), chunks=range(20))"
   ]
  },
  {
   "cell_type": "code",
   "execution_count": 26,
   "metadata": {},
   "outputs": [],
   "source": [
    "#Train the classifier\n",
    "cv.train(bar)\n"
   ]
  },
  {
   "cell_type": "code",
   "execution_count": 24,
   "metadata": {},
   "outputs": [
    {
     "data": {
      "text/plain": [
       "SampleAttributesCollection(items=[ArrayCollectable(name='chunks', doc=None, value=array([0, 1, 2, 3, 4, 5, 6, 7, 8, 9, 0, 1, 2, 3, 4, 5, 6, 7, 8, 9]), length=20), ArrayCollectable(name='targets', doc=None, value=array([1, 1, 1, 1, 1, 1, 1, 1, 1, 1, 0, 0, 0, 0, 0, 0, 0, 0, 0, 0]), length=20)])"
      ]
     },
     "execution_count": 24,
     "metadata": {},
     "output_type": "execute_result"
    }
   ],
   "source": [
    "testing.sa"
   ]
  },
  {
   "cell_type": "code",
   "execution_count": 27,
   "metadata": {},
   "outputs": [
    {
     "ename": "KeyError",
     "evalue": "'targets'",
     "output_type": "error",
     "traceback": [
      "\u001b[0;31m---------------------------------------------------------------------------\u001b[0m",
      "\u001b[0;31mKeyError\u001b[0m                                  Traceback (most recent call last)",
      "\u001b[0;32m<ipython-input-27-71f7ca224a63>\u001b[0m in \u001b[0;36m<module>\u001b[0;34m()\u001b[0m\n\u001b[0;32m----> 1\u001b[0;31m \u001b[0mpre\u001b[0m\u001b[0;34m=\u001b[0m\u001b[0mcv\u001b[0m\u001b[0;34m(\u001b[0m\u001b[0mfoo\u001b[0m\u001b[0;34m)\u001b[0m\u001b[0;34m\u001b[0m\u001b[0m\n\u001b[0m\u001b[1;32m      2\u001b[0m \u001b[0;31m#prediction accuracy\u001b[0m\u001b[0;34m\u001b[0m\u001b[0;34m\u001b[0m\u001b[0m\n\u001b[1;32m      3\u001b[0m \u001b[0macc\u001b[0m\u001b[0;34m=\u001b[0m\u001b[0mnp\u001b[0m\u001b[0;34m.\u001b[0m\u001b[0mmean\u001b[0m\u001b[0;34m(\u001b[0m\u001b[0mpre\u001b[0m\u001b[0;34m)\u001b[0m\u001b[0;34m\u001b[0m\u001b[0m\n",
      "\u001b[0;32m//anaconda3/envs/ipykernel_py2/lib/python2.7/site-packages/mvpa2/base/learner.pyc\u001b[0m in \u001b[0;36m__call__\u001b[0;34m(self, ds)\u001b[0m\n\u001b[1;32m    256\u001b[0m                                    \u001b[0;34m\"used and auto training is disabled.\"\u001b[0m\u001b[0;34m\u001b[0m\u001b[0m\n\u001b[1;32m    257\u001b[0m                                    % str(self))\n\u001b[0;32m--> 258\u001b[0;31m         \u001b[0;32mreturn\u001b[0m \u001b[0msuper\u001b[0m\u001b[0;34m(\u001b[0m\u001b[0mLearner\u001b[0m\u001b[0;34m,\u001b[0m \u001b[0mself\u001b[0m\u001b[0;34m)\u001b[0m\u001b[0;34m.\u001b[0m\u001b[0m__call__\u001b[0m\u001b[0;34m(\u001b[0m\u001b[0mds\u001b[0m\u001b[0;34m)\u001b[0m\u001b[0;34m\u001b[0m\u001b[0m\n\u001b[0m\u001b[1;32m    259\u001b[0m \u001b[0;34m\u001b[0m\u001b[0m\n\u001b[1;32m    260\u001b[0m     is_trained = property(fget=lambda x: x.__is_trained, fset=_set_trained,\n",
      "\u001b[0;32m//anaconda3/envs/ipykernel_py2/lib/python2.7/site-packages/mvpa2/base/node.pyc\u001b[0m in \u001b[0;36m__call__\u001b[0;34m(self, ds, _call_kwargs)\u001b[0m\n\u001b[1;32m    136\u001b[0m         \u001b[0mself\u001b[0m\u001b[0;34m.\u001b[0m\u001b[0m_precall\u001b[0m\u001b[0;34m(\u001b[0m\u001b[0mds\u001b[0m\u001b[0;34m)\u001b[0m\u001b[0;34m\u001b[0m\u001b[0m\n\u001b[1;32m    137\u001b[0m         \u001b[0mresult\u001b[0m \u001b[0;34m=\u001b[0m \u001b[0mself\u001b[0m\u001b[0;34m.\u001b[0m\u001b[0m_call\u001b[0m\u001b[0;34m(\u001b[0m\u001b[0mds\u001b[0m\u001b[0;34m,\u001b[0m \u001b[0;34m**\u001b[0m\u001b[0;34m(\u001b[0m\u001b[0m_call_kwargs\u001b[0m \u001b[0;32mor\u001b[0m \u001b[0mself\u001b[0m\u001b[0;34m.\u001b[0m\u001b[0m_get_call_kwargs\u001b[0m\u001b[0;34m(\u001b[0m\u001b[0mds\u001b[0m\u001b[0;34m)\u001b[0m\u001b[0;34m)\u001b[0m\u001b[0;34m)\u001b[0m\u001b[0;34m\u001b[0m\u001b[0m\n\u001b[0;32m--> 138\u001b[0;31m         \u001b[0mresult\u001b[0m \u001b[0;34m=\u001b[0m \u001b[0mself\u001b[0m\u001b[0;34m.\u001b[0m\u001b[0m_postcall\u001b[0m\u001b[0;34m(\u001b[0m\u001b[0mds\u001b[0m\u001b[0;34m,\u001b[0m \u001b[0mresult\u001b[0m\u001b[0;34m)\u001b[0m\u001b[0;34m\u001b[0m\u001b[0m\n\u001b[0m\u001b[1;32m    139\u001b[0m \u001b[0;34m\u001b[0m\u001b[0m\n\u001b[1;32m    140\u001b[0m         \u001b[0mself\u001b[0m\u001b[0;34m.\u001b[0m\u001b[0mca\u001b[0m\u001b[0;34m.\u001b[0m\u001b[0mcalling_time\u001b[0m \u001b[0;34m=\u001b[0m \u001b[0mtime\u001b[0m\u001b[0;34m.\u001b[0m\u001b[0mtime\u001b[0m\u001b[0;34m(\u001b[0m\u001b[0;34m)\u001b[0m \u001b[0;34m-\u001b[0m \u001b[0mt0\u001b[0m  \u001b[0;31m# set the calling_time\u001b[0m\u001b[0;34m\u001b[0m\u001b[0m\n",
      "\u001b[0;32m//anaconda3/envs/ipykernel_py2/lib/python2.7/site-packages/mvpa2/measures/base.pyc\u001b[0m in \u001b[0;36m_postcall\u001b[0;34m(self, dataset, result)\u001b[0m\n\u001b[1;32m    126\u001b[0m         \u001b[0;32mif\u001b[0m \u001b[0mself\u001b[0m\u001b[0;34m.\u001b[0m\u001b[0m__null_dist\u001b[0m \u001b[0;32mis\u001b[0m \u001b[0mNone\u001b[0m\u001b[0;34m:\u001b[0m\u001b[0;34m\u001b[0m\u001b[0m\n\u001b[1;32m    127\u001b[0m             \u001b[0;31m# do base-class postcall and be done\u001b[0m\u001b[0;34m\u001b[0m\u001b[0;34m\u001b[0m\u001b[0m\n\u001b[0;32m--> 128\u001b[0;31m             \u001b[0mresult\u001b[0m \u001b[0;34m=\u001b[0m \u001b[0msuper\u001b[0m\u001b[0;34m(\u001b[0m\u001b[0mMeasure\u001b[0m\u001b[0;34m,\u001b[0m \u001b[0mself\u001b[0m\u001b[0;34m)\u001b[0m\u001b[0;34m.\u001b[0m\u001b[0m_postcall\u001b[0m\u001b[0;34m(\u001b[0m\u001b[0mdataset\u001b[0m\u001b[0;34m,\u001b[0m \u001b[0mresult\u001b[0m\u001b[0;34m)\u001b[0m\u001b[0;34m\u001b[0m\u001b[0m\n\u001b[0m\u001b[1;32m    129\u001b[0m         \u001b[0;32melse\u001b[0m\u001b[0;34m:\u001b[0m\u001b[0;34m\u001b[0m\u001b[0m\n\u001b[1;32m    130\u001b[0m             \u001b[0;31m# don't do a full base-class postcall, only do the\u001b[0m\u001b[0;34m\u001b[0m\u001b[0;34m\u001b[0m\u001b[0m\n",
      "\u001b[0;32m//anaconda3/envs/ipykernel_py2/lib/python2.7/site-packages/mvpa2/base/node.pyc\u001b[0m in \u001b[0;36m_postcall\u001b[0;34m(self, ds, result)\u001b[0m\n\u001b[1;32m    177\u001b[0m         \"\"\"\n\u001b[1;32m    178\u001b[0m         \u001b[0mresult\u001b[0m \u001b[0;34m=\u001b[0m \u001b[0mself\u001b[0m\u001b[0;34m.\u001b[0m\u001b[0m_pass_attr\u001b[0m\u001b[0;34m(\u001b[0m\u001b[0mds\u001b[0m\u001b[0;34m,\u001b[0m \u001b[0mresult\u001b[0m\u001b[0;34m)\u001b[0m\u001b[0;34m\u001b[0m\u001b[0m\n\u001b[0;32m--> 179\u001b[0;31m         \u001b[0mresult\u001b[0m \u001b[0;34m=\u001b[0m \u001b[0mself\u001b[0m\u001b[0;34m.\u001b[0m\u001b[0m_apply_postproc\u001b[0m\u001b[0;34m(\u001b[0m\u001b[0mds\u001b[0m\u001b[0;34m,\u001b[0m \u001b[0mresult\u001b[0m\u001b[0;34m)\u001b[0m\u001b[0;34m\u001b[0m\u001b[0m\n\u001b[0m\u001b[1;32m    180\u001b[0m         \u001b[0;32mreturn\u001b[0m \u001b[0mresult\u001b[0m\u001b[0;34m\u001b[0m\u001b[0m\n\u001b[1;32m    181\u001b[0m \u001b[0;34m\u001b[0m\u001b[0m\n",
      "\u001b[0;32m//anaconda3/envs/ipykernel_py2/lib/python2.7/site-packages/mvpa2/base/node.pyc\u001b[0m in \u001b[0;36m_apply_postproc\u001b[0;34m(self, ds, result)\u001b[0m\n\u001b[1;32m    251\u001b[0m                       \"Applying post-processing node %s\", (self.__postproc,))\n\u001b[1;32m    252\u001b[0m             \u001b[0mself\u001b[0m\u001b[0;34m.\u001b[0m\u001b[0mca\u001b[0m\u001b[0;34m.\u001b[0m\u001b[0mraw_results\u001b[0m \u001b[0;34m=\u001b[0m \u001b[0mresult\u001b[0m\u001b[0;34m\u001b[0m\u001b[0m\n\u001b[0;32m--> 253\u001b[0;31m             \u001b[0mresult\u001b[0m \u001b[0;34m=\u001b[0m \u001b[0mself\u001b[0m\u001b[0;34m.\u001b[0m\u001b[0m__postproc\u001b[0m\u001b[0;34m(\u001b[0m\u001b[0mresult\u001b[0m\u001b[0;34m)\u001b[0m\u001b[0;34m\u001b[0m\u001b[0m\n\u001b[0m\u001b[1;32m    254\u001b[0m         \u001b[0;32mreturn\u001b[0m \u001b[0mresult\u001b[0m\u001b[0;34m\u001b[0m\u001b[0m\n\u001b[1;32m    255\u001b[0m \u001b[0;34m\u001b[0m\u001b[0m\n",
      "\u001b[0;32m//anaconda3/envs/ipykernel_py2/lib/python2.7/site-packages/mvpa2/base/node.pyc\u001b[0m in \u001b[0;36m__call__\u001b[0;34m(self, ds, _call_kwargs)\u001b[0m\n\u001b[1;32m    135\u001b[0m \u001b[0;34m\u001b[0m\u001b[0m\n\u001b[1;32m    136\u001b[0m         \u001b[0mself\u001b[0m\u001b[0;34m.\u001b[0m\u001b[0m_precall\u001b[0m\u001b[0;34m(\u001b[0m\u001b[0mds\u001b[0m\u001b[0;34m)\u001b[0m\u001b[0;34m\u001b[0m\u001b[0m\n\u001b[0;32m--> 137\u001b[0;31m         \u001b[0mresult\u001b[0m \u001b[0;34m=\u001b[0m \u001b[0mself\u001b[0m\u001b[0;34m.\u001b[0m\u001b[0m_call\u001b[0m\u001b[0;34m(\u001b[0m\u001b[0mds\u001b[0m\u001b[0;34m,\u001b[0m \u001b[0;34m**\u001b[0m\u001b[0;34m(\u001b[0m\u001b[0m_call_kwargs\u001b[0m \u001b[0;32mor\u001b[0m \u001b[0mself\u001b[0m\u001b[0;34m.\u001b[0m\u001b[0m_get_call_kwargs\u001b[0m\u001b[0;34m(\u001b[0m\u001b[0mds\u001b[0m\u001b[0;34m)\u001b[0m\u001b[0;34m)\u001b[0m\u001b[0;34m)\u001b[0m\u001b[0;34m\u001b[0m\u001b[0m\n\u001b[0m\u001b[1;32m    138\u001b[0m         \u001b[0mresult\u001b[0m \u001b[0;34m=\u001b[0m \u001b[0mself\u001b[0m\u001b[0;34m.\u001b[0m\u001b[0m_postcall\u001b[0m\u001b[0;34m(\u001b[0m\u001b[0mds\u001b[0m\u001b[0;34m,\u001b[0m \u001b[0mresult\u001b[0m\u001b[0;34m)\u001b[0m\u001b[0;34m\u001b[0m\u001b[0m\n\u001b[1;32m    139\u001b[0m \u001b[0;34m\u001b[0m\u001b[0m\n",
      "\u001b[0;32m//anaconda3/envs/ipykernel_py2/lib/python2.7/site-packages/mvpa2/mappers/fx.pyc\u001b[0m in \u001b[0;36m_call\u001b[0;34m(self, ds)\u001b[0m\n\u001b[1;32m    624\u001b[0m     \u001b[0;32mdef\u001b[0m \u001b[0m_call\u001b[0m\u001b[0;34m(\u001b[0m\u001b[0mself\u001b[0m\u001b[0;34m,\u001b[0m \u001b[0mds\u001b[0m\u001b[0;34m)\u001b[0m\u001b[0;34m:\u001b[0m\u001b[0;34m\u001b[0m\u001b[0m\n\u001b[1;32m    625\u001b[0m         \u001b[0;31m# extract samples and targets and pass them to the errorfx\u001b[0m\u001b[0;34m\u001b[0m\u001b[0;34m\u001b[0m\u001b[0m\n\u001b[0;32m--> 626\u001b[0;31m         \u001b[0mtargets\u001b[0m \u001b[0;34m=\u001b[0m \u001b[0mds\u001b[0m\u001b[0;34m.\u001b[0m\u001b[0msa\u001b[0m\u001b[0;34m[\u001b[0m\u001b[0mself\u001b[0m\u001b[0;34m.\u001b[0m\u001b[0mget_space\u001b[0m\u001b[0;34m(\u001b[0m\u001b[0;34m)\u001b[0m\u001b[0;34m]\u001b[0m\u001b[0;34m.\u001b[0m\u001b[0mvalue\u001b[0m\u001b[0;34m\u001b[0m\u001b[0m\n\u001b[0m\u001b[1;32m    627\u001b[0m         \u001b[0;31m# squeeze to remove bogus dimensions and prevent problems during\u001b[0m\u001b[0;34m\u001b[0m\u001b[0;34m\u001b[0m\u001b[0m\n\u001b[1;32m    628\u001b[0m         \u001b[0;31m# comparision later on\u001b[0m\u001b[0;34m\u001b[0m\u001b[0;34m\u001b[0m\u001b[0m\n",
      "\u001b[0;31mKeyError\u001b[0m: 'targets'"
     ]
    }
   ],
   "source": [
    "pre=cv(foo)\n",
    "#prediction accuracy\n",
    "acc=np.mean(pre)"
   ]
  },
  {
   "cell_type": "code",
<<<<<<< HEAD
   "execution_count": 16,
=======
   "execution_count": 6,
>>>>>>> 415878ed4dbfdc103a44c3803e38baaa1d69ba62
   "metadata": {},
   "outputs": [
    {
     "data": {
      "text/plain": [
       "SampleAttributesCollection(items=[ArrayCollectable(name='chunks', doc=None, value=array([1, 1, 1, 1, 1, 1, 1, 1, 1, 1, 1, 1, 1, 1, 1, 1, 1, 1, 1, 1]), length=20), ArrayCollectable(name='targets', doc=None, value=array([1, 1, 1, 1, 1, 1, 1, 1, 1, 1, 0, 0, 0, 0, 0, 0, 0, 0, 0, 0]), length=20)])"
      ]
     },
<<<<<<< HEAD
     "execution_count": 16,
=======
     "execution_count": 6,
>>>>>>> 415878ed4dbfdc103a44c3803e38baaa1d69ba62
     "metadata": {},
     "output_type": "execute_result"
    }
   ],
   "source": [
    "bar.sa"
   ]
  },
  {
   "cell_type": "code",
   "execution_count": 13,
   "metadata": {},
   "outputs": [
    {
     "data": {
      "text/plain": [
       "0.5"
      ]
     },
     "execution_count": 13,
     "metadata": {},
     "output_type": "execute_result"
    }
   ],
   "source": [
    "acc"
   ]
  },
  {
   "cell_type": "code",
   "execution_count": 14,
   "metadata": {},
   "outputs": [
    {
     "name": "stdout",
     "output_type": "stream",
     "text": [
      "Results for 20-fold cross-validation on 2-class problem:\n"
     ]
    }
   ],
   "source": [
    "# UC: unique chunks, UT: unique targets\n",
    "print \"Results for %i-fold cross-validation on %i-class problem:\" \\\n",
    "      % (len(foo.UC), len(foo.UT))\n"
   ]
  },
  {
   "cell_type": "code",
   "execution_count": 14,
   "metadata": {},
   "outputs": [],
   "source": [
    "dataset_wizard?"
   ]
  },
  {
   "cell_type": "code",
   "execution_count": 15,
   "metadata": {},
   "outputs": [
    {
     "data": {
      "text/plain": [
       "(20, 55278)"
      ]
     },
     "execution_count": 15,
     "metadata": {},
     "output_type": "execute_result"
    }
   ],
   "source": [
    "foo.shape"
   ]
  },
  {
   "cell_type": "code",
   "execution_count": 9,
   "metadata": {},
   "outputs": [
    {
     "ename": "AttributeError",
     "evalue": "'CrossValidation' object has no attribute 'training_stats'",
     "output_type": "error",
     "traceback": [
      "\u001b[0;31m---------------------------------------------------------------------------\u001b[0m",
      "\u001b[0;31mAttributeError\u001b[0m                            Traceback (most recent call last)",
      "\u001b[0;32m<ipython-input-9-75f7e3bd85ae>\u001b[0m in \u001b[0;36m<module>\u001b[0;34m()\u001b[0m\n\u001b[0;32m----> 1\u001b[0;31m \u001b[0mcv\u001b[0m\u001b[0;34m.\u001b[0m\u001b[0mtraining_stats\u001b[0m\u001b[0;34m(\u001b[0m\u001b[0;34m)\u001b[0m\u001b[0;34m\u001b[0m\u001b[0m\n\u001b[0m",
      "\u001b[0;31mAttributeError\u001b[0m: 'CrossValidation' object has no attribute 'training_stats'"
     ]
    }
   ],
   "source": [
    "cv.training_stats()\n"
   ]
  },
  {
   "cell_type": "code",
   "execution_count": 17,
   "metadata": {},
   "outputs": [
    {
     "data": {
      "text/plain": [
       "(20, 55278)"
      ]
     },
     "execution_count": 17,
     "metadata": {},
     "output_type": "execute_result"
    }
   ],
   "source": [
    "bar.shape"
   ]
  },
  {
   "cell_type": "code",
   "execution_count": 18,
   "metadata": {},
   "outputs": [
    {
     "data": {
      "text/plain": [
       "SampleAttributesCollection(items=[ArrayCollectable(name='chunks', doc=None, value=array([ 0,  1,  2,  3,  4,  5,  6,  7,  8,  9, 10, 11, 12, 13, 14, 15, 16,\n",
       "       17, 18, 19]), length=20), ArrayCollectable(name='targets', doc=None, value=array([1, 1, 1, 1, 1, 1, 1, 1, 1, 1, 0, 0, 0, 0, 0, 0, 0, 0, 0, 0]), length=20)])"
      ]
     },
     "execution_count": 18,
     "metadata": {},
     "output_type": "execute_result"
    }
   ],
   "source": [
    "bar.sa"
   ]
  },
  {
   "cell_type": "code",
   "execution_count": 10,
   "metadata": {},
   "outputs": [
    {
     "name": "stderr",
     "output_type": "stream",
     "text": [
      "//anaconda3/envs/ipykernel_py2/lib/python2.7/site-packages/mvpa2/clfs/transerror.py:685: RuntimeWarning: invalid value encountered in divide\n",
      "  stats['PPV'] = stats['TP'] / (1.0*stats[\"P'\"])\n",
      "//anaconda3/envs/ipykernel_py2/lib/python2.7/site-packages/mvpa2/clfs/transerror.py:686: RuntimeWarning: invalid value encountered in divide\n",
      "  stats['NPV'] = stats['TN'] / (1.0*stats[\"N'\"])\n",
      "//anaconda3/envs/ipykernel_py2/lib/python2.7/site-packages/mvpa2/clfs/transerror.py:687: RuntimeWarning: invalid value encountered in divide\n",
      "  stats['FDR'] = stats['FP'] / (1.0*stats[\"P'\"])\n",
      "//anaconda3/envs/ipykernel_py2/lib/python2.7/site-packages/mvpa2/clfs/transerror.py:718: RuntimeWarning: invalid value encountered in divide\n",
      "  for m in mat_all]\n",
      "//anaconda3/envs/ipykernel_py2/lib/python2.7/site-packages/mvpa2/clfs/transerror.py:722: RuntimeWarning: invalid value encountered in divide\n",
      "  for m in mat_all]\n",
      "//anaconda3/envs/ipykernel_py2/lib/python2.7/site-packages/mvpa2/misc/errorfx.py:143: RuntimeWarning: invalid value encountered in divide\n",
      "  ([0], np.cumsum(t)/t.sum(dtype=np.float), [1]))\n",
      "//anaconda3/envs/ipykernel_py2/lib/python2.7/site-packages/mvpa2/misc/errorfx.py:147: RuntimeWarning: invalid value encountered in divide\n",
      "  ([0], np.cumsum(~t)/(~t).sum(dtype=np.float), [1]))\n",
      "//anaconda3/envs/ipykernel_py2/lib/python2.7/site-packages/mvpa2/clfs/transerror.py:394: RuntimeWarning: Mean of empty slice\n",
      "  aucs += [nanmean(aucs_pl)]\n"
     ]
    },
    {
     "data": {
      "text/plain": [
       "array([[ 0,  0],\n",
       "       [10, 10]])"
      ]
     },
     "execution_count": 10,
     "metadata": {},
     "output_type": "execute_result"
    }
   ],
   "source": [
    "cv.ca.stats.matrix"
   ]
  },
  {
   "cell_type": "code",
   "execution_count": null,
   "metadata": {},
   "outputs": [],
   "source": []
  }
 ],
 "metadata": {
  "kernelspec": {
   "display_name": "Python 2",
   "language": "python",
   "name": "python2"
<<<<<<< HEAD
=======
<<<<<<< HEAD
>>>>>>> 415878ed4dbfdc103a44c3803e38baaa1d69ba62
  },
  "language_info": {
   "codemirror_mode": {
    "name": "ipython",
    "version": 2
   },
   "file_extension": ".py",
   "mimetype": "text/x-python",
   "name": "python",
   "nbconvert_exporter": "python",
   "pygments_lexer": "ipython2",
<<<<<<< HEAD
   "version": "2.7.15"
=======
   "version": "2.7.17"
=======
>>>>>>> 4dc1dc7dd2e2b5bc0507e900b01872b9d37fc728
>>>>>>> 415878ed4dbfdc103a44c3803e38baaa1d69ba62
  }
 },
 "nbformat": 4,
 "nbformat_minor": 2
}
