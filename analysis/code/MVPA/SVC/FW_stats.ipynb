{
 "cells": [
  {
   "cell_type": "code",
   "execution_count": 10,
   "metadata": {},
   "outputs": [],
   "source": [
    "import pandas as pd\n",
    "\n",
    "df=pd.read_csv(\"/Users/Alexis/Desktop/MSC_Alexis/analysis/output/results/SVC/fw/DS/mem_MSC01.csv\", index_col=[0,1], skipinitialspace=True, header=[0,1])\n",
    "df2=pd.read_csv(\"/Users/Alexis/Desktop/MSC_Alexis/analysis/output/results/SVC/fw/DS/mem_MSC02.csv\", index_col=[0,1], skipinitialspace=True, header=[0,1])\n"
   ]
  },
  {
   "cell_type": "code",
   "execution_count": 11,
   "metadata": {},
   "outputs": [
    {
     "data": {
      "text/html": [
       "<div>\n",
       "<style scoped>\n",
       "    .dataframe tbody tr th:only-of-type {\n",
       "        vertical-align: middle;\n",
       "    }\n",
       "\n",
       "    .dataframe tbody tr th {\n",
       "        vertical-align: top;\n",
       "    }\n",
       "\n",
       "    .dataframe thead tr th {\n",
       "        text-align: left;\n",
       "    }\n",
       "</style>\n",
       "<table border=\"1\" class=\"dataframe\">\n",
       "  <thead>\n",
       "    <tr>\n",
       "      <th></th>\n",
       "      <th></th>\n",
       "      <th colspan=\"10\" halign=\"left\">unassign</th>\n",
       "      <th>...</th>\n",
       "      <th colspan=\"3\" halign=\"left\">pmn</th>\n",
       "      <th colspan=\"7\" halign=\"left\">pon</th>\n",
       "    </tr>\n",
       "    <tr>\n",
       "      <th></th>\n",
       "      <th></th>\n",
       "      <th>0</th>\n",
       "      <th>1</th>\n",
       "      <th>2</th>\n",
       "      <th>3</th>\n",
       "      <th>4</th>\n",
       "      <th>5</th>\n",
       "      <th>6</th>\n",
       "      <th>7</th>\n",
       "      <th>8</th>\n",
       "      <th>9</th>\n",
       "      <th>...</th>\n",
       "      <th>323</th>\n",
       "      <th>324</th>\n",
       "      <th>325</th>\n",
       "      <th>326</th>\n",
       "      <th>327</th>\n",
       "      <th>328</th>\n",
       "      <th>329</th>\n",
       "      <th>330</th>\n",
       "      <th>331</th>\n",
       "      <th>332</th>\n",
       "    </tr>\n",
       "  </thead>\n",
       "  <tbody>\n",
       "    <tr>\n",
       "      <th rowspan=\"5\" valign=\"top\">unassign</th>\n",
       "      <th>0</th>\n",
       "      <td>0.000000</td>\n",
       "      <td>-0.000608</td>\n",
       "      <td>0.000272</td>\n",
       "      <td>-0.000423</td>\n",
       "      <td>0.000203</td>\n",
       "      <td>-0.001053</td>\n",
       "      <td>-0.000633</td>\n",
       "      <td>-0.000524</td>\n",
       "      <td>0.000693</td>\n",
       "      <td>-0.000135</td>\n",
       "      <td>...</td>\n",
       "      <td>-0.000540</td>\n",
       "      <td>-0.000329</td>\n",
       "      <td>0.000023</td>\n",
       "      <td>-0.000136</td>\n",
       "      <td>-0.000475</td>\n",
       "      <td>-0.000340</td>\n",
       "      <td>0.000174</td>\n",
       "      <td>-0.000357</td>\n",
       "      <td>-0.000061</td>\n",
       "      <td>-0.000350</td>\n",
       "    </tr>\n",
       "    <tr>\n",
       "      <th>1</th>\n",
       "      <td>-0.000608</td>\n",
       "      <td>0.000000</td>\n",
       "      <td>-0.000402</td>\n",
       "      <td>-0.000409</td>\n",
       "      <td>0.000373</td>\n",
       "      <td>-0.000889</td>\n",
       "      <td>-0.000084</td>\n",
       "      <td>0.000199</td>\n",
       "      <td>0.000540</td>\n",
       "      <td>0.000480</td>\n",
       "      <td>...</td>\n",
       "      <td>-0.000204</td>\n",
       "      <td>-0.000137</td>\n",
       "      <td>-0.000257</td>\n",
       "      <td>-0.000920</td>\n",
       "      <td>-0.000265</td>\n",
       "      <td>-0.000362</td>\n",
       "      <td>-0.000287</td>\n",
       "      <td>0.000008</td>\n",
       "      <td>-0.000007</td>\n",
       "      <td>-0.000382</td>\n",
       "    </tr>\n",
       "    <tr>\n",
       "      <th>2</th>\n",
       "      <td>0.000272</td>\n",
       "      <td>-0.000402</td>\n",
       "      <td>0.000000</td>\n",
       "      <td>-0.000046</td>\n",
       "      <td>0.000085</td>\n",
       "      <td>0.000367</td>\n",
       "      <td>-0.000194</td>\n",
       "      <td>-0.000208</td>\n",
       "      <td>-0.000005</td>\n",
       "      <td>0.000121</td>\n",
       "      <td>...</td>\n",
       "      <td>-0.000514</td>\n",
       "      <td>-0.000092</td>\n",
       "      <td>-0.000300</td>\n",
       "      <td>-0.000243</td>\n",
       "      <td>-0.000381</td>\n",
       "      <td>-0.000342</td>\n",
       "      <td>-0.000057</td>\n",
       "      <td>0.000239</td>\n",
       "      <td>0.000198</td>\n",
       "      <td>0.000323</td>\n",
       "    </tr>\n",
       "    <tr>\n",
       "      <th>3</th>\n",
       "      <td>-0.000423</td>\n",
       "      <td>-0.000409</td>\n",
       "      <td>-0.000046</td>\n",
       "      <td>0.000000</td>\n",
       "      <td>0.000019</td>\n",
       "      <td>-0.000340</td>\n",
       "      <td>-0.000230</td>\n",
       "      <td>-0.000308</td>\n",
       "      <td>0.000508</td>\n",
       "      <td>-0.000059</td>\n",
       "      <td>...</td>\n",
       "      <td>-0.000716</td>\n",
       "      <td>-0.000355</td>\n",
       "      <td>0.000003</td>\n",
       "      <td>0.000024</td>\n",
       "      <td>-0.000352</td>\n",
       "      <td>-0.000026</td>\n",
       "      <td>0.000217</td>\n",
       "      <td>-0.000515</td>\n",
       "      <td>-0.000370</td>\n",
       "      <td>-0.000308</td>\n",
       "    </tr>\n",
       "    <tr>\n",
       "      <th>4</th>\n",
       "      <td>0.000203</td>\n",
       "      <td>0.000373</td>\n",
       "      <td>0.000085</td>\n",
       "      <td>0.000019</td>\n",
       "      <td>0.000000</td>\n",
       "      <td>0.000722</td>\n",
       "      <td>0.000201</td>\n",
       "      <td>0.000007</td>\n",
       "      <td>-0.000233</td>\n",
       "      <td>-0.000100</td>\n",
       "      <td>...</td>\n",
       "      <td>0.000153</td>\n",
       "      <td>-0.000156</td>\n",
       "      <td>-0.000274</td>\n",
       "      <td>0.000298</td>\n",
       "      <td>0.000258</td>\n",
       "      <td>0.000418</td>\n",
       "      <td>0.000141</td>\n",
       "      <td>0.000435</td>\n",
       "      <td>0.000284</td>\n",
       "      <td>0.000452</td>\n",
       "    </tr>\n",
       "  </tbody>\n",
       "</table>\n",
       "<p>5 rows × 333 columns</p>\n",
       "</div>"
      ],
      "text/plain": [
       "            unassign                                                    \\\n",
       "                   0         1         2         3         4         5   \n",
       "unassign 0  0.000000 -0.000608  0.000272 -0.000423  0.000203 -0.001053   \n",
       "         1 -0.000608  0.000000 -0.000402 -0.000409  0.000373 -0.000889   \n",
       "         2  0.000272 -0.000402  0.000000 -0.000046  0.000085  0.000367   \n",
       "         3 -0.000423 -0.000409 -0.000046  0.000000  0.000019 -0.000340   \n",
       "         4  0.000203  0.000373  0.000085  0.000019  0.000000  0.000722   \n",
       "\n",
       "                                                    ...       pmn            \\\n",
       "                   6         7         8         9  ...       323       324   \n",
       "unassign 0 -0.000633 -0.000524  0.000693 -0.000135  ... -0.000540 -0.000329   \n",
       "         1 -0.000084  0.000199  0.000540  0.000480  ... -0.000204 -0.000137   \n",
       "         2 -0.000194 -0.000208 -0.000005  0.000121  ... -0.000514 -0.000092   \n",
       "         3 -0.000230 -0.000308  0.000508 -0.000059  ... -0.000716 -0.000355   \n",
       "         4  0.000201  0.000007 -0.000233 -0.000100  ...  0.000153 -0.000156   \n",
       "\n",
       "                           pon                                          \\\n",
       "                 325       326       327       328       329       330   \n",
       "unassign 0  0.000023 -0.000136 -0.000475 -0.000340  0.000174 -0.000357   \n",
       "         1 -0.000257 -0.000920 -0.000265 -0.000362 -0.000287  0.000008   \n",
       "         2 -0.000300 -0.000243 -0.000381 -0.000342 -0.000057  0.000239   \n",
       "         3  0.000003  0.000024 -0.000352 -0.000026  0.000217 -0.000515   \n",
       "         4 -0.000274  0.000298  0.000258  0.000418  0.000141  0.000435   \n",
       "\n",
       "                                \n",
       "                 331       332  \n",
       "unassign 0 -0.000061 -0.000350  \n",
       "         1 -0.000007 -0.000382  \n",
       "         2  0.000198  0.000323  \n",
       "         3 -0.000370 -0.000308  \n",
       "         4  0.000284  0.000452  \n",
       "\n",
       "[5 rows x 333 columns]"
      ]
     },
     "execution_count": 11,
     "metadata": {},
     "output_type": "execute_result"
    }
   ],
   "source": [
    "df.head()"
   ]
  },
  {
   "cell_type": "code",
   "execution_count": 12,
   "metadata": {},
   "outputs": [
    {
     "data": {
      "text/plain": [
       "unassign  0     -0.099797\n",
       "          1     -0.097932\n",
       "          2      0.098282\n",
       "          3      0.113059\n",
       "          4     -0.019768\n",
       "                   ...   \n",
       "pon       328    0.414816\n",
       "          329    0.124374\n",
       "          330    0.205793\n",
       "          331   -0.036061\n",
       "          332    0.209209\n",
       "Length: 333, dtype: float64"
      ]
     },
     "execution_count": 12,
     "metadata": {},
     "output_type": "execute_result"
    }
   ],
   "source": [
    "df.corrwith(df2)\n"
   ]
  },
  {
   "cell_type": "code",
   "execution_count": 16,
   "metadata": {},
   "outputs": [],
   "source": [
    "from sklearn.svm import LinearSVC\n",
    "import numpy as np\n",
    "import reshape\n",
    "import plotFW\n",
    "import pandas as pd\n",
    "import matplotlib.pyplot as plt\n",
    "import seaborn as sns\n",
    "from sklearn.model_selection import cross_val_score\n",
    "from sklearn import metrics\n",
    "# all parameters not specified are set to their defaults\n",
    "# default solver is incredibly slow thats why we change it\n",
    "clf = LinearSVC()\n",
    "    #Load task FC\n",
    "taskFC=reshape.matFiles('/Users/Alexis/Desktop/MSC_Alexis/analysis/data/mvpa_data/mem/MSC01_parcel_corrmat.mat')\n",
    "        #Load rest\n",
    "restFC=reshape.matFiles('/Users/Alexis/Desktop/MSC_Alexis/analysis/data/mvpa_data/rest/MSC01_parcel_corrmat.mat')\n",
    "        #Create a training dataset targets 1/0 ==task/rest, chunk=#days\n",
    "x_train=np.concatenate((taskFC, restFC))\n",
    "taskSize=taskFC.shape[0]\n",
    "restSize=restFC.shape[0]\n",
    "t = np.ones(taskSize, dtype = int)\n",
    "r=np.zeros(restSize, dtype=int)\n",
    "y_train = np.concatenate((t,r))\n",
    "clf.fit(x_train, y_train)\n",
    "        #Cross validation\n",
    "CVscores=cross_val_score(clf, x_train, y_train, cv=taskSize)\n",
    "        #Obtain coefficients (feature weights)\n",
    "coef = clf.coef_"
   ]
  },
  {
   "cell_type": "code",
   "execution_count": 18,
   "metadata": {},
   "outputs": [
    {
     "data": {
      "text/plain": [
       "(1, 55278)"
      ]
     },
     "execution_count": 18,
     "metadata": {},
     "output_type": "execute_result"
    }
   ],
   "source": [
    "coef.shape"
   ]
  },
  {
   "cell_type": "code",
   "execution_count": 19,
   "metadata": {},
   "outputs": [],
   "source": [
    "taskFC=reshape.matFiles('/Users/Alexis/Desktop/MSC_Alexis/analysis/data/mvpa_data/mem/MSC02_parcel_corrmat.mat')\n",
    "        #Load rest\n",
    "restFC=reshape.matFiles('/Users/Alexis/Desktop/MSC_Alexis/analysis/data/mvpa_data/rest/MSC02_parcel_corrmat.mat')\n",
    "        #Create a training dataset targets 1/0 ==task/rest, chunk=#days\n",
    "x_train=np.concatenate((taskFC, restFC))\n",
    "taskSize=taskFC.shape[0]\n",
    "restSize=restFC.shape[0]\n",
    "t = np.ones(taskSize, dtype = int)\n",
    "r=np.zeros(restSize, dtype=int)\n",
    "y_train = np.concatenate((t,r))\n",
    "clf.fit(x_train, y_train)\n",
    "        #Cross validation\n",
    "CVscores=cross_val_score(clf, x_train, y_train, cv=taskSize)\n",
    "        #Obtain coefficients (feature weights)\n",
    "MSC02coef = clf.coef_"
   ]
  },
  {
   "cell_type": "code",
   "execution_count": 21,
   "metadata": {},
   "outputs": [
    {
     "data": {
      "text/plain": [
       "(1, 55278)"
      ]
     },
     "execution_count": 21,
     "metadata": {},
     "output_type": "execute_result"
    }
   ],
   "source": [
    "MSC02coef.shape"
   ]
  },
  {
   "cell_type": "code",
   "execution_count": 25,
   "metadata": {},
   "outputs": [
    {
     "data": {
      "text/plain": [
       "array([[1.36328039e-07, 3.48316224e-08],\n",
       "       [3.48316224e-08, 1.86281888e-07]])"
      ]
     },
     "execution_count": 25,
     "metadata": {},
     "output_type": "execute_result"
    }
   ],
   "source": [
    "np.cov(coef, MSC02coef)"
   ]
  },
  {
   "cell_type": "code",
   "execution_count": null,
   "metadata": {},
   "outputs": [],
   "source": []
  }
 ],
 "metadata": {
  "kernelspec": {
   "display_name": "Python 3",
   "language": "python",
   "name": "python3"
  },
  "language_info": {
   "codemirror_mode": {
    "name": "ipython",
    "version": 3
   },
   "file_extension": ".py",
   "mimetype": "text/x-python",
   "name": "python",
   "nbconvert_exporter": "python",
   "pygments_lexer": "ipython3",
   "version": "3.7.3"
  }
 },
 "nbformat": 4,
 "nbformat_minor": 2
}
