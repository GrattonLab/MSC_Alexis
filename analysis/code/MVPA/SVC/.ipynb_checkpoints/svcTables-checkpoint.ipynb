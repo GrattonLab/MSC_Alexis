{
 "cells": [
  {
   "cell_type": "code",
   "execution_count": 6,
   "metadata": {},
   "outputs": [],
   "source": [
    "DS=read.csv('/Users/aporter1350/Desktop/MSC_Alexis/analysis/output/results/SVC/acc/DS/stats_DS.csv', header=T)"
   ]
  },
  {
   "cell_type": "code",
   "execution_count": 7,
   "metadata": {},
   "outputs": [
    {
     "data": {
      "text/html": [
       "<table>\n",
       "<caption>A data.frame: 3 × 3</caption>\n",
       "<thead>\n",
       "\t<tr><th></th><th scope=col>Test_Variable</th><th scope=col>Mean</th><th scope=col>Std</th></tr>\n",
       "\t<tr><th></th><th scope=col>&lt;fct&gt;</th><th scope=col>&lt;dbl&gt;</th><th scope=col>&lt;dbl&gt;</th></tr>\n",
       "</thead>\n",
       "<tbody>\n",
       "\t<tr><th scope=row>1</th><td>mem  </td><td>0.9062500</td><td>0.1067187</td></tr>\n",
       "\t<tr><th scope=row>2</th><td>mixed</td><td>0.7390625</td><td>0.1677273</td></tr>\n",
       "\t<tr><th scope=row>3</th><td>motor</td><td>0.8273438</td><td>0.1642515</td></tr>\n",
       "</tbody>\n",
       "</table>\n"
      ],
      "text/latex": [
       "A data.frame: 3 × 3\n",
       "\\begin{tabular}{r|lll}\n",
       "  & Test\\_Variable & Mean & Std\\\\\n",
       "  & <fct> & <dbl> & <dbl>\\\\\n",
       "\\hline\n",
       "\t1 & mem   & 0.9062500 & 0.1067187\\\\\n",
       "\t2 & mixed & 0.7390625 & 0.1677273\\\\\n",
       "\t3 & motor & 0.8273438 & 0.1642515\\\\\n",
       "\\end{tabular}\n"
      ],
      "text/markdown": [
       "\n",
       "A data.frame: 3 × 3\n",
       "\n",
       "| <!--/--> | Test_Variable &lt;fct&gt; | Mean &lt;dbl&gt; | Std &lt;dbl&gt; |\n",
       "|---|---|---|---|\n",
       "| 1 | mem   | 0.9062500 | 0.1067187 |\n",
       "| 2 | mixed | 0.7390625 | 0.1677273 |\n",
       "| 3 | motor | 0.8273438 | 0.1642515 |\n",
       "\n"
      ],
      "text/plain": [
       "  Test_Variable Mean      Std      \n",
       "1 mem           0.9062500 0.1067187\n",
       "2 mixed         0.7390625 0.1677273\n",
       "3 motor         0.8273438 0.1642515"
      ]
     },
     "metadata": {},
     "output_type": "display_data"
    }
   ],
   "source": [
    "head(DS)"
   ]
  },
  {
   "cell_type": "code",
   "execution_count": 8,
   "metadata": {},
   "outputs": [],
   "source": [
    "SS=read.csv('/Users/aporter1350/Desktop/MSC_Alexis/analysis/output/results/SVC/acc/SS/stats_SS.csv', header=T)"
   ]
  },
  {
   "cell_type": "code",
   "execution_count": 9,
   "metadata": {},
   "outputs": [
    {
     "data": {
      "text/html": [
       "<table>\n",
       "<caption>A data.frame: 3 × 3</caption>\n",
       "<thead>\n",
       "\t<tr><th></th><th scope=col>Test_Variable</th><th scope=col>Mean</th><th scope=col>Std</th></tr>\n",
       "\t<tr><th></th><th scope=col>&lt;fct&gt;</th><th scope=col>&lt;dbl&gt;</th><th scope=col>&lt;dbl&gt;</th></tr>\n",
       "</thead>\n",
       "<tbody>\n",
       "\t<tr><th scope=row>1</th><td>mem  </td><td>0.6979167</td><td>0.2786791</td></tr>\n",
       "\t<tr><th scope=row>2</th><td>mixed</td><td>0.5833333</td><td>0.2670137</td></tr>\n",
       "\t<tr><th scope=row>3</th><td>motor</td><td>0.8854167</td><td>0.1250000</td></tr>\n",
       "</tbody>\n",
       "</table>\n"
      ],
      "text/latex": [
       "A data.frame: 3 × 3\n",
       "\\begin{tabular}{r|lll}\n",
       "  & Test\\_Variable & Mean & Std\\\\\n",
       "  & <fct> & <dbl> & <dbl>\\\\\n",
       "\\hline\n",
       "\t1 & mem   & 0.6979167 & 0.2786791\\\\\n",
       "\t2 & mixed & 0.5833333 & 0.2670137\\\\\n",
       "\t3 & motor & 0.8854167 & 0.1250000\\\\\n",
       "\\end{tabular}\n"
      ],
      "text/markdown": [
       "\n",
       "A data.frame: 3 × 3\n",
       "\n",
       "| <!--/--> | Test_Variable &lt;fct&gt; | Mean &lt;dbl&gt; | Std &lt;dbl&gt; |\n",
       "|---|---|---|---|\n",
       "| 1 | mem   | 0.6979167 | 0.2786791 |\n",
       "| 2 | mixed | 0.5833333 | 0.2670137 |\n",
       "| 3 | motor | 0.8854167 | 0.1250000 |\n",
       "\n"
      ],
      "text/plain": [
       "  Test_Variable Mean      Std      \n",
       "1 mem           0.6979167 0.2786791\n",
       "2 mixed         0.5833333 0.2670137\n",
       "3 motor         0.8854167 0.1250000"
      ]
     },
     "metadata": {},
     "output_type": "display_data"
    }
   ],
   "source": [
    "head(SS)"
   ]
  },
  {
   "cell_type": "code",
   "execution_count": 15,
   "metadata": {},
   "outputs": [],
   "source": [
    "library(pander)"
   ]
  },
  {
   "cell_type": "code",
   "execution_count": 16,
   "metadata": {},
   "outputs": [
    {
     "name": "stdout",
     "output_type": "stream",
     "text": [
      "\n",
      "\n",
      "| Test_Variable |  Mean  |  Std   |\n",
      "|:-------------:|:------:|:------:|\n",
      "|      mem      | 0.9062 | 0.1067 |\n",
      "|     mixed     | 0.7391 | 0.1677 |\n",
      "|     motor     | 0.8273 | 0.1643 |\n",
      "\n"
     ]
    }
   ],
   "source": [
    "pander(DS)"
   ]
  },
  {
   "cell_type": "code",
   "execution_count": 17,
   "metadata": {},
   "outputs": [
    {
     "name": "stdout",
     "output_type": "stream",
     "text": [
      "\n",
      "\n",
      "| Test_Variable |  Mean  |  Std   |\n",
      "|:-------------:|:------:|:------:|\n",
      "|      mem      | 0.6979 | 0.2787 |\n",
      "|     mixed     | 0.5833 | 0.267  |\n",
      "|     motor     | 0.8854 | 0.125  |\n",
      "\n"
     ]
    }
   ],
   "source": [
    "pander(SS)"
   ]
  },
  {
   "cell_type": "code",
   "execution_count": null,
   "metadata": {},
   "outputs": [],
   "source": []
  }
 ],
 "metadata": {
  "kernelspec": {
   "display_name": "R 3.3",
   "language": "R",
   "name": "ir33"
  },
  "language_info": {
   "codemirror_mode": "r",
   "file_extension": ".r",
   "mimetype": "text/x-r-source",
   "name": "R",
   "pygments_lexer": "r",
   "version": "3.5.2"
  }
 },
 "nbformat": 4,
 "nbformat_minor": 2
}
