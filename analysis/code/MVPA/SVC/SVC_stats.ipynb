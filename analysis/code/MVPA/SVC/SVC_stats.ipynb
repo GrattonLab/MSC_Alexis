{
 "cells": [
  {
   "cell_type": "code",
   "execution_count": 25,
   "metadata": {},
   "outputs": [],
   "source": [
    "import pandas as pd\n",
    "import numpy as np\n",
    "taskList=['mem','mixed', 'motor']\n",
    "meanList=[]\n",
    "stdList=[]\n",
    "for i in taskList:\n",
    "    df=pd.read_csv('/Users/aporter1350/Desktop/MSC_Alexis/analysis/output/results/SVC/acc/DS/' +i+ '_accTable_diff_sub.csv')\n",
    "    df.drop(columns='Test_variables', inplace=True)\n",
    "    m=df.values.mean()\n",
    "    std=df.values.std(ddof=1)\n",
    "    meanList.append(m)\n",
    "    stdList.append(std)\n",
    "stats_DS=pd.DataFrame({'Test_Variable':taskList, 'Mean':meanList, \"Std\": stdList}).set_index('Test_Variable')\n",
    "\n",
    "        \n",
    "\n",
    "stats_DS.to_csv('/Users/aporter1350/Desktop/MSC_Alexis/analysis/output/results/SVC/acc/DS/stats_DS.csv', index=True)"
   ]
  },
  {
   "cell_type": "code",
   "execution_count": 27,
   "metadata": {},
   "outputs": [],
   "source": [
    "#concatenate all dataframes\n",
    "accTable=[]\n",
    "subList=['MSC01','MSC02','MSC03','MSC04','MSC05','MSC06','MSC07','MSC10']\n",
    "taskList=['mem','mixed','motor']\n",
    "meanList=[]\n",
    "stdList=[]\n",
    "for i in subList:\n",
    "    df=pd.read_csv('~/Desktop/MSC_Alexis/analysis/output/results/SVC/acc/SS/' +i +'_accTable_same_sub.csv')\n",
    "    accTable.append(df)\n",
    "results=pd.concat(accTable)\n",
    "grouped_df=results.groupby('Test_variables')\n",
    "for j in taskList:\n",
    "    task_df=grouped_df.get_group(j)\n",
    "    task_df.drop(columns=[j, 'Test_variables'], inplace=True)\n",
    "    m=task_df.values.mean()\n",
    "    std=task_df.values.std(ddof=1)\n",
    "    meanList.append(m)\n",
    "    stdList.append(std)\n",
    "stats_SS=pd.DataFrame({'Test_Variable':taskList, 'Mean':meanList, \"Std\": stdList}).set_index('Test_Variable')\n",
    "\n",
    "stats_SS.to_csv('/Users/aporter1350/Desktop/MSC_Alexis/analysis/output/results/SVC/acc/SS/stats_SS.csv', index=True)"
   ]
  },
  {
   "cell_type": "code",
   "execution_count": 1,
   "metadata": {},
   "outputs": [
    {
     "name": "stderr",
     "output_type": "stream",
     "text": [
      "/Applications/anaconda3/lib/python3.7/site-packages/pandas/core/frame.py:3697: SettingWithCopyWarning: \n",
      "A value is trying to be set on a copy of a slice from a DataFrame\n",
      "\n",
      "See the caveats in the documentation: http://pandas.pydata.org/pandas-docs/stable/indexing.html#indexing-view-versus-copy\n",
      "  errors=errors)\n"
     ]
    }
   ],
   "source": [
    "#cv within sub within task\n",
    "import pandas as pd\n",
    "import numpy as np\n",
    "    #concatenate all dataframes\n",
    "accTable=[]\n",
    "meanList=[]\n",
    "stdList=[]\n",
    "subList=['MSC01','MSC02','MSC03','MSC04','MSC05','MSC06','MSC07','MSC10']\n",
    "taskList=['mem','mixed','motor']\n",
    "for i in subList:\n",
    "    df=pd.read_csv('/Users/aporter1350/Desktop/MSC_Alexis/analysis/output/results/SVC/acc/SS/'+i+'_cvTable_folds.csv')\n",
    "    df.drop(columns='Unnamed: 0', inplace=True)\n",
    "    m=df.mean()\n",
    "    mean_df=pd.DataFrame(m)\n",
    "    mean_df['sub']=i\n",
    "    accTable.append(mean_df)\n",
    "results=pd.concat(accTable)\n",
    "results.rename(columns={results.columns[0]: \"ACC\" },inplace=True)\n",
    "results.index.name='Test_variables'\n",
    "grouped_df=results.groupby('Test_variables')\n",
    "for j in taskList:\n",
    "    task_df=grouped_df.get_group(j)\n",
    "    task_df.drop(columns=['sub'], inplace=True)\n",
    "    m=task_df.values.mean()\n",
    "    std=task_df.values.std(ddof=1)\n",
    "    meanList.append(m)\n",
    "    stdList.append(std)\n",
    "stats_cv=pd.DataFrame({'Test_Variable':taskList, 'Mean':meanList, \"Std\": stdList}).set_index('Test_Variable')\n",
    "\n",
    "stats_cv.to_csv('/Users/aporter1350/Desktop/MSC_Alexis/analysis/output/results/SVC/acc/SS/stats_cv.csv', index=True)"
   ]
  },
  {
   "cell_type": "code",
   "execution_count": null,
   "metadata": {},
   "outputs": [],
   "source": []
  }
 ],
 "metadata": {
  "kernelspec": {
   "display_name": "Python 3",
   "language": "python",
   "name": "python3"
  },
  "language_info": {
   "codemirror_mode": {
    "name": "ipython",
    "version": 3
   },
   "file_extension": ".py",
   "mimetype": "text/x-python",
   "name": "python",
   "nbconvert_exporter": "python",
   "pygments_lexer": "ipython3",
   "version": "3.7.1"
  }
 },
 "nbformat": 4,
 "nbformat_minor": 2
}
