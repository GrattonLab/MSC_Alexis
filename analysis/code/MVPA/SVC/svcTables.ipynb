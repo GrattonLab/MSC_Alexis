{
 "cells": [
  {
   "cell_type": "code",
   "execution_count": 2,
   "metadata": {},
   "outputs": [],
   "source": [
    "library(pander)\n",
    "DS=read.csv('/Users/aporter1350/Desktop/MSC_Alexis/analysis/output/results/SVC/acc/DS/stats_DS.csv', header=T)\n",
    "SS=read.csv('/Users/aporter1350/Desktop/MSC_Alexis/analysis/output/results/SVC/acc/SS/stats_SS.csv', header=T)\n",
    "CV=read.csv('/Users/aporter1350/Desktop/MSC_Alexis/analysis/output/results/SVC/acc/SS/stats_cv.csv', header=T)"
   ]
  },
  {
   "cell_type": "code",
   "execution_count": 19,
   "metadata": {},
   "outputs": [
    {
     "name": "stdout",
     "output_type": "stream",
     "text": [
      "\n",
      "\n",
      "| Test_Variable |  Mean  |   Std   |\n",
      "|:-------------:|:------:|:-------:|\n",
      "|      mem      | 0.9359 | 0.09018 |\n",
      "|     mixed     | 0.7992 | 0.1552  |\n",
      "|     motor     | 0.9086 | 0.09109 |\n",
      "\n"
     ]
    }
   ],
   "source": [
    "pander(DS)"
   ]
  },
  {
   "cell_type": "code",
   "execution_count": 20,
   "metadata": {},
   "outputs": [
    {
     "name": "stdout",
     "output_type": "stream",
     "text": [
      "\n",
      "\n",
      "| Test_Variable |  Mean  |  Std   |\n",
      "|:-------------:|:------:|:------:|\n",
      "|      mem      | 0.6354 | 0.2917 |\n",
      "|     mixed     | 0.474  | 0.2467 |\n",
      "|     motor     | 0.7656 |  0.2   |\n",
      "\n"
     ]
    }
   ],
   "source": [
    "pander(SS)"
   ]
  },
  {
   "cell_type": "code",
   "execution_count": 3,
   "metadata": {},
   "outputs": [
    {
     "name": "stdout",
     "output_type": "stream",
     "text": [
      "\n",
      "\n",
      "| Test_Variable |  Mean  |   Std   |\n",
      "|:-------------:|:------:|:-------:|\n",
      "|      mem      | 0.9844 | 0.02893 |\n",
      "|     mixed     | 0.9766 | 0.03235 |\n",
      "|     motor     | 0.9766 | 0.03235 |\n",
      "\n"
     ]
    }
   ],
   "source": [
    "pander(CV)"
   ]
  },
  {
   "cell_type": "code",
   "execution_count": null,
   "metadata": {},
   "outputs": [],
   "source": []
  }
 ],
 "metadata": {
  "kernelspec": {
   "display_name": "R 3.3",
   "language": "R",
   "name": "ir33"
  },
  "language_info": {
   "codemirror_mode": "r",
   "file_extension": ".r",
   "mimetype": "text/x-r-source",
   "name": "R",
   "pygments_lexer": "r",
   "version": "3.5.2"
  }
 },
 "nbformat": 4,
 "nbformat_minor": 2
}
