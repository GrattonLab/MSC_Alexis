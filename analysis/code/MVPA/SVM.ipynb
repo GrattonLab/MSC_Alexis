{
 "cells": [
  {
   "cell_type": "code",
   "execution_count": 4,
   "metadata": {},
   "outputs": [],
   "source": [
    "import pandas as pd\n",
    "import numpy as np\n",
    "from mvpa2.datasets import dataset_wizard, vstack\n",
    "from mvpa2.generators.partition import NFoldPartitioner\n",
    "from mvpa2.measures.base import CrossValidation\n",
    "from mvpa2.clfs.meta import MappedClassifier\n",
    "from mvpa2.clfs.svm import LinearCSVMC\n",
    "import scipy.io\n",
    "import reshape\n",
    "#Load task FC\n",
    "taskFile=reshape.matFiles('/Users/Alexis/Box/Quest_Backup/MSC/TaskFC/FC_Parcels/mixed/MSC08_parcel_corrmat.mat')\n",
    "#Load rest\n",
    "restFile=reshape.matFiles('/Users/Alexis/Box/Quest_Backup/MSC/TaskFC/FC_Parcels/rest/MSC08_parcel_corrmat.mat')\n",
    "#Create a training dataset targets 1/0 ==task/rest, chunk=#days\n",
    "taskdf=dataset_wizard(samples=taskFile, targets=1)#, chunks=range(10))\n",
    "restdf=dataset_wizard(samples=restFile, targets=0)#, chunks=range(10))\n",
    "training=vstack((taskdf, restdf))\n",
    "#bar=dataset_wizard(samples=training, targets=([1, 1, 1, 1, 1, 1, 1, 1, 1, 1, 0, 0, 0, 0, 0, 0, 0, 0, 0, 0]), chunks=range(20))\n",
    "#Linear SVM with cross validation scheme leave one out, output is the accuracy\n",
    "cv=CrossValidation(LinearCSVMC(), NFoldPartitioner(), \n",
    "                      enable_ca=['stats'],\n",
    "                      errorfx=lambda p, t: np.mean(p == t))        \n",
    "#Lets loop through all scenerios for sub and task of interest\n",
    "test_taskFile=reshape.matFiles('/Users/Alexis/Box/Quest_Backup/MSC/TaskFC/FC_Parcels/mixed/MSC08_parcel_corrmat.mat')\n",
    "#Load rest\n",
    "test_restFile=reshape.matFiles('/Users/Alexis/Box/Quest_Backup/MSC/TaskFC/FC_Parcels/rest/MSC08_parcel_corrmat.mat')\n",
    "#Create testing dataset\n",
    "testing_task=dataset_wizard(samples=test_taskFile, targets=1)#, chunks=range(10))\n",
    "testing_rest=dataset_wizard(samples=test_restFile, targets=0)#, chunks=range(10))\n",
    "testing=vstack((testing_task, testing_rest))\n",
    "foo=dataset_wizard(samples=testing, targets=([1, 1, 1, 1, 1, 1, 1, 1, 1, 1, 0, 0, 0, 0, 0, 0, 0, 0, 0, 0]), chunks=range(20))"
   ]
  },
  {
   "cell_type": "code",
   "execution_count": 6,
   "metadata": {},
   "outputs": [],
   "source": [
    "#Train the classifier\n",
    "cv.train(training)\n"
   ]
  },
  {
   "cell_type": "code",
   "execution_count": 8,
   "metadata": {},
   "outputs": [
    {
     "name": "stderr",
     "output_type": "stream",
     "text": [
      "//anaconda3/envs/ipykernel_py2/lib/python2.7/site-packages/mvpa2/misc/attrmap.py:153: FutureWarning: Conversion of the second argument of issubdtype from `str` to `str` is deprecated. In future, it will be treated as `np.string_ == np.dtype(str).type`.\n",
      "  if not np.issubdtype(attr.dtype, str) and not self.mapnumeric:\n",
      "//anaconda3/envs/ipykernel_py2/lib/python2.7/site-packages/mvpa2/clfs/libsvmc/svm.py:215: FutureWarning: Conversion of the second argument of issubdtype from `'c'` to `str` is deprecated. In future, it will be treated as `np.string_ == np.dtype('c').type`.\n",
      "  if ( np.issubdtype(self.ca.trained_targets.dtype, 'c') or\n",
      "//anaconda3/envs/ipykernel_py2/lib/python2.7/site-packages/mvpa2/clfs/libsvmc/svm.py:216: FutureWarning: Conversion of the second argument of issubdtype from `'U'` to `unicode` is deprecated. In future, it will be treated as `np.unicode_ == np.dtype('U').type`.\n",
      "  np.issubdtype(self.ca.trained_targets.dtype, 'U') ):\n"
     ]
    }
   ],
   "source": [
    "pre=cv(foo)\n",
    "#prediction accuracy\n",
    "acc=np.mean(pre)"
   ]
  },
  {
   "cell_type": "code",
   "execution_count": 12,
   "metadata": {},
   "outputs": [
    {
     "data": {
      "text/plain": [
       "Dataset(array([[1.],\n",
       "       [1.],\n",
       "       [1.],\n",
       "       [1.],\n",
       "       [1.],\n",
       "       [1.],\n",
       "       [1.],\n",
       "       [1.],\n",
       "       [1.],\n",
       "       [1.],\n",
       "       [0.],\n",
       "       [0.],\n",
       "       [0.],\n",
       "       [0.],\n",
       "       [0.],\n",
       "       [0.],\n",
       "       [0.],\n",
       "       [0.],\n",
       "       [0.],\n",
       "       [0.]]), sa=SampleAttributesCollection(items=[ArrayCollectable(name='cvfolds', doc=None, value=array([ 0,  1,  2,  3,  4,  5,  6,  7,  8,  9, 10, 11, 12, 13, 14, 15, 16,\n",
       "       17, 18, 19]), length=20)]), fa=FeatureAttributesCollection(items=[]), a=DatasetAttributesCollection(items=[]))"
      ]
     },
     "execution_count": 12,
     "metadata": {},
     "output_type": "execute_result"
    }
   ],
   "source": [
    "pre"
   ]
  },
  {
   "cell_type": "code",
   "execution_count": 13,
   "metadata": {},
   "outputs": [
    {
     "data": {
      "text/plain": [
       "0.5"
      ]
     },
     "execution_count": 13,
     "metadata": {},
     "output_type": "execute_result"
    }
   ],
   "source": [
    "acc"
   ]
  },
  {
   "cell_type": "code",
   "execution_count": 14,
   "metadata": {},
   "outputs": [
    {
     "name": "stdout",
     "output_type": "stream",
     "text": [
      "Results for 20-fold cross-validation on 2-class problem:\n"
     ]
    }
   ],
   "source": [
    "# UC: unique chunks, UT: unique targets\n",
    "print \"Results for %i-fold cross-validation on %i-class problem:\" \\\n",
    "      % (len(foo.UC), len(foo.UT))\n"
   ]
  },
  {
   "cell_type": "code",
   "execution_count": 14,
   "metadata": {},
   "outputs": [],
   "source": [
    "dataset_wizard?"
   ]
  },
  {
   "cell_type": "code",
   "execution_count": 15,
   "metadata": {},
   "outputs": [
    {
     "data": {
      "text/plain": [
       "(20, 55278)"
      ]
     },
     "execution_count": 15,
     "metadata": {},
     "output_type": "execute_result"
    }
   ],
   "source": [
    "foo.shape"
   ]
  },
  {
   "cell_type": "code",
   "execution_count": 9,
   "metadata": {},
   "outputs": [
    {
     "ename": "AttributeError",
     "evalue": "'CrossValidation' object has no attribute 'training_stats'",
     "output_type": "error",
     "traceback": [
      "\u001b[0;31m---------------------------------------------------------------------------\u001b[0m",
      "\u001b[0;31mAttributeError\u001b[0m                            Traceback (most recent call last)",
      "\u001b[0;32m<ipython-input-9-75f7e3bd85ae>\u001b[0m in \u001b[0;36m<module>\u001b[0;34m()\u001b[0m\n\u001b[0;32m----> 1\u001b[0;31m \u001b[0mcv\u001b[0m\u001b[0;34m.\u001b[0m\u001b[0mtraining_stats\u001b[0m\u001b[0;34m(\u001b[0m\u001b[0;34m)\u001b[0m\u001b[0;34m\u001b[0m\u001b[0m\n\u001b[0m",
      "\u001b[0;31mAttributeError\u001b[0m: 'CrossValidation' object has no attribute 'training_stats'"
     ]
    }
   ],
   "source": [
    "cv.training_stats()\n"
   ]
  },
  {
   "cell_type": "code",
   "execution_count": 17,
   "metadata": {},
   "outputs": [
    {
     "data": {
      "text/plain": [
       "(20, 55278)"
      ]
     },
     "execution_count": 17,
     "metadata": {},
     "output_type": "execute_result"
    }
   ],
   "source": [
    "bar.shape"
   ]
  },
  {
   "cell_type": "code",
   "execution_count": 18,
   "metadata": {},
   "outputs": [
    {
     "data": {
      "text/plain": [
       "SampleAttributesCollection(items=[ArrayCollectable(name='chunks', doc=None, value=array([ 0,  1,  2,  3,  4,  5,  6,  7,  8,  9, 10, 11, 12, 13, 14, 15, 16,\n",
       "       17, 18, 19]), length=20), ArrayCollectable(name='targets', doc=None, value=array([1, 1, 1, 1, 1, 1, 1, 1, 1, 1, 0, 0, 0, 0, 0, 0, 0, 0, 0, 0]), length=20)])"
      ]
     },
     "execution_count": 18,
     "metadata": {},
     "output_type": "execute_result"
    }
   ],
   "source": [
    "bar.sa"
   ]
  },
  {
   "cell_type": "code",
   "execution_count": 10,
   "metadata": {},
   "outputs": [
    {
     "name": "stderr",
     "output_type": "stream",
     "text": [
      "//anaconda3/envs/ipykernel_py2/lib/python2.7/site-packages/mvpa2/clfs/transerror.py:685: RuntimeWarning: invalid value encountered in divide\n",
      "  stats['PPV'] = stats['TP'] / (1.0*stats[\"P'\"])\n",
      "//anaconda3/envs/ipykernel_py2/lib/python2.7/site-packages/mvpa2/clfs/transerror.py:686: RuntimeWarning: invalid value encountered in divide\n",
      "  stats['NPV'] = stats['TN'] / (1.0*stats[\"N'\"])\n",
      "//anaconda3/envs/ipykernel_py2/lib/python2.7/site-packages/mvpa2/clfs/transerror.py:687: RuntimeWarning: invalid value encountered in divide\n",
      "  stats['FDR'] = stats['FP'] / (1.0*stats[\"P'\"])\n",
      "//anaconda3/envs/ipykernel_py2/lib/python2.7/site-packages/mvpa2/clfs/transerror.py:718: RuntimeWarning: invalid value encountered in divide\n",
      "  for m in mat_all]\n",
      "//anaconda3/envs/ipykernel_py2/lib/python2.7/site-packages/mvpa2/clfs/transerror.py:722: RuntimeWarning: invalid value encountered in divide\n",
      "  for m in mat_all]\n",
      "//anaconda3/envs/ipykernel_py2/lib/python2.7/site-packages/mvpa2/misc/errorfx.py:143: RuntimeWarning: invalid value encountered in divide\n",
      "  ([0], np.cumsum(t)/t.sum(dtype=np.float), [1]))\n",
      "//anaconda3/envs/ipykernel_py2/lib/python2.7/site-packages/mvpa2/misc/errorfx.py:147: RuntimeWarning: invalid value encountered in divide\n",
      "  ([0], np.cumsum(~t)/(~t).sum(dtype=np.float), [1]))\n",
      "//anaconda3/envs/ipykernel_py2/lib/python2.7/site-packages/mvpa2/clfs/transerror.py:394: RuntimeWarning: Mean of empty slice\n",
      "  aucs += [nanmean(aucs_pl)]\n"
     ]
    },
    {
     "data": {
      "text/plain": [
       "array([[ 0,  0],\n",
       "       [10, 10]])"
      ]
     },
     "execution_count": 10,
     "metadata": {},
     "output_type": "execute_result"
    }
   ],
   "source": [
    "cv.ca.stats.matrix"
   ]
  },
  {
   "cell_type": "code",
   "execution_count": null,
   "metadata": {},
   "outputs": [],
   "source": []
  }
 ],
 "metadata": {
  "kernelspec": {
   "display_name": "Python 2",
   "language": "python",
   "name": "python2"
  }
 },
 "nbformat": 4,
 "nbformat_minor": 2
}
