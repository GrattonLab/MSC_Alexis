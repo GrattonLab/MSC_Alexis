{
 "cells": [
  {
   "cell_type": "code",
   "execution_count": 5,
   "metadata": {},
   "outputs": [],
   "source": [
    "def classify_var_diff_sub(task='taskname', trainList=['MSC01','MSC02','MSC03','MSC04','MSC05','MSC06','MSC07','MSC08','MSC09','MSC10'], predictList=['MSC01','MSC02','MSC03','MSC04','MSC05','MSC06','MSC07','MSC08','MSC09','MSC10']):\n",
    "    import pandas as pd\n",
    "    import numpy as np\n",
    "    from mvpa2.datasets import dataset_wizard, vstack\n",
    "    from mvpa2.generators.partition import NFoldPartitioner\n",
    "    from mvpa2.measures.base import CrossValidation\n",
    "    from mvpa2.clfs.meta import MappedClassifier\n",
    "    from mvpa2.clfs.svm import LinearCSVMC\n",
    "    import reshape\n",
    "    import scipy.io\n",
    "    #make an empty df to store accuracy scores from each run\n",
    "    accTable=[]\n",
    "    for i in trainList:\n",
    "        #Load task FC\n",
    "        taskFC=reshape.matFiles('/Users/Alexis/Box/Quest_Backup/MSC/TaskFC/FC_Parcels/'+task+'/'+i+'_parcel_corrmat.mat')\n",
    "        #Load rest\n",
    "        restFC=reshape.matFiles('/Users/Alexis/Box/Quest_Backup/MSC/TaskFC/FC_Parcels/rest/'+i+'_parcel_corrmat.mat')\n",
    "        #Create a training dataset targets 1/0 ==task/rest, chunk=#days\n",
    "        #taskdf=dataset_wizard(samples=taskFC, targets=1, chunks=range(10))\n",
    "        #restdf=dataset_wizard(samples=restFC, targets=0, chunks=range(10))\n",
    "        combine=vstack((taskFC, restFC))\n",
    "        training=dataset_wizard(samples=combine, targets=([1, 1, 1, 1, 1, 1, 1, 1, 1, 1, 0, 0, 0, 0, 0, 0, 0, 0, 0, 0]), chunks=range(20))\n",
    "        #Linear SVM with cross validation scheme leave one out, output is the accuracy\n",
    "        cv=CrossValidation(LinearCSVMC(), NFoldPartitioner(), \n",
    "                      enable_ca=['stats'],\n",
    "                      errorfx=lambda p, t: np.mean(p == t))\n",
    "        #Train the classifier         \n",
    "        cv.train(training)\n",
    "        acc_scores_per_task=[]\n",
    "        #Lets loop through all scenerios for sub and task of interest\n",
    "        for j in predictList:\n",
    "            #Load testing set\n",
    "            test_taskFC=reshape.matFiles('/Users/Alexis/Box/Quest_Backup/MSC/TaskFC/FC_Parcels/'+task+'/'+j+'_parcel_corrmat.mat')\n",
    "            #and all rest files\n",
    "            test_restFC=reshape.matFiles('/Users/Alexis/Box/Quest_Backup/MSC/TaskFC/FC_Parcels/rest/'+j+'_parcel_corrmat.mat')\n",
    "            #Create testing dataset\n",
    "            #testing_taskdf=dataset_wizard(samples=test_taskFC, targets=1, chunks=range(10))\n",
    "            #testing_restdf=dataset_wizard(samples=test_restFC, targets=0, chunks=range(10))\n",
    "            #testing=vstack((testing_taskdf, testing_restdf))\n",
    "            test_combine=vstack((test_taskFC, test_restFC))\n",
    "            testing=dataset_wizard(samples=test_combine, targets=([1, 1, 1, 1, 1, 1, 1, 1, 1, 1, 0, 0, 0, 0, 0, 0, 0, 0, 0, 0]), chunks=range(20))\n",
    "            #Time to test\n",
    "            pre=cv(testing)\n",
    "            #prediction accuracy\n",
    "            acc=np.mean(pre)\n",
    "            acc_scores_per_task.append(acc)\n",
    "        tmp_df=pd.DataFrame({'Test_variables':predictList, i:acc_scores_per_task}).set_index('Test_variables')\n",
    "        accTable.append(tmp_df)\n",
    "    accTable=pd.concat(accTable, axis=1)\n",
    "    accTable.to_csv('/Users/Alexis/Desktop/MSC_Alexis/analysis/output/results/MVPA/'+task+'_accTable_diff_sub.csv')"
   ]
  },
  {
   "cell_type": "code",
   "execution_count": 6,
   "metadata": {},
   "outputs": [],
   "source": [
    "taskName=['mem','mixed','motor']\n",
    "for t in taskName:\n",
    "    classify_var_diff_sub(t)"
   ]
  },
  {
   "cell_type": "code",
   "execution_count": null,
   "metadata": {},
   "outputs": [],
   "source": []
  }
 ],
 "metadata": {
  "kernelspec": {
   "display_name": "Python 2",
   "language": "python",
   "name": "python2"
  },
  "language_info": {
   "codemirror_mode": {
    "name": "ipython",
    "version": 2
   },
   "file_extension": ".py",
   "mimetype": "text/x-python",
   "name": "python",
   "nbconvert_exporter": "python",
   "pygments_lexer": "ipython2",
   "version": "2.7.15"
  }
 },
 "nbformat": 4,
 "nbformat_minor": 2
}
