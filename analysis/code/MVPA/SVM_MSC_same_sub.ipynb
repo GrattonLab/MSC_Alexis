{
 "cells": [
  {
   "cell_type": "code",
   "execution_count": 1,
   "metadata": {},
   "outputs": [],
   "source": [
    "def classify_var_same_sub(subid='sub', trainList=['mem','mixed','motor'], predictList=['mem','mixed','motor']):\n",
    "    import pandas as pd\n",
    "    import numpy as np\n",
    "    from mvpa2.datasets import dataset_wizard, vstack\n",
    "    from mvpa2.generators.partition import NFoldPartitioner\n",
    "    from mvpa2.measures.base import CrossValidation\n",
    "    from mvpa2.clfs.meta import MappedClassifier\n",
    "    from mvpa2.clfs.svm import LinearCSVMC\n",
    "    import reshape\n",
    "    import scipy.io\n",
    "    #make an empty df to store accuracy scores from each run\n",
    "    accTable=[]\n",
    "    for i in trainList:\n",
    "        #Load task FC\n",
    "        taskFC=reshape.matFiles('/Users/Alexis/Box/Quest_Backup/MSC/TaskFC/FC_Parcels/'+i+'/'+subid+'_parcel_corrmat.mat')\n",
    "        #Load rest\n",
    "        restFC=reshape.matFiles('/Users/Alexis/Box/Quest_Backup/MSC/TaskFC/FC_Parcels/rest/'+subid+'_parcel_corrmat.mat')\n",
    "        #Create a training dataset targets 1/0 ==task/rest, chunk=#days\n",
    "        taskdf=dataset_wizard(samples=taskFC, targets=1, chunks=range(10))\n",
    "        restdf=dataset_wizard(samples=restFC, targets=0, chunks=range(10))\n",
    "        training=vstack((taskdf, restdf))\n",
    "        #Linear SVM with cross validation scheme leave one out, output is the accuracy\n",
    "        cv=CrossValidation(LinearCSVMC(), NFoldPartitioner(), \n",
    "                      enable_ca=['stats'],\n",
    "                      errorfx=lambda p, t: np.mean(p == t))\n",
    "        #Train the classifier         \n",
    "        cv.train(training)\n",
    "        acc_scores_per_task=[]\n",
    "        #Lets loop through all scenerios for sub and task of interest\n",
    "        for j in predictList:\n",
    "            #Load testing set\n",
    "            test_taskFC=reshape.matFiles('/Users/Alexis/Box/Quest_Backup/MSC/TaskFC/FC_Parcels/'+j+'/'+subid+'_parcel_corrmat.mat')\n",
    "            #Create testing dataset\n",
    "            testing=dataset_wizard(samples=test_taskFC, targets=1, chunks=range(10))\n",
    "            #Time to test\n",
    "            pre=cv(testing)\n",
    "            #prediction accuracy\n",
    "            acc=np.mean(pre)\n",
    "            acc_scores_per_task.append(acc)\n",
    "        tmp_df=pd.DataFrame({'Test_variables':predictList, i:acc_scores_per_task}).set_index('Test_variables')\n",
    "        accTable.append(tmp_df)\n",
    "    accTable=pd.concat(accTable, axis=1)\n",
    "    accTable.to_csv('/Users/Alexis/Desktop/MSC_Alexis/analysis/output/results/MVPA/'+subid+'accTable_same_sub.csv')"
   ]
  },
  {
   "cell_type": "code",
   "execution_count": 2,
   "metadata": {},
   "outputs": [
    {
     "name": "stderr",
     "output_type": "stream",
     "text": [
      "//anaconda3/envs/ipykernel_py2/lib/python2.7/site-packages/mvpa2/misc/attrmap.py:153: FutureWarning: Conversion of the second argument of issubdtype from `str` to `str` is deprecated. In future, it will be treated as `np.string_ == np.dtype(str).type`.\n",
      "  if not np.issubdtype(attr.dtype, str) and not self.mapnumeric:\n",
      "//anaconda3/envs/ipykernel_py2/lib/python2.7/site-packages/mvpa2/clfs/libsvmc/svm.py:215: FutureWarning: Conversion of the second argument of issubdtype from `'c'` to `str` is deprecated. In future, it will be treated as `np.string_ == np.dtype('c').type`.\n",
      "  if ( np.issubdtype(self.ca.trained_targets.dtype, 'c') or\n",
      "//anaconda3/envs/ipykernel_py2/lib/python2.7/site-packages/mvpa2/clfs/libsvmc/svm.py:216: FutureWarning: Conversion of the second argument of issubdtype from `'U'` to `unicode` is deprecated. In future, it will be treated as `np.unicode_ == np.dtype('U').type`.\n",
      "  np.issubdtype(self.ca.trained_targets.dtype, 'U') ):\n"
     ]
    }
   ],
   "source": [
    "subs=['MSC01','MSC02','MSC03','MSC04','MSC05','MSC06','MSC07','MSC08','MSC09','MSC10']\n",
    "for sub in subs:\n",
    "    classify_var_same_sub(sub)"
   ]
  },
  {
   "cell_type": "code",
   "execution_count": null,
   "metadata": {},
   "outputs": [],
   "source": []
  }
 ],
 "metadata": {
  "kernelspec": {
   "display_name": "Python 2",
   "language": "python",
   "name": "python2"
  },
  "language_info": {
   "codemirror_mode": {
    "name": "ipython",
    "version": 2
   },
   "file_extension": ".py",
   "mimetype": "text/x-python",
   "name": "python",
   "nbconvert_exporter": "python",
   "pygments_lexer": "ipython2",
   "version": "2.7.15"
  }
 },
 "nbformat": 4,
 "nbformat_minor": 2
}
