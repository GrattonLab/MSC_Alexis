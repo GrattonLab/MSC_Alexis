{
 "cells": [
  {
   "cell_type": "code",
   "execution_count": 2,
   "metadata": {},
   "outputs": [],
   "source": [
    "import pandas as pd\n",
    "import numpy as np\n",
    "import seaborn as sns\n",
    "import matplotlib as plt\n",
    "%matplotlib inline\n",
    "\n",
    "mem_df=pd.read_csv('~/Desktop/MSC_Alexis/analysis/output/results/MVPA_mat/between_sub_test/acc_timeQuality_rest/mem_acc.csv')\n",
    "#all_df.replace(0, np.nan, inplace=True)\n",
    "mem_df.rename(columns={'Row':'TestVariables'}, inplace=True)\n",
    "mem_df.set_index('TestVariables', inplace=True)\n",
    "\n",
    "\n",
    "mem_task=pd.read_csv('~/Desktop/MSC_Alexis/analysis/output/results/MVPA_mat/between_sub_test/acc_timeQuality_rest/memOnly_all_acc.csv')\n",
    "#all_task.replace(0, np.nan, inplace=True)\n",
    "mem_task.rename(columns={'Row':'TestVariables'}, inplace=True)\n",
    "mem_task.set_index('TestVariables', inplace=True)\n",
    "\n",
    "\n",
    "mem_rest=pd.read_csv('~/Desktop/MSC_Alexis/analysis/output/results/MVPA_mat/between_sub_test/acc_timeQuality_rest/mem_restOnly_all_acc.csv')\n",
    "#all_rest.replace(0, np.nan, inplace=True)\n",
    "mem_rest.rename(columns={'Row':'TestVariables'}, inplace=True)\n",
    "mem_rest.set_index('TestVariables', inplace=True)\n",
    "                   \n",
    "                   \n",
    "motor_df=pd.read_csv('~/Desktop/MSC_Alexis/analysis/output/results/MVPA_mat/between_sub_test/acc_timeQuality_rest/motor_acc.csv')\n",
    "#all_df.replace(0, np.nan, inplace=True)\n",
    "motor_df.rename(columns={'Row':'TestVariables'}, inplace=True)\n",
    "motor_df.set_index('TestVariables', inplace=True)\n",
    "\n",
    "\n",
    "motor_task=pd.read_csv('~/Desktop/MSC_Alexis/analysis/output/results/MVPA_mat/between_sub_test/acc_timeQuality_rest/motorOnly_all_acc.csv')\n",
    "#all_task.replace(0, np.nan, inplace=True)\n",
    "motor_task.rename(columns={'Row':'TestVariables'}, inplace=True)\n",
    "motor_task.set_index('TestVariables', inplace=True)\n",
    "\n",
    "\n",
    "motor_rest=pd.read_csv('~/Desktop/MSC_Alexis/analysis/output/results/MVPA_mat/between_sub_test/acc_timeQuality_rest/motor_restOnly_all_acc.csv')\n",
    "#all_rest.replace(0, np.nan, inplace=True)\n",
    "motor_rest.rename(columns={'Row':'TestVariables'}, inplace=True)\n",
    "motor_rest.set_index('TestVariables', inplace=True)\n",
    "\n",
    "\n",
    "glass_df=pd.read_csv('~/Desktop/MSC_Alexis/analysis/output/results/MVPA_mat/between_sub_test/acc_timeQuality_rest/AllGlassmixed_acc.csv')\n",
    "glass_df.rename(columns={'Row':'TestVariables'}, inplace=True)\n",
    "glass_df.set_index('TestVariables', inplace=True)\n",
    "\n",
    "\n",
    "glass_task=pd.read_csv('~/Desktop/MSC_Alexis/analysis/output/results/MVPA_mat/between_sub_test/acc_timeQuality_rest/AllGlassmixedOnly_all_acc.csv')\n",
    "#all_task.replace(0, np.nan, inplace=True)\n",
    "glass_task.rename(columns={'Row':'TestVariables'}, inplace=True)\n",
    "glass_task.set_index('TestVariables', inplace=True)\n",
    "\n",
    "\n",
    "glass_rest=pd.read_csv('~/Desktop/MSC_Alexis/analysis/output/results/MVPA_mat/between_sub_test/acc_timeQuality_rest/AllGlassmixed_restOnly_all_acc.csv')\n",
    "#all_rest.replace(0, np.nan, inplace=True)\n",
    "glass_rest.rename(columns={'Row':'TestVariables'}, inplace=True)\n",
    "glass_rest.set_index('TestVariables', inplace=True)\n",
    "\n",
    "\n",
    "\n",
    "sem_df=pd.read_csv('~/Desktop/MSC_Alexis/analysis/output/results/MVPA_mat/between_sub_test/acc_timeQuality_rest/AllSemmixed_acc.csv')\n",
    "sem_df.rename(columns={'Row':'TestVariables'}, inplace=True)\n",
    "sem_df.set_index('TestVariables', inplace=True)\n",
    "\n",
    "\n",
    "sem_task=pd.read_csv('~/Desktop/MSC_Alexis/analysis/output/results/MVPA_mat/between_sub_test/acc_timeQuality_rest/AllSemmixedOnly_all_acc.csv')\n",
    "#all_task.replace(0, np.nan, inplace=True)\n",
    "sem_task.rename(columns={'Row':'TestVariables'}, inplace=True)\n",
    "sem_task.set_index('TestVariables', inplace=True)\n",
    "\n",
    "\n",
    "sem_rest=pd.read_csv('~/Desktop/MSC_Alexis/analysis/output/results/MVPA_mat/between_sub_test/acc_timeQuality_rest/AllSemmixed_restOnly_all_acc.csv')\n",
    "#all_rest.replace(0, np.nan, inplace=True)\n",
    "sem_rest.rename(columns={'Row':'TestVariables'}, inplace=True)\n",
    "sem_rest.set_index('TestVariables', inplace=True)\n"
   ]
  },
  {
   "cell_type": "code",
   "execution_count": null,
   "metadata": {},
   "outputs": [],
   "source": [
    "all_df=pd.read_csv('/Users/Alexis/Desktop/MSC_Alexis/analysis/output/results/logReg/acc/mem_accTable_diff_sub.csv')\n",
    "#all_df.replace(0, np.nan, inplace=True)\n",
    "all_df.rename(columns={'Row':'TestVariables'}, inplace=True)\n",
    "all_df.set_index('TestVariables', inplace=True)\n",
    "\n",
    "\n",
    "all_task=pd.read_csv('~/Desktop/MSC_Alexis/analysis/output/results/MVPA_mat/between_sub_test/matchedRest_onlyGood_taskOnly_all_acc.csv')\n",
    "#all_task.replace(0, np.nan, inplace=True)\n",
    "all_task.rename(columns={'Row':'TestVariables'}, inplace=True)\n",
    "all_task.set_index('TestVariables', inplace=True)\n",
    "\n",
    "\n",
    "all_rest=pd.read_csv('~/Desktop/MSC_Alexis/analysis/output/results/MVPA_mat/between_sub_test/matchedRest_onlyGood_restOnly_all_acc.csv')\n",
    "#all_rest.replace(0, np.nan, inplace=True)\n",
    "all_rest.rename(columns={'Row':'TestVariables'}, inplace=True)\n",
    "all_rest.set_index('TestVariables', inplace=True)"
   ]
  },
  {
   "cell_type": "code",
   "execution_count": null,
   "metadata": {},
   "outputs": [],
   "source": [
    "mem_days=pd.read_csv('~/Desktop/MSC_Alexis/analysis/output/results/MVPA_mat/between_sub_test/memclean_days.csv')\n",
    "motor_days=pd.read_csv('~/Desktop/MSC_Alexis/analysis/output/results/MVPA_mat/between_sub_test/motorclean_days.csv')\n",
    "mixed_days=pd.read_csv('~/Desktop/MSC_Alexis/analysis/output/results/MVPA_mat/between_sub_test/mixedclean_days.csv')\n",
    "\n",
    "mem_days.replace(0, np.nan, inplace=True)\n",
    "mem_days.rename(columns={'Row':'TestVariables'}, inplace=True)\n",
    "mem_days.set_index('TestVariables', inplace=True)\n",
    "\n",
    "motor_days.replace(0, np.nan, inplace=True)\n",
    "motor_days.rename(columns={'Row':'TestVariables'}, inplace=True)\n",
    "motor_days.set_index('TestVariables', inplace=True)\n",
    "\n",
    "mixed_days.replace(0, np.nan, inplace=True)\n",
    "mixed_days.rename(columns={'Row':'TestVariables'}, inplace=True)\n",
    "mixed_days.set_index('TestVariables', inplace=True)\n"
   ]
  },
  {
   "cell_type": "code",
   "execution_count": 4,
   "metadata": {},
   "outputs": [],
   "source": [
    "import pandas as pd\n",
    "import numpy as np\n",
    "import seaborn as sns\n",
    "import matplotlib as plt\n",
    "%matplotlib inline\n",
    "#mem=pd.read_csv('~/Desktop/MSC_Alexis/analysis/output/results/MVPA_mat/between_sub_test/mem_onlyGood_taskOnly_acc.csv')\n",
    "#motor=pd.read_csv('~/Desktop/MSC_Alexis/analysis/output/results/MVPA_mat/between_sub_test/motor_onlyGood_taskOnly_acc.csv')\n",
    "#mixed=pd.read_csv('~/Desktop/MSC_Alexis/analysis/output/results/MVPA_mat/between_sub_test/mixed_onlyGood_taskOnly_acc.csv')\n",
    "\n",
    "\n",
    "\n",
    "#mem_rest=pd.read_csv('~/Desktop/MSC_Alexis/analysis/output/results/MVPA_mat/between_sub_test/mem_onlyGood_restOnly_acc.csv')\n",
    "#motor_rest=pd.read_csv('~/Desktop/MSC_Alexis/analysis/output/results/MVPA_mat/between_sub_test/motor_onlyGood_restOnly_acc.csv')\n",
    "#mixed_rest=pd.read_csv('~/Desktop/MSC_Alexis/analysis/output/results/MVPA_mat/between_sub_test/mixed_onlyGood_restOnly_acc.csv')\n",
    "\n",
    "\n",
    "\n",
    "#mem.replace(0, np.nan, inplace=True)\n",
    "#mem.rename(columns={'Row':'TestVariables'}, inplace=True)\n",
    "#mem.set_index('TestVariables', inplace=True)\n",
    "\n",
    "#motor.replace(0, np.nan, inplace=True)\n",
    "#motor.rename(columns={'Row':'TestVariables'}, inplace=True)\n",
    "#motor.set_index('TestVariables', inplace=True)\n",
    "\n",
    "#mixed.replace(0, np.nan, inplace=True)\n",
    "#mixed.rename(columns={'Row':'TestVariables'}, inplace=True)\n",
    "#mixed.set_index('TestVariables', inplace=True)\n",
    "\n",
    "\n",
    "\n",
    "#mem_rest.replace(0, np.nan, inplace=True)\n",
    "#mem_rest.rename(columns={'Row':'TestVariables'}, inplace=True)\n",
    "#mem_rest.set_index('TestVariables', inplace=True)\n",
    "\n",
    "#motor_rest.replace(0, np.nan, inplace=True)\n",
    "#motor_rest.rename(columns={'Row':'TestVariables'}, inplace=True)\n",
    "#motor_rest.set_index('TestVariables', inplace=True)\n",
    "\n",
    "#mixed_rest.replace(0, np.nan, inplace=True)\n",
    "#mixed_rest.rename(columns={'Row':'TestVariables'}, inplace=True)\n",
    "#mixed_rest.set_index('TestVariables', inplace=True)\n",
    "\n",
    "\n",
    "\n",
    "glass_df=pd.read_csv('~/Desktop/MSC_Alexis/analysis/output/results/MVPA_mat/between_sub_test/acc_onlyGood/AllGlassmixed_acc.csv')\n",
    "glass_df.rename(columns={'Row':'TestVariables'}, inplace=True)\n",
    "glass_df.set_index('TestVariables', inplace=True)\n",
    "\n",
    "\n",
    "glass_task=pd.read_csv('~/Desktop/MSC_Alexis/analysis/output/results/MVPA_mat/between_sub_test/acc_onlyGood/AllGlassmixedOnly_all_acc.csv')\n",
    "#all_task.replace(0, np.nan, inplace=True)\n",
    "glass_task.rename(columns={'Row':'TestVariables'}, inplace=True)\n",
    "glass_task.set_index('TestVariables', inplace=True)\n",
    "\n",
    "\n",
    "glass_rest=pd.read_csv('~/Desktop/MSC_Alexis/analysis/output/results/MVPA_mat/between_sub_test/acc_onlyGood/AllGlassmixed_restOnly_all_acc.csv')\n",
    "#all_rest.replace(0, np.nan, inplace=True)\n",
    "glass_rest.rename(columns={'Row':'TestVariables'}, inplace=True)\n",
    "glass_rest.set_index('TestVariables', inplace=True)\n",
    "\n",
    "\n",
    "\n",
    "sem_df=pd.read_csv('~/Desktop/MSC_Alexis/analysis/output/results/MVPA_mat/between_sub_test/acc_onlyGood/AllSemmixed_acc.csv')\n",
    "sem_df.rename(columns={'Row':'TestVariables'}, inplace=True)\n",
    "sem_df.set_index('TestVariables', inplace=True)\n",
    "\n",
    "\n",
    "sem_task=pd.read_csv('~/Desktop/MSC_Alexis/analysis/output/results/MVPA_mat/between_sub_test/acc_onlyGood/AllSemmixedOnly_all_acc.csv')\n",
    "#all_task.replace(0, np.nan, inplace=True)\n",
    "sem_task.rename(columns={'Row':'TestVariables'}, inplace=True)\n",
    "sem_task.set_index('TestVariables', inplace=True)\n",
    "\n",
    "\n",
    "sem_rest=pd.read_csv('~/Desktop/MSC_Alexis/analysis/output/results/MVPA_mat/between_sub_test/acc_onlyGood/AllSemmixed_restOnly_all_acc.csv')\n",
    "#all_rest.replace(0, np.nan, inplace=True)\n",
    "sem_rest.rename(columns={'Row':'TestVariables'}, inplace=True)\n",
    "sem_rest.set_index('TestVariables', inplace=True)\n"
   ]
  },
  {
   "cell_type": "code",
   "execution_count": null,
   "metadata": {},
   "outputs": [],
   "source": [
    "mem_timesplit=pd.read_csv('~/Desktop/MSC_Alexis/analysis/output/results/MVPA_mat/between_sub_test/mem_onlyGood_timeSeries_acc.csv')\n",
    "motor_timesplit=pd.read_csv('~/Desktop/MSC_Alexis/analysis/output/results/MVPA_mat/between_sub_test/motor_onlyGood_timeSeries_acc.csv')\n",
    "mixed_AllGlass_timesplit=pd.read_csv('~/Desktop/MSC_Alexis/analysis/output/results/MVPA_mat/between_sub_test/mixed_onlyGood_timeSeries_AllGlass_acc.csv')\n",
    "mixed_AllSemantic_timesplit=pd.read_csv('~/Desktop/MSC_Alexis/analysis/output/results/MVPA_mat/between_sub_test/mixed_onlyGood_timeSeries_AllSemantic_acc.csv')\n",
    "\n",
    "mem_timesplit.replace(0, np.nan, inplace=True)\n",
    "mem_timesplit.rename(columns={'Row':'TestVariables'}, inplace=True)\n",
    "mem_timesplit.set_index('TestVariables', inplace=True)\n",
    "\n",
    "mixed_AllGlass_timesplit.replace(0, np.nan, inplace=True)\n",
    "mixed_AllGlass_timesplit.rename(columns={'Row':'TestVariables'}, inplace=True)\n",
    "mixed_AllGlass_timesplit.set_index('TestVariables', inplace=True)\n",
    "\n",
    "mixed_AllSemantic_timesplit.replace(0, np.nan, inplace=True)\n",
    "mixed_AllSemantic_timesplit.rename(columns={'Row':'TestVariables'}, inplace=True)\n",
    "mixed_AllSemantic_timesplit.set_index('TestVariables', inplace=True)\n",
    "\n",
    "\n",
    "motor_timesplit.replace(0, np.nan, inplace=True)\n",
    "motor_timesplit.rename(columns={'Row':'TestVariables'}, inplace=True)\n",
    "motor_timesplit.set_index('TestVariables', inplace=True)"
   ]
  },
  {
   "cell_type": "code",
   "execution_count": null,
   "metadata": {},
   "outputs": [],
   "source": [
    "mem_timesplit=pd.read_csv('~/Desktop/MSC_Alexis/analysis/output/results/MVPA_mat/between_sub_test/mem_onlyGood_taskOnly_timesplit_acc.csv')\n",
    "motor_timesplit=pd.read_csv('~/Desktop/MSC_Alexis/analysis/output/results/MVPA_mat/between_sub_test/motor_onlyGood_taskOnly_timesplit_acc.csv')\n",
    "mixed_AllGlass_timesplit=pd.read_csv('~/Desktop/MSC_Alexis/analysis/output/results/MVPA_mat/between_sub_test/mixed_AllGlass_onlyGood_taskOnly_timesplit_acc.csv')\n",
    "mixed_AllSemantic_timesplit=pd.read_csv('~/Desktop/MSC_Alexis/analysis/output/results/MVPA_mat/between_sub_test/mixed_AllSemantic_onlyGood_taskOnly_timesplit_acc.csv')\n",
    "\n",
    "#mem_timesplit.replace(0, np.nan, inplace=True)\n",
    "mem_timesplit.rename(columns={'Row':'TestVariables'}, inplace=True)\n",
    "mem_timesplit.set_index('TestVariables', inplace=True)\n",
    "\n",
    "#mixed_AllGlass_timesplit.replace(0, np.nan, inplace=True)\n",
    "mixed_AllGlass_timesplit.rename(columns={'Row':'TestVariables'}, inplace=True)\n",
    "mixed_AllGlass_timesplit.set_index('TestVariables', inplace=True)\n",
    "\n",
    "#mixed_AllSemantic_timesplit.replace(0, np.nan, inplace=True)\n",
    "mixed_AllSemantic_timesplit.rename(columns={'Row':'TestVariables'}, inplace=True)\n",
    "mixed_AllSemantic_timesplit.set_index('TestVariables', inplace=True)\n",
    "\n",
    "\n",
    "#motor_timesplit.replace(0, np.nan, inplace=True)\n",
    "motor_timesplit.rename(columns={'Row':'TestVariables'}, inplace=True)\n",
    "motor_timesplit.set_index('TestVariables', inplace=True)\n",
    "\n",
    "\n",
    "\n",
    "\n",
    "\n",
    "\n",
    "\n",
    "\n",
    "\n",
    "################################################################################################\n",
    "#Rest\n",
    "rest_mem_timesplit=pd.read_csv('~/Desktop/MSC_Alexis/analysis/output/results/MVPA_mat/between_sub_test/mem_onlyGood_restOnly_timesplit_acc.csv')\n",
    "rest_motor_timesplit=pd.read_csv('~/Desktop/MSC_Alexis/analysis/output/results/MVPA_mat/between_sub_test/motor_onlyGood_restOnly_timesplit_acc.csv')\n",
    "rest_mixed_AllGlass_timesplit=pd.read_csv('~/Desktop/MSC_Alexis/analysis/output/results/MVPA_mat/between_sub_test/mixed_AllGlass_onlyGood_restOnly_timesplit_acc.csv')\n",
    "rest_mixed_AllSemantic_timesplit=pd.read_csv('~/Desktop/MSC_Alexis/analysis/output/results/MVPA_mat/between_sub_test/mixed_AllSemantic_onlyGood_restOnly_timesplit_acc.csv')\n",
    "\n",
    "#rest_mem_timesplit.replace(0, np.nan, inplace=True)\n",
    "rest_mem_timesplit.rename(columns={'Row':'TestVariables'}, inplace=True)\n",
    "rest_mem_timesplit.set_index('TestVariables', inplace=True)\n",
    "\n",
    "#rest_mixed_AllGlass_timesplit.replace(0, np.nan, inplace=True)\n",
    "rest_mixed_AllGlass_timesplit.rename(columns={'Row':'TestVariables'}, inplace=True)\n",
    "rest_mixed_AllGlass_timesplit.set_index('TestVariables', inplace=True)\n",
    "\n",
    "#rest_mixed_AllSemantic_timesplit.replace(0, np.nan, inplace=True)\n",
    "rest_mixed_AllSemantic_timesplit.rename(columns={'Row':'TestVariables'}, inplace=True)\n",
    "rest_mixed_AllSemantic_timesplit.set_index('TestVariables', inplace=True)\n",
    "\n",
    "\n",
    "#rest_motor_timesplit.replace(0, np.nan, inplace=True)\n",
    "rest_motor_timesplit.rename(columns={'Row':'TestVariables'}, inplace=True)\n",
    "rest_motor_timesplit.set_index('TestVariables', inplace=True)"
   ]
  },
  {
   "cell_type": "code",
   "execution_count": null,
   "metadata": {},
   "outputs": [],
   "source": [
    "mem_updated=pd.read_csv('~/Desktop/MSC_Alexis/analysis/output/results/MVPA_mat/between_sub_test/mem_onlyGood_UPDATED_acc.csv')\n",
    "motor_updated=pd.read_csv('~/Desktop/MSC_Alexis/analysis/output/results/MVPA_mat/between_sub_test/motor_onlyGood_UPDATED_acc.csv')\n",
    "mixed_updated=pd.read_csv('~/Desktop/MSC_Alexis/analysis/output/results/MVPA_mat/between_sub_test/mixed_onlyGood_UPDATED_acc.csv')\n",
    "\n",
    "mem_updated.replace(0, np.nan, inplace=True)\n",
    "mem_updated.rename(columns={'Row':'TestVariables'}, inplace=True)\n",
    "mem_updated.set_index('TestVariables', inplace=True)\n",
    "\n",
    "motor_updated.replace(0, np.nan, inplace=True)\n",
    "motor_updated.rename(columns={'Row':'TestVariables'}, inplace=True)\n",
    "motor_updated.set_index('TestVariables', inplace=True)\n",
    "\n",
    "mixed_updated.replace(0, np.nan, inplace=True)\n",
    "mixed_updated.rename(columns={'Row':'TestVariables'}, inplace=True)\n",
    "mixed_updated.set_index('TestVariables', inplace=True)"
   ]
  },
  {
   "cell_type": "code",
   "execution_count": null,
   "metadata": {},
   "outputs": [],
   "source": [
    "mem=pd.read_csv('~/Desktop/MSC_Alexis/analysis/output/results/MVPA_mat/between_sub_test/mem_onlyGood_acc.csv')\n",
    "motor=pd.read_csv('~/Desktop/MSC_Alexis/analysis/output/results/MVPA_mat/between_sub_test/motor_onlyGood_acc.csv')\n",
    "mixed=pd.read_csv('~/Desktop/MSC_Alexis/analysis/output/results/MVPA_mat/between_sub_test/mixed_onlyGood_acc.csv')\n",
    "\n",
    "mem.replace(0, np.nan, inplace=True)\n",
    "mem.rename(columns={'Row':'TestVariables'}, inplace=True)\n",
    "mem.set_index('TestVariables', inplace=True)\n",
    "#mem.drop(columns=['MSC03'], inplace=True)\n",
    "#mem.drop(['MSC03'], inplace=True)\n",
    "\n",
    "motor.replace(0, np.nan, inplace=True)\n",
    "motor.rename(columns={'Row':'TestVariables'}, inplace=True)\n",
    "motor.set_index('TestVariables', inplace=True)\n",
    "#motor.drop(columns=['MSC06','MSC07','MSC08', 'MSC09'], inplace=True)\n",
    "#motor.drop(['MSC06','MSC07','MSC08', 'MSC09'], inplace=True)\n",
    "\n",
    "mixed.replace(0, np.nan, inplace=True)\n",
    "mixed.rename(columns={'Row':'TestVariables'}, inplace=True)\n",
    "mixed.set_index('TestVariables', inplace=True)\n",
    "#mixed.drop(columns=['MSC08', 'MSC09'], inplace=True)\n",
    "#mixed.drop(['MSC08', 'MSC09'], inplace=True)"
   ]
  },
  {
   "cell_type": "code",
   "execution_count": null,
   "metadata": {},
   "outputs": [],
   "source": [
    "#mixed\n",
    "#motor\n",
    "#mem\n",
    "mem\n"
   ]
  },
  {
   "cell_type": "code",
   "execution_count": null,
   "metadata": {},
   "outputs": [],
   "source": [
    "ax=sns.heatmap(mixed, annot=True)\n",
    "fig=ax.get_figure()\n",
    "fig.savefig('/Users/Alexis/Desktop/MSC_Alexis/analysis/output/images/onlyGood_between_sub_mixed_heatmap.png', bbox_inches='tight')\n",
    "\n",
    "ax=sns.heatmap(motor, annot=True)\n",
    "fig=ax.get_figure()\n",
    "fig.savefig('/Users/Alexis/Desktop/MSC_Alexis/analysis/output/images/onlyGood_between_sub_motor_heatmap.png', bbox_inches='tight')\n",
    "\n",
    "ax=sns.heatmap(mem, annot=True)\n",
    "fig=ax.get_figure()\n",
    "fig.savefig('/Users/Alexis/Desktop/MSC_Alexis/analysis/output/images/onlyGood_between_sub_mem_heatmap.png', bbox_inches='tight')"
   ]
  },
  {
   "cell_type": "code",
   "execution_count": null,
   "metadata": {},
   "outputs": [],
   "source": [
    "#univariate distribution of accuracy scores testing memory when trained on mixed\n",
    "sns.distplot(memTest_df.mixed, hist=False, rug=True)\n",
    "#tested memory trained on motor \n",
    "sns.distplot(memTest_df.motor, hist=False, rug=True)\n",
    "\n",
    "#tested on mixed when trained on memory\n",
    "sns.distplot(mixedTest_df.mem, hist=False, rug=True)\n",
    "#tested on mixed trained on motor \n",
    "sns.distplot(mixedTest_df.motor, hist=False, rug=True)\n",
    "\n",
    "#tested on motor trained on memory\n",
    "ax=sns.distplot(motorTest_df.mem, hist=False, rug=True)\n",
    "#tested on motor trained on mixed\n",
    "ax1=sns.distplot(motorTest_df.mixed, hist=False, rug=True)"
   ]
  },
  {
   "cell_type": "code",
   "execution_count": null,
   "metadata": {},
   "outputs": [],
   "source": [
    "#memTest_df\n",
    "#motorTest_df\n",
    "mixedTest_df"
   ]
  },
  {
   "cell_type": "code",
   "execution_count": null,
   "metadata": {},
   "outputs": [],
   "source": [
    "ax=sns.heatmap(mixed_updated, annot=True)\n",
    "fig=ax.get_figure()\n",
    "fig.savefig('/Users/Alexis/Desktop/MSC_Alexis/analysis/output/images/UPDATED_onlyGood_between_sub_mixed_heatmap.png', bbox_inches='tight')\n",
    "\n",
    "ax=sns.heatmap(motor_updated, annot=True)\n",
    "fig=ax.get_figure()\n",
    "fig.savefig('/Users/Alexis/Desktop/MSC_Alexis/analysis/output/images/UPDATED_onlyGood_between_sub_motor_heatmap.png', bbox_inches='tight')\n",
    "\n",
    "ax=sns.heatmap(mem_updated, annot=True)\n",
    "fig=ax.get_figure()\n",
    "fig.savefig('/Users/Alexis/Desktop/MSC_Alexis/analysis/output/images/UPDATED_onlyGood_between_sub_mem_heatmap.png', bbox_inches='tight')"
   ]
  },
  {
   "cell_type": "code",
   "execution_count": null,
   "metadata": {},
   "outputs": [],
   "source": [
    "ax=sns.heatmap(mem_timesplit, annot=True)\n",
    "fig=ax.get_figure()\n",
    "fig.savefig('/Users/Alexis/Desktop/MSC_Alexis/analysis/output/images/taskOnly_timeSeries_between_sub_mem_heatmap.png', bbox_inches='tight')"
   ]
  },
  {
   "cell_type": "code",
   "execution_count": null,
   "metadata": {},
   "outputs": [],
   "source": [
    "ax=sns.heatmap(mixed_AllGlass_timesplit, annot=True)\n",
    "fig=ax.get_figure()\n",
    "fig.savefig('/Users/Alexis/Desktop/MSC_Alexis/analysis/output/images/taskOnly_timeSeries_between_sub_mixed_AllGlass_heatmap.png', bbox_inches='tight')"
   ]
  },
  {
   "cell_type": "code",
   "execution_count": null,
   "metadata": {},
   "outputs": [],
   "source": [
    "ax=sns.heatmap(mixed_AllSemantic_timesplit, annot=True)\n",
    "fig=ax.get_figure()\n",
    "fig.savefig('/Users/Alexis/Desktop/MSC_Alexis/analysis/output/images/taskOnly_timeSeries_between_sub_mixed_AllSemantic_heatmap.png', bbox_inches='tight')"
   ]
  },
  {
   "cell_type": "code",
   "execution_count": null,
   "metadata": {},
   "outputs": [],
   "source": [
    "ax=sns.heatmap(motor_timesplit, annot=True)\n",
    "fig=ax.get_figure()\n",
    "fig.savefig('/Users/Alexis/Desktop/MSC_Alexis/analysis/output/images/taskOnly_timeSeries_between_sub_motor_heatmap.png', bbox_inches='tight')"
   ]
  },
  {
   "cell_type": "code",
   "execution_count": null,
   "metadata": {},
   "outputs": [],
   "source": [
    "####################################################################################################################\n",
    "#Rest\n",
    "ax=sns.heatmap(rest_mem_timesplit, annot=True)\n",
    "fig=ax.get_figure()\n",
    "fig.savefig('/Users/Alexis/Desktop/MSC_Alexis/analysis/output/images/restOnly_timeSeries_between_sub_mem_heatmap.png', bbox_inches='tight')"
   ]
  },
  {
   "cell_type": "code",
   "execution_count": null,
   "metadata": {},
   "outputs": [],
   "source": [
    "ax=sns.heatmap(rest_mixed_AllGlass_timesplit, annot=True)\n",
    "fig=ax.get_figure()\n",
    "fig.savefig('/Users/Alexis/Desktop/MSC_Alexis/analysis/output/images/restOnly_timeSeries_between_sub_mixed_AllGlass_heatmap.png', bbox_inches='tight')"
   ]
  },
  {
   "cell_type": "code",
   "execution_count": null,
   "metadata": {},
   "outputs": [],
   "source": [
    "ax=sns.heatmap(rest_mixed_AllSemantic_timesplit, annot=True)\n",
    "fig=ax.get_figure()\n",
    "fig.savefig('/Users/Alexis/Desktop/MSC_Alexis/analysis/output/images/restOnly_timeSeries_between_sub_mixed_AllSemantic_heatmap.png', bbox_inches='tight')"
   ]
  },
  {
   "cell_type": "code",
   "execution_count": null,
   "metadata": {},
   "outputs": [],
   "source": [
    "ax=sns.heatmap(rest_motor_timesplit, annot=True)\n",
    "fig=ax.get_figure()\n",
    "fig.savefig('/Users/Alexis/Desktop/MSC_Alexis/analysis/output/images/restOnly_timeSeries_between_sub_motor_heatmap.png', bbox_inches='tight')"
   ]
  },
  {
   "cell_type": "code",
   "execution_count": null,
   "metadata": {},
   "outputs": [],
   "source": [
    "ax=sns.heatmap(mixed, annot=True)\n",
    "fig=ax.get_figure()\n",
    "fig.savefig('/Users/Alexis/Desktop/MSC_Alexis/analysis/output/images/taskOnly_onlyGood_between_sub_mixed_heatmap.png', bbox_inches='tight')\n",
    "\n",
    "ax=sns.heatmap(motor, annot=True)\n",
    "fig=ax.get_figure()\n",
    "fig.savefig('/Users/Alexis/Desktop/MSC_Alexis/analysis/output/images/taskOnly_onlyGood_between_sub_motor_heatmap.png', bbox_inches='tight')\n",
    "\n",
    "ax=sns.heatmap(mem, annot=True)\n",
    "fig=ax.get_figure()\n",
    "fig.savefig('/Users/Alexis/Desktop/MSC_Alexis/analysis/output/images/taskOnly_onlyGood_between_sub_mem_heatmap.png', bbox_inches='tight')\n",
    "\n",
    "ax=sns.heatmap(mixed_rest, annot=True)\n",
    "fig=ax.get_figure()\n",
    "fig.savefig('/Users/Alexis/Desktop/MSC_Alexis/analysis/output/images/restOnly_onlyGood_between_sub_mixed_heatmap.png', bbox_inches='tight')\n",
    "\n",
    "ax=sns.heatmap(motor_rest, annot=True)\n",
    "fig=ax.get_figure()\n",
    "fig.savefig('/Users/Alexis/Desktop/MSC_Alexis/analysis/output/images/restOnly_onlyGood_between_sub_motor_heatmap.png', bbox_inches='tight')\n",
    "\n",
    "ax=sns.heatmap(mem_rest, annot=True)\n",
    "fig=ax.get_figure()\n",
    "fig.savefig('/Users/Alexis/Desktop/MSC_Alexis/analysis/output/images/restOnly_onlyGood_between_sub_mem_heatmap.png', bbox_inches='tight')\n",
    "\n",
    "ax=sns.heatmap(mixed_days, annot=True)\n",
    "fig=ax.get_figure()\n",
    "fig.savefig('/Users/Alexis/Desktop/MSC_Alexis/analysis/output/images/cleandays_mixed_heatmap.png', bbox_inches='tight')\n",
    "\n",
    "ax=sns.heatmap(motor_days, annot=True)\n",
    "fig=ax.get_figure()\n",
    "fig.savefig('/Users/Alexis/Desktop/MSC_Alexis/analysis/output/images/cleandays_motor_heatmap.png', bbox_inches='tight')\n",
    "\n",
    "ax=sns.heatmap(mem_days, annot=True)\n",
    "fig=ax.get_figure()\n",
    "fig.savefig('/Users/Alexis/Desktop/MSC_Alexis/analysis/output/images/cleandays_mem_heatmap.png', bbox_inches='tight')"
   ]
  },
  {
   "cell_type": "code",
   "execution_count": null,
   "metadata": {},
   "outputs": [],
   "source": [
    "ax=sns.heatmap(mixed, annot=True)\n",
    "fig=ax.get_figure()\n",
    "fig.savefig('/Users/Alexis/Desktop/MSC_Alexis/analysis/output/images/taskOnly_onlyGood_between_sub_mixed_heatmap.png', bbox_inches='tight')\n",
    "\n",
    "ax=sns.heatmap(motor, annot=True)\n",
    "fig=ax.get_figure()\n",
    "fig.savefig('/Users/Alexis/Desktop/MSC_Alexis/analysis/output/images/taskOnly_onlyGood_between_sub_motor_heatmap.png', bbox_inches='tight')\n",
    "\n",
    "ax=sns.heatmap(mem, annot=True)\n",
    "fig=ax.get_figure()\n",
    "fig.savefig('/Users/Alexis/Desktop/MSC_Alexis/analysis/output/images/taskOnly_onlyGood_between_sub_mem_heatmap.png', bbox_inches='tight')\n",
    "\n",
    "ax=sns.heatmap(mixed_rest, annot=True)\n",
    "fig=ax.get_figure()\n",
    "fig.savefig('/Users/Alexis/Desktop/MSC_Alexis/analysis/output/images/restOnly_onlyGood_between_sub_mixed_heatmap.png', bbox_inches='tight')\n",
    "\n",
    "ax=sns.heatmap(motor_rest, annot=True)\n",
    "fig=ax.get_figure()\n",
    "fig.savefig('/Users/Alexis/Desktop/MSC_Alexis/analysis/output/images/restOnly_onlyGood_between_sub_motor_heatmap.png', bbox_inches='tight')\n",
    "\n",
    "ax=sns.heatmap(mem_rest, annot=True)\n",
    "fig=ax.get_figure()\n",
    "fig.savefig('/Users/Alexis/Desktop/MSC_Alexis/analysis/output/images/restOnly_onlyGood_between_sub_mem_heatmap.png', bbox_inches='tight')\n"
   ]
  },
  {
   "cell_type": "code",
   "execution_count": null,
   "metadata": {},
   "outputs": [],
   "source": [
    "ax=sns.heatmap(all_df, annot=True)\n",
    "fig=ax.get_figure()\n",
    "fig.savefig('/Users/Alexis/Desktop/MSC_Alexis/analysis/output/images/restMatched_onlyGood_between_sub_all_heatmap.png', bbox_inches='tight')"
   ]
  },
  {
   "cell_type": "code",
   "execution_count": null,
   "metadata": {},
   "outputs": [],
   "source": [
    "ax=sns.heatmap(all_task, annot=True)\n",
    "fig=ax.get_figure()\n",
    "fig.savefig('/Users/Alexis/Desktop/MSC_Alexis/analysis/output/images/restMatched_onlyGood_between_sub_taskOnly_heatmap.png', bbox_inches='tight')"
   ]
  },
  {
   "cell_type": "code",
   "execution_count": null,
   "metadata": {},
   "outputs": [],
   "source": [
    "ax=sns.heatmap(all_rest, annot=True)\n",
    "fig=ax.get_figure()\n",
    "fig.savefig('/Users/Alexis/Desktop/MSC_Alexis/analysis/output/images/restMatched_onlyGood_between_sub_restOnly_heatmap.png', bbox_inches='tight')"
   ]
  },
  {
   "cell_type": "code",
   "execution_count": 5,
   "metadata": {},
   "outputs": [
    {
     "data": {
      "image/png": "[encoded data removed]",
      "text/plain": [
       "<Figure size 432x288 with 2 Axes>"
      ]
     },
     "metadata": {
      "needs_background": "light"
     },
     "output_type": "display_data"
    }
   ],
   "source": [
    "ax=sns.heatmap(mem_df, annot=True)\n",
    "fig=ax.get_figure()\n",
    "fig.savefig('/Users/aporter1350/Desktop/MSC_Alexis/analysis/output/images/between_sub_test/acc_timeQuality_rest/mem_acc.png', bbox_inches='tight')\n",
    "\n",
    "\n",
    "\n",
    "ax=sns.heatmap(mem_task, annot=True)\n",
    "fig=ax.get_figure()\n",
    "fig.savefig('/Users/aporter1350/Desktop/MSC_Alexis/analysis/output/images/between_sub_test/acc_timeQuality_rest/memOnly_all_acc.png', bbox_inches='tight')\n",
    "\n",
    "\n",
    "ax=sns.heatmap(mem_rest, annot=True)\n",
    "fig=ax.get_figure()\n",
    "fig.savefig('/Users/aporter1350/Desktop/MSC_Alexis/analysis/output/images/between_sub_test/acc_timeQuality_rest/mem_restOnly_all_acc.png', bbox_inches='tight')\n"
   ]
  },
  {
   "cell_type": "code",
   "execution_count": 6,
   "metadata": {},
   "outputs": [
    {
     "data": {
      "image/png": "[encoded data removed]",
      "text/plain": [
       "<Figure size 432x288 with 2 Axes>"
      ]
     },
     "metadata": {
      "needs_background": "light"
     },
     "output_type": "display_data"
    }
   ],
   "source": [
    "ax=sns.heatmap(motor_df, annot=True)\n",
    "fig=ax.get_figure()\n",
    "fig.savefig('/Users/aporter1350/Desktop/MSC_Alexis/analysis/output/images/between_sub_test/acc_timeQuality_rest/motor_acc.png', bbox_inches='tight')"
   ]
  },
  {
   "cell_type": "code",
   "execution_count": 7,
   "metadata": {},
   "outputs": [
    {
     "data": {
      "image/png": "[encoded data removed]",
      "text/plain": [
       "<Figure size 432x288 with 2 Axes>"
      ]
     },
     "metadata": {
      "needs_background": "light"
     },
     "output_type": "display_data"
    }
   ],
   "source": [
    "ax=sns.heatmap(motor_task, annot=True)\n",
    "fig=ax.get_figure()\n",
    "fig.savefig('/Users/aporter1350/Desktop/MSC_Alexis/analysis/output/images/between_sub_test/acc_timeQuality_rest/motorOnly_all_acc.png', bbox_inches='tight')"
   ]
  },
  {
   "cell_type": "code",
   "execution_count": 8,
   "metadata": {},
   "outputs": [
    {
     "data": {
      "image/png": "[encoded data removed]",
      "text/plain": [
       "<Figure size 432x288 with 2 Axes>"
      ]
     },
     "metadata": {
      "needs_background": "light"
     },
     "output_type": "display_data"
    }
   ],
   "source": [
    "ax=sns.heatmap(motor_rest, annot=True)\n",
    "fig=ax.get_figure()\n",
    "fig.savefig('/Users/aporter1350/Desktop/MSC_Alexis/analysis/output/images/between_sub_test/acc_timeQuality_rest/motor_restOnly_all_acc.png', bbox_inches='tight')"
   ]
  },
  {
   "cell_type": "code",
   "execution_count": 5,
   "metadata": {},
   "outputs": [
    {
     "data": {
      "image/png": "[encoded data removed]",
      "text/plain": [
       "<Figure size 432x288 with 2 Axes>"
      ]
     },
     "metadata": {
      "needs_background": "light"
     },
     "output_type": "display_data"
    }
   ],
   "source": [
    "ax=sns.heatmap(glass_df, annot=True)\n",
    "fig=ax.get_figure()\n",
    "fig.savefig('/Users/aporter1350/Desktop/MSC_Alexis/analysis/output/images/between_sub_test/acc_onlyGood/glass_acc.png', bbox_inches='tight')"
   ]
  },
  {
   "cell_type": "code",
   "execution_count": 6,
   "metadata": {},
   "outputs": [
    {
     "data": {
      "image/png": "[encoded data removed]",
      "text/plain": [
       "<Figure size 432x288 with 2 Axes>"
      ]
     },
     "metadata": {
      "needs_background": "light"
     },
     "output_type": "display_data"
    }
   ],
   "source": [
    "ax=sns.heatmap(glass_task, annot=True)\n",
    "fig=ax.get_figure()\n",
    "fig.savefig('/Users/aporter1350/Desktop/MSC_Alexis/analysis/output/images/between_sub_test/acc_onlyGood/glassOnly_all_acc.png', bbox_inches='tight')"
   ]
  },
  {
   "cell_type": "code",
   "execution_count": 7,
   "metadata": {},
   "outputs": [
    {
     "data": {
      "image/png": "[encoded data removed]",
      "text/plain": [
       "<Figure size 432x288 with 2 Axes>"
      ]
     },
     "metadata": {
      "needs_background": "light"
     },
     "output_type": "display_data"
    }
   ],
   "source": [
    "ax=sns.heatmap(glass_rest, annot=True)\n",
    "fig=ax.get_figure()\n",
    "fig.savefig('/Users/aporter1350/Desktop/MSC_Alexis/analysis/output/images/between_sub_test/acc_onlyGood/glass_restOnly_all_acc.png', bbox_inches='tight')"
   ]
  },
  {
   "cell_type": "code",
   "execution_count": 8,
   "metadata": {},
   "outputs": [
    {
     "data": {
      "image/png": "[encoded data removed]",
      "text/plain": [
       "<Figure size 432x288 with 2 Axes>"
      ]
     },
     "metadata": {
      "needs_background": "light"
     },
     "output_type": "display_data"
    }
   ],
   "source": [
    "ax=sns.heatmap(sem_df, annot=True)\n",
    "fig=ax.get_figure()\n",
    "fig.savefig('/Users/aporter1350/Desktop/MSC_Alexis/analysis/output/images/between_sub_test/acc_onlyGood/sem_acc.png', bbox_inches='tight')"
   ]
  },
  {
   "cell_type": "code",
   "execution_count": 9,
   "metadata": {},
   "outputs": [
    {
     "data": {
      "image/png": "[encoded data removed]",
      "text/plain": [
       "<Figure size 432x288 with 2 Axes>"
      ]
     },
     "metadata": {
      "needs_background": "light"
     },
     "output_type": "display_data"
    }
   ],
   "source": [
    "ax=sns.heatmap(sem_task, annot=True)\n",
    "fig=ax.get_figure()\n",
    "fig.savefig('/Users/aporter1350/Desktop/MSC_Alexis/analysis/output/images/between_sub_test/acc_onlyGood/semOnly_all_acc.png', bbox_inches='tight')"
   ]
  },
  {
   "cell_type": "code",
   "execution_count": 10,
   "metadata": {},
   "outputs": [
    {
     "data": {
      "image/png": "[encoded data removed]",
      "text/plain": [
       "<Figure size 432x288 with 2 Axes>"
      ]
     },
     "metadata": {
      "needs_background": "light"
     },
     "output_type": "display_data"
    }
   ],
   "source": [
    "ax=sns.heatmap(sem_rest, annot=True)\n",
    "fig=ax.get_figure()\n",
    "fig.savefig('/Users/aporter1350/Desktop/MSC_Alexis/analysis/output/images/between_sub_test/acc_onlyGood/sem_restOnly_all_acc.png', bbox_inches='tight')"
   ]
  },
  {
   "cell_type": "code",
   "execution_count": null,
   "metadata": {},
   "outputs": [],
   "source": []
  }
 ],
 "metadata": {
  "kernelspec": {
   "display_name": "Python 3",
   "language": "python",
   "name": "python3"
  },
  "language_info": {
   "codemirror_mode": {
    "name": "ipython",
    "version": 3
   },
   "file_extension": ".py",
   "mimetype": "text/x-python",
   "name": "python",
   "nbconvert_exporter": "python",
   "pygments_lexer": "ipython3",
   "version": "3.7.1"
  }
 },
 "nbformat": 4,
 "nbformat_minor": 2
}
