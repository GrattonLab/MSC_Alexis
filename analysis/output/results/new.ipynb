{
 "cells": [
  {
   "cell_type": "code",
   "execution_count": 7,
   "metadata": {},
   "outputs": [],
   "source": [
    "import pandas as pd\n",
    "import seaborn as sns\n",
    "\n",
    "df=pd.read_csv('/Users/aporter1350/Google Drive/WIN_Matter/analysis/data/health_demographics_diffscores.csv')"
   ]
  },
  {
   "cell_type": "code",
   "execution_count": 8,
   "metadata": {},
   "outputs": [
    {
     "data": {
      "text/html": [
       "<div>\n",
       "<style scoped>\n",
       "    .dataframe tbody tr th:only-of-type {\n",
       "        vertical-align: middle;\n",
       "    }\n",
       "\n",
       "    .dataframe tbody tr th {\n",
       "        vertical-align: top;\n",
       "    }\n",
       "\n",
       "    .dataframe thead th {\n",
       "        text-align: right;\n",
       "    }\n",
       "</style>\n",
       "<table border=\"1\" class=\"dataframe\">\n",
       "  <thead>\n",
       "    <tr style=\"text-align: right;\">\n",
       "      <th></th>\n",
       "      <th>Unnamed: 0</th>\n",
       "      <th>Group</th>\n",
       "      <th>Age</th>\n",
       "      <th>Sex</th>\n",
       "      <th>FD</th>\n",
       "      <th>Weight</th>\n",
       "      <th>BMI</th>\n",
       "      <th>waistIliac</th>\n",
       "      <th>DXA_Tissue</th>\n",
       "      <th>DXA_Region</th>\n",
       "      <th>VO2LMin</th>\n",
       "      <th>VO2mlkgmin</th>\n",
       "    </tr>\n",
       "  </thead>\n",
       "  <tbody>\n",
       "    <tr>\n",
       "      <th>0</th>\n",
       "      <td>1</td>\n",
       "      <td>DIET</td>\n",
       "      <td>46</td>\n",
       "      <td>1</td>\n",
       "      <td>1.757256</td>\n",
       "      <td>-9</td>\n",
       "      <td>-4</td>\n",
       "      <td>-10</td>\n",
       "      <td>-0.0774</td>\n",
       "      <td>-0.0759</td>\n",
       "      <td>0.024</td>\n",
       "      <td>3.5</td>\n",
       "    </tr>\n",
       "    <tr>\n",
       "      <th>1</th>\n",
       "      <td>2</td>\n",
       "      <td>MOD-PA</td>\n",
       "      <td>52</td>\n",
       "      <td>1</td>\n",
       "      <td>-3.563212</td>\n",
       "      <td>-8</td>\n",
       "      <td>-3</td>\n",
       "      <td>-12</td>\n",
       "      <td>-0.0621</td>\n",
       "      <td>-0.0614</td>\n",
       "      <td>0.030</td>\n",
       "      <td>3.2</td>\n",
       "    </tr>\n",
       "    <tr>\n",
       "      <th>2</th>\n",
       "      <td>3</td>\n",
       "      <td>DIET</td>\n",
       "      <td>51</td>\n",
       "      <td>1</td>\n",
       "      <td>0.489796</td>\n",
       "      <td>-6</td>\n",
       "      <td>-2</td>\n",
       "      <td>-6</td>\n",
       "      <td>-0.0265</td>\n",
       "      <td>-0.0266</td>\n",
       "      <td>0.246</td>\n",
       "      <td>3.8</td>\n",
       "    </tr>\n",
       "    <tr>\n",
       "      <th>3</th>\n",
       "      <td>4</td>\n",
       "      <td>HIGH-PA</td>\n",
       "      <td>53</td>\n",
       "      <td>1</td>\n",
       "      <td>1.279023</td>\n",
       "      <td>-12</td>\n",
       "      <td>-5</td>\n",
       "      <td>-14</td>\n",
       "      <td>-0.0982</td>\n",
       "      <td>-0.0970</td>\n",
       "      <td>0.171</td>\n",
       "      <td>7.7</td>\n",
       "    </tr>\n",
       "    <tr>\n",
       "      <th>4</th>\n",
       "      <td>5</td>\n",
       "      <td>DIET</td>\n",
       "      <td>47</td>\n",
       "      <td>1</td>\n",
       "      <td>0.377673</td>\n",
       "      <td>0</td>\n",
       "      <td>0</td>\n",
       "      <td>1</td>\n",
       "      <td>-0.0129</td>\n",
       "      <td>-0.0126</td>\n",
       "      <td>0.031</td>\n",
       "      <td>0.4</td>\n",
       "    </tr>\n",
       "  </tbody>\n",
       "</table>\n",
       "</div>"
      ],
      "text/plain": [
       "   Unnamed: 0    Group  Age  Sex        FD  Weight  BMI  waistIliac  \\\n",
       "0           1     DIET   46    1  1.757256      -9   -4         -10   \n",
       "1           2   MOD-PA   52    1 -3.563212      -8   -3         -12   \n",
       "2           3     DIET   51    1  0.489796      -6   -2          -6   \n",
       "3           4  HIGH-PA   53    1  1.279023     -12   -5         -14   \n",
       "4           5     DIET   47    1  0.377673       0    0           1   \n",
       "\n",
       "   DXA_Tissue  DXA_Region  VO2LMin  VO2mlkgmin  \n",
       "0     -0.0774     -0.0759    0.024         3.5  \n",
       "1     -0.0621     -0.0614    0.030         3.2  \n",
       "2     -0.0265     -0.0266    0.246         3.8  \n",
       "3     -0.0982     -0.0970    0.171         7.7  \n",
       "4     -0.0129     -0.0126    0.031         0.4  "
      ]
     },
     "execution_count": 8,
     "metadata": {},
     "output_type": "execute_result"
    }
   ],
   "source": [
    "df.head()"
   ]
  },
  {
   "cell_type": "code",
   "execution_count": 6,
   "metadata": {},
   "outputs": [
    {
     "data": {
      "text/plain": [
       "<matplotlib.axes._subplots.AxesSubplot at 0x1a227d4c88>"
      ]
     },
     "execution_count": 6,
     "metadata": {},
     "output_type": "execute_result"
    },
    {
     "data": {
      "image/png": "[encoded data removed]",
      "text/plain": [
       "<Figure size 432x288 with 1 Axes>"
      ]
     },
     "metadata": {
      "needs_background": "light"
     },
     "output_type": "display_data"
    }
   ],
   "source": []
  },
  {
   "cell_type": "code",
   "execution_count": null,
   "metadata": {},
   "outputs": [],
   "source": []
  }
 ],
 "metadata": {
  "kernelspec": {
   "display_name": "Python 3",
   "language": "python",
   "name": "python3"
  },
  "language_info": {
   "codemirror_mode": {
    "name": "ipython",
    "version": 3
   },
   "file_extension": ".py",
   "mimetype": "text/x-python",
   "name": "python",
   "nbconvert_exporter": "python",
   "pygments_lexer": "ipython3",
   "version": "3.7.1"
  }
 },
 "nbformat": 4,
 "nbformat_minor": 2
}
